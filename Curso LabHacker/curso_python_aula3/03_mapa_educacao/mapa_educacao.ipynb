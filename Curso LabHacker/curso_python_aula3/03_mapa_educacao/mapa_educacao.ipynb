{
 "cells": [
  {
   "cell_type": "markdown",
   "metadata": {},
   "source": [
    "# Mapa das escolas do RS por taxa de distroção de série"
   ]
  },
  {
   "cell_type": "code",
   "execution_count": 1,
   "metadata": {},
   "outputs": [
    {
     "name": "stdout",
     "output_type": "stream",
     "text": [
      "Requirement already satisfied: folium in c:\\users\\andré\\anaconda3\\lib\\site-packages (0.11.0)\n",
      "Requirement already satisfied: branca>=0.3.0 in c:\\users\\andré\\anaconda3\\lib\\site-packages (from folium) (0.4.1)\n",
      "Requirement already satisfied: requests in c:\\users\\andré\\anaconda3\\lib\\site-packages (from folium) (2.19.1)\n",
      "Requirement already satisfied: jinja2>=2.9 in c:\\users\\andré\\anaconda3\\lib\\site-packages (from folium) (2.10)\n",
      "Requirement already satisfied: numpy in c:\\users\\andré\\anaconda3\\lib\\site-packages (from folium) (1.15.1)\n",
      "Requirement already satisfied: chardet<3.1.0,>=3.0.2 in c:\\users\\andré\\anaconda3\\lib\\site-packages (from requests->folium) (3.0.4)\n",
      "Requirement already satisfied: certifi>=2017.4.17 in c:\\users\\andré\\anaconda3\\lib\\site-packages (from requests->folium) (2018.8.24)\n",
      "Requirement already satisfied: idna<2.8,>=2.5 in c:\\users\\andré\\anaconda3\\lib\\site-packages (from requests->folium) (2.7)\n",
      "Requirement already satisfied: urllib3<1.24,>=1.21.1 in c:\\users\\andré\\anaconda3\\lib\\site-packages (from requests->folium) (1.23)\n",
      "Requirement already satisfied: MarkupSafe>=0.23 in c:\\users\\andré\\anaconda3\\lib\\site-packages (from jinja2>=2.9->folium) (1.0)\n"
     ]
    },
    {
     "name": "stderr",
     "output_type": "stream",
     "text": [
      "twisted 18.7.0 requires PyHamcrest>=1.9.0, which is not installed.\n",
      "You are using pip version 10.0.1, however version 20.2b1 is available.\n",
      "You should consider upgrading via the 'python -m pip install --upgrade pip' command.\n"
     ]
    }
   ],
   "source": [
    "# pip permite instalar novas bibliotecas\n",
    "#! permite a execução de comandos executáveis no jupyter notebook\n",
    "!pip install folium"
   ]
  },
  {
   "cell_type": "code",
   "execution_count": 2,
   "metadata": {},
   "outputs": [],
   "source": [
    "# Importando as bibliotecas\n",
    "import pandas as pd\n",
    "%matplotlib inline\n",
    "import folium "
   ]
  },
  {
   "cell_type": "code",
   "execution_count": 3,
   "metadata": {},
   "outputs": [
    {
     "data": {
      "text/html": [
       "<div>\n",
       "<style scoped>\n",
       "    .dataframe tbody tr th:only-of-type {\n",
       "        vertical-align: middle;\n",
       "    }\n",
       "\n",
       "    .dataframe tbody tr th {\n",
       "        vertical-align: top;\n",
       "    }\n",
       "\n",
       "    .dataframe thead th {\n",
       "        text-align: right;\n",
       "    }\n",
       "</style>\n",
       "<table border=\"1\" class=\"dataframe\">\n",
       "  <thead>\n",
       "    <tr style=\"text-align: right;\">\n",
       "      <th></th>\n",
       "      <th>Município</th>\n",
       "      <th>ibge</th>\n",
       "      <th>latitude</th>\n",
       "      <th>longitude</th>\n",
       "      <th>/Educação/Ens...de Série/Total 2013 (-)</th>\n",
       "    </tr>\n",
       "  </thead>\n",
       "  <tbody>\n",
       "    <tr>\n",
       "      <th>0</th>\n",
       "      <td>Aceguá</td>\n",
       "      <td>4300034</td>\n",
       "      <td>-31.86076</td>\n",
       "      <td>-54.16706</td>\n",
       "      <td>25,7</td>\n",
       "    </tr>\n",
       "    <tr>\n",
       "      <th>1</th>\n",
       "      <td>Água Santa</td>\n",
       "      <td>4300059</td>\n",
       "      <td>-28.16720</td>\n",
       "      <td>-52.03100</td>\n",
       "      <td>14,7</td>\n",
       "    </tr>\n",
       "    <tr>\n",
       "      <th>2</th>\n",
       "      <td>Agudo</td>\n",
       "      <td>4300109</td>\n",
       "      <td>-29.64470</td>\n",
       "      <td>-53.25150</td>\n",
       "      <td>26,4</td>\n",
       "    </tr>\n",
       "    <tr>\n",
       "      <th>3</th>\n",
       "      <td>Ajuricaba</td>\n",
       "      <td>4300208</td>\n",
       "      <td>-28.23420</td>\n",
       "      <td>-53.77570</td>\n",
       "      <td>24,1</td>\n",
       "    </tr>\n",
       "    <tr>\n",
       "      <th>4</th>\n",
       "      <td>Alecrim</td>\n",
       "      <td>4300307</td>\n",
       "      <td>-27.65790</td>\n",
       "      <td>-54.76490</td>\n",
       "      <td>18,9</td>\n",
       "    </tr>\n",
       "  </tbody>\n",
       "</table>\n",
       "</div>"
      ],
      "text/plain": [
       "    Município     ibge  latitude  longitude  \\\n",
       "0      Aceguá  4300034 -31.86076  -54.16706   \n",
       "1  Água Santa  4300059 -28.16720  -52.03100   \n",
       "2       Agudo  4300109 -29.64470  -53.25150   \n",
       "3   Ajuricaba  4300208 -28.23420  -53.77570   \n",
       "4     Alecrim  4300307 -27.65790  -54.76490   \n",
       "\n",
       "  /Educação/Ens...de Série/Total 2013 (-)  \n",
       "0                                    25,7  \n",
       "1                                    14,7  \n",
       "2                                    26,4  \n",
       "3                                    24,1  \n",
       "4                                    18,9  "
      ]
     },
     "execution_count": 3,
     "metadata": {},
     "output_type": "execute_result"
    }
   ],
   "source": [
    "# Carregando o arquivo csv\n",
    "df = pd.read_csv('fee-2013-mun-taxa-de-distorcao-idade-serie-total-102524.csv', encoding='latin1', skiprows=1)\n",
    "\n",
    "df.head()"
   ]
  },
  {
   "cell_type": "code",
   "execution_count": 4,
   "metadata": {},
   "outputs": [
    {
     "data": {
      "text/html": [
       "<div>\n",
       "<style scoped>\n",
       "    .dataframe tbody tr th:only-of-type {\n",
       "        vertical-align: middle;\n",
       "    }\n",
       "\n",
       "    .dataframe tbody tr th {\n",
       "        vertical-align: top;\n",
       "    }\n",
       "\n",
       "    .dataframe thead th {\n",
       "        text-align: right;\n",
       "    }\n",
       "</style>\n",
       "<table border=\"1\" class=\"dataframe\">\n",
       "  <thead>\n",
       "    <tr style=\"text-align: right;\">\n",
       "      <th></th>\n",
       "      <th>Município</th>\n",
       "      <th>ibge</th>\n",
       "      <th>latitude</th>\n",
       "      <th>longitude</th>\n",
       "      <th>tx_distorcao</th>\n",
       "    </tr>\n",
       "  </thead>\n",
       "  <tbody>\n",
       "    <tr>\n",
       "      <th>0</th>\n",
       "      <td>Aceguá</td>\n",
       "      <td>4300034</td>\n",
       "      <td>-31.86076</td>\n",
       "      <td>-54.16706</td>\n",
       "      <td>25,7</td>\n",
       "    </tr>\n",
       "    <tr>\n",
       "      <th>1</th>\n",
       "      <td>Água Santa</td>\n",
       "      <td>4300059</td>\n",
       "      <td>-28.16720</td>\n",
       "      <td>-52.03100</td>\n",
       "      <td>14,7</td>\n",
       "    </tr>\n",
       "    <tr>\n",
       "      <th>2</th>\n",
       "      <td>Agudo</td>\n",
       "      <td>4300109</td>\n",
       "      <td>-29.64470</td>\n",
       "      <td>-53.25150</td>\n",
       "      <td>26,4</td>\n",
       "    </tr>\n",
       "    <tr>\n",
       "      <th>3</th>\n",
       "      <td>Ajuricaba</td>\n",
       "      <td>4300208</td>\n",
       "      <td>-28.23420</td>\n",
       "      <td>-53.77570</td>\n",
       "      <td>24,1</td>\n",
       "    </tr>\n",
       "    <tr>\n",
       "      <th>4</th>\n",
       "      <td>Alecrim</td>\n",
       "      <td>4300307</td>\n",
       "      <td>-27.65790</td>\n",
       "      <td>-54.76490</td>\n",
       "      <td>18,9</td>\n",
       "    </tr>\n",
       "  </tbody>\n",
       "</table>\n",
       "</div>"
      ],
      "text/plain": [
       "    Município     ibge  latitude  longitude tx_distorcao\n",
       "0      Aceguá  4300034 -31.86076  -54.16706         25,7\n",
       "1  Água Santa  4300059 -28.16720  -52.03100         14,7\n",
       "2       Agudo  4300109 -29.64470  -53.25150         26,4\n",
       "3   Ajuricaba  4300208 -28.23420  -53.77570         24,1\n",
       "4     Alecrim  4300307 -27.65790  -54.76490         18,9"
      ]
     },
     "execution_count": 4,
     "metadata": {},
     "output_type": "execute_result"
    }
   ],
   "source": [
    "#Renomeando colunas\n",
    "df.rename(columns={'/Educação/Ens...de Série/Total 2013 (-)': 'tx_distorcao'}, inplace=True)\n",
    "\n",
    "df.head()"
   ]
  },
  {
   "cell_type": "code",
   "execution_count": 5,
   "metadata": {},
   "outputs": [
    {
     "name": "stdout",
     "output_type": "stream",
     "text": [
      "<class 'pandas.core.frame.DataFrame'>\n",
      "RangeIndex: 495 entries, 0 to 494\n",
      "Data columns (total 5 columns):\n",
      "Município       495 non-null object\n",
      "ibge            495 non-null int64\n",
      "latitude        495 non-null float64\n",
      "longitude       495 non-null float64\n",
      "tx_distorcao    495 non-null object\n",
      "dtypes: float64(2), int64(1), object(2)\n",
      "memory usage: 19.4+ KB\n"
     ]
    }
   ],
   "source": [
    "#Verificando os tipos do DataFrame\n",
    "df.info()"
   ]
  },
  {
   "cell_type": "code",
   "execution_count": 6,
   "metadata": {},
   "outputs": [
    {
     "data": {
      "text/html": [
       "<div>\n",
       "<style scoped>\n",
       "    .dataframe tbody tr th:only-of-type {\n",
       "        vertical-align: middle;\n",
       "    }\n",
       "\n",
       "    .dataframe tbody tr th {\n",
       "        vertical-align: top;\n",
       "    }\n",
       "\n",
       "    .dataframe thead th {\n",
       "        text-align: right;\n",
       "    }\n",
       "</style>\n",
       "<table border=\"1\" class=\"dataframe\">\n",
       "  <thead>\n",
       "    <tr style=\"text-align: right;\">\n",
       "      <th></th>\n",
       "      <th>Município</th>\n",
       "      <th>ibge</th>\n",
       "      <th>latitude</th>\n",
       "      <th>longitude</th>\n",
       "      <th>tx_distorcao</th>\n",
       "    </tr>\n",
       "  </thead>\n",
       "  <tbody>\n",
       "    <tr>\n",
       "      <th>0</th>\n",
       "      <td>Aceguá</td>\n",
       "      <td>4300034</td>\n",
       "      <td>-31.86076</td>\n",
       "      <td>-54.16706</td>\n",
       "      <td>25.7</td>\n",
       "    </tr>\n",
       "    <tr>\n",
       "      <th>1</th>\n",
       "      <td>Água Santa</td>\n",
       "      <td>4300059</td>\n",
       "      <td>-28.16720</td>\n",
       "      <td>-52.03100</td>\n",
       "      <td>14.7</td>\n",
       "    </tr>\n",
       "    <tr>\n",
       "      <th>2</th>\n",
       "      <td>Agudo</td>\n",
       "      <td>4300109</td>\n",
       "      <td>-29.64470</td>\n",
       "      <td>-53.25150</td>\n",
       "      <td>26.4</td>\n",
       "    </tr>\n",
       "    <tr>\n",
       "      <th>3</th>\n",
       "      <td>Ajuricaba</td>\n",
       "      <td>4300208</td>\n",
       "      <td>-28.23420</td>\n",
       "      <td>-53.77570</td>\n",
       "      <td>24.1</td>\n",
       "    </tr>\n",
       "    <tr>\n",
       "      <th>4</th>\n",
       "      <td>Alecrim</td>\n",
       "      <td>4300307</td>\n",
       "      <td>-27.65790</td>\n",
       "      <td>-54.76490</td>\n",
       "      <td>18.9</td>\n",
       "    </tr>\n",
       "  </tbody>\n",
       "</table>\n",
       "</div>"
      ],
      "text/plain": [
       "    Município     ibge  latitude  longitude tx_distorcao\n",
       "0      Aceguá  4300034 -31.86076  -54.16706         25.7\n",
       "1  Água Santa  4300059 -28.16720  -52.03100         14.7\n",
       "2       Agudo  4300109 -29.64470  -53.25150         26.4\n",
       "3   Ajuricaba  4300208 -28.23420  -53.77570         24.1\n",
       "4     Alecrim  4300307 -27.65790  -54.76490         18.9"
      ]
     },
     "execution_count": 6,
     "metadata": {},
     "output_type": "execute_result"
    }
   ],
   "source": [
    "#Transformar a tx de distorção em números - vamos transformar as virgulas em pontos e os textos em números\n",
    "# Converter tx_distorção para float\n",
    "# Primeiro vamos trocar virgula por ponto\n",
    "df['tx_distorcao'] = df['tx_distorcao'].str.replace(',','.')\n",
    "\n",
    "df.head()"
   ]
  },
  {
   "cell_type": "code",
   "execution_count": 7,
   "metadata": {},
   "outputs": [
    {
     "name": "stdout",
     "output_type": "stream",
     "text": [
      "<class 'pandas.core.frame.DataFrame'>\n",
      "RangeIndex: 495 entries, 0 to 494\n",
      "Data columns (total 5 columns):\n",
      "Município       495 non-null object\n",
      "ibge            495 non-null int64\n",
      "latitude        495 non-null float64\n",
      "longitude       495 non-null float64\n",
      "tx_distorcao    495 non-null float64\n",
      "dtypes: float64(3), int64(1), object(1)\n",
      "memory usage: 19.4+ KB\n"
     ]
    }
   ],
   "source": [
    "# Fazendo a conversao\n",
    "df['tx_distorcao'] = df['tx_distorcao'].astype(float)\n",
    "\n",
    "df.info()"
   ]
  },
  {
   "cell_type": "code",
   "execution_count": 8,
   "metadata": {},
   "outputs": [
    {
     "data": {
      "text/html": [
       "<div>\n",
       "<style scoped>\n",
       "    .dataframe tbody tr th:only-of-type {\n",
       "        vertical-align: middle;\n",
       "    }\n",
       "\n",
       "    .dataframe tbody tr th {\n",
       "        vertical-align: top;\n",
       "    }\n",
       "\n",
       "    .dataframe thead th {\n",
       "        text-align: right;\n",
       "    }\n",
       "</style>\n",
       "<table border=\"1\" class=\"dataframe\">\n",
       "  <thead>\n",
       "    <tr style=\"text-align: right;\">\n",
       "      <th></th>\n",
       "      <th>Município</th>\n",
       "      <th>ibge</th>\n",
       "      <th>latitude</th>\n",
       "      <th>longitude</th>\n",
       "      <th>tx_distorcao</th>\n",
       "    </tr>\n",
       "  </thead>\n",
       "  <tbody>\n",
       "    <tr>\n",
       "      <th>490</th>\n",
       "      <td>Vista Alegre do Prata</td>\n",
       "      <td>4323606</td>\n",
       "      <td>-28.8052</td>\n",
       "      <td>-51.7946</td>\n",
       "      <td>2.6</td>\n",
       "    </tr>\n",
       "    <tr>\n",
       "      <th>375</th>\n",
       "      <td>Santo Antônio do Palma</td>\n",
       "      <td>4317558</td>\n",
       "      <td>-28.4956</td>\n",
       "      <td>-52.0267</td>\n",
       "      <td>4.3</td>\n",
       "    </tr>\n",
       "    <tr>\n",
       "      <th>28</th>\n",
       "      <td>Áurea</td>\n",
       "      <td>4301552</td>\n",
       "      <td>-27.6936</td>\n",
       "      <td>-52.0505</td>\n",
       "      <td>5.8</td>\n",
       "    </tr>\n",
       "    <tr>\n",
       "      <th>268</th>\n",
       "      <td>Nicolau Vergueiro</td>\n",
       "      <td>4312674</td>\n",
       "      <td>-28.5298</td>\n",
       "      <td>-52.4676</td>\n",
       "      <td>7.0</td>\n",
       "    </tr>\n",
       "    <tr>\n",
       "      <th>128</th>\n",
       "      <td>Derrubadas</td>\n",
       "      <td>4306320</td>\n",
       "      <td>-27.2642</td>\n",
       "      <td>-53.8645</td>\n",
       "      <td>7.4</td>\n",
       "    </tr>\n",
       "    <tr>\n",
       "      <th>119</th>\n",
       "      <td>Cotiporã</td>\n",
       "      <td>4305959</td>\n",
       "      <td>-28.9891</td>\n",
       "      <td>-51.6971</td>\n",
       "      <td>7.5</td>\n",
       "    </tr>\n",
       "    <tr>\n",
       "      <th>68</th>\n",
       "      <td>Campestre da Serra</td>\n",
       "      <td>4303673</td>\n",
       "      <td>-28.7926</td>\n",
       "      <td>-51.0941</td>\n",
       "      <td>7.6</td>\n",
       "    </tr>\n",
       "    <tr>\n",
       "      <th>476</th>\n",
       "      <td>Vanini</td>\n",
       "      <td>4322558</td>\n",
       "      <td>-28.4758</td>\n",
       "      <td>-51.8447</td>\n",
       "      <td>7.8</td>\n",
       "    </tr>\n",
       "    <tr>\n",
       "      <th>236</th>\n",
       "      <td>Linha Nova</td>\n",
       "      <td>4311643</td>\n",
       "      <td>-29.4679</td>\n",
       "      <td>-51.2003</td>\n",
       "      <td>8.0</td>\n",
       "    </tr>\n",
       "    <tr>\n",
       "      <th>392</th>\n",
       "      <td>São José do Inhacorá</td>\n",
       "      <td>4318499</td>\n",
       "      <td>-27.7251</td>\n",
       "      <td>-54.1275</td>\n",
       "      <td>8.0</td>\n",
       "    </tr>\n",
       "  </tbody>\n",
       "</table>\n",
       "</div>"
      ],
      "text/plain": [
       "                  Município     ibge  latitude  longitude  tx_distorcao\n",
       "490   Vista Alegre do Prata  4323606  -28.8052   -51.7946           2.6\n",
       "375  Santo Antônio do Palma  4317558  -28.4956   -52.0267           4.3\n",
       "28                    Áurea  4301552  -27.6936   -52.0505           5.8\n",
       "268       Nicolau Vergueiro  4312674  -28.5298   -52.4676           7.0\n",
       "128              Derrubadas  4306320  -27.2642   -53.8645           7.4\n",
       "119                Cotiporã  4305959  -28.9891   -51.6971           7.5\n",
       "68       Campestre da Serra  4303673  -28.7926   -51.0941           7.6\n",
       "476                  Vanini  4322558  -28.4758   -51.8447           7.8\n",
       "236              Linha Nova  4311643  -29.4679   -51.2003           8.0\n",
       "392    São José do Inhacorá  4318499  -27.7251   -54.1275           8.0"
      ]
     },
     "execution_count": 8,
     "metadata": {},
     "output_type": "execute_result"
    }
   ],
   "source": [
    "# 10 municípios com menor taxa de distorção\n",
    "df.nsmallest(10, 'tx_distorcao')"
   ]
  },
  {
   "cell_type": "code",
   "execution_count": 9,
   "metadata": {},
   "outputs": [
    {
     "data": {
      "text/html": [
       "<div>\n",
       "<style scoped>\n",
       "    .dataframe tbody tr th:only-of-type {\n",
       "        vertical-align: middle;\n",
       "    }\n",
       "\n",
       "    .dataframe tbody tr th {\n",
       "        vertical-align: top;\n",
       "    }\n",
       "\n",
       "    .dataframe thead th {\n",
       "        text-align: right;\n",
       "    }\n",
       "</style>\n",
       "<table border=\"1\" class=\"dataframe\">\n",
       "  <thead>\n",
       "    <tr style=\"text-align: right;\">\n",
       "      <th></th>\n",
       "      <th>Município</th>\n",
       "      <th>ibge</th>\n",
       "      <th>latitude</th>\n",
       "      <th>longitude</th>\n",
       "      <th>tx_distorcao</th>\n",
       "    </tr>\n",
       "  </thead>\n",
       "  <tbody>\n",
       "    <tr>\n",
       "      <th>307</th>\n",
       "      <td>Pedras Altas</td>\n",
       "      <td>4314175</td>\n",
       "      <td>-31.7217</td>\n",
       "      <td>-53.5838</td>\n",
       "      <td>56.0</td>\n",
       "    </tr>\n",
       "    <tr>\n",
       "      <th>316</th>\n",
       "      <td>Pinheiro Machado</td>\n",
       "      <td>4314506</td>\n",
       "      <td>-31.5794</td>\n",
       "      <td>-53.3798</td>\n",
       "      <td>53.9</td>\n",
       "    </tr>\n",
       "    <tr>\n",
       "      <th>17</th>\n",
       "      <td>Arambaré</td>\n",
       "      <td>4300851</td>\n",
       "      <td>-30.9093</td>\n",
       "      <td>-51.5046</td>\n",
       "      <td>52.8</td>\n",
       "    </tr>\n",
       "    <tr>\n",
       "      <th>140</th>\n",
       "      <td>Eldorado do Sul</td>\n",
       "      <td>4306767</td>\n",
       "      <td>-30.0847</td>\n",
       "      <td>-51.6187</td>\n",
       "      <td>51.9</td>\n",
       "    </tr>\n",
       "    <tr>\n",
       "      <th>35</th>\n",
       "      <td>Barra do Quaraí</td>\n",
       "      <td>4301875</td>\n",
       "      <td>-30.2029</td>\n",
       "      <td>-57.5497</td>\n",
       "      <td>51.5</td>\n",
       "    </tr>\n",
       "    <tr>\n",
       "      <th>393</th>\n",
       "      <td>São José do Norte</td>\n",
       "      <td>4318507</td>\n",
       "      <td>-32.0151</td>\n",
       "      <td>-52.0331</td>\n",
       "      <td>49.4</td>\n",
       "    </tr>\n",
       "    <tr>\n",
       "      <th>413</th>\n",
       "      <td>São Valério do Sul</td>\n",
       "      <td>4319737</td>\n",
       "      <td>-27.7906</td>\n",
       "      <td>-53.9368</td>\n",
       "      <td>49.2</td>\n",
       "    </tr>\n",
       "    <tr>\n",
       "      <th>193</th>\n",
       "      <td>Hulha Negra</td>\n",
       "      <td>4309654</td>\n",
       "      <td>-31.4067</td>\n",
       "      <td>-53.8667</td>\n",
       "      <td>49.0</td>\n",
       "    </tr>\n",
       "    <tr>\n",
       "      <th>106</th>\n",
       "      <td>Chuí</td>\n",
       "      <td>4305439</td>\n",
       "      <td>-33.6866</td>\n",
       "      <td>-53.4594</td>\n",
       "      <td>48.6</td>\n",
       "    </tr>\n",
       "    <tr>\n",
       "      <th>233</th>\n",
       "      <td>Lavras do Sul</td>\n",
       "      <td>4311502</td>\n",
       "      <td>-30.8071</td>\n",
       "      <td>-53.8931</td>\n",
       "      <td>47.7</td>\n",
       "    </tr>\n",
       "  </tbody>\n",
       "</table>\n",
       "</div>"
      ],
      "text/plain": [
       "              Município     ibge  latitude  longitude  tx_distorcao\n",
       "307        Pedras Altas  4314175  -31.7217   -53.5838          56.0\n",
       "316    Pinheiro Machado  4314506  -31.5794   -53.3798          53.9\n",
       "17             Arambaré  4300851  -30.9093   -51.5046          52.8\n",
       "140     Eldorado do Sul  4306767  -30.0847   -51.6187          51.9\n",
       "35      Barra do Quaraí  4301875  -30.2029   -57.5497          51.5\n",
       "393   São José do Norte  4318507  -32.0151   -52.0331          49.4\n",
       "413  São Valério do Sul  4319737  -27.7906   -53.9368          49.2\n",
       "193         Hulha Negra  4309654  -31.4067   -53.8667          49.0\n",
       "106                Chuí  4305439  -33.6866   -53.4594          48.6\n",
       "233       Lavras do Sul  4311502  -30.8071   -53.8931          47.7"
      ]
     },
     "execution_count": 9,
     "metadata": {},
     "output_type": "execute_result"
    }
   ],
   "source": [
    "# 10 municípios com maior taxa de distorção\n",
    "df.nlargest(10, 'tx_distorcao')"
   ]
  },
  {
   "cell_type": "code",
   "execution_count": 10,
   "metadata": {},
   "outputs": [
    {
     "data": {
      "text/plain": [
       "<matplotlib.axes._subplots.AxesSubplot at 0x21994404978>"
      ]
     },
     "execution_count": 10,
     "metadata": {},
     "output_type": "execute_result"
    },
    {
     "data": {
      "image/png": "[encoded data removed]",
      "text/plain": [
       "<Figure size 432x288 with 1 Axes>"
      ]
     },
     "metadata": {
      "needs_background": "light"
     },
     "output_type": "display_data"
    }
   ],
   "source": [
    "#Plotando o histograma da Taxa de distorção\n",
    "df['tx_distorcao'].plot.hist(bins=100)"
   ]
  },
  {
   "cell_type": "code",
   "execution_count": 11,
   "metadata": {},
   "outputs": [
    {
     "data": {
      "text/plain": [
       "Município       17\n",
       "ibge            17\n",
       "latitude        17\n",
       "longitude       17\n",
       "tx_distorcao    17\n",
       "dtype: int64"
      ]
     },
     "execution_count": 11,
     "metadata": {},
     "output_type": "execute_result"
    }
   ],
   "source": [
    "#Quantidade de municípios com tx_distorcao menor ou igual a 10\n",
    "df[df['tx_distorcao']<=10].count()"
   ]
  },
  {
   "cell_type": "code",
   "execution_count": 12,
   "metadata": {},
   "outputs": [
    {
     "data": {
      "text/plain": [
       "Município       17\n",
       "ibge            17\n",
       "latitude        17\n",
       "longitude       17\n",
       "tx_distorcao    17\n",
       "dtype: int64"
      ]
     },
     "execution_count": 12,
     "metadata": {},
     "output_type": "execute_result"
    }
   ],
   "source": [
    "#Quantidade de municípios com tx_distorcao maior ou igual a 145\n",
    "df[df['tx_distorcao']>=45].count()"
   ]
  },
  {
   "cell_type": "code",
   "execution_count": 13,
   "metadata": {},
   "outputs": [
    {
     "data": {
      "text/html": [
       "<div style=\"width:100%;\"><div style=\"position:relative;width:100%;height:0;padding-bottom:60%;\"><span style=\"color:#565656\">Make this Notebook Trusted to load map: File -> Trust Notebook</span><iframe src=\"about:blank\" style=\"position:absolute;width:100%;height:100%;left:0;top:0;border:none !important;\" data-html=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 onload=\"this.contentDocument.open();this.contentDocument.write(atob(this.getAttribute('data-html')));this.contentDocument.close();\" allowfullscreen webkitallowfullscreen mozallowfullscreen></iframe></div></div>"
      ],
      "text/plain": [
       "<folium.folium.Map at 0x219944c0518>"
      ]
     },
     "execution_count": 13,
     "metadata": {},
     "output_type": "execute_result"
    }
   ],
   "source": [
    "#Vamos aprender como o Folium funciona\n",
    "\n",
    "#Criar um mapa, com base em coordenada central\n",
    "brasil = folium.Map(\n",
    "    location=[-11.1260466, -90.8062191], #coordenadas do google maps\n",
    "    zoom_start=4\n",
    ")\n",
    "\n",
    "# mostrando o mapa\n",
    "brasil"
   ]
  },
  {
   "cell_type": "code",
   "execution_count": 14,
   "metadata": {
    "scrolled": true
   },
   "outputs": [
    {
     "data": {
      "text/html": [
       "<div style=\"width:100%;\"><div style=\"position:relative;width:100%;height:0;padding-bottom:60%;\"><span style=\"color:#565656\">Make this Notebook Trusted to load map: File -> Trust Notebook</span><iframe src=\"about:blank\" style=\"position:absolute;width:100%;height:100%;left:0;top:0;border:none !important;\" data-html=PCFET0NUWVBFIGh0bWw+CjxoZWFkPiAgICAKICAgIDxtZXRhIGh0dHAtZXF1aXY9ImNvbnRlbnQtdHlwZSIgY29udGVudD0idGV4dC9odG1sOyBjaGFyc2V0PVVURi04IiAvPgogICAgCiAgICAgICAgPHNjcmlwdD4KICAgICAgICAgICAgTF9OT19UT1VDSCA9IGZhbHNlOwogICAgICAgICAgICBMX0RJU0FCTEVfM0QgPSBmYWxzZTsKICAgICAgICA8L3NjcmlwdD4KICAgIAogICAgPHNjcmlwdCBzcmM9Imh0dHBzOi8vY2RuLmpzZGVsaXZyLm5ldC9ucG0vbGVhZmxldEAxLjYuMC9kaXN0L2xlYWZsZXQuanMiPjwvc2NyaXB0PgogICAgPHNjcmlwdCBzcmM9Imh0dHBzOi8vY29kZS5qcXVlcnkuY29tL2pxdWVyeS0xLjEyLjQubWluLmpzIj48L3NjcmlwdD4KICAgIDxzY3JpcHQgc3JjPSJodHRwczovL21heGNkbi5ib290c3RyYXBjZG4uY29tL2Jvb3RzdHJhcC8zLjIuMC9qcy9ib290c3RyYXAubWluLmpzIj48L3NjcmlwdD4KICAgIDxzY3JpcHQgc3JjPSJodHRwczovL2NkbmpzLmNsb3VkZmxhcmUuY29tL2FqYXgvbGlicy9MZWFmbGV0LmF3ZXNvbWUtbWFya2Vycy8yLjAuMi9sZWFmbGV0LmF3ZXNvbWUtbWFya2Vycy5qcyI+PC9zY3JpcHQ+CiAgICA8bGluayByZWw9InN0eWxlc2hlZXQiIGhyZWY9Imh0dHBzOi8vY2RuLmpzZGVsaXZyLm5ldC9ucG0vbGVhZmxldEAxLjYuMC9kaXN0L2xlYWZsZXQuY3NzIi8+CiAgICA8bGluayByZWw9InN0eWxlc2hlZXQiIGhyZWY9Imh0dHBzOi8vbWF4Y2RuLmJvb3RzdHJhcGNkbi5jb20vYm9vdHN0cmFwLzMuMi4wL2Nzcy9ib290c3RyYXAubWluLmNzcyIvPgogICAgPGxpbmsgcmVsPSJzdHlsZXNoZWV0IiBocmVmPSJodHRwczovL21heGNkbi5ib290c3RyYXBjZG4uY29tL2Jvb3RzdHJhcC8zLjIuMC9jc3MvYm9vdHN0cmFwLXRoZW1lLm1pbi5jc3MiLz4KICAgIDxsaW5rIHJlbD0ic3R5bGVzaGVldCIgaHJlZj0iaHR0cHM6Ly9tYXhjZG4uYm9vdHN0cmFwY2RuLmNvbS9mb250LWF3ZXNvbWUvNC42LjMvY3NzL2ZvbnQtYXdlc29tZS5taW4uY3NzIi8+CiAgICA8bGluayByZWw9InN0eWxlc2hlZXQiIGhyZWY9Imh0dHBzOi8vY2RuanMuY2xvdWRmbGFyZS5jb20vYWpheC9saWJzL0xlYWZsZXQuYXdlc29tZS1tYXJrZXJzLzIuMC4yL2xlYWZsZXQuYXdlc29tZS1tYXJrZXJzLmNzcyIvPgogICAgPGxpbmsgcmVsPSJzdHlsZXNoZWV0IiBocmVmPSJodHRwczovL3Jhd2Nkbi5naXRoYWNrLmNvbS9weXRob24tdmlzdWFsaXphdGlvbi9mb2xpdW0vbWFzdGVyL2ZvbGl1bS90ZW1wbGF0ZXMvbGVhZmxldC5hd2Vzb21lLnJvdGF0ZS5jc3MiLz4KICAgIDxzdHlsZT5odG1sLCBib2R5IHt3aWR0aDogMTAwJTtoZWlnaHQ6IDEwMCU7bWFyZ2luOiAwO3BhZGRpbmc6IDA7fTwvc3R5bGU+CiAgICA8c3R5bGU+I21hcCB7cG9zaXRpb246YWJzb2x1dGU7dG9wOjA7Ym90dG9tOjA7cmlnaHQ6MDtsZWZ0OjA7fTwvc3R5bGU+CiAgICAKICAgICAgICAgICAgPG1ldGEgbmFtZT0idmlld3BvcnQiIGNvbnRlbnQ9IndpZHRoPWRldmljZS13aWR0aCwKICAgICAgICAgICAgICAgIGluaXRpYWwtc2NhbGU9MS4wLCBtYXhpbXVtLXNjYWxlPTEuMCwgdXNlci1zY2FsYWJsZT1ubyIgLz4KICAgICAgICAgICAgPHN0eWxlPgogICAgICAgICAgICAgICAgI21hcF8xOTU0ZDk2YjdjNDg0MmM0YjJhMDBlMGM1NTkwZWU5MyB7CiAgICAgICAgICAgICAgICAgICAgcG9zaXRpb246IHJlbGF0aXZlOwogICAgICAgICAgICAgICAgICAgIHdpZHRoOiAxMDAuMCU7CiAgICAgICAgICAgICAgICAgICAgaGVpZ2h0OiAxMDAuMCU7CiAgICAgICAgICAgICAgICAgICAgbGVmdDogMC4wJTsKICAgICAgICAgICAgICAgICAgICB0b3A6IDAuMCU7CiAgICAgICAgICAgICAgICB9CiAgICAgICAgICAgIDwvc3R5bGU+CiAgICAgICAgCjwvaGVhZD4KPGJvZHk+ICAgIAogICAgCiAgICAgICAgICAgIDxkaXYgY2xhc3M9ImZvbGl1bS1tYXAiIGlkPSJtYXBfMTk1NGQ5NmI3YzQ4NDJjNGIyYTAwZTBjNTU5MGVlOTMiID48L2Rpdj4KICAgICAgICAKPC9ib2R5Pgo8c2NyaXB0PiAgICAKICAgIAogICAgICAgICAgICB2YXIgbWFwXzE5NTRkOTZiN2M0ODQyYzRiMmEwMGUwYzU1OTBlZTkzID0gTC5tYXAoCiAgICAgICAgICAgICAgICAibWFwXzE5NTRkOTZiN2M0ODQyYzRiMmEwMGUwYzU1OTBlZTkzIiwKICAgICAgICAgICAgICAgIHsKICAgICAgICAgICAgICAgICAgICBjZW50ZXI6IFstMzAuNSwgLTUyLjBdLAogICAgICAgICAgICAgICAgICAgIGNyczogTC5DUlMuRVBTRzM4NTcsCiAgICAgICAgICAgICAgICAgICAgem9vbTogNiwKICAgICAgICAgICAgICAgICAgICB6b29tQ29udHJvbDogdHJ1ZSwKICAgICAgICAgICAgICAgICAgICBwcmVmZXJDYW52YXM6IGZhbHNlLAogICAgICAgICAgICAgICAgfQogICAgICAgICAgICApOwoKICAgICAgICAgICAgCgogICAgICAgIAogICAgCiAgICAgICAgICAgIHZhciB0aWxlX2xheWVyX2Q4OGVmNTA3OGI5MzRlM2VhZjdkMGIzMDFiOWNiZmRhID0gTC50aWxlTGF5ZXIoCiAgICAgICAgICAgICAgICAiaHR0cHM6Ly97c30udGlsZS5vcGVuc3RyZWV0bWFwLm9yZy97en0ve3h9L3t5fS5wbmciLAogICAgICAgICAgICAgICAgeyJhdHRyaWJ1dGlvbiI6ICJEYXRhIGJ5IFx1MDAyNmNvcHk7IFx1MDAzY2EgaHJlZj1cImh0dHA6Ly9vcGVuc3RyZWV0bWFwLm9yZ1wiXHUwMDNlT3BlblN0cmVldE1hcFx1MDAzYy9hXHUwMDNlLCB1bmRlciBcdTAwM2NhIGhyZWY9XCJodHRwOi8vd3d3Lm9wZW5zdHJlZXRtYXAub3JnL2NvcHlyaWdodFwiXHUwMDNlT0RiTFx1MDAzYy9hXHUwMDNlLiIsICJkZXRlY3RSZXRpbmEiOiBmYWxzZSwgIm1heE5hdGl2ZVpvb20iOiAxOCwgIm1heFpvb20iOiAxOCwgIm1pblpvb20iOiAwLCAibm9XcmFwIjogZmFsc2UsICJvcGFjaXR5IjogMSwgInN1YmRvbWFpbnMiOiAiYWJjIiwgInRtcyI6IGZhbHNlfQogICAgICAgICAgICApLmFkZFRvKG1hcF8xOTU0ZDk2YjdjNDg0MmM0YjJhMDBlMGM1NTkwZWU5Myk7CiAgICAgICAgCjwvc2NyaXB0Pg== onload=\"this.contentDocument.open();this.contentDocument.write(atob(this.getAttribute('data-html')));this.contentDocument.close();\" allowfullscreen webkitallowfullscreen mozallowfullscreen></iframe></div></div>"
      ],
      "text/plain": [
       "<folium.folium.Map at 0x2199454e9e8>"
      ]
     },
     "execution_count": 14,
     "metadata": {},
     "output_type": "execute_result"
    }
   ],
   "source": [
    "# Criando o mapa do Rio Grande do Sul\n",
    "rs = folium.Map(\n",
    "    # location=[-30.0862206,-62.6917813], #coordenadas do google maps (latitude, longitude)\n",
    "    location=[-30.5, -52],# coordenadas ajustadas\n",
    "    zoom_start=6\n",
    ")\n",
    "# mostrando o mapa\n",
    "rs"
   ]
  },
  {
   "cell_type": "code",
   "execution_count": 15,
   "metadata": {},
   "outputs": [
    {
     "data": {
      "text/html": [
       "<div style=\"width:100%;\"><div style=\"position:relative;width:100%;height:0;padding-bottom:60%;\"><span style=\"color:#565656\">Make this Notebook Trusted to load map: File -> Trust Notebook</span><iframe src=\"about:blank\" style=\"position:absolute;width:100%;height:100%;left:0;top:0;border:none !important;\" data-html=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 onload=\"this.contentDocument.open();this.contentDocument.write(atob(this.getAttribute('data-html')));this.contentDocument.close();\" allowfullscreen webkitallowfullscreen mozallowfullscreen></iframe></div></div>"
      ],
      "text/plain": [
       "<folium.folium.Map at 0x2199454e9e8>"
      ]
     },
     "execution_count": 15,
     "metadata": {},
     "output_type": "execute_result"
    }
   ],
   "source": [
    "#Percorrer o DataFrame com base nas melhores escolas (tx_distorcao <=10)\n",
    "#e desenhar um marcador para cada escola\n",
    "# usando for e iterrows\n",
    "\n",
    "for indice, municipio in df[df['tx_distorcao'] <= 10].iterrows():\n",
    "    folium.Marker(\n",
    "        location=[municipio['latitude'], municipio['longitude']],\n",
    "        popup=municipio['Município'],\n",
    "        icon=folium.map.Icon(color='green')\n",
    "    ).add_to(rs)\n",
    "         \n",
    "#Mostrando o Mapa    \n",
    "rs"
   ]
  },
  {
   "cell_type": "code",
   "execution_count": null,
   "metadata": {},
   "outputs": [],
   "source": []
  },
  {
   "cell_type": "code",
   "execution_count": 16,
   "metadata": {},
   "outputs": [
    {
     "data": {
      "text/html": [
       "<div style=\"width:100%;\"><div style=\"position:relative;width:100%;height:0;padding-bottom:60%;\"><span style=\"color:#565656\">Make this Notebook Trusted to load map: File -> Trust Notebook</span><iframe src=\"about:blank\" style=\"position:absolute;width:100%;height:100%;left:0;top:0;border:none !important;\" data-html=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 onload=\"this.contentDocument.open();this.contentDocument.write(atob(this.getAttribute('data-html')));this.contentDocument.close();\" allowfullscreen webkitallowfullscreen mozallowfullscreen></iframe></div></div>"
      ],
      "text/plain": [
       "<folium.folium.Map at 0x2199454e9e8>"
      ]
     },
     "execution_count": 16,
     "metadata": {},
     "output_type": "execute_result"
    }
   ],
   "source": [
    "#Percorrer o DataFrame com base nas melhores escolas (tx_distorcao >=45)\n",
    "#e desenhar um marcador para cada escola\n",
    "# usando for e iterrows\n",
    "\n",
    "for indice, municipio in df[df['tx_distorcao'] >= 45].iterrows():\n",
    "    folium.Marker(\n",
    "        location=[municipio['latitude'], municipio['longitude']],\n",
    "        popup=municipio['Município'],\n",
    "        icon=folium.map.Icon(color='red')\n",
    "    ).add_to(rs)\n",
    "         \n",
    "#Mostrando o Mapa    \n",
    "rs"
   ]
  },
  {
   "cell_type": "code",
   "execution_count": 17,
   "metadata": {},
   "outputs": [
    {
     "data": {
      "text/plain": [
       "325    32.3\n",
       "Name: tx_distorcao, dtype: float64"
      ]
     },
     "execution_count": 17,
     "metadata": {},
     "output_type": "execute_result"
    }
   ],
   "source": [
    "#Qula a taxa de distorção de PA (Porto Alegre)\n",
    "df[df['Município'] == 'Porto Alegre']['tx_distorcao']"
   ]
  },
  {
   "cell_type": "code",
   "execution_count": null,
   "metadata": {},
   "outputs": [],
   "source": []
  }
 ],
 "metadata": {
  "kernelspec": {
   "display_name": "Python 3",
   "language": "python",
   "name": "python3"
  },
  "language_info": {
   "codemirror_mode": {
    "name": "ipython",
    "version": 3
   },
   "file_extension": ".py",
   "mimetype": "text/x-python",
   "name": "python",
   "nbconvert_exporter": "python",
   "pygments_lexer": "ipython3",
   "version": "3.7.0"
  }
 },
 "nbformat": 4,
 "nbformat_minor": 2
}
