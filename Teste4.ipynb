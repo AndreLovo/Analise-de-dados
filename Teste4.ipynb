{
  "nbformat": 4,
  "nbformat_minor": 0,
  "metadata": {
    "colab": {
      "name": "Teste4.ipynb",
      "provenance": [],
      "collapsed_sections": [],
      "toc_visible": true,
      "mount_file_id": "1OMiS0rTISNu2skX8dIJyKc6g-I33mRJe",
      "authorship_tag": "ABX9TyPKintBC5jNfhQu5TP9C1T4",
      "include_colab_link": true
    },
    "kernelspec": {
      "name": "python3",
      "display_name": "Python 3"
    }
  },
  "cells": [
    {
      "cell_type": "markdown",
      "metadata": {
        "id": "view-in-github",
        "colab_type": "text"
      },
      "source": [
        "<a href=\"https://colab.research.google.com/github/AndreLovo/Analise-de-dados/blob/master/Teste4.ipynb\" target=\"_parent\"><img src=\"https://colab.research.google.com/assets/colab-badge.svg\" alt=\"Open In Colab\"/></a>"
      ]
    },
    {
      "cell_type": "markdown",
      "metadata": {
        "id": "SPO-zQZwzr9f",
        "colab_type": "text"
      },
      "source": [
        "# <center>**TREINAMENTO CARTA DE CONTROLE**</center>\n",
        "<center> Análise Exploratória </center>\n"
      ]
    },
    {
      "cell_type": "code",
      "metadata": {
        "id": "R6YWFAbpzDxH",
        "colab_type": "code",
        "colab": {
          "base_uri": "https://localhost:8080/",
          "height": 71
        },
        "outputId": "51babe53-7dc1-4643-ace6-15bbd24233d7"
      },
      "source": [
        "# Importando bibliotecas\n",
        "import pandas as pd\n",
        "import seaborn as sns\n",
        "import matplotlib.pyplot as plt\n",
        "import math\n",
        "import numpy as np\n",
        "\n",
        "# Mostrar os gráficos no arquivo: Quando colocamos o inline nãão conseguimos alterar o tamanho do grafico\n",
        "%matplotlib inline"
      ],
      "execution_count": 1,
      "outputs": [
        {
          "output_type": "stream",
          "text": [
            "/usr/local/lib/python3.6/dist-packages/statsmodels/tools/_testing.py:19: FutureWarning: pandas.util.testing is deprecated. Use the functions in the public API at pandas.testing instead.\n",
            "  import pandas.util.testing as tm\n"
          ],
          "name": "stderr"
        }
      ]
    },
    {
      "cell_type": "markdown",
      "metadata": {
        "id": "i8_EumbchUvz",
        "colab_type": "text"
      },
      "source": [
        "<center>DISTRIBUIÇÃO DE FREQÜÊNCIAS</center></br>\n",
        "<b>Dados Brutos</b>: são os dados tomados como eles são, de forma \n",
        "desorganizada. Indica-se por xi</br>\n",
        "\n",
        "<b>Rol</b>: são os dados organizados em ordem crescente ou decrescente.</br>\n",
        "\n",
        "<b>Tamanho da amostra</b>: é a quantidade de elementos que compõe a amostra. Indica-se por n.</br>\n",
        "\n",
        "<b>Amplitude amostral</b>: diferença entre o limite superior e o inferior do rol: ha = Ls – Li.</br>\n",
        "\n",
        "<b>Amplitude da distribuição</b>: é a diferença entre o maior e o menor valor de todas as classes de uma distribuição de frequências.</br>\n",
        "\n",
        "<b>Amplitude de classe</b>: é a diferença entre maior e o menor valor de cada classe.</br>\n",
        "\n",
        "<b>Distribuição de frequência</b>: é uma tabela onde se distribui todas as classes e frequências observadas.</br>\n",
        "\n",
        "<b>Ponto médio da classe</b>: é a média entre o limite superior e o limite inferior da classe.</br>\n",
        "\n",
        "<b>Frequência absoluta</b>: é o número de vezes que o experimento repete ou observação. Indica-se por fi</br>\n",
        "\n",
        "<b>Frequência absoluta acumulada</b>: é a soma das frequências absoluta anterior. Indica-se por fiac.</br>\n",
        "\n",
        "<b>Frequência relativa</b>: é a razão entre a frequência absoluta e o somatório dessas frequências.\n",
        "\n",
        "<b>Frequência relativa percentual</b>: é a transformação do Fr em percentagens. Basta multiplicar o fr por 100.</br>\n",
        "\n",
        "Indica-se por fr%\n",
        "Frequência relativa percentual acumulada: é a soma das frequências até a classe atual. Indica-se por\n",
        "fr%(ac)"
      ]
    },
    {
      "cell_type": "code",
      "metadata": {
        "id": "OJwuflizhiNa",
        "colab_type": "code",
        "colab": {}
      },
      "source": [
        "#Buscando a tabela notas\n",
        "tabela_df = pd.read_excel('/content/drive/My Drive/Colab Notebooks/notas.xlsx')"
      ],
      "execution_count": 2,
      "outputs": []
    },
    {
      "cell_type": "code",
      "metadata": {
        "id": "8dnwc9jRnHVA",
        "colab_type": "code",
        "colab": {
          "base_uri": "https://localhost:8080/",
          "height": 917
        },
        "outputId": "ce6ee831-1ef7-4685-b46e-68379461a659"
      },
      "source": [
        "tabela_df"
      ],
      "execution_count": 3,
      "outputs": [
        {
          "output_type": "execute_result",
          "data": {
            "text/html": [
              "<div>\n",
              "<style scoped>\n",
              "    .dataframe tbody tr th:only-of-type {\n",
              "        vertical-align: middle;\n",
              "    }\n",
              "\n",
              "    .dataframe tbody tr th {\n",
              "        vertical-align: top;\n",
              "    }\n",
              "\n",
              "    .dataframe thead th {\n",
              "        text-align: right;\n",
              "    }\n",
              "</style>\n",
              "<table border=\"1\" class=\"dataframe\">\n",
              "  <thead>\n",
              "    <tr style=\"text-align: right;\">\n",
              "      <th></th>\n",
              "      <th>Notas</th>\n",
              "    </tr>\n",
              "  </thead>\n",
              "  <tbody>\n",
              "    <tr>\n",
              "      <th>0</th>\n",
              "      <td>60</td>\n",
              "    </tr>\n",
              "    <tr>\n",
              "      <th>1</th>\n",
              "      <td>73</td>\n",
              "    </tr>\n",
              "    <tr>\n",
              "      <th>2</th>\n",
              "      <td>72</td>\n",
              "    </tr>\n",
              "    <tr>\n",
              "      <th>3</th>\n",
              "      <td>82</td>\n",
              "    </tr>\n",
              "    <tr>\n",
              "      <th>4</th>\n",
              "      <td>92</td>\n",
              "    </tr>\n",
              "    <tr>\n",
              "      <th>5</th>\n",
              "      <td>52</td>\n",
              "    </tr>\n",
              "    <tr>\n",
              "      <th>6</th>\n",
              "      <td>72</td>\n",
              "    </tr>\n",
              "    <tr>\n",
              "      <th>7</th>\n",
              "      <td>67</td>\n",
              "    </tr>\n",
              "    <tr>\n",
              "      <th>8</th>\n",
              "      <td>74</td>\n",
              "    </tr>\n",
              "    <tr>\n",
              "      <th>9</th>\n",
              "      <td>71</td>\n",
              "    </tr>\n",
              "    <tr>\n",
              "      <th>10</th>\n",
              "      <td>83</td>\n",
              "    </tr>\n",
              "    <tr>\n",
              "      <th>11</th>\n",
              "      <td>94</td>\n",
              "    </tr>\n",
              "    <tr>\n",
              "      <th>12</th>\n",
              "      <td>52</td>\n",
              "    </tr>\n",
              "    <tr>\n",
              "      <th>13</th>\n",
              "      <td>71</td>\n",
              "    </tr>\n",
              "    <tr>\n",
              "      <th>14</th>\n",
              "      <td>73</td>\n",
              "    </tr>\n",
              "    <tr>\n",
              "      <th>15</th>\n",
              "      <td>71</td>\n",
              "    </tr>\n",
              "    <tr>\n",
              "      <th>16</th>\n",
              "      <td>84</td>\n",
              "    </tr>\n",
              "    <tr>\n",
              "      <th>17</th>\n",
              "      <td>51</td>\n",
              "    </tr>\n",
              "    <tr>\n",
              "      <th>18</th>\n",
              "      <td>92</td>\n",
              "    </tr>\n",
              "    <tr>\n",
              "      <th>19</th>\n",
              "      <td>63</td>\n",
              "    </tr>\n",
              "    <tr>\n",
              "      <th>20</th>\n",
              "      <td>70</td>\n",
              "    </tr>\n",
              "    <tr>\n",
              "      <th>21</th>\n",
              "      <td>61</td>\n",
              "    </tr>\n",
              "    <tr>\n",
              "      <th>22</th>\n",
              "      <td>70</td>\n",
              "    </tr>\n",
              "    <tr>\n",
              "      <th>23</th>\n",
              "      <td>81</td>\n",
              "    </tr>\n",
              "    <tr>\n",
              "      <th>24</th>\n",
              "      <td>51</td>\n",
              "    </tr>\n",
              "    <tr>\n",
              "      <th>25</th>\n",
              "      <td>88</td>\n",
              "    </tr>\n",
              "    <tr>\n",
              "      <th>26</th>\n",
              "      <td>62</td>\n",
              "    </tr>\n",
              "    <tr>\n",
              "      <th>27</th>\n",
              "      <td>81</td>\n",
              "    </tr>\n",
              "  </tbody>\n",
              "</table>\n",
              "</div>"
            ],
            "text/plain": [
              "    Notas\n",
              "0      60\n",
              "1      73\n",
              "2      72\n",
              "3      82\n",
              "4      92\n",
              "5      52\n",
              "6      72\n",
              "7      67\n",
              "8      74\n",
              "9      71\n",
              "10     83\n",
              "11     94\n",
              "12     52\n",
              "13     71\n",
              "14     73\n",
              "15     71\n",
              "16     84\n",
              "17     51\n",
              "18     92\n",
              "19     63\n",
              "20     70\n",
              "21     61\n",
              "22     70\n",
              "23     81\n",
              "24     51\n",
              "25     88\n",
              "26     62\n",
              "27     81"
            ]
          },
          "metadata": {
            "tags": []
          },
          "execution_count": 3
        }
      ]
    },
    {
      "cell_type": "code",
      "metadata": {
        "id": "WuypLcBtnJsO",
        "colab_type": "code",
        "colab": {
          "base_uri": "https://localhost:8080/",
          "height": 917
        },
        "outputId": "dd24e652-eb3e-40ae-b7d8-d5609ff1e110"
      },
      "source": [
        "#1-Ordenando em ordem crescente (do menor para o maior) - ROL\n",
        "ROL_df=tabela_df.sort_values('Notas')\n",
        "ROL_df"
      ],
      "execution_count": 4,
      "outputs": [
        {
          "output_type": "execute_result",
          "data": {
            "text/html": [
              "<div>\n",
              "<style scoped>\n",
              "    .dataframe tbody tr th:only-of-type {\n",
              "        vertical-align: middle;\n",
              "    }\n",
              "\n",
              "    .dataframe tbody tr th {\n",
              "        vertical-align: top;\n",
              "    }\n",
              "\n",
              "    .dataframe thead th {\n",
              "        text-align: right;\n",
              "    }\n",
              "</style>\n",
              "<table border=\"1\" class=\"dataframe\">\n",
              "  <thead>\n",
              "    <tr style=\"text-align: right;\">\n",
              "      <th></th>\n",
              "      <th>Notas</th>\n",
              "    </tr>\n",
              "  </thead>\n",
              "  <tbody>\n",
              "    <tr>\n",
              "      <th>24</th>\n",
              "      <td>51</td>\n",
              "    </tr>\n",
              "    <tr>\n",
              "      <th>17</th>\n",
              "      <td>51</td>\n",
              "    </tr>\n",
              "    <tr>\n",
              "      <th>5</th>\n",
              "      <td>52</td>\n",
              "    </tr>\n",
              "    <tr>\n",
              "      <th>12</th>\n",
              "      <td>52</td>\n",
              "    </tr>\n",
              "    <tr>\n",
              "      <th>0</th>\n",
              "      <td>60</td>\n",
              "    </tr>\n",
              "    <tr>\n",
              "      <th>21</th>\n",
              "      <td>61</td>\n",
              "    </tr>\n",
              "    <tr>\n",
              "      <th>26</th>\n",
              "      <td>62</td>\n",
              "    </tr>\n",
              "    <tr>\n",
              "      <th>19</th>\n",
              "      <td>63</td>\n",
              "    </tr>\n",
              "    <tr>\n",
              "      <th>7</th>\n",
              "      <td>67</td>\n",
              "    </tr>\n",
              "    <tr>\n",
              "      <th>22</th>\n",
              "      <td>70</td>\n",
              "    </tr>\n",
              "    <tr>\n",
              "      <th>20</th>\n",
              "      <td>70</td>\n",
              "    </tr>\n",
              "    <tr>\n",
              "      <th>15</th>\n",
              "      <td>71</td>\n",
              "    </tr>\n",
              "    <tr>\n",
              "      <th>13</th>\n",
              "      <td>71</td>\n",
              "    </tr>\n",
              "    <tr>\n",
              "      <th>9</th>\n",
              "      <td>71</td>\n",
              "    </tr>\n",
              "    <tr>\n",
              "      <th>6</th>\n",
              "      <td>72</td>\n",
              "    </tr>\n",
              "    <tr>\n",
              "      <th>2</th>\n",
              "      <td>72</td>\n",
              "    </tr>\n",
              "    <tr>\n",
              "      <th>14</th>\n",
              "      <td>73</td>\n",
              "    </tr>\n",
              "    <tr>\n",
              "      <th>1</th>\n",
              "      <td>73</td>\n",
              "    </tr>\n",
              "    <tr>\n",
              "      <th>8</th>\n",
              "      <td>74</td>\n",
              "    </tr>\n",
              "    <tr>\n",
              "      <th>23</th>\n",
              "      <td>81</td>\n",
              "    </tr>\n",
              "    <tr>\n",
              "      <th>27</th>\n",
              "      <td>81</td>\n",
              "    </tr>\n",
              "    <tr>\n",
              "      <th>3</th>\n",
              "      <td>82</td>\n",
              "    </tr>\n",
              "    <tr>\n",
              "      <th>10</th>\n",
              "      <td>83</td>\n",
              "    </tr>\n",
              "    <tr>\n",
              "      <th>16</th>\n",
              "      <td>84</td>\n",
              "    </tr>\n",
              "    <tr>\n",
              "      <th>25</th>\n",
              "      <td>88</td>\n",
              "    </tr>\n",
              "    <tr>\n",
              "      <th>18</th>\n",
              "      <td>92</td>\n",
              "    </tr>\n",
              "    <tr>\n",
              "      <th>4</th>\n",
              "      <td>92</td>\n",
              "    </tr>\n",
              "    <tr>\n",
              "      <th>11</th>\n",
              "      <td>94</td>\n",
              "    </tr>\n",
              "  </tbody>\n",
              "</table>\n",
              "</div>"
            ],
            "text/plain": [
              "    Notas\n",
              "24     51\n",
              "17     51\n",
              "5      52\n",
              "12     52\n",
              "0      60\n",
              "21     61\n",
              "26     62\n",
              "19     63\n",
              "7      67\n",
              "22     70\n",
              "20     70\n",
              "15     71\n",
              "13     71\n",
              "9      71\n",
              "6      72\n",
              "2      72\n",
              "14     73\n",
              "1      73\n",
              "8      74\n",
              "23     81\n",
              "27     81\n",
              "3      82\n",
              "10     83\n",
              "16     84\n",
              "25     88\n",
              "18     92\n",
              "4      92\n",
              "11     94"
            ]
          },
          "metadata": {
            "tags": []
          },
          "execution_count": 4
        }
      ]
    },
    {
      "cell_type": "code",
      "metadata": {
        "id": "4DbI74pRuhoN",
        "colab_type": "code",
        "colab": {
          "base_uri": "https://localhost:8080/",
          "height": 917
        },
        "outputId": "4d7a765f-8ed4-4c0b-d038-d753f73abb2e"
      },
      "source": [
        "#Ordenando em ordem decrescente (do maior para o menor) - ROL\n",
        "tabela_df.sort_values('Notas',ascending = False)"
      ],
      "execution_count": 5,
      "outputs": [
        {
          "output_type": "execute_result",
          "data": {
            "text/html": [
              "<div>\n",
              "<style scoped>\n",
              "    .dataframe tbody tr th:only-of-type {\n",
              "        vertical-align: middle;\n",
              "    }\n",
              "\n",
              "    .dataframe tbody tr th {\n",
              "        vertical-align: top;\n",
              "    }\n",
              "\n",
              "    .dataframe thead th {\n",
              "        text-align: right;\n",
              "    }\n",
              "</style>\n",
              "<table border=\"1\" class=\"dataframe\">\n",
              "  <thead>\n",
              "    <tr style=\"text-align: right;\">\n",
              "      <th></th>\n",
              "      <th>Notas</th>\n",
              "    </tr>\n",
              "  </thead>\n",
              "  <tbody>\n",
              "    <tr>\n",
              "      <th>11</th>\n",
              "      <td>94</td>\n",
              "    </tr>\n",
              "    <tr>\n",
              "      <th>4</th>\n",
              "      <td>92</td>\n",
              "    </tr>\n",
              "    <tr>\n",
              "      <th>18</th>\n",
              "      <td>92</td>\n",
              "    </tr>\n",
              "    <tr>\n",
              "      <th>25</th>\n",
              "      <td>88</td>\n",
              "    </tr>\n",
              "    <tr>\n",
              "      <th>16</th>\n",
              "      <td>84</td>\n",
              "    </tr>\n",
              "    <tr>\n",
              "      <th>10</th>\n",
              "      <td>83</td>\n",
              "    </tr>\n",
              "    <tr>\n",
              "      <th>3</th>\n",
              "      <td>82</td>\n",
              "    </tr>\n",
              "    <tr>\n",
              "      <th>27</th>\n",
              "      <td>81</td>\n",
              "    </tr>\n",
              "    <tr>\n",
              "      <th>23</th>\n",
              "      <td>81</td>\n",
              "    </tr>\n",
              "    <tr>\n",
              "      <th>8</th>\n",
              "      <td>74</td>\n",
              "    </tr>\n",
              "    <tr>\n",
              "      <th>1</th>\n",
              "      <td>73</td>\n",
              "    </tr>\n",
              "    <tr>\n",
              "      <th>14</th>\n",
              "      <td>73</td>\n",
              "    </tr>\n",
              "    <tr>\n",
              "      <th>6</th>\n",
              "      <td>72</td>\n",
              "    </tr>\n",
              "    <tr>\n",
              "      <th>2</th>\n",
              "      <td>72</td>\n",
              "    </tr>\n",
              "    <tr>\n",
              "      <th>13</th>\n",
              "      <td>71</td>\n",
              "    </tr>\n",
              "    <tr>\n",
              "      <th>9</th>\n",
              "      <td>71</td>\n",
              "    </tr>\n",
              "    <tr>\n",
              "      <th>15</th>\n",
              "      <td>71</td>\n",
              "    </tr>\n",
              "    <tr>\n",
              "      <th>20</th>\n",
              "      <td>70</td>\n",
              "    </tr>\n",
              "    <tr>\n",
              "      <th>22</th>\n",
              "      <td>70</td>\n",
              "    </tr>\n",
              "    <tr>\n",
              "      <th>7</th>\n",
              "      <td>67</td>\n",
              "    </tr>\n",
              "    <tr>\n",
              "      <th>19</th>\n",
              "      <td>63</td>\n",
              "    </tr>\n",
              "    <tr>\n",
              "      <th>26</th>\n",
              "      <td>62</td>\n",
              "    </tr>\n",
              "    <tr>\n",
              "      <th>21</th>\n",
              "      <td>61</td>\n",
              "    </tr>\n",
              "    <tr>\n",
              "      <th>0</th>\n",
              "      <td>60</td>\n",
              "    </tr>\n",
              "    <tr>\n",
              "      <th>12</th>\n",
              "      <td>52</td>\n",
              "    </tr>\n",
              "    <tr>\n",
              "      <th>5</th>\n",
              "      <td>52</td>\n",
              "    </tr>\n",
              "    <tr>\n",
              "      <th>17</th>\n",
              "      <td>51</td>\n",
              "    </tr>\n",
              "    <tr>\n",
              "      <th>24</th>\n",
              "      <td>51</td>\n",
              "    </tr>\n",
              "  </tbody>\n",
              "</table>\n",
              "</div>"
            ],
            "text/plain": [
              "    Notas\n",
              "11     94\n",
              "4      92\n",
              "18     92\n",
              "25     88\n",
              "16     84\n",
              "10     83\n",
              "3      82\n",
              "27     81\n",
              "23     81\n",
              "8      74\n",
              "1      73\n",
              "14     73\n",
              "6      72\n",
              "2      72\n",
              "13     71\n",
              "9      71\n",
              "15     71\n",
              "20     70\n",
              "22     70\n",
              "7      67\n",
              "19     63\n",
              "26     62\n",
              "21     61\n",
              "0      60\n",
              "12     52\n",
              "5      52\n",
              "17     51\n",
              "24     51"
            ]
          },
          "metadata": {
            "tags": []
          },
          "execution_count": 5
        }
      ]
    },
    {
      "cell_type": "code",
      "metadata": {
        "id": "Hvqm_nJ4xGUU",
        "colab_type": "code",
        "colab": {
          "base_uri": "https://localhost:8080/",
          "height": 34
        },
        "outputId": "e12e381e-1fa4-4b48-963f-5d0e3d1ee2fd"
      },
      "source": [
        "#2-Determinando o Tamanho da Amostra (n)\n",
        "# Retorna o tamanho da tabela (linhas e colunas)\n",
        "tabela_df.shape"
      ],
      "execution_count": 6,
      "outputs": [
        {
          "output_type": "execute_result",
          "data": {
            "text/plain": [
              "(28, 1)"
            ]
          },
          "metadata": {
            "tags": []
          },
          "execution_count": 6
        }
      ]
    },
    {
      "cell_type": "code",
      "metadata": {
        "id": "ff5dCKM45IHo",
        "colab_type": "code",
        "colab": {
          "base_uri": "https://localhost:8080/",
          "height": 51
        },
        "outputId": "50c02ad3-3a1e-4351-c140-0965f98e5316"
      },
      "source": [
        "#2-Quantas linhas existem no arquivo por coluna?\n",
        "tabela_df.count()"
      ],
      "execution_count": 7,
      "outputs": [
        {
          "output_type": "execute_result",
          "data": {
            "text/plain": [
              "Notas    28\n",
              "dtype: int64"
            ]
          },
          "metadata": {
            "tags": []
          },
          "execution_count": 7
        }
      ]
    },
    {
      "cell_type": "code",
      "metadata": {
        "id": "vp1fumTr1PT5",
        "colab_type": "code",
        "colab": {
          "base_uri": "https://localhost:8080/",
          "height": 34
        },
        "outputId": "142a509a-72ee-4576-ec17-653850521216"
      },
      "source": [
        "#3-Determinando o número de classes\n",
        "n_classe=math.sqrt(28)\n",
        "print(n_classe)"
      ],
      "execution_count": 8,
      "outputs": [
        {
          "output_type": "stream",
          "text": [
            "5.291502622129181\n"
          ],
          "name": "stdout"
        }
      ]
    },
    {
      "cell_type": "code",
      "metadata": {
        "id": "44tk211H29gd",
        "colab_type": "code",
        "colab": {
          "base_uri": "https://localhost:8080/",
          "height": 34
        },
        "outputId": "00cc49d7-e68c-4a0c-b4fd-bea7cfcfed35"
      },
      "source": [
        "#4-Amplitude Amostral\n",
        "amplitude1=tabela_df['Notas'].max() - tabela_df['Notas'].min()\n",
        "print(amplitude1)"
      ],
      "execution_count": 9,
      "outputs": [
        {
          "output_type": "stream",
          "text": [
            "43\n"
          ],
          "name": "stdout"
        }
      ]
    },
    {
      "cell_type": "code",
      "metadata": {
        "id": "JfijQeqE6_-z",
        "colab_type": "code",
        "colab": {
          "base_uri": "https://localhost:8080/",
          "height": 34
        },
        "outputId": "a5334efb-76d4-4ea6-914a-f5b8946f503a"
      },
      "source": [
        "#5-Amplitude de Classes\n",
        "amplitude2=(tabela_df['Notas'].max() - tabela_df['Notas'].min())/n_classe\n",
        "print(amplitude2)"
      ],
      "execution_count": 10,
      "outputs": [
        {
          "output_type": "stream",
          "text": [
            "8.126236169698386\n"
          ],
          "name": "stdout"
        }
      ]
    },
    {
      "cell_type": "code",
      "metadata": {
        "id": "Wo-H0x3G7f36",
        "colab_type": "code",
        "colab": {
          "base_uri": "https://localhost:8080/",
          "height": 34
        },
        "outputId": "f350fed0-2334-4d2e-ab35-62715ca4079b"
      },
      "source": [
        "#6-Ponto Médio da Classe\n",
        "PMC=(amplitude1)/2\n",
        "print(PMC)"
      ],
      "execution_count": 11,
      "outputs": [
        {
          "output_type": "stream",
          "text": [
            "21.5\n"
          ],
          "name": "stdout"
        }
      ]
    },
    {
      "cell_type": "code",
      "metadata": {
        "id": "we0t5P9_79N-",
        "colab_type": "code",
        "colab": {
          "base_uri": "https://localhost:8080/",
          "height": 357
        },
        "outputId": "7b134a74-2417-47fd-88f3-866d6b5d06d0"
      },
      "source": [
        "#7-Frequencia Absoluta (fi): é o número de vezes que o valor se repete no DataFrame\n",
        "#Selecionar e contar estes ítens\n",
        "fi=tabela_df['Notas'].value_counts()\n",
        "fi"
      ],
      "execution_count": 12,
      "outputs": [
        {
          "output_type": "execute_result",
          "data": {
            "text/plain": [
              "71    3\n",
              "70    2\n",
              "92    2\n",
              "81    2\n",
              "72    2\n",
              "52    2\n",
              "73    2\n",
              "51    2\n",
              "84    1\n",
              "61    1\n",
              "74    1\n",
              "82    1\n",
              "88    1\n",
              "94    1\n",
              "83    1\n",
              "62    1\n",
              "60    1\n",
              "63    1\n",
              "67    1\n",
              "Name: Notas, dtype: int64"
            ]
          },
          "metadata": {
            "tags": []
          },
          "execution_count": 12
        }
      ]
    },
    {
      "cell_type": "code",
      "metadata": {
        "id": "bZnpPbUDQssy",
        "colab_type": "code",
        "colab": {}
      },
      "source": [
        "#8-Frequência absoluta acumulada: é a soma das frequências absoluta anterior. \n",
        "#Indica-se por fiac "
      ],
      "execution_count": 13,
      "outputs": []
    },
    {
      "cell_type": "code",
      "metadata": {
        "id": "9JrTHcjG-UnT",
        "colab_type": "code",
        "colab": {}
      },
      "source": [
        "#9-Frequência Relativa: FRel"
      ],
      "execution_count": 14,
      "outputs": []
    },
    {
      "cell_type": "code",
      "metadata": {
        "id": "8TeSAZPtB6ZL",
        "colab_type": "code",
        "colab": {
          "base_uri": "https://localhost:8080/",
          "height": 509
        },
        "outputId": "4b462d4b-84c6-4b34-f35c-9f12e1e2f1be"
      },
      "source": [
        "#10-Vamos mostar a contagem dos dados em um gráfico de barras\n",
        "fi=tabela_df['Notas'].value_counts().plot.bar(facecolor='g', figsize=(20,10), width = 0.5)\n",
        "plt.title('Gráfico de Barras: Notas x Frequência de ocorrências', fontsize=18, color='white')\n",
        "plt.grid(axis='y', alpha=0.75)\n",
        "plt.xticks (color='white',rotation= 0)\n",
        "plt.yticks (color='white')\n",
        "plt.xlabel('Notas',color='white')\n",
        "plt.ylabel('Frequência destes Valores',color='white')\n",
        "plt.grid(False)\n",
        "plt.legend() \n",
        "plt.show()"
      ],
      "execution_count": 15,
      "outputs": [
        {
          "output_type": "display_data",
          "data": {
            "image/png": "[encoded data removed]",
            "text/plain": [
              "<Figure size 1440x720 with 1 Axes>"
            ]
          },
          "metadata": {
            "tags": [],
            "needs_background": "dark"
          }
        }
      ]
    },
    {
      "cell_type": "code",
      "metadata": {
        "id": "aNdg1Wjo0QJc",
        "colab_type": "code",
        "colab": {
          "base_uri": "https://localhost:8080/",
          "height": 507
        },
        "outputId": "fcbf7022-05e4-4dfc-ffcd-55d2fa2bb40c"
      },
      "source": [
        "#11-Gráfico de Barras\n",
        "fi2=tabela_df.plot.bar(facecolor='blue',figsize=(20,10), width = 0.5)\n",
        "plt.axis([-1, 30, 0, 120])#[xmin, xmax, ymin, ymax] - limites de visualização\n",
        "plt.title('Gráfico de Valores', fontsize=18, color='white')\n",
        "plt.grid(axis='y', alpha=0.75)\n",
        "plt.xticks (color='white', rotation= 0)\n",
        "plt.yticks (color='white')\n",
        "plt.xlabel('Marcações',color='white')\n",
        "plt.ylabel('Valores',color='white')\n",
        "plt.grid(False)\n",
        "plt.legend() \n",
        "plt.show()\n",
        "\n",
        "# x= [0, 1, 2, 3,\t4, 5,\t6,\t7,\t8,\t9,\t10,\t11,\t12,\t13,\t14,\t15,\t16,\t17,\t18,\t19,\t20,\t21,\t22,\t23,\t24,\t25,\t26,\t27]\n",
        "# y = [60, 73, 72, 82, 92, 52, 72,\t67,\t74,\t71,\t83,\t94,\t52,\t71,\t73,\t71,\t84,\t51,\t92,\t63,\t70,\t61,\t70,\t81,\t51,\t88,\t62, 81]\n"
      ],
      "execution_count": 16,
      "outputs": [
        {
          "output_type": "display_data",
          "data": {
            "image/png": "[encoded data removed]",
            "text/plain": [
              "<Figure size 1440x720 with 1 Axes>"
            ]
          },
          "metadata": {
            "tags": [],
            "needs_background": "dark"
          }
        }
      ]
    },
    {
      "cell_type": "code",
      "metadata": {
        "id": "RODnc5RAczey",
        "colab_type": "code",
        "colab": {
          "base_uri": "https://localhost:8080/",
          "height": 80
        },
        "outputId": "ae109f16-423d-491c-dc4b-49987ff5bce4"
      },
      "source": [
        "#11-Gráfico de pontos (Para transformar em séries e vetores)\n",
        "tabela_df.T"
      ],
      "execution_count": 17,
      "outputs": [
        {
          "output_type": "execute_result",
          "data": {
            "text/html": [
              "<div>\n",
              "<style scoped>\n",
              "    .dataframe tbody tr th:only-of-type {\n",
              "        vertical-align: middle;\n",
              "    }\n",
              "\n",
              "    .dataframe tbody tr th {\n",
              "        vertical-align: top;\n",
              "    }\n",
              "\n",
              "    .dataframe thead th {\n",
              "        text-align: right;\n",
              "    }\n",
              "</style>\n",
              "<table border=\"1\" class=\"dataframe\">\n",
              "  <thead>\n",
              "    <tr style=\"text-align: right;\">\n",
              "      <th></th>\n",
              "      <th>0</th>\n",
              "      <th>1</th>\n",
              "      <th>2</th>\n",
              "      <th>3</th>\n",
              "      <th>4</th>\n",
              "      <th>5</th>\n",
              "      <th>6</th>\n",
              "      <th>7</th>\n",
              "      <th>8</th>\n",
              "      <th>9</th>\n",
              "      <th>10</th>\n",
              "      <th>11</th>\n",
              "      <th>12</th>\n",
              "      <th>13</th>\n",
              "      <th>14</th>\n",
              "      <th>15</th>\n",
              "      <th>16</th>\n",
              "      <th>17</th>\n",
              "      <th>18</th>\n",
              "      <th>19</th>\n",
              "      <th>20</th>\n",
              "      <th>21</th>\n",
              "      <th>22</th>\n",
              "      <th>23</th>\n",
              "      <th>24</th>\n",
              "      <th>25</th>\n",
              "      <th>26</th>\n",
              "      <th>27</th>\n",
              "    </tr>\n",
              "  </thead>\n",
              "  <tbody>\n",
              "    <tr>\n",
              "      <th>Notas</th>\n",
              "      <td>60</td>\n",
              "      <td>73</td>\n",
              "      <td>72</td>\n",
              "      <td>82</td>\n",
              "      <td>92</td>\n",
              "      <td>52</td>\n",
              "      <td>72</td>\n",
              "      <td>67</td>\n",
              "      <td>74</td>\n",
              "      <td>71</td>\n",
              "      <td>83</td>\n",
              "      <td>94</td>\n",
              "      <td>52</td>\n",
              "      <td>71</td>\n",
              "      <td>73</td>\n",
              "      <td>71</td>\n",
              "      <td>84</td>\n",
              "      <td>51</td>\n",
              "      <td>92</td>\n",
              "      <td>63</td>\n",
              "      <td>70</td>\n",
              "      <td>61</td>\n",
              "      <td>70</td>\n",
              "      <td>81</td>\n",
              "      <td>51</td>\n",
              "      <td>88</td>\n",
              "      <td>62</td>\n",
              "      <td>81</td>\n",
              "    </tr>\n",
              "  </tbody>\n",
              "</table>\n",
              "</div>"
            ],
            "text/plain": [
              "       0   1   2   3   4   5   6   7   8   ...  19  20  21  22  23  24  25  26  27\n",
              "Notas  60  73  72  82  92  52  72  67  74  ...  63  70  61  70  81  51  88  62  81\n",
              "\n",
              "[1 rows x 28 columns]"
            ]
          },
          "metadata": {
            "tags": []
          },
          "execution_count": 17
        }
      ]
    },
    {
      "cell_type": "code",
      "metadata": {
        "id": "Kgp-T9U9M_CL",
        "colab_type": "code",
        "colab": {
          "base_uri": "https://localhost:8080/",
          "height": 299
        },
        "outputId": "2e1200a9-dccb-4f9c-9fd5-231e8dd5d21a"
      },
      "source": [
        "#12-Histograma\n",
        "sns.distplot(tabela_df, kde= True, rug=True, hist=True, bins='auto', color='orange',vertical=False)\n",
        "plt.grid(axis='y', alpha=0.75)\n",
        "plt.title('Histograma para trabalho com o Seaborn', fontsize=18, color='white')\n",
        "plt.xticks (color='orange',)\n",
        "plt.yticks (color='orange')\n",
        "plt.xlabel('Notas',color='white')\n",
        "plt.ylabel('Frequencia',color='white')\n",
        "plt.show()"
      ],
      "execution_count": 18,
      "outputs": [
        {
          "output_type": "display_data",
          "data": {
            "image/png": "[encoded data removed]",
            "text/plain": [
              "<Figure size 432x288 with 1 Axes>"
            ]
          },
          "metadata": {
            "tags": [],
            "needs_background": "dark"
          }
        }
      ]
    },
    {
      "cell_type": "code",
      "metadata": {
        "id": "YRkDCiPESb1w",
        "colab_type": "code",
        "colab": {
          "base_uri": "https://localhost:8080/",
          "height": 283
        },
        "outputId": "5819a1ff-9180-4607-ff8c-508c8b91def3"
      },
      "source": [
        "#Montando gráfico de pontos\n",
        "x= [0, 1, 2, 3,\t4, 5,\t6,\t7,\t8,\t9,\t10,\t11,\t12,\t13,\t14,\t15,\t16,\t17,\t18,\t19,\t20,\t21,\t22,\t23,\t24,\t25,\t26,\t27]\n",
        "y = [60, 73, 72, 82, 92, 52, 72,\t67,\t74,\t71,\t83,\t94,\t52,\t71,\t73,\t71,\t84,\t51,\t92,\t63,\t70,\t61,\t70,\t81,\t51,\t88,\t62, 81]\n",
        "plt.plot(x, y, '*', color='blue')\n",
        "plt.axis([-1, 30, 50, 100])#[xmin, xmax, ymin, ymax] - limites de visualização\n",
        "plt.xticks (color='white',)\n",
        "plt.yticks (color='white')\n",
        "plt.xlabel('Dias',color='white')\n",
        "plt.ylabel('Valores',color='white')\n",
        "plt.show()"
      ],
      "execution_count": 19,
      "outputs": [
        {
          "output_type": "display_data",
          "data": {
            "image/png": "[encoded data removed]",
            "text/plain": [
              "<Figure size 432x288 with 1 Axes>"
            ]
          },
          "metadata": {
            "tags": [],
            "needs_background": "dark"
          }
        }
      ]
    },
    {
      "cell_type": "code",
      "metadata": {
        "id": "H5QS8kApzWBS",
        "colab_type": "code",
        "colab": {
          "base_uri": "https://localhost:8080/",
          "height": 283
        },
        "outputId": "dc4afc3d-dd82-44e5-be36-d2842c96de98"
      },
      "source": [
        "\n",
        "x= [0, 1, 2, 3,\t4, 5,\t6,\t7,\t8,\t9,\t10,\t11,\t12,\t13,\t14,\t15,\t16,\t17,\t18,\t19,\t20,\t21,\t22,\t23,\t24,\t25,\t26,\t27]\n",
        "y = [60, 73, 72, 82, 92, 52, 72,\t67,\t74,\t71,\t83,\t94,\t52,\t71,\t73,\t71,\t84,\t51,\t92,\t63,\t70,\t61,\t70,\t81,\t51,\t88,\t62, 81]\n",
        "\n",
        "plt.scatter(x,y)\n",
        "plt.axis([-1, 30, 50, 100])#[xmin, xmax, ymin, ymax] -  - limites de visualização\n",
        "plt.xticks (color='white',)\n",
        "plt.yticks (color='white')\n",
        "plt.xlabel('Dias',color='white')\n",
        "plt.ylabel('Valores',color='white')\n",
        "plt.show()"
      ],
      "execution_count": 20,
      "outputs": [
        {
          "output_type": "display_data",
          "data": {
            "image/png": "[encoded data removed]",
            "text/plain": [
              "<Figure size 432x288 with 1 Axes>"
            ]
          },
          "metadata": {
            "tags": [],
            "needs_background": "dark"
          }
        }
      ]
    },
    {
      "cell_type": "code",
      "metadata": {
        "id": "mJaV-BPF4d5m",
        "colab_type": "code",
        "colab": {}
      },
      "source": [
        ""
      ],
      "execution_count": 20,
      "outputs": []
    }
  ]
}