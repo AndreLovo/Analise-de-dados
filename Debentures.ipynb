{
  "nbformat": 4,
  "nbformat_minor": 0,
  "metadata": {
    "colab": {
      "name": "Debentures",
      "provenance": [],
      "collapsed_sections": [],
      "mount_file_id": "1S53sKOweDyc8qJvAHaafcAlDPIn4m5PL",
      "authorship_tag": "ABX9TyPJFxZuO2iHURLCt01/uGpb",
      "include_colab_link": true
    },
    "kernelspec": {
      "name": "python3",
      "display_name": "Python 3"
    }
  },
  "cells": [
    {
      "cell_type": "markdown",
      "metadata": {
        "id": "view-in-github",
        "colab_type": "text"
      },
      "source": [
        "<a href=\"https://colab.research.google.com/github/AndreLovo/Analise-de-dados/blob/master/Debentures.ipynb\" target=\"_parent\"><img src=\"https://colab.research.google.com/assets/colab-badge.svg\" alt=\"Open In Colab\"/></a>"
      ]
    },
    {
      "cell_type": "markdown",
      "metadata": {
        "id": "mbigdjQoFREh",
        "colab_type": "text"
      },
      "source": [
        "#**<center>DEBÊNTURES</center>**"
      ]
    },
    {
      "cell_type": "code",
      "metadata": {
        "id": "CFUhn_EJFNiw",
        "colab_type": "code",
        "colab": {}
      },
      "source": [
        "# Debentures"
      ],
      "execution_count": 1,
      "outputs": []
    },
    {
      "cell_type": "code",
      "metadata": {
        "id": "ilF_1QfCFhrp",
        "colab_type": "code",
        "colab": {
          "base_uri": "https://localhost:8080/",
          "height": 71
        },
        "outputId": "3e405333-2523-4639-a8e9-24837b40495f"
      },
      "source": [
        "# Importando as dependencias do Seaborn\n",
        "import numpy as np\n",
        "import pandas as pd\n",
        "import matplotlib.pyplot as plt\n",
        "import seaborn as sns"
      ],
      "execution_count": 2,
      "outputs": [
        {
          "output_type": "stream",
          "text": [
            "/usr/local/lib/python3.6/dist-packages/statsmodels/tools/_testing.py:19: FutureWarning: pandas.util.testing is deprecated. Use the functions in the public API at pandas.testing instead.\n",
            "  import pandas.util.testing as tm\n"
          ],
          "name": "stderr"
        }
      ]
    },
    {
      "cell_type": "code",
      "metadata": {
        "id": "-w-6eLYlFwuA",
        "colab_type": "code",
        "colab": {
          "base_uri": "https://localhost:8080/",
          "height": 473
        },
        "outputId": "8d4b064a-7ec9-4136-be38-6610d4632519"
      },
      "source": [
        "df_deb=pd.read_csv('/content/drive/My Drive/Colab Notebooks/Debenture.csv', sep=';')\n",
        "df_deb"
      ],
      "execution_count": 3,
      "outputs": [
        {
          "output_type": "execute_result",
          "data": {
            "text/html": [
              "<div>\n",
              "<style scoped>\n",
              "    .dataframe tbody tr th:only-of-type {\n",
              "        vertical-align: middle;\n",
              "    }\n",
              "\n",
              "    .dataframe tbody tr th {\n",
              "        vertical-align: top;\n",
              "    }\n",
              "\n",
              "    .dataframe thead th {\n",
              "        text-align: right;\n",
              "    }\n",
              "</style>\n",
              "<table border=\"1\" class=\"dataframe\">\n",
              "  <thead>\n",
              "    <tr style=\"text-align: right;\">\n",
              "      <th></th>\n",
              "      <th>data</th>\n",
              "      <th>emissor</th>\n",
              "      <th>ativo</th>\n",
              "      <th>isin</th>\n",
              "      <th>qtd</th>\n",
              "      <th>numero_de_ negociacoes</th>\n",
              "      <th>minimo</th>\n",
              "      <th>medio</th>\n",
              "      <th>maximo</th>\n",
              "      <th>pu_curva</th>\n",
              "      <th>setor</th>\n",
              "      <th>rentabilidade_maxima_teorica_do_titulo</th>\n",
              "      <th>rentabilidade_teorica_do_titulo</th>\n",
              "    </tr>\n",
              "  </thead>\n",
              "  <tbody>\n",
              "    <tr>\n",
              "      <th>0</th>\n",
              "      <td>01/02/1996</td>\n",
              "      <td>S/A I100,000U</td>\n",
              "      <td>CHAP11</td>\n",
              "      <td>BRCHAPDBS014</td>\n",
              "      <td>12135</td>\n",
              "      <td>1</td>\n",
              "      <td>782,92</td>\n",
              "      <td>782,92</td>\n",
              "      <td>782,92</td>\n",
              "      <td>100</td>\n",
              "      <td>alimentos_e_bebidas</td>\n",
              "      <td>0</td>\n",
              "      <td>682,92</td>\n",
              "    </tr>\n",
              "    <tr>\n",
              "      <th>1</th>\n",
              "      <td>01/07/1997</td>\n",
              "      <td>PARMALAT</td>\n",
              "      <td>LCSA12</td>\n",
              "      <td>BRLCSADBS028</td>\n",
              "      <td>255</td>\n",
              "      <td>1</td>\n",
              "      <td>1097,09</td>\n",
              "      <td>1097,09</td>\n",
              "      <td>1097,09</td>\n",
              "      <td>100</td>\n",
              "      <td>alimentos_e_bebidas</td>\n",
              "      <td>0</td>\n",
              "      <td>997,09</td>\n",
              "    </tr>\n",
              "    <tr>\n",
              "      <th>2</th>\n",
              "      <td>31/10/1997</td>\n",
              "      <td>BRASPERO</td>\n",
              "      <td>BPLA24</td>\n",
              "      <td>BRBPLADBP014</td>\n",
              "      <td>1000</td>\n",
              "      <td>1</td>\n",
              "      <td>1089,2</td>\n",
              "      <td>1089,2</td>\n",
              "      <td>1089,2</td>\n",
              "      <td>100</td>\n",
              "      <td>textil_e_calcados</td>\n",
              "      <td>0</td>\n",
              "      <td>989,2</td>\n",
              "    </tr>\n",
              "    <tr>\n",
              "      <th>3</th>\n",
              "      <td>01/03/1999</td>\n",
              "      <td>CREFISUL</td>\n",
              "      <td>UNTL12</td>\n",
              "      <td>BRUNTLDBS021</td>\n",
              "      <td>1228</td>\n",
              "      <td>2</td>\n",
              "      <td>738,34</td>\n",
              "      <td>738,34</td>\n",
              "      <td>738,34</td>\n",
              "      <td>100</td>\n",
              "      <td>financeiro</td>\n",
              "      <td>0</td>\n",
              "      <td>638,34</td>\n",
              "    </tr>\n",
              "    <tr>\n",
              "      <th>4</th>\n",
              "      <td>03/05/1999</td>\n",
              "      <td>UNIBANCO</td>\n",
              "      <td>ULAM12</td>\n",
              "      <td>BRZSWZDBS064</td>\n",
              "      <td>45874</td>\n",
              "      <td>3</td>\n",
              "      <td>100</td>\n",
              "      <td>272,646815</td>\n",
              "      <td>1000</td>\n",
              "      <td>27,26</td>\n",
              "      <td>financeiro</td>\n",
              "      <td>900</td>\n",
              "      <td>3568,378577</td>\n",
              "    </tr>\n",
              "    <tr>\n",
              "      <th>...</th>\n",
              "      <td>...</td>\n",
              "      <td>...</td>\n",
              "      <td>...</td>\n",
              "      <td>...</td>\n",
              "      <td>...</td>\n",
              "      <td>...</td>\n",
              "      <td>...</td>\n",
              "      <td>...</td>\n",
              "      <td>...</td>\n",
              "      <td>...</td>\n",
              "      <td>...</td>\n",
              "      <td>...</td>\n",
              "      <td>...</td>\n",
              "    </tr>\n",
              "    <tr>\n",
              "      <th>48318</th>\n",
              "      <td>21/12/2017</td>\n",
              "      <td>CONCESSI</td>\n",
              "      <td>RDVT11</td>\n",
              "      <td>BRRDVTDBS001</td>\n",
              "      <td>41</td>\n",
              "      <td>7</td>\n",
              "      <td>892,724472</td>\n",
              "      <td>934,791192</td>\n",
              "      <td>1099,931675</td>\n",
              "      <td>71,16</td>\n",
              "      <td>transporte_logistica</td>\n",
              "      <td>23,21065564</td>\n",
              "      <td>1445,716238</td>\n",
              "    </tr>\n",
              "    <tr>\n",
              "      <th>48319</th>\n",
              "      <td>22/12/2017</td>\n",
              "      <td>PETROLEO</td>\n",
              "      <td>PETR25</td>\n",
              "      <td>BRPETRDBS068</td>\n",
              "      <td>13355</td>\n",
              "      <td>71</td>\n",
              "      <td>1017,756895</td>\n",
              "      <td>1030,590726</td>\n",
              "      <td>1061,652368</td>\n",
              "      <td>100,33</td>\n",
              "      <td>petroleo_e_gas</td>\n",
              "      <td>4,312962478</td>\n",
              "      <td>958,1604386</td>\n",
              "    </tr>\n",
              "    <tr>\n",
              "      <th>48320</th>\n",
              "      <td>22/12/2017</td>\n",
              "      <td>ENERGISA</td>\n",
              "      <td>ENGI49</td>\n",
              "      <td>BRENGIDBS0H9</td>\n",
              "      <td>102</td>\n",
              "      <td>2</td>\n",
              "      <td>1019,244485</td>\n",
              "      <td>1019,244485</td>\n",
              "      <td>1019,244485</td>\n",
              "      <td>100,83</td>\n",
              "      <td>energia_eletrica</td>\n",
              "      <td>0</td>\n",
              "      <td>910,8543935</td>\n",
              "    </tr>\n",
              "    <tr>\n",
              "      <th>48321</th>\n",
              "      <td>22/12/2017</td>\n",
              "      <td>EDP SAO</td>\n",
              "      <td>EBEN17</td>\n",
              "      <td>BREBENDBS069</td>\n",
              "      <td>100</td>\n",
              "      <td>1</td>\n",
              "      <td>10163,40664</td>\n",
              "      <td>10163,40664</td>\n",
              "      <td>10163,40664</td>\n",
              "      <td>100,04</td>\n",
              "      <td>energia_eletrica</td>\n",
              "      <td>0</td>\n",
              "      <td>10059,34291</td>\n",
              "    </tr>\n",
              "    <tr>\n",
              "      <th>48322</th>\n",
              "      <td>22/12/2017</td>\n",
              "      <td>CONCESSI</td>\n",
              "      <td>CBAN11</td>\n",
              "      <td>BRCRBDDBS009</td>\n",
              "      <td>1</td>\n",
              "      <td>1</td>\n",
              "      <td>16124,4318</td>\n",
              "      <td>16124,4318</td>\n",
              "      <td>16124,4318</td>\n",
              "      <td>105,69</td>\n",
              "      <td>transporte_logistica</td>\n",
              "      <td>0</td>\n",
              "      <td>15156,34572</td>\n",
              "    </tr>\n",
              "  </tbody>\n",
              "</table>\n",
              "<p>48323 rows × 13 columns</p>\n",
              "</div>"
            ],
            "text/plain": [
              "             data  ... rentabilidade_teorica_do_titulo\n",
              "0      01/02/1996  ...                          682,92\n",
              "1      01/07/1997  ...                          997,09\n",
              "2      31/10/1997  ...                           989,2\n",
              "3      01/03/1999  ...                          638,34\n",
              "4      03/05/1999  ...                     3568,378577\n",
              "...           ...  ...                             ...\n",
              "48318  21/12/2017  ...                     1445,716238\n",
              "48319  22/12/2017  ...                     958,1604386\n",
              "48320  22/12/2017  ...                     910,8543935\n",
              "48321  22/12/2017  ...                     10059,34291\n",
              "48322  22/12/2017  ...                     15156,34572\n",
              "\n",
              "[48323 rows x 13 columns]"
            ]
          },
          "metadata": {
            "tags": []
          },
          "execution_count": 3
        }
      ]
    },
    {
      "cell_type": "code",
      "metadata": {
        "id": "9T_-LTc9HC7m",
        "colab_type": "code",
        "colab": {
          "base_uri": "https://localhost:8080/",
          "height": 357
        },
        "outputId": "b6b500b0-0eaf-41c9-fc67-ff9bf678a0be"
      },
      "source": [
        "df_deb.info()"
      ],
      "execution_count": 4,
      "outputs": [
        {
          "output_type": "stream",
          "text": [
            "<class 'pandas.core.frame.DataFrame'>\n",
            "RangeIndex: 48323 entries, 0 to 48322\n",
            "Data columns (total 13 columns):\n",
            " #   Column                                  Non-Null Count  Dtype \n",
            "---  ------                                  --------------  ----- \n",
            " 0   data                                    48323 non-null  object\n",
            " 1   emissor                                 48323 non-null  object\n",
            " 2   ativo                                   48323 non-null  object\n",
            " 3   isin                                    48323 non-null  object\n",
            " 4   qtd                                     48323 non-null  int64 \n",
            " 5   numero_de_ negociacoes                  48323 non-null  object\n",
            " 6   minimo                                  48323 non-null  object\n",
            " 7   medio                                   48323 non-null  object\n",
            " 8   maximo                                  48323 non-null  object\n",
            " 9   pu_curva                                48323 non-null  object\n",
            " 10  setor                                   48323 non-null  object\n",
            " 11  rentabilidade_maxima_teorica_do_titulo  48323 non-null  object\n",
            " 12  rentabilidade_teorica_do_titulo         48323 non-null  object\n",
            "dtypes: int64(1), object(12)\n",
            "memory usage: 4.8+ MB\n"
          ],
          "name": "stdout"
        }
      ]
    },
    {
      "cell_type": "code",
      "metadata": {
        "id": "zRepcDbQIoqJ",
        "colab_type": "code",
        "colab": {}
      },
      "source": [
        "# Alterar os tipos dos Dados para inteiro - int\n",
        "df_deb['qtd'] = df_deb['qtd'].astype(int)"
      ],
      "execution_count": 5,
      "outputs": []
    },
    {
      "cell_type": "code",
      "metadata": {
        "id": "BGSqTkyrEzXU",
        "colab_type": "code",
        "colab": {
          "base_uri": "https://localhost:8080/",
          "height": 737
        },
        "outputId": "1b3265fe-bd78-4cde-fe7a-7e3c586155ba"
      },
      "source": [
        "df_deb.loc[44620:44640]"
      ],
      "execution_count": 6,
      "outputs": [
        {
          "output_type": "execute_result",
          "data": {
            "text/html": [
              "<div>\n",
              "<style scoped>\n",
              "    .dataframe tbody tr th:only-of-type {\n",
              "        vertical-align: middle;\n",
              "    }\n",
              "\n",
              "    .dataframe tbody tr th {\n",
              "        vertical-align: top;\n",
              "    }\n",
              "\n",
              "    .dataframe thead th {\n",
              "        text-align: right;\n",
              "    }\n",
              "</style>\n",
              "<table border=\"1\" class=\"dataframe\">\n",
              "  <thead>\n",
              "    <tr style=\"text-align: right;\">\n",
              "      <th></th>\n",
              "      <th>data</th>\n",
              "      <th>emissor</th>\n",
              "      <th>ativo</th>\n",
              "      <th>isin</th>\n",
              "      <th>qtd</th>\n",
              "      <th>numero_de_ negociacoes</th>\n",
              "      <th>minimo</th>\n",
              "      <th>medio</th>\n",
              "      <th>maximo</th>\n",
              "      <th>pu_curva</th>\n",
              "      <th>setor</th>\n",
              "      <th>rentabilidade_maxima_teorica_do_titulo</th>\n",
              "      <th>rentabilidade_teorica_do_titulo</th>\n",
              "    </tr>\n",
              "  </thead>\n",
              "  <tbody>\n",
              "    <tr>\n",
              "      <th>44620</th>\n",
              "      <td>20/12/2016</td>\n",
              "      <td>CONCESSI</td>\n",
              "      <td>VOES25</td>\n",
              "      <td>BRVOESDBS073</td>\n",
              "      <td>4</td>\n",
              "      <td>2</td>\n",
              "      <td>11859,72378</td>\n",
              "      <td>11952,00836</td>\n",
              "      <td>12044,29294</td>\n",
              "      <td>98,89</td>\n",
              "      <td>transporte_logistica</td>\n",
              "      <td>1,556268615</td>\n",
              "      <td>12079,48523</td>\n",
              "    </tr>\n",
              "    <tr>\n",
              "      <th>44621</th>\n",
              "      <td>20/12/2016</td>\n",
              "      <td>CONCESSI</td>\n",
              "      <td>RDVT11</td>\n",
              "      <td>BRRDVTDBS001</td>\n",
              "      <td>1783</td>\n",
              "      <td>118</td>\n",
              "      <td>1123,15945</td>\n",
              "      <td>1215,516505</td>\n",
              "      <td>1241,026415</td>\n",
              "      <td>94,47</td>\n",
              "      <td>transporte_logistica</td>\n",
              "      <td>10,49423259</td>\n",
              "      <td>1213,672504</td>\n",
              "    </tr>\n",
              "    <tr>\n",
              "      <th>44622</th>\n",
              "      <td>20/12/2016</td>\n",
              "      <td>CONCESSI</td>\n",
              "      <td>ECPT41</td>\n",
              "      <td>BRASCPDBS037</td>\n",
              "      <td>8</td>\n",
              "      <td>1</td>\n",
              "      <td>1146,684945</td>\n",
              "      <td>1146,684945</td>\n",
              "      <td>1146,684945</td>\n",
              "      <td>92,48</td>\n",
              "      <td>transporte_logistica</td>\n",
              "      <td>0</td>\n",
              "      <td>1139,927492</td>\n",
              "    </tr>\n",
              "    <tr>\n",
              "      <th>44623</th>\n",
              "      <td>20/12/2016</td>\n",
              "      <td>CONCESSI</td>\n",
              "      <td>ANHB15</td>\n",
              "      <td>BRANHBDBS094</td>\n",
              "      <td>14</td>\n",
              "      <td>5</td>\n",
              "      <td>1281,53189</td>\n",
              "      <td>1281,53189</td>\n",
              "      <td>1281,53189</td>\n",
              "      <td>99,83</td>\n",
              "      <td>transporte_logistica</td>\n",
              "      <td>0</td>\n",
              "      <td>1183,714204</td>\n",
              "    </tr>\n",
              "    <tr>\n",
              "      <th>44624</th>\n",
              "      <td>20/12/2016</td>\n",
              "      <td>CONCESSI</td>\n",
              "      <td>ECOV22</td>\n",
              "      <td>BRECOVDBS044</td>\n",
              "      <td>60</td>\n",
              "      <td>3</td>\n",
              "      <td>1204,166164</td>\n",
              "      <td>1214,908511</td>\n",
              "      <td>1215,278937</td>\n",
              "      <td>91,05</td>\n",
              "      <td>transporte_logistica</td>\n",
              "      <td>0,922860427</td>\n",
              "      <td>1234,737987</td>\n",
              "    </tr>\n",
              "    <tr>\n",
              "      <th>44625</th>\n",
              "      <td>20/12/2016</td>\n",
              "      <td>COMPANHI</td>\n",
              "      <td>CEMA27</td>\n",
              "      <td>BRENMADBS072</td>\n",
              "      <td>291</td>\n",
              "      <td>3</td>\n",
              "      <td>980,355102</td>\n",
              "      <td>997,074579</td>\n",
              "      <td>1029,979095</td>\n",
              "      <td>98,69</td>\n",
              "      <td>papel_celulose</td>\n",
              "      <td>5,061838603</td>\n",
              "      <td>943,6509221</td>\n",
              "    </tr>\n",
              "    <tr>\n",
              "      <th>44626</th>\n",
              "      <td>20/12/2016</td>\n",
              "      <td>CIA SANE</td>\n",
              "      <td>SBESC7</td>\n",
              "      <td>BRSBSPDBS130</td>\n",
              "      <td>76</td>\n",
              "      <td>2</td>\n",
              "      <td>12074,35693</td>\n",
              "      <td>12079,20298</td>\n",
              "      <td>12084,04903</td>\n",
              "      <td>87,53</td>\n",
              "      <td>saneamento</td>\n",
              "      <td>0,080270089</td>\n",
              "      <td>13705,6084</td>\n",
              "    </tr>\n",
              "    <tr>\n",
              "      <th>44627</th>\n",
              "      <td>20/12/2016</td>\n",
              "      <td>A BODYTE</td>\n",
              "      <td>BODY13</td>\n",
              "      <td>BRBODYDBS018</td>\n",
              "      <td>108</td>\n",
              "      <td>es</td>\n",
              "      <td>96339,03867</td>\n",
              "      <td>96339,03867</td>\n",
              "      <td>96339,03867</td>\n",
              "      <td>94,74</td>\n",
              "      <td>servicos</td>\n",
              "      <td>0</td>\n",
              "      <td>101587,8179</td>\n",
              "    </tr>\n",
              "    <tr>\n",
              "      <th>44628</th>\n",
              "      <td>21/12/2016</td>\n",
              "      <td>VALE S/A</td>\n",
              "      <td>VALE48</td>\n",
              "      <td>BRVALEDBS085</td>\n",
              "      <td>234</td>\n",
              "      <td>7</td>\n",
              "      <td>1398,052288</td>\n",
              "      <td>1404,115525</td>\n",
              "      <td>1481,113686</td>\n",
              "      <td>106,39</td>\n",
              "      <td>mineracao</td>\n",
              "      <td>5,941222565</td>\n",
              "      <td>1292,154983</td>\n",
              "    </tr>\n",
              "    <tr>\n",
              "      <th>44629</th>\n",
              "      <td>21/12/2016</td>\n",
              "      <td>VALE S/A</td>\n",
              "      <td>VALE29</td>\n",
              "      <td>BRVALEDBS0A5</td>\n",
              "      <td>1114</td>\n",
              "      <td>15</td>\n",
              "      <td>1158,001391</td>\n",
              "      <td>1175,281698</td>\n",
              "      <td>1200,353347</td>\n",
              "      <td>104,87</td>\n",
              "      <td>mineracao</td>\n",
              "      <td>3,657332049</td>\n",
              "      <td>1044,610801</td>\n",
              "    </tr>\n",
              "    <tr>\n",
              "      <th>44630</th>\n",
              "      <td>21/12/2016</td>\n",
              "      <td>TRANSMIS</td>\n",
              "      <td>TAEE33</td>\n",
              "      <td>BRTAEEDBS076</td>\n",
              "      <td>10</td>\n",
              "      <td>2</td>\n",
              "      <td>1186,34724</td>\n",
              "      <td>1186,34724</td>\n",
              "      <td>1186,34724</td>\n",
              "      <td>87,15</td>\n",
              "      <td>energia_eletrica</td>\n",
              "      <td>0</td>\n",
              "      <td>1261,270499</td>\n",
              "    </tr>\n",
              "    <tr>\n",
              "      <th>44631</th>\n",
              "      <td>21/12/2016</td>\n",
              "      <td>TRANSMIS</td>\n",
              "      <td>TAEE23</td>\n",
              "      <td>BRTAEEDBS068</td>\n",
              "      <td>322</td>\n",
              "      <td>2</td>\n",
              "      <td>1268,521874</td>\n",
              "      <td>1268,705371</td>\n",
              "      <td>1268,888867</td>\n",
              "      <td>93,24</td>\n",
              "      <td>energia_eletrica</td>\n",
              "      <td>0,028930759</td>\n",
              "      <td>1260,884671</td>\n",
              "    </tr>\n",
              "    <tr>\n",
              "      <th>44632</th>\n",
              "      <td>21/12/2016</td>\n",
              "      <td>MATRINCH</td>\n",
              "      <td>TPNO12</td>\n",
              "      <td>BRTPNODBS017</td>\n",
              "      <td>5733</td>\n",
              "      <td>16</td>\n",
              "      <td>1033,070503</td>\n",
              "      <td>1036,005369</td>\n",
              "      <td>1078,666491</td>\n",
              "      <td>100,82</td>\n",
              "      <td>energia_eletrica</td>\n",
              "      <td>4,413637585</td>\n",
              "      <td>969,8933654</td>\n",
              "    </tr>\n",
              "    <tr>\n",
              "      <th>44633</th>\n",
              "      <td>21/12/2016</td>\n",
              "      <td>ENGIE BR</td>\n",
              "      <td>TBLE26</td>\n",
              "      <td>BREGIEDBS027</td>\n",
              "      <td>1010</td>\n",
              "      <td>3</td>\n",
              "      <td>1048,672387</td>\n",
              "      <td>1093,947646</td>\n",
              "      <td>1097,817579</td>\n",
              "      <td>105,38</td>\n",
              "      <td>energia_eletrica</td>\n",
              "      <td>4,686419954</td>\n",
              "      <td>941,770335</td>\n",
              "    </tr>\n",
              "    <tr>\n",
              "      <th>44634</th>\n",
              "      <td>21/12/2016</td>\n",
              "      <td>CONCESSI</td>\n",
              "      <td>ANHB16</td>\n",
              "      <td>BRANHBDBS0A4</td>\n",
              "      <td>160</td>\n",
              "      <td>2</td>\n",
              "      <td>1185,792361</td>\n",
              "      <td>1190,199511</td>\n",
              "      <td>1194,60666</td>\n",
              "      <td>98,94</td>\n",
              "      <td>transporte_logistica</td>\n",
              "      <td>0,743325669</td>\n",
              "      <td>1107,405155</td>\n",
              "    </tr>\n",
              "    <tr>\n",
              "      <th>44635</th>\n",
              "      <td>21/12/2016</td>\n",
              "      <td>CONCESSI</td>\n",
              "      <td>RDLA12</td>\n",
              "      <td>BRRDLADBS010</td>\n",
              "      <td>82</td>\n",
              "      <td>2</td>\n",
              "      <td>1203,958932</td>\n",
              "      <td>1207,52722</td>\n",
              "      <td>1211,095507</td>\n",
              "      <td>106,55</td>\n",
              "      <td>transporte_logistica</td>\n",
              "      <td>0,592759006</td>\n",
              "      <td>1036,645244</td>\n",
              "    </tr>\n",
              "    <tr>\n",
              "      <th>44636</th>\n",
              "      <td>21/12/2016</td>\n",
              "      <td>COMPANHI</td>\n",
              "      <td>GASP23</td>\n",
              "      <td>BRCGASDBS028</td>\n",
              "      <td>400</td>\n",
              "      <td>1</td>\n",
              "      <td>1270,355733</td>\n",
              "      <td>1270,355733</td>\n",
              "      <td>1270,355733</td>\n",
              "      <td>98,31</td>\n",
              "      <td>papel_celulose</td>\n",
              "      <td>0</td>\n",
              "      <td>1192,193808</td>\n",
              "    </tr>\n",
              "    <tr>\n",
              "      <th>44637</th>\n",
              "      <td>21/12/2016</td>\n",
              "      <td>COMPANHI</td>\n",
              "      <td>CSMG19</td>\n",
              "      <td>BRCSMGDBS072</td>\n",
              "      <td>2634</td>\n",
              "      <td>12</td>\n",
              "      <td>10189,71858</td>\n",
              "      <td>10189,71858</td>\n",
              "      <td>10189,71858</td>\n",
              "      <td>100,36</td>\n",
              "      <td>papel_celulose</td>\n",
              "      <td>0</td>\n",
              "      <td>10053,16717</td>\n",
              "    </tr>\n",
              "    <tr>\n",
              "      <th>44638</th>\n",
              "      <td>21/12/2016</td>\n",
              "      <td>COMPANHI</td>\n",
              "      <td>GASP14</td>\n",
              "      <td>BRCGASDBS044</td>\n",
              "      <td>315</td>\n",
              "      <td>3</td>\n",
              "      <td>1123,927406</td>\n",
              "      <td>1126,229861</td>\n",
              "      <td>1130,069453</td>\n",
              "      <td>105,35</td>\n",
              "      <td>papel_celulose</td>\n",
              "      <td>0,546480757</td>\n",
              "      <td>972,6810185</td>\n",
              "    </tr>\n",
              "    <tr>\n",
              "      <th>44639</th>\n",
              "      <td>21/12/2016</td>\n",
              "      <td>COMPANHI</td>\n",
              "      <td>CEMA17</td>\n",
              "      <td>BRENMADBS064</td>\n",
              "      <td>14</td>\n",
              "      <td>4</td>\n",
              "      <td>1010,250358</td>\n",
              "      <td>1010,250358</td>\n",
              "      <td>1010,250358</td>\n",
              "      <td>99,97</td>\n",
              "      <td>papel_celulose</td>\n",
              "      <td>0</td>\n",
              "      <td>910,5535241</td>\n",
              "    </tr>\n",
              "    <tr>\n",
              "      <th>44640</th>\n",
              "      <td>21/12/2016</td>\n",
              "      <td>CEMIG GE</td>\n",
              "      <td>CMTR23</td>\n",
              "      <td>BRCMGTDBS054</td>\n",
              "      <td>750</td>\n",
              "      <td>39</td>\n",
              "      <td>1367,809035</td>\n",
              "      <td>1373,025177</td>\n",
              "      <td>1383,08399</td>\n",
              "      <td>93,88</td>\n",
              "      <td>energia_eletrica</td>\n",
              "      <td>1,116746169</td>\n",
              "      <td>1373,246687</td>\n",
              "    </tr>\n",
              "  </tbody>\n",
              "</table>\n",
              "</div>"
            ],
            "text/plain": [
              "             data  ... rentabilidade_teorica_do_titulo\n",
              "44620  20/12/2016  ...                     12079,48523\n",
              "44621  20/12/2016  ...                     1213,672504\n",
              "44622  20/12/2016  ...                     1139,927492\n",
              "44623  20/12/2016  ...                     1183,714204\n",
              "44624  20/12/2016  ...                     1234,737987\n",
              "44625  20/12/2016  ...                     943,6509221\n",
              "44626  20/12/2016  ...                      13705,6084\n",
              "44627  20/12/2016  ...                     101587,8179\n",
              "44628  21/12/2016  ...                     1292,154983\n",
              "44629  21/12/2016  ...                     1044,610801\n",
              "44630  21/12/2016  ...                     1261,270499\n",
              "44631  21/12/2016  ...                     1260,884671\n",
              "44632  21/12/2016  ...                     969,8933654\n",
              "44633  21/12/2016  ...                      941,770335\n",
              "44634  21/12/2016  ...                     1107,405155\n",
              "44635  21/12/2016  ...                     1036,645244\n",
              "44636  21/12/2016  ...                     1192,193808\n",
              "44637  21/12/2016  ...                     10053,16717\n",
              "44638  21/12/2016  ...                     972,6810185\n",
              "44639  21/12/2016  ...                     910,5535241\n",
              "44640  21/12/2016  ...                     1373,246687\n",
              "\n",
              "[21 rows x 13 columns]"
            ]
          },
          "metadata": {
            "tags": []
          },
          "execution_count": 6
        }
      ]
    },
    {
      "cell_type": "code",
      "metadata": {
        "id": "8UGdpPE_IwJz",
        "colab_type": "code",
        "colab": {}
      },
      "source": [
        "#Retirando a linha: 44627\t20/12/2016\tA BODYTE\tBODY13\tBRBODYDBS018\t108\tes\t96339,03867\t96339,03867\t96339,03867\t94,74\tservicos\t0\t101587,8179"
      ],
      "execution_count": 7,
      "outputs": []
    },
    {
      "cell_type": "code",
      "metadata": {
        "id": "KFQ_uvV0JBVa",
        "colab_type": "code",
        "colab": {}
      },
      "source": [
        "# Excluindo a linha que apresentou o número 'es' na coluna 'numero de negociações '\n",
        "df_deb.drop(44627, axis=0, inplace=True) # inplace = a mudança é realizada - axis=0 retiro a linha***** - acertar depois quando for rodar "
      ],
      "execution_count": 8,
      "outputs": []
    },
    {
      "cell_type": "code",
      "metadata": {
        "id": "q-rKHif1KQS7",
        "colab_type": "code",
        "colab": {
          "base_uri": "https://localhost:8080/",
          "height": 706
        },
        "outputId": "44a22741-b299-4b04-e8b7-b5f597fba7c0"
      },
      "source": [
        "# Verificando a linha que eu retirei\n",
        "# ValueError: could not convert string to float: 'es'\n",
        "df_deb.loc[44620:44640]\n",
        "# A linha com indice 44627 foi retirada"
      ],
      "execution_count": 9,
      "outputs": [
        {
          "output_type": "execute_result",
          "data": {
            "text/html": [
              "<div>\n",
              "<style scoped>\n",
              "    .dataframe tbody tr th:only-of-type {\n",
              "        vertical-align: middle;\n",
              "    }\n",
              "\n",
              "    .dataframe tbody tr th {\n",
              "        vertical-align: top;\n",
              "    }\n",
              "\n",
              "    .dataframe thead th {\n",
              "        text-align: right;\n",
              "    }\n",
              "</style>\n",
              "<table border=\"1\" class=\"dataframe\">\n",
              "  <thead>\n",
              "    <tr style=\"text-align: right;\">\n",
              "      <th></th>\n",
              "      <th>data</th>\n",
              "      <th>emissor</th>\n",
              "      <th>ativo</th>\n",
              "      <th>isin</th>\n",
              "      <th>qtd</th>\n",
              "      <th>numero_de_ negociacoes</th>\n",
              "      <th>minimo</th>\n",
              "      <th>medio</th>\n",
              "      <th>maximo</th>\n",
              "      <th>pu_curva</th>\n",
              "      <th>setor</th>\n",
              "      <th>rentabilidade_maxima_teorica_do_titulo</th>\n",
              "      <th>rentabilidade_teorica_do_titulo</th>\n",
              "    </tr>\n",
              "  </thead>\n",
              "  <tbody>\n",
              "    <tr>\n",
              "      <th>44620</th>\n",
              "      <td>20/12/2016</td>\n",
              "      <td>CONCESSI</td>\n",
              "      <td>VOES25</td>\n",
              "      <td>BRVOESDBS073</td>\n",
              "      <td>4</td>\n",
              "      <td>2</td>\n",
              "      <td>11859,72378</td>\n",
              "      <td>11952,00836</td>\n",
              "      <td>12044,29294</td>\n",
              "      <td>98,89</td>\n",
              "      <td>transporte_logistica</td>\n",
              "      <td>1,556268615</td>\n",
              "      <td>12079,48523</td>\n",
              "    </tr>\n",
              "    <tr>\n",
              "      <th>44621</th>\n",
              "      <td>20/12/2016</td>\n",
              "      <td>CONCESSI</td>\n",
              "      <td>RDVT11</td>\n",
              "      <td>BRRDVTDBS001</td>\n",
              "      <td>1783</td>\n",
              "      <td>118</td>\n",
              "      <td>1123,15945</td>\n",
              "      <td>1215,516505</td>\n",
              "      <td>1241,026415</td>\n",
              "      <td>94,47</td>\n",
              "      <td>transporte_logistica</td>\n",
              "      <td>10,49423259</td>\n",
              "      <td>1213,672504</td>\n",
              "    </tr>\n",
              "    <tr>\n",
              "      <th>44622</th>\n",
              "      <td>20/12/2016</td>\n",
              "      <td>CONCESSI</td>\n",
              "      <td>ECPT41</td>\n",
              "      <td>BRASCPDBS037</td>\n",
              "      <td>8</td>\n",
              "      <td>1</td>\n",
              "      <td>1146,684945</td>\n",
              "      <td>1146,684945</td>\n",
              "      <td>1146,684945</td>\n",
              "      <td>92,48</td>\n",
              "      <td>transporte_logistica</td>\n",
              "      <td>0</td>\n",
              "      <td>1139,927492</td>\n",
              "    </tr>\n",
              "    <tr>\n",
              "      <th>44623</th>\n",
              "      <td>20/12/2016</td>\n",
              "      <td>CONCESSI</td>\n",
              "      <td>ANHB15</td>\n",
              "      <td>BRANHBDBS094</td>\n",
              "      <td>14</td>\n",
              "      <td>5</td>\n",
              "      <td>1281,53189</td>\n",
              "      <td>1281,53189</td>\n",
              "      <td>1281,53189</td>\n",
              "      <td>99,83</td>\n",
              "      <td>transporte_logistica</td>\n",
              "      <td>0</td>\n",
              "      <td>1183,714204</td>\n",
              "    </tr>\n",
              "    <tr>\n",
              "      <th>44624</th>\n",
              "      <td>20/12/2016</td>\n",
              "      <td>CONCESSI</td>\n",
              "      <td>ECOV22</td>\n",
              "      <td>BRECOVDBS044</td>\n",
              "      <td>60</td>\n",
              "      <td>3</td>\n",
              "      <td>1204,166164</td>\n",
              "      <td>1214,908511</td>\n",
              "      <td>1215,278937</td>\n",
              "      <td>91,05</td>\n",
              "      <td>transporte_logistica</td>\n",
              "      <td>0,922860427</td>\n",
              "      <td>1234,737987</td>\n",
              "    </tr>\n",
              "    <tr>\n",
              "      <th>44625</th>\n",
              "      <td>20/12/2016</td>\n",
              "      <td>COMPANHI</td>\n",
              "      <td>CEMA27</td>\n",
              "      <td>BRENMADBS072</td>\n",
              "      <td>291</td>\n",
              "      <td>3</td>\n",
              "      <td>980,355102</td>\n",
              "      <td>997,074579</td>\n",
              "      <td>1029,979095</td>\n",
              "      <td>98,69</td>\n",
              "      <td>papel_celulose</td>\n",
              "      <td>5,061838603</td>\n",
              "      <td>943,6509221</td>\n",
              "    </tr>\n",
              "    <tr>\n",
              "      <th>44626</th>\n",
              "      <td>20/12/2016</td>\n",
              "      <td>CIA SANE</td>\n",
              "      <td>SBESC7</td>\n",
              "      <td>BRSBSPDBS130</td>\n",
              "      <td>76</td>\n",
              "      <td>2</td>\n",
              "      <td>12074,35693</td>\n",
              "      <td>12079,20298</td>\n",
              "      <td>12084,04903</td>\n",
              "      <td>87,53</td>\n",
              "      <td>saneamento</td>\n",
              "      <td>0,080270089</td>\n",
              "      <td>13705,6084</td>\n",
              "    </tr>\n",
              "    <tr>\n",
              "      <th>44628</th>\n",
              "      <td>21/12/2016</td>\n",
              "      <td>VALE S/A</td>\n",
              "      <td>VALE48</td>\n",
              "      <td>BRVALEDBS085</td>\n",
              "      <td>234</td>\n",
              "      <td>7</td>\n",
              "      <td>1398,052288</td>\n",
              "      <td>1404,115525</td>\n",
              "      <td>1481,113686</td>\n",
              "      <td>106,39</td>\n",
              "      <td>mineracao</td>\n",
              "      <td>5,941222565</td>\n",
              "      <td>1292,154983</td>\n",
              "    </tr>\n",
              "    <tr>\n",
              "      <th>44629</th>\n",
              "      <td>21/12/2016</td>\n",
              "      <td>VALE S/A</td>\n",
              "      <td>VALE29</td>\n",
              "      <td>BRVALEDBS0A5</td>\n",
              "      <td>1114</td>\n",
              "      <td>15</td>\n",
              "      <td>1158,001391</td>\n",
              "      <td>1175,281698</td>\n",
              "      <td>1200,353347</td>\n",
              "      <td>104,87</td>\n",
              "      <td>mineracao</td>\n",
              "      <td>3,657332049</td>\n",
              "      <td>1044,610801</td>\n",
              "    </tr>\n",
              "    <tr>\n",
              "      <th>44630</th>\n",
              "      <td>21/12/2016</td>\n",
              "      <td>TRANSMIS</td>\n",
              "      <td>TAEE33</td>\n",
              "      <td>BRTAEEDBS076</td>\n",
              "      <td>10</td>\n",
              "      <td>2</td>\n",
              "      <td>1186,34724</td>\n",
              "      <td>1186,34724</td>\n",
              "      <td>1186,34724</td>\n",
              "      <td>87,15</td>\n",
              "      <td>energia_eletrica</td>\n",
              "      <td>0</td>\n",
              "      <td>1261,270499</td>\n",
              "    </tr>\n",
              "    <tr>\n",
              "      <th>44631</th>\n",
              "      <td>21/12/2016</td>\n",
              "      <td>TRANSMIS</td>\n",
              "      <td>TAEE23</td>\n",
              "      <td>BRTAEEDBS068</td>\n",
              "      <td>322</td>\n",
              "      <td>2</td>\n",
              "      <td>1268,521874</td>\n",
              "      <td>1268,705371</td>\n",
              "      <td>1268,888867</td>\n",
              "      <td>93,24</td>\n",
              "      <td>energia_eletrica</td>\n",
              "      <td>0,028930759</td>\n",
              "      <td>1260,884671</td>\n",
              "    </tr>\n",
              "    <tr>\n",
              "      <th>44632</th>\n",
              "      <td>21/12/2016</td>\n",
              "      <td>MATRINCH</td>\n",
              "      <td>TPNO12</td>\n",
              "      <td>BRTPNODBS017</td>\n",
              "      <td>5733</td>\n",
              "      <td>16</td>\n",
              "      <td>1033,070503</td>\n",
              "      <td>1036,005369</td>\n",
              "      <td>1078,666491</td>\n",
              "      <td>100,82</td>\n",
              "      <td>energia_eletrica</td>\n",
              "      <td>4,413637585</td>\n",
              "      <td>969,8933654</td>\n",
              "    </tr>\n",
              "    <tr>\n",
              "      <th>44633</th>\n",
              "      <td>21/12/2016</td>\n",
              "      <td>ENGIE BR</td>\n",
              "      <td>TBLE26</td>\n",
              "      <td>BREGIEDBS027</td>\n",
              "      <td>1010</td>\n",
              "      <td>3</td>\n",
              "      <td>1048,672387</td>\n",
              "      <td>1093,947646</td>\n",
              "      <td>1097,817579</td>\n",
              "      <td>105,38</td>\n",
              "      <td>energia_eletrica</td>\n",
              "      <td>4,686419954</td>\n",
              "      <td>941,770335</td>\n",
              "    </tr>\n",
              "    <tr>\n",
              "      <th>44634</th>\n",
              "      <td>21/12/2016</td>\n",
              "      <td>CONCESSI</td>\n",
              "      <td>ANHB16</td>\n",
              "      <td>BRANHBDBS0A4</td>\n",
              "      <td>160</td>\n",
              "      <td>2</td>\n",
              "      <td>1185,792361</td>\n",
              "      <td>1190,199511</td>\n",
              "      <td>1194,60666</td>\n",
              "      <td>98,94</td>\n",
              "      <td>transporte_logistica</td>\n",
              "      <td>0,743325669</td>\n",
              "      <td>1107,405155</td>\n",
              "    </tr>\n",
              "    <tr>\n",
              "      <th>44635</th>\n",
              "      <td>21/12/2016</td>\n",
              "      <td>CONCESSI</td>\n",
              "      <td>RDLA12</td>\n",
              "      <td>BRRDLADBS010</td>\n",
              "      <td>82</td>\n",
              "      <td>2</td>\n",
              "      <td>1203,958932</td>\n",
              "      <td>1207,52722</td>\n",
              "      <td>1211,095507</td>\n",
              "      <td>106,55</td>\n",
              "      <td>transporte_logistica</td>\n",
              "      <td>0,592759006</td>\n",
              "      <td>1036,645244</td>\n",
              "    </tr>\n",
              "    <tr>\n",
              "      <th>44636</th>\n",
              "      <td>21/12/2016</td>\n",
              "      <td>COMPANHI</td>\n",
              "      <td>GASP23</td>\n",
              "      <td>BRCGASDBS028</td>\n",
              "      <td>400</td>\n",
              "      <td>1</td>\n",
              "      <td>1270,355733</td>\n",
              "      <td>1270,355733</td>\n",
              "      <td>1270,355733</td>\n",
              "      <td>98,31</td>\n",
              "      <td>papel_celulose</td>\n",
              "      <td>0</td>\n",
              "      <td>1192,193808</td>\n",
              "    </tr>\n",
              "    <tr>\n",
              "      <th>44637</th>\n",
              "      <td>21/12/2016</td>\n",
              "      <td>COMPANHI</td>\n",
              "      <td>CSMG19</td>\n",
              "      <td>BRCSMGDBS072</td>\n",
              "      <td>2634</td>\n",
              "      <td>12</td>\n",
              "      <td>10189,71858</td>\n",
              "      <td>10189,71858</td>\n",
              "      <td>10189,71858</td>\n",
              "      <td>100,36</td>\n",
              "      <td>papel_celulose</td>\n",
              "      <td>0</td>\n",
              "      <td>10053,16717</td>\n",
              "    </tr>\n",
              "    <tr>\n",
              "      <th>44638</th>\n",
              "      <td>21/12/2016</td>\n",
              "      <td>COMPANHI</td>\n",
              "      <td>GASP14</td>\n",
              "      <td>BRCGASDBS044</td>\n",
              "      <td>315</td>\n",
              "      <td>3</td>\n",
              "      <td>1123,927406</td>\n",
              "      <td>1126,229861</td>\n",
              "      <td>1130,069453</td>\n",
              "      <td>105,35</td>\n",
              "      <td>papel_celulose</td>\n",
              "      <td>0,546480757</td>\n",
              "      <td>972,6810185</td>\n",
              "    </tr>\n",
              "    <tr>\n",
              "      <th>44639</th>\n",
              "      <td>21/12/2016</td>\n",
              "      <td>COMPANHI</td>\n",
              "      <td>CEMA17</td>\n",
              "      <td>BRENMADBS064</td>\n",
              "      <td>14</td>\n",
              "      <td>4</td>\n",
              "      <td>1010,250358</td>\n",
              "      <td>1010,250358</td>\n",
              "      <td>1010,250358</td>\n",
              "      <td>99,97</td>\n",
              "      <td>papel_celulose</td>\n",
              "      <td>0</td>\n",
              "      <td>910,5535241</td>\n",
              "    </tr>\n",
              "    <tr>\n",
              "      <th>44640</th>\n",
              "      <td>21/12/2016</td>\n",
              "      <td>CEMIG GE</td>\n",
              "      <td>CMTR23</td>\n",
              "      <td>BRCMGTDBS054</td>\n",
              "      <td>750</td>\n",
              "      <td>39</td>\n",
              "      <td>1367,809035</td>\n",
              "      <td>1373,025177</td>\n",
              "      <td>1383,08399</td>\n",
              "      <td>93,88</td>\n",
              "      <td>energia_eletrica</td>\n",
              "      <td>1,116746169</td>\n",
              "      <td>1373,246687</td>\n",
              "    </tr>\n",
              "  </tbody>\n",
              "</table>\n",
              "</div>"
            ],
            "text/plain": [
              "             data  ... rentabilidade_teorica_do_titulo\n",
              "44620  20/12/2016  ...                     12079,48523\n",
              "44621  20/12/2016  ...                     1213,672504\n",
              "44622  20/12/2016  ...                     1139,927492\n",
              "44623  20/12/2016  ...                     1183,714204\n",
              "44624  20/12/2016  ...                     1234,737987\n",
              "44625  20/12/2016  ...                     943,6509221\n",
              "44626  20/12/2016  ...                      13705,6084\n",
              "44628  21/12/2016  ...                     1292,154983\n",
              "44629  21/12/2016  ...                     1044,610801\n",
              "44630  21/12/2016  ...                     1261,270499\n",
              "44631  21/12/2016  ...                     1260,884671\n",
              "44632  21/12/2016  ...                     969,8933654\n",
              "44633  21/12/2016  ...                      941,770335\n",
              "44634  21/12/2016  ...                     1107,405155\n",
              "44635  21/12/2016  ...                     1036,645244\n",
              "44636  21/12/2016  ...                     1192,193808\n",
              "44637  21/12/2016  ...                     10053,16717\n",
              "44638  21/12/2016  ...                     972,6810185\n",
              "44639  21/12/2016  ...                     910,5535241\n",
              "44640  21/12/2016  ...                     1373,246687\n",
              "\n",
              "[20 rows x 13 columns]"
            ]
          },
          "metadata": {
            "tags": []
          },
          "execution_count": 9
        }
      ]
    },
    {
      "cell_type": "code",
      "metadata": {
        "id": "fq28v7KpCpcD",
        "colab_type": "code",
        "colab": {}
      },
      "source": [
        "# Alterar os tipos dos Dados para inteiro - int\n",
        "df_deb['numero_de_ negociacoes'] = df_deb['numero_de_ negociacoes'].astype(int)"
      ],
      "execution_count": 10,
      "outputs": []
    },
    {
      "cell_type": "code",
      "metadata": {
        "id": "a93A-bmZKwat",
        "colab_type": "code",
        "colab": {
          "base_uri": "https://localhost:8080/",
          "height": 357
        },
        "outputId": "6681d45a-9a64-426a-b140-e72074e702c7"
      },
      "source": [
        "df_deb.info()"
      ],
      "execution_count": 11,
      "outputs": [
        {
          "output_type": "stream",
          "text": [
            "<class 'pandas.core.frame.DataFrame'>\n",
            "Int64Index: 48322 entries, 0 to 48322\n",
            "Data columns (total 13 columns):\n",
            " #   Column                                  Non-Null Count  Dtype \n",
            "---  ------                                  --------------  ----- \n",
            " 0   data                                    48322 non-null  object\n",
            " 1   emissor                                 48322 non-null  object\n",
            " 2   ativo                                   48322 non-null  object\n",
            " 3   isin                                    48322 non-null  object\n",
            " 4   qtd                                     48322 non-null  int64 \n",
            " 5   numero_de_ negociacoes                  48322 non-null  int64 \n",
            " 6   minimo                                  48322 non-null  object\n",
            " 7   medio                                   48322 non-null  object\n",
            " 8   maximo                                  48322 non-null  object\n",
            " 9   pu_curva                                48322 non-null  object\n",
            " 10  setor                                   48322 non-null  object\n",
            " 11  rentabilidade_maxima_teorica_do_titulo  48322 non-null  object\n",
            " 12  rentabilidade_teorica_do_titulo         48322 non-null  object\n",
            "dtypes: int64(2), object(11)\n",
            "memory usage: 6.4+ MB\n"
          ],
          "name": "stdout"
        }
      ]
    },
    {
      "cell_type": "code",
      "metadata": {
        "id": "NVlAI0IlB4vH",
        "colab_type": "code",
        "colab": {}
      },
      "source": [
        "# Alterando a pontuação de virgula para ponto no DataFrame de uma coluna\n",
        "df_deb['pu_curva'] = df_deb['pu_curva'].str.replace(',','.')\n"
      ],
      "execution_count": 12,
      "outputs": []
    },
    {
      "cell_type": "code",
      "metadata": {
        "id": "c4Tj_y3ULmBZ",
        "colab_type": "code",
        "colab": {
          "base_uri": "https://localhost:8080/",
          "height": 221
        },
        "outputId": "920ec4aa-acf9-4e74-8333-bde79b8b12ba"
      },
      "source": [
        "df_deb['pu_curva']"
      ],
      "execution_count": 13,
      "outputs": [
        {
          "output_type": "execute_result",
          "data": {
            "text/plain": [
              "0           100\n",
              "1           100\n",
              "2           100\n",
              "3           100\n",
              "4         27.26\n",
              "          ...  \n",
              "48318     71.16\n",
              "48319    100.33\n",
              "48320    100.83\n",
              "48321    100.04\n",
              "48322    105.69\n",
              "Name: pu_curva, Length: 48322, dtype: object"
            ]
          },
          "metadata": {
            "tags": []
          },
          "execution_count": 13
        }
      ]
    },
    {
      "cell_type": "code",
      "metadata": {
        "id": "PoT_dOi5UJkb",
        "colab_type": "code",
        "colab": {}
      },
      "source": [
        "# Alterando a pontuação de virgula para ponto no DataFrame da coluna\n",
        "df_deb['minimo'] = df_deb['minimo'].str.replace(',','.')"
      ],
      "execution_count": 14,
      "outputs": []
    },
    {
      "cell_type": "code",
      "metadata": {
        "id": "GgrlmOcVUypd",
        "colab_type": "code",
        "colab": {
          "base_uri": "https://localhost:8080/",
          "height": 221
        },
        "outputId": "2d9dbbc2-c034-41a6-d14a-ed4ed9a83d4b"
      },
      "source": [
        "df_deb['minimo']"
      ],
      "execution_count": 15,
      "outputs": [
        {
          "output_type": "execute_result",
          "data": {
            "text/plain": [
              "0             782.92\n",
              "1            1097.09\n",
              "2             1089.2\n",
              "3             738.34\n",
              "4                100\n",
              "            ...     \n",
              "48318     892.724472\n",
              "48319    1017.756895\n",
              "48320    1019.244485\n",
              "48321    10163.40664\n",
              "48322     16124.4318\n",
              "Name: minimo, Length: 48322, dtype: object"
            ]
          },
          "metadata": {
            "tags": []
          },
          "execution_count": 15
        }
      ]
    },
    {
      "cell_type": "code",
      "metadata": {
        "id": "u_UAq8x0WzGL",
        "colab_type": "code",
        "colab": {}
      },
      "source": [
        "# Alterar os tipos dos Dados para float\n",
        "df_deb['minimo'] = df_deb['minimo'].astype(float)"
      ],
      "execution_count": 16,
      "outputs": []
    },
    {
      "cell_type": "code",
      "metadata": {
        "id": "byqPVEMsWnH-",
        "colab_type": "code",
        "colab": {
          "base_uri": "https://localhost:8080/",
          "height": 357
        },
        "outputId": "3a832837-ad2b-4568-b712-b0a57d8dd6a1"
      },
      "source": [
        "df_deb.info()"
      ],
      "execution_count": 17,
      "outputs": [
        {
          "output_type": "stream",
          "text": [
            "<class 'pandas.core.frame.DataFrame'>\n",
            "Int64Index: 48322 entries, 0 to 48322\n",
            "Data columns (total 13 columns):\n",
            " #   Column                                  Non-Null Count  Dtype  \n",
            "---  ------                                  --------------  -----  \n",
            " 0   data                                    48322 non-null  object \n",
            " 1   emissor                                 48322 non-null  object \n",
            " 2   ativo                                   48322 non-null  object \n",
            " 3   isin                                    48322 non-null  object \n",
            " 4   qtd                                     48322 non-null  int64  \n",
            " 5   numero_de_ negociacoes                  48322 non-null  int64  \n",
            " 6   minimo                                  48322 non-null  float64\n",
            " 7   medio                                   48322 non-null  object \n",
            " 8   maximo                                  48322 non-null  object \n",
            " 9   pu_curva                                48322 non-null  object \n",
            " 10  setor                                   48322 non-null  object \n",
            " 11  rentabilidade_maxima_teorica_do_titulo  48322 non-null  object \n",
            " 12  rentabilidade_teorica_do_titulo         48322 non-null  object \n",
            "dtypes: float64(1), int64(2), object(10)\n",
            "memory usage: 6.4+ MB\n"
          ],
          "name": "stdout"
        }
      ]
    },
    {
      "cell_type": "code",
      "metadata": {
        "id": "DRAKzxZGXbc-",
        "colab_type": "code",
        "colab": {}
      },
      "source": [
        "# Alterando a pontuação de virgula para ponto no DataFrame de uma coluna\n",
        "df_deb['pu_curva'] = df_deb['pu_curva'].str.replace(',','.')"
      ],
      "execution_count": 18,
      "outputs": []
    },
    {
      "cell_type": "code",
      "metadata": {
        "id": "RfKdsC9leNyE",
        "colab_type": "code",
        "colab": {
          "base_uri": "https://localhost:8080/",
          "height": 221
        },
        "outputId": "e1fd63ce-322d-472d-aa91-52735fc40926"
      },
      "source": [
        "df_deb['pu_curva']"
      ],
      "execution_count": 19,
      "outputs": [
        {
          "output_type": "execute_result",
          "data": {
            "text/plain": [
              "0           100\n",
              "1           100\n",
              "2           100\n",
              "3           100\n",
              "4         27.26\n",
              "          ...  \n",
              "48318     71.16\n",
              "48319    100.33\n",
              "48320    100.83\n",
              "48321    100.04\n",
              "48322    105.69\n",
              "Name: pu_curva, Length: 48322, dtype: object"
            ]
          },
          "metadata": {
            "tags": []
          },
          "execution_count": 19
        }
      ]
    },
    {
      "cell_type": "code",
      "metadata": {
        "id": "LOprElq0ecqe",
        "colab_type": "code",
        "colab": {
          "base_uri": "https://localhost:8080/",
          "height": 258
        },
        "outputId": "360d0730-a238-40dc-c8d9-8a5bd530fcb7"
      },
      "source": [
        "df_deb.head()"
      ],
      "execution_count": 20,
      "outputs": [
        {
          "output_type": "execute_result",
          "data": {
            "text/html": [
              "<div>\n",
              "<style scoped>\n",
              "    .dataframe tbody tr th:only-of-type {\n",
              "        vertical-align: middle;\n",
              "    }\n",
              "\n",
              "    .dataframe tbody tr th {\n",
              "        vertical-align: top;\n",
              "    }\n",
              "\n",
              "    .dataframe thead th {\n",
              "        text-align: right;\n",
              "    }\n",
              "</style>\n",
              "<table border=\"1\" class=\"dataframe\">\n",
              "  <thead>\n",
              "    <tr style=\"text-align: right;\">\n",
              "      <th></th>\n",
              "      <th>data</th>\n",
              "      <th>emissor</th>\n",
              "      <th>ativo</th>\n",
              "      <th>isin</th>\n",
              "      <th>qtd</th>\n",
              "      <th>numero_de_ negociacoes</th>\n",
              "      <th>minimo</th>\n",
              "      <th>medio</th>\n",
              "      <th>maximo</th>\n",
              "      <th>pu_curva</th>\n",
              "      <th>setor</th>\n",
              "      <th>rentabilidade_maxima_teorica_do_titulo</th>\n",
              "      <th>rentabilidade_teorica_do_titulo</th>\n",
              "    </tr>\n",
              "  </thead>\n",
              "  <tbody>\n",
              "    <tr>\n",
              "      <th>0</th>\n",
              "      <td>01/02/1996</td>\n",
              "      <td>S/A I100,000U</td>\n",
              "      <td>CHAP11</td>\n",
              "      <td>BRCHAPDBS014</td>\n",
              "      <td>12135</td>\n",
              "      <td>1</td>\n",
              "      <td>782.92</td>\n",
              "      <td>782,92</td>\n",
              "      <td>782,92</td>\n",
              "      <td>100</td>\n",
              "      <td>alimentos_e_bebidas</td>\n",
              "      <td>0</td>\n",
              "      <td>682,92</td>\n",
              "    </tr>\n",
              "    <tr>\n",
              "      <th>1</th>\n",
              "      <td>01/07/1997</td>\n",
              "      <td>PARMALAT</td>\n",
              "      <td>LCSA12</td>\n",
              "      <td>BRLCSADBS028</td>\n",
              "      <td>255</td>\n",
              "      <td>1</td>\n",
              "      <td>1097.09</td>\n",
              "      <td>1097,09</td>\n",
              "      <td>1097,09</td>\n",
              "      <td>100</td>\n",
              "      <td>alimentos_e_bebidas</td>\n",
              "      <td>0</td>\n",
              "      <td>997,09</td>\n",
              "    </tr>\n",
              "    <tr>\n",
              "      <th>2</th>\n",
              "      <td>31/10/1997</td>\n",
              "      <td>BRASPERO</td>\n",
              "      <td>BPLA24</td>\n",
              "      <td>BRBPLADBP014</td>\n",
              "      <td>1000</td>\n",
              "      <td>1</td>\n",
              "      <td>1089.20</td>\n",
              "      <td>1089,2</td>\n",
              "      <td>1089,2</td>\n",
              "      <td>100</td>\n",
              "      <td>textil_e_calcados</td>\n",
              "      <td>0</td>\n",
              "      <td>989,2</td>\n",
              "    </tr>\n",
              "    <tr>\n",
              "      <th>3</th>\n",
              "      <td>01/03/1999</td>\n",
              "      <td>CREFISUL</td>\n",
              "      <td>UNTL12</td>\n",
              "      <td>BRUNTLDBS021</td>\n",
              "      <td>1228</td>\n",
              "      <td>2</td>\n",
              "      <td>738.34</td>\n",
              "      <td>738,34</td>\n",
              "      <td>738,34</td>\n",
              "      <td>100</td>\n",
              "      <td>financeiro</td>\n",
              "      <td>0</td>\n",
              "      <td>638,34</td>\n",
              "    </tr>\n",
              "    <tr>\n",
              "      <th>4</th>\n",
              "      <td>03/05/1999</td>\n",
              "      <td>UNIBANCO</td>\n",
              "      <td>ULAM12</td>\n",
              "      <td>BRZSWZDBS064</td>\n",
              "      <td>45874</td>\n",
              "      <td>3</td>\n",
              "      <td>100.00</td>\n",
              "      <td>272,646815</td>\n",
              "      <td>1000</td>\n",
              "      <td>27.26</td>\n",
              "      <td>financeiro</td>\n",
              "      <td>900</td>\n",
              "      <td>3568,378577</td>\n",
              "    </tr>\n",
              "  </tbody>\n",
              "</table>\n",
              "</div>"
            ],
            "text/plain": [
              "         data  ... rentabilidade_teorica_do_titulo\n",
              "0  01/02/1996  ...                          682,92\n",
              "1  01/07/1997  ...                          997,09\n",
              "2  31/10/1997  ...                           989,2\n",
              "3  01/03/1999  ...                          638,34\n",
              "4  03/05/1999  ...                     3568,378577\n",
              "\n",
              "[5 rows x 13 columns]"
            ]
          },
          "metadata": {
            "tags": []
          },
          "execution_count": 20
        }
      ]
    },
    {
      "cell_type": "code",
      "metadata": {
        "id": "whq2YX3TfNi8",
        "colab_type": "code",
        "colab": {}
      },
      "source": [
        "# Alterando a pontuação de virgula para ponto no DataFrame de uma coluna\n",
        "df_deb['medio'] = df_deb['medio'].str.replace(',','.')"
      ],
      "execution_count": 21,
      "outputs": []
    },
    {
      "cell_type": "code",
      "metadata": {
        "id": "EQkJ026wfbcA",
        "colab_type": "code",
        "colab": {
          "base_uri": "https://localhost:8080/",
          "height": 221
        },
        "outputId": "e8e02689-aff0-4740-9ac8-fe8fbc3036d9"
      },
      "source": [
        "df_deb['medio']"
      ],
      "execution_count": 22,
      "outputs": [
        {
          "output_type": "execute_result",
          "data": {
            "text/plain": [
              "0             782.92\n",
              "1            1097.09\n",
              "2             1089.2\n",
              "3             738.34\n",
              "4         272.646815\n",
              "            ...     \n",
              "48318     934.791192\n",
              "48319    1030.590726\n",
              "48320    1019.244485\n",
              "48321    10163.40664\n",
              "48322     16124.4318\n",
              "Name: medio, Length: 48322, dtype: object"
            ]
          },
          "metadata": {
            "tags": []
          },
          "execution_count": 22
        }
      ]
    },
    {
      "cell_type": "code",
      "metadata": {
        "id": "aLrFxR_ve7l2",
        "colab_type": "code",
        "colab": {}
      },
      "source": [
        "# Alterar os tipos dos Dados para float\n",
        "df_deb['medio'] = df_deb['medio'].astype(float)"
      ],
      "execution_count": 23,
      "outputs": []
    },
    {
      "cell_type": "code",
      "metadata": {
        "id": "Y8M2BwGZfmje",
        "colab_type": "code",
        "colab": {
          "base_uri": "https://localhost:8080/",
          "height": 357
        },
        "outputId": "d75b9021-86b4-4f7d-c309-1c7c80b6dac6"
      },
      "source": [
        "df_deb.info()"
      ],
      "execution_count": 24,
      "outputs": [
        {
          "output_type": "stream",
          "text": [
            "<class 'pandas.core.frame.DataFrame'>\n",
            "Int64Index: 48322 entries, 0 to 48322\n",
            "Data columns (total 13 columns):\n",
            " #   Column                                  Non-Null Count  Dtype  \n",
            "---  ------                                  --------------  -----  \n",
            " 0   data                                    48322 non-null  object \n",
            " 1   emissor                                 48322 non-null  object \n",
            " 2   ativo                                   48322 non-null  object \n",
            " 3   isin                                    48322 non-null  object \n",
            " 4   qtd                                     48322 non-null  int64  \n",
            " 5   numero_de_ negociacoes                  48322 non-null  int64  \n",
            " 6   minimo                                  48322 non-null  float64\n",
            " 7   medio                                   48322 non-null  float64\n",
            " 8   maximo                                  48322 non-null  object \n",
            " 9   pu_curva                                48322 non-null  object \n",
            " 10  setor                                   48322 non-null  object \n",
            " 11  rentabilidade_maxima_teorica_do_titulo  48322 non-null  object \n",
            " 12  rentabilidade_teorica_do_titulo         48322 non-null  object \n",
            "dtypes: float64(2), int64(2), object(9)\n",
            "memory usage: 6.4+ MB\n"
          ],
          "name": "stdout"
        }
      ]
    },
    {
      "cell_type": "code",
      "metadata": {
        "id": "iTyqTF8Vf4yx",
        "colab_type": "code",
        "colab": {
          "base_uri": "https://localhost:8080/",
          "height": 221
        },
        "outputId": "6f56d6ac-a490-49b2-9829-54a9a897e4e5"
      },
      "source": [
        "# Alterando a pontuação de virgula para ponto no DataFrame de uma coluna\n",
        "df_deb['maximo'] = df_deb['maximo'].str.replace(',','.')\n",
        "df_deb['maximo']"
      ],
      "execution_count": 25,
      "outputs": [
        {
          "output_type": "execute_result",
          "data": {
            "text/plain": [
              "0             782.92\n",
              "1            1097.09\n",
              "2             1089.2\n",
              "3             738.34\n",
              "4               1000\n",
              "            ...     \n",
              "48318    1099.931675\n",
              "48319    1061.652368\n",
              "48320    1019.244485\n",
              "48321    10163.40664\n",
              "48322     16124.4318\n",
              "Name: maximo, Length: 48322, dtype: object"
            ]
          },
          "metadata": {
            "tags": []
          },
          "execution_count": 25
        }
      ]
    },
    {
      "cell_type": "code",
      "metadata": {
        "id": "ioBNgyVWgNFo",
        "colab_type": "code",
        "colab": {
          "base_uri": "https://localhost:8080/",
          "height": 357
        },
        "outputId": "8f88de03-85c1-4038-ff2a-65b73c5459de"
      },
      "source": [
        "#Alterar os tipos dos Dados para float\n",
        "df_deb['maximo'] = df_deb['maximo'].astype(float)\n",
        "df_deb.info()"
      ],
      "execution_count": 26,
      "outputs": [
        {
          "output_type": "stream",
          "text": [
            "<class 'pandas.core.frame.DataFrame'>\n",
            "Int64Index: 48322 entries, 0 to 48322\n",
            "Data columns (total 13 columns):\n",
            " #   Column                                  Non-Null Count  Dtype  \n",
            "---  ------                                  --------------  -----  \n",
            " 0   data                                    48322 non-null  object \n",
            " 1   emissor                                 48322 non-null  object \n",
            " 2   ativo                                   48322 non-null  object \n",
            " 3   isin                                    48322 non-null  object \n",
            " 4   qtd                                     48322 non-null  int64  \n",
            " 5   numero_de_ negociacoes                  48322 non-null  int64  \n",
            " 6   minimo                                  48322 non-null  float64\n",
            " 7   medio                                   48322 non-null  float64\n",
            " 8   maximo                                  48322 non-null  float64\n",
            " 9   pu_curva                                48322 non-null  object \n",
            " 10  setor                                   48322 non-null  object \n",
            " 11  rentabilidade_maxima_teorica_do_titulo  48322 non-null  object \n",
            " 12  rentabilidade_teorica_do_titulo         48322 non-null  object \n",
            "dtypes: float64(3), int64(2), object(8)\n",
            "memory usage: 6.4+ MB\n"
          ],
          "name": "stdout"
        }
      ]
    },
    {
      "cell_type": "code",
      "metadata": {
        "id": "LOVnNIj6gi-A",
        "colab_type": "code",
        "colab": {
          "base_uri": "https://localhost:8080/",
          "height": 340
        },
        "outputId": "e4f6595a-baf8-4287-d299-691b278fd6f5"
      },
      "source": [
        "# Alterando a pontuação de virgula para ponto no DataFrame de uma coluna\n",
        "df_deb['rentabilidade_maxima_teorica_do_titulo'] = df_deb['rentabilidade_maxima_teorica_do_titulo'].str.replace(',','.')\n",
        "df_deb['rentabilidade_maxima_teorica_do_titulo']"
      ],
      "execution_count": 29,
      "outputs": [
        {
          "output_type": "error",
          "ename": "AttributeError",
          "evalue": "ignored",
          "traceback": [
            "\u001b[0;31m---------------------------------------------------------------------------\u001b[0m",
            "\u001b[0;31mAttributeError\u001b[0m                            Traceback (most recent call last)",
            "\u001b[0;32m<ipython-input-29-926f3eb9b203>\u001b[0m in \u001b[0;36m<module>\u001b[0;34m()\u001b[0m\n\u001b[1;32m      1\u001b[0m \u001b[0;31m# Alterando a pontuação de virgula para ponto no DataFrame de uma coluna\u001b[0m\u001b[0;34m\u001b[0m\u001b[0;34m\u001b[0m\u001b[0;34m\u001b[0m\u001b[0m\n\u001b[0;32m----> 2\u001b[0;31m \u001b[0mdf_deb\u001b[0m\u001b[0;34m[\u001b[0m\u001b[0;34m'rentabilidade_maxima_teorica_do_titulo'\u001b[0m\u001b[0;34m]\u001b[0m \u001b[0;34m=\u001b[0m \u001b[0mdf_deb\u001b[0m\u001b[0;34m[\u001b[0m\u001b[0;34m'rentabilidade_maxima_teorica_do_titulo'\u001b[0m\u001b[0;34m]\u001b[0m\u001b[0;34m.\u001b[0m\u001b[0mstr\u001b[0m\u001b[0;34m.\u001b[0m\u001b[0mreplace\u001b[0m\u001b[0;34m(\u001b[0m\u001b[0;34m','\u001b[0m\u001b[0;34m,\u001b[0m\u001b[0;34m'.'\u001b[0m\u001b[0;34m)\u001b[0m\u001b[0;34m\u001b[0m\u001b[0;34m\u001b[0m\u001b[0m\n\u001b[0m\u001b[1;32m      3\u001b[0m \u001b[0mdf_deb\u001b[0m\u001b[0;34m[\u001b[0m\u001b[0;34m'rentabilidade_maxima_teorica_do_titulo'\u001b[0m\u001b[0;34m]\u001b[0m\u001b[0;34m\u001b[0m\u001b[0;34m\u001b[0m\u001b[0m\n",
            "\u001b[0;32m/usr/local/lib/python3.6/dist-packages/pandas/core/generic.py\u001b[0m in \u001b[0;36m__getattr__\u001b[0;34m(self, name)\u001b[0m\n\u001b[1;32m   5268\u001b[0m             \u001b[0;32mor\u001b[0m \u001b[0mname\u001b[0m \u001b[0;32min\u001b[0m \u001b[0mself\u001b[0m\u001b[0;34m.\u001b[0m\u001b[0m_accessors\u001b[0m\u001b[0;34m\u001b[0m\u001b[0;34m\u001b[0m\u001b[0m\n\u001b[1;32m   5269\u001b[0m         ):\n\u001b[0;32m-> 5270\u001b[0;31m             \u001b[0;32mreturn\u001b[0m \u001b[0mobject\u001b[0m\u001b[0;34m.\u001b[0m\u001b[0m__getattribute__\u001b[0m\u001b[0;34m(\u001b[0m\u001b[0mself\u001b[0m\u001b[0;34m,\u001b[0m \u001b[0mname\u001b[0m\u001b[0;34m)\u001b[0m\u001b[0;34m\u001b[0m\u001b[0;34m\u001b[0m\u001b[0m\n\u001b[0m\u001b[1;32m   5271\u001b[0m         \u001b[0;32melse\u001b[0m\u001b[0;34m:\u001b[0m\u001b[0;34m\u001b[0m\u001b[0;34m\u001b[0m\u001b[0m\n\u001b[1;32m   5272\u001b[0m             \u001b[0;32mif\u001b[0m \u001b[0mself\u001b[0m\u001b[0;34m.\u001b[0m\u001b[0m_info_axis\u001b[0m\u001b[0;34m.\u001b[0m\u001b[0m_can_hold_identifiers_and_holds_name\u001b[0m\u001b[0;34m(\u001b[0m\u001b[0mname\u001b[0m\u001b[0;34m)\u001b[0m\u001b[0;34m:\u001b[0m\u001b[0;34m\u001b[0m\u001b[0;34m\u001b[0m\u001b[0m\n",
            "\u001b[0;32m/usr/local/lib/python3.6/dist-packages/pandas/core/accessor.py\u001b[0m in \u001b[0;36m__get__\u001b[0;34m(self, obj, cls)\u001b[0m\n\u001b[1;32m    185\u001b[0m             \u001b[0;31m# we're accessing the attribute of the class, i.e., Dataset.geo\u001b[0m\u001b[0;34m\u001b[0m\u001b[0;34m\u001b[0m\u001b[0;34m\u001b[0m\u001b[0m\n\u001b[1;32m    186\u001b[0m             \u001b[0;32mreturn\u001b[0m \u001b[0mself\u001b[0m\u001b[0;34m.\u001b[0m\u001b[0m_accessor\u001b[0m\u001b[0;34m\u001b[0m\u001b[0;34m\u001b[0m\u001b[0m\n\u001b[0;32m--> 187\u001b[0;31m         \u001b[0maccessor_obj\u001b[0m \u001b[0;34m=\u001b[0m \u001b[0mself\u001b[0m\u001b[0;34m.\u001b[0m\u001b[0m_accessor\u001b[0m\u001b[0;34m(\u001b[0m\u001b[0mobj\u001b[0m\u001b[0;34m)\u001b[0m\u001b[0;34m\u001b[0m\u001b[0;34m\u001b[0m\u001b[0m\n\u001b[0m\u001b[1;32m    188\u001b[0m         \u001b[0;31m# Replace the property with the accessor object. Inspired by:\u001b[0m\u001b[0;34m\u001b[0m\u001b[0;34m\u001b[0m\u001b[0;34m\u001b[0m\u001b[0m\n\u001b[1;32m    189\u001b[0m         \u001b[0;31m# http://www.pydanny.com/cached-property.html\u001b[0m\u001b[0;34m\u001b[0m\u001b[0;34m\u001b[0m\u001b[0;34m\u001b[0m\u001b[0m\n",
            "\u001b[0;32m/usr/local/lib/python3.6/dist-packages/pandas/core/strings.py\u001b[0m in \u001b[0;36m__init__\u001b[0;34m(self, data)\u001b[0m\n\u001b[1;32m   2039\u001b[0m \u001b[0;34m\u001b[0m\u001b[0m\n\u001b[1;32m   2040\u001b[0m     \u001b[0;32mdef\u001b[0m \u001b[0m__init__\u001b[0m\u001b[0;34m(\u001b[0m\u001b[0mself\u001b[0m\u001b[0;34m,\u001b[0m \u001b[0mdata\u001b[0m\u001b[0;34m)\u001b[0m\u001b[0;34m:\u001b[0m\u001b[0;34m\u001b[0m\u001b[0;34m\u001b[0m\u001b[0m\n\u001b[0;32m-> 2041\u001b[0;31m         \u001b[0mself\u001b[0m\u001b[0;34m.\u001b[0m\u001b[0m_inferred_dtype\u001b[0m \u001b[0;34m=\u001b[0m \u001b[0mself\u001b[0m\u001b[0;34m.\u001b[0m\u001b[0m_validate\u001b[0m\u001b[0;34m(\u001b[0m\u001b[0mdata\u001b[0m\u001b[0;34m)\u001b[0m\u001b[0;34m\u001b[0m\u001b[0;34m\u001b[0m\u001b[0m\n\u001b[0m\u001b[1;32m   2042\u001b[0m         \u001b[0mself\u001b[0m\u001b[0;34m.\u001b[0m\u001b[0m_is_categorical\u001b[0m \u001b[0;34m=\u001b[0m \u001b[0mis_categorical_dtype\u001b[0m\u001b[0;34m(\u001b[0m\u001b[0mdata\u001b[0m\u001b[0;34m)\u001b[0m\u001b[0;34m\u001b[0m\u001b[0;34m\u001b[0m\u001b[0m\n\u001b[1;32m   2043\u001b[0m         \u001b[0mself\u001b[0m\u001b[0;34m.\u001b[0m\u001b[0m_is_string\u001b[0m \u001b[0;34m=\u001b[0m \u001b[0mdata\u001b[0m\u001b[0;34m.\u001b[0m\u001b[0mdtype\u001b[0m\u001b[0;34m.\u001b[0m\u001b[0mname\u001b[0m \u001b[0;34m==\u001b[0m \u001b[0;34m\"string\"\u001b[0m\u001b[0;34m\u001b[0m\u001b[0;34m\u001b[0m\u001b[0m\n",
            "\u001b[0;32m/usr/local/lib/python3.6/dist-packages/pandas/core/strings.py\u001b[0m in \u001b[0;36m_validate\u001b[0;34m(data)\u001b[0m\n\u001b[1;32m   2096\u001b[0m \u001b[0;34m\u001b[0m\u001b[0m\n\u001b[1;32m   2097\u001b[0m         \u001b[0;32mif\u001b[0m \u001b[0minferred_dtype\u001b[0m \u001b[0;32mnot\u001b[0m \u001b[0;32min\u001b[0m \u001b[0mallowed_types\u001b[0m\u001b[0;34m:\u001b[0m\u001b[0;34m\u001b[0m\u001b[0;34m\u001b[0m\u001b[0m\n\u001b[0;32m-> 2098\u001b[0;31m             \u001b[0;32mraise\u001b[0m \u001b[0mAttributeError\u001b[0m\u001b[0;34m(\u001b[0m\u001b[0;34m\"Can only use .str accessor with string values!\"\u001b[0m\u001b[0;34m)\u001b[0m\u001b[0;34m\u001b[0m\u001b[0;34m\u001b[0m\u001b[0m\n\u001b[0m\u001b[1;32m   2099\u001b[0m         \u001b[0;32mreturn\u001b[0m \u001b[0minferred_dtype\u001b[0m\u001b[0;34m\u001b[0m\u001b[0;34m\u001b[0m\u001b[0m\n\u001b[1;32m   2100\u001b[0m \u001b[0;34m\u001b[0m\u001b[0m\n",
            "\u001b[0;31mAttributeError\u001b[0m: Can only use .str accessor with string values!"
          ]
        }
      ]
    },
    {
      "cell_type": "code",
      "metadata": {
        "id": "nFZNtI0kgj0A",
        "colab_type": "code",
        "colab": {
          "base_uri": "https://localhost:8080/",
          "height": 357
        },
        "outputId": "724f819a-54db-4bcd-fcf2-b3897772e57f"
      },
      "source": [
        "#Alterar os tipos dos Dados para float\n",
        "df_deb['rentabilidade_maxima_teorica_do_titulo'] = df_deb['rentabilidade_maxima_teorica_do_titulo'].astype(float)\n",
        "df_deb.info()"
      ],
      "execution_count": 30,
      "outputs": [
        {
          "output_type": "stream",
          "text": [
            "<class 'pandas.core.frame.DataFrame'>\n",
            "Int64Index: 48322 entries, 0 to 48322\n",
            "Data columns (total 13 columns):\n",
            " #   Column                                  Non-Null Count  Dtype  \n",
            "---  ------                                  --------------  -----  \n",
            " 0   data                                    48322 non-null  object \n",
            " 1   emissor                                 48322 non-null  object \n",
            " 2   ativo                                   48322 non-null  object \n",
            " 3   isin                                    48322 non-null  object \n",
            " 4   qtd                                     48322 non-null  int64  \n",
            " 5   numero_de_ negociacoes                  48322 non-null  int64  \n",
            " 6   minimo                                  48322 non-null  float64\n",
            " 7   medio                                   48322 non-null  float64\n",
            " 8   maximo                                  48322 non-null  float64\n",
            " 9   pu_curva                                48322 non-null  object \n",
            " 10  setor                                   48322 non-null  object \n",
            " 11  rentabilidade_maxima_teorica_do_titulo  48322 non-null  float64\n",
            " 12  rentabilidade_teorica_do_titulo         48322 non-null  object \n",
            "dtypes: float64(4), int64(2), object(7)\n",
            "memory usage: 6.4+ MB\n"
          ],
          "name": "stdout"
        }
      ]
    },
    {
      "cell_type": "code",
      "metadata": {
        "id": "bMimBwVggjQk",
        "colab_type": "code",
        "colab": {
          "base_uri": "https://localhost:8080/",
          "height": 221
        },
        "outputId": "3fa13299-2b46-4c4c-b79c-feeb581ab6d3"
      },
      "source": [
        "# Alterando a pontuação de virgula para ponto no DataFrame de uma coluna\n",
        "df_deb['rentabilidade_teorica_do_titulo'] = df_deb['rentabilidade_teorica_do_titulo'].str.replace(',','.')\n",
        "df_deb['rentabilidade_teorica_do_titulo']"
      ],
      "execution_count": 31,
      "outputs": [
        {
          "output_type": "execute_result",
          "data": {
            "text/plain": [
              "0             682.92\n",
              "1             997.09\n",
              "2              989.2\n",
              "3             638.34\n",
              "4        3568.378577\n",
              "            ...     \n",
              "48318    1445.716238\n",
              "48319    958.1604386\n",
              "48320    910.8543935\n",
              "48321    10059.34291\n",
              "48322    15156.34572\n",
              "Name: rentabilidade_teorica_do_titulo, Length: 48322, dtype: object"
            ]
          },
          "metadata": {
            "tags": []
          },
          "execution_count": 31
        }
      ]
    },
    {
      "cell_type": "code",
      "metadata": {
        "id": "cxY5kE9ogggt",
        "colab_type": "code",
        "colab": {
          "base_uri": "https://localhost:8080/",
          "height": 357
        },
        "outputId": "974ee83a-12c0-4dec-d542-4ffbd3753594"
      },
      "source": [
        "#Alterar os tipos dos Dados para float\n",
        "df_deb['rentabilidade_teorica_do_titulo'] = df_deb['rentabilidade_teorica_do_titulo'].astype(float)\n",
        "df_deb.info()"
      ],
      "execution_count": 32,
      "outputs": [
        {
          "output_type": "stream",
          "text": [
            "<class 'pandas.core.frame.DataFrame'>\n",
            "Int64Index: 48322 entries, 0 to 48322\n",
            "Data columns (total 13 columns):\n",
            " #   Column                                  Non-Null Count  Dtype  \n",
            "---  ------                                  --------------  -----  \n",
            " 0   data                                    48322 non-null  object \n",
            " 1   emissor                                 48322 non-null  object \n",
            " 2   ativo                                   48322 non-null  object \n",
            " 3   isin                                    48322 non-null  object \n",
            " 4   qtd                                     48322 non-null  int64  \n",
            " 5   numero_de_ negociacoes                  48322 non-null  int64  \n",
            " 6   minimo                                  48322 non-null  float64\n",
            " 7   medio                                   48322 non-null  float64\n",
            " 8   maximo                                  48322 non-null  float64\n",
            " 9   pu_curva                                48322 non-null  object \n",
            " 10  setor                                   48322 non-null  object \n",
            " 11  rentabilidade_maxima_teorica_do_titulo  48322 non-null  float64\n",
            " 12  rentabilidade_teorica_do_titulo         48322 non-null  float64\n",
            "dtypes: float64(5), int64(2), object(6)\n",
            "memory usage: 6.4+ MB\n"
          ],
          "name": "stdout"
        }
      ]
    },
    {
      "cell_type": "code",
      "metadata": {
        "id": "lZF2DDXcgf-A",
        "colab_type": "code",
        "colab": {
          "base_uri": "https://localhost:8080/",
          "height": 258
        },
        "outputId": "2d4186e6-37e5-4b9d-c6ac-bd22e580ae15"
      },
      "source": [
        "df_deb.head()"
      ],
      "execution_count": 33,
      "outputs": [
        {
          "output_type": "execute_result",
          "data": {
            "text/html": [
              "<div>\n",
              "<style scoped>\n",
              "    .dataframe tbody tr th:only-of-type {\n",
              "        vertical-align: middle;\n",
              "    }\n",
              "\n",
              "    .dataframe tbody tr th {\n",
              "        vertical-align: top;\n",
              "    }\n",
              "\n",
              "    .dataframe thead th {\n",
              "        text-align: right;\n",
              "    }\n",
              "</style>\n",
              "<table border=\"1\" class=\"dataframe\">\n",
              "  <thead>\n",
              "    <tr style=\"text-align: right;\">\n",
              "      <th></th>\n",
              "      <th>data</th>\n",
              "      <th>emissor</th>\n",
              "      <th>ativo</th>\n",
              "      <th>isin</th>\n",
              "      <th>qtd</th>\n",
              "      <th>numero_de_ negociacoes</th>\n",
              "      <th>minimo</th>\n",
              "      <th>medio</th>\n",
              "      <th>maximo</th>\n",
              "      <th>pu_curva</th>\n",
              "      <th>setor</th>\n",
              "      <th>rentabilidade_maxima_teorica_do_titulo</th>\n",
              "      <th>rentabilidade_teorica_do_titulo</th>\n",
              "    </tr>\n",
              "  </thead>\n",
              "  <tbody>\n",
              "    <tr>\n",
              "      <th>0</th>\n",
              "      <td>01/02/1996</td>\n",
              "      <td>S/A I100,000U</td>\n",
              "      <td>CHAP11</td>\n",
              "      <td>BRCHAPDBS014</td>\n",
              "      <td>12135</td>\n",
              "      <td>1</td>\n",
              "      <td>782.92</td>\n",
              "      <td>782.920000</td>\n",
              "      <td>782.92</td>\n",
              "      <td>100</td>\n",
              "      <td>alimentos_e_bebidas</td>\n",
              "      <td>0.0</td>\n",
              "      <td>682.920000</td>\n",
              "    </tr>\n",
              "    <tr>\n",
              "      <th>1</th>\n",
              "      <td>01/07/1997</td>\n",
              "      <td>PARMALAT</td>\n",
              "      <td>LCSA12</td>\n",
              "      <td>BRLCSADBS028</td>\n",
              "      <td>255</td>\n",
              "      <td>1</td>\n",
              "      <td>1097.09</td>\n",
              "      <td>1097.090000</td>\n",
              "      <td>1097.09</td>\n",
              "      <td>100</td>\n",
              "      <td>alimentos_e_bebidas</td>\n",
              "      <td>0.0</td>\n",
              "      <td>997.090000</td>\n",
              "    </tr>\n",
              "    <tr>\n",
              "      <th>2</th>\n",
              "      <td>31/10/1997</td>\n",
              "      <td>BRASPERO</td>\n",
              "      <td>BPLA24</td>\n",
              "      <td>BRBPLADBP014</td>\n",
              "      <td>1000</td>\n",
              "      <td>1</td>\n",
              "      <td>1089.20</td>\n",
              "      <td>1089.200000</td>\n",
              "      <td>1089.20</td>\n",
              "      <td>100</td>\n",
              "      <td>textil_e_calcados</td>\n",
              "      <td>0.0</td>\n",
              "      <td>989.200000</td>\n",
              "    </tr>\n",
              "    <tr>\n",
              "      <th>3</th>\n",
              "      <td>01/03/1999</td>\n",
              "      <td>CREFISUL</td>\n",
              "      <td>UNTL12</td>\n",
              "      <td>BRUNTLDBS021</td>\n",
              "      <td>1228</td>\n",
              "      <td>2</td>\n",
              "      <td>738.34</td>\n",
              "      <td>738.340000</td>\n",
              "      <td>738.34</td>\n",
              "      <td>100</td>\n",
              "      <td>financeiro</td>\n",
              "      <td>0.0</td>\n",
              "      <td>638.340000</td>\n",
              "    </tr>\n",
              "    <tr>\n",
              "      <th>4</th>\n",
              "      <td>03/05/1999</td>\n",
              "      <td>UNIBANCO</td>\n",
              "      <td>ULAM12</td>\n",
              "      <td>BRZSWZDBS064</td>\n",
              "      <td>45874</td>\n",
              "      <td>3</td>\n",
              "      <td>100.00</td>\n",
              "      <td>272.646815</td>\n",
              "      <td>1000.00</td>\n",
              "      <td>27.26</td>\n",
              "      <td>financeiro</td>\n",
              "      <td>900.0</td>\n",
              "      <td>3568.378577</td>\n",
              "    </tr>\n",
              "  </tbody>\n",
              "</table>\n",
              "</div>"
            ],
            "text/plain": [
              "         data  ... rentabilidade_teorica_do_titulo\n",
              "0  01/02/1996  ...                      682.920000\n",
              "1  01/07/1997  ...                      997.090000\n",
              "2  31/10/1997  ...                      989.200000\n",
              "3  01/03/1999  ...                      638.340000\n",
              "4  03/05/1999  ...                     3568.378577\n",
              "\n",
              "[5 rows x 13 columns]"
            ]
          },
          "metadata": {
            "tags": []
          },
          "execution_count": 33
        }
      ]
    },
    {
      "cell_type": "code",
      "metadata": {
        "id": "0yYBSV4amEdz",
        "colab_type": "code",
        "colab": {
          "base_uri": "https://localhost:8080/",
          "height": 34
        },
        "outputId": "3f47bfa5-e06b-404e-8eac-7a451cfa6fe6"
      },
      "source": [
        "#Confirmando a transformação dos dados - consigo calcular a média\n",
        "df_deb['maximo'].mean()"
      ],
      "execution_count": 34,
      "outputs": [
        {
          "output_type": "execute_result",
          "data": {
            "text/plain": [
              "37350.042269536214"
            ]
          },
          "metadata": {
            "tags": []
          },
          "execution_count": 34
        }
      ]
    },
    {
      "cell_type": "code",
      "metadata": {
        "id": "Z_u6xVqWmTDO",
        "colab_type": "code",
        "colab": {
          "base_uri": "https://localhost:8080/",
          "height": 293
        },
        "outputId": "b155b825-206f-42dd-ab74-5e63c6f969a4"
      },
      "source": [
        "#Confirmando a transformação dos dados - consigo plotar\n",
        "df_deb['maximo'].plot()"
      ],
      "execution_count": 35,
      "outputs": [
        {
          "output_type": "execute_result",
          "data": {
            "text/plain": [
              "<matplotlib.axes._subplots.AxesSubplot at 0x7f32faed4518>"
            ]
          },
          "metadata": {
            "tags": []
          },
          "execution_count": 35
        },
        {
          "output_type": "display_data",
          "data": {
            "image/png": "[encoded data removed]",
            "text/plain": [
              "<Figure size 432x288 with 1 Axes>"
            ]
          },
          "metadata": {
            "tags": [],
            "needs_background": "light"
          }
        }
      ]
    },
    {
      "cell_type": "code",
      "metadata": {
        "id": "jdEyzpVTmxN2",
        "colab_type": "code",
        "colab": {}
      },
      "source": [
        "# Alterando o formato da coluna data\n",
        "# df_deb['data'] = pd.to_datetime(df_deb['data'], format=\"%d/%m/%Y\")\n",
        "# df_deb['data']"
      ],
      "execution_count": 36,
      "outputs": []
    },
    {
      "cell_type": "code",
      "metadata": {
        "id": "_be-D36PnEkf",
        "colab_type": "code",
        "colab": {
          "base_uri": "https://localhost:8080/",
          "height": 357
        },
        "outputId": "f9964d7c-da4e-4e04-cc62-0f98f93be452"
      },
      "source": [
        "df_deb.info()"
      ],
      "execution_count": 37,
      "outputs": [
        {
          "output_type": "stream",
          "text": [
            "<class 'pandas.core.frame.DataFrame'>\n",
            "Int64Index: 48322 entries, 0 to 48322\n",
            "Data columns (total 13 columns):\n",
            " #   Column                                  Non-Null Count  Dtype  \n",
            "---  ------                                  --------------  -----  \n",
            " 0   data                                    48322 non-null  object \n",
            " 1   emissor                                 48322 non-null  object \n",
            " 2   ativo                                   48322 non-null  object \n",
            " 3   isin                                    48322 non-null  object \n",
            " 4   qtd                                     48322 non-null  int64  \n",
            " 5   numero_de_ negociacoes                  48322 non-null  int64  \n",
            " 6   minimo                                  48322 non-null  float64\n",
            " 7   medio                                   48322 non-null  float64\n",
            " 8   maximo                                  48322 non-null  float64\n",
            " 9   pu_curva                                48322 non-null  object \n",
            " 10  setor                                   48322 non-null  object \n",
            " 11  rentabilidade_maxima_teorica_do_titulo  48322 non-null  float64\n",
            " 12  rentabilidade_teorica_do_titulo         48322 non-null  float64\n",
            "dtypes: float64(5), int64(2), object(6)\n",
            "memory usage: 6.4+ MB\n"
          ],
          "name": "stdout"
        }
      ]
    },
    {
      "cell_type": "code",
      "metadata": {
        "id": "Y6-6YqtVohrI",
        "colab_type": "code",
        "colab": {
          "base_uri": "https://localhost:8080/",
          "height": 258
        },
        "outputId": "0273b853-a663-401e-88ca-c043d7fdd856"
      },
      "source": [
        "df_deb.head()"
      ],
      "execution_count": 38,
      "outputs": [
        {
          "output_type": "execute_result",
          "data": {
            "text/html": [
              "<div>\n",
              "<style scoped>\n",
              "    .dataframe tbody tr th:only-of-type {\n",
              "        vertical-align: middle;\n",
              "    }\n",
              "\n",
              "    .dataframe tbody tr th {\n",
              "        vertical-align: top;\n",
              "    }\n",
              "\n",
              "    .dataframe thead th {\n",
              "        text-align: right;\n",
              "    }\n",
              "</style>\n",
              "<table border=\"1\" class=\"dataframe\">\n",
              "  <thead>\n",
              "    <tr style=\"text-align: right;\">\n",
              "      <th></th>\n",
              "      <th>data</th>\n",
              "      <th>emissor</th>\n",
              "      <th>ativo</th>\n",
              "      <th>isin</th>\n",
              "      <th>qtd</th>\n",
              "      <th>numero_de_ negociacoes</th>\n",
              "      <th>minimo</th>\n",
              "      <th>medio</th>\n",
              "      <th>maximo</th>\n",
              "      <th>pu_curva</th>\n",
              "      <th>setor</th>\n",
              "      <th>rentabilidade_maxima_teorica_do_titulo</th>\n",
              "      <th>rentabilidade_teorica_do_titulo</th>\n",
              "    </tr>\n",
              "  </thead>\n",
              "  <tbody>\n",
              "    <tr>\n",
              "      <th>0</th>\n",
              "      <td>01/02/1996</td>\n",
              "      <td>S/A I100,000U</td>\n",
              "      <td>CHAP11</td>\n",
              "      <td>BRCHAPDBS014</td>\n",
              "      <td>12135</td>\n",
              "      <td>1</td>\n",
              "      <td>782.92</td>\n",
              "      <td>782.920000</td>\n",
              "      <td>782.92</td>\n",
              "      <td>100</td>\n",
              "      <td>alimentos_e_bebidas</td>\n",
              "      <td>0.0</td>\n",
              "      <td>682.920000</td>\n",
              "    </tr>\n",
              "    <tr>\n",
              "      <th>1</th>\n",
              "      <td>01/07/1997</td>\n",
              "      <td>PARMALAT</td>\n",
              "      <td>LCSA12</td>\n",
              "      <td>BRLCSADBS028</td>\n",
              "      <td>255</td>\n",
              "      <td>1</td>\n",
              "      <td>1097.09</td>\n",
              "      <td>1097.090000</td>\n",
              "      <td>1097.09</td>\n",
              "      <td>100</td>\n",
              "      <td>alimentos_e_bebidas</td>\n",
              "      <td>0.0</td>\n",
              "      <td>997.090000</td>\n",
              "    </tr>\n",
              "    <tr>\n",
              "      <th>2</th>\n",
              "      <td>31/10/1997</td>\n",
              "      <td>BRASPERO</td>\n",
              "      <td>BPLA24</td>\n",
              "      <td>BRBPLADBP014</td>\n",
              "      <td>1000</td>\n",
              "      <td>1</td>\n",
              "      <td>1089.20</td>\n",
              "      <td>1089.200000</td>\n",
              "      <td>1089.20</td>\n",
              "      <td>100</td>\n",
              "      <td>textil_e_calcados</td>\n",
              "      <td>0.0</td>\n",
              "      <td>989.200000</td>\n",
              "    </tr>\n",
              "    <tr>\n",
              "      <th>3</th>\n",
              "      <td>01/03/1999</td>\n",
              "      <td>CREFISUL</td>\n",
              "      <td>UNTL12</td>\n",
              "      <td>BRUNTLDBS021</td>\n",
              "      <td>1228</td>\n",
              "      <td>2</td>\n",
              "      <td>738.34</td>\n",
              "      <td>738.340000</td>\n",
              "      <td>738.34</td>\n",
              "      <td>100</td>\n",
              "      <td>financeiro</td>\n",
              "      <td>0.0</td>\n",
              "      <td>638.340000</td>\n",
              "    </tr>\n",
              "    <tr>\n",
              "      <th>4</th>\n",
              "      <td>03/05/1999</td>\n",
              "      <td>UNIBANCO</td>\n",
              "      <td>ULAM12</td>\n",
              "      <td>BRZSWZDBS064</td>\n",
              "      <td>45874</td>\n",
              "      <td>3</td>\n",
              "      <td>100.00</td>\n",
              "      <td>272.646815</td>\n",
              "      <td>1000.00</td>\n",
              "      <td>27.26</td>\n",
              "      <td>financeiro</td>\n",
              "      <td>900.0</td>\n",
              "      <td>3568.378577</td>\n",
              "    </tr>\n",
              "  </tbody>\n",
              "</table>\n",
              "</div>"
            ],
            "text/plain": [
              "         data  ... rentabilidade_teorica_do_titulo\n",
              "0  01/02/1996  ...                      682.920000\n",
              "1  01/07/1997  ...                      997.090000\n",
              "2  31/10/1997  ...                      989.200000\n",
              "3  01/03/1999  ...                      638.340000\n",
              "4  03/05/1999  ...                     3568.378577\n",
              "\n",
              "[5 rows x 13 columns]"
            ]
          },
          "metadata": {
            "tags": []
          },
          "execution_count": 38
        }
      ]
    },
    {
      "cell_type": "code",
      "metadata": {
        "id": "5ahg6xZKolGD",
        "colab_type": "code",
        "colab": {
          "base_uri": "https://localhost:8080/",
          "height": 241
        },
        "outputId": "f6d3c90f-8f9f-4824-fadc-db41294f11b6"
      },
      "source": [
        "df_deb.tail()"
      ],
      "execution_count": 39,
      "outputs": [
        {
          "output_type": "execute_result",
          "data": {
            "text/html": [
              "<div>\n",
              "<style scoped>\n",
              "    .dataframe tbody tr th:only-of-type {\n",
              "        vertical-align: middle;\n",
              "    }\n",
              "\n",
              "    .dataframe tbody tr th {\n",
              "        vertical-align: top;\n",
              "    }\n",
              "\n",
              "    .dataframe thead th {\n",
              "        text-align: right;\n",
              "    }\n",
              "</style>\n",
              "<table border=\"1\" class=\"dataframe\">\n",
              "  <thead>\n",
              "    <tr style=\"text-align: right;\">\n",
              "      <th></th>\n",
              "      <th>data</th>\n",
              "      <th>emissor</th>\n",
              "      <th>ativo</th>\n",
              "      <th>isin</th>\n",
              "      <th>qtd</th>\n",
              "      <th>numero_de_ negociacoes</th>\n",
              "      <th>minimo</th>\n",
              "      <th>medio</th>\n",
              "      <th>maximo</th>\n",
              "      <th>pu_curva</th>\n",
              "      <th>setor</th>\n",
              "      <th>rentabilidade_maxima_teorica_do_titulo</th>\n",
              "      <th>rentabilidade_teorica_do_titulo</th>\n",
              "    </tr>\n",
              "  </thead>\n",
              "  <tbody>\n",
              "    <tr>\n",
              "      <th>48318</th>\n",
              "      <td>21/12/2017</td>\n",
              "      <td>CONCESSI</td>\n",
              "      <td>RDVT11</td>\n",
              "      <td>BRRDVTDBS001</td>\n",
              "      <td>41</td>\n",
              "      <td>7</td>\n",
              "      <td>892.724472</td>\n",
              "      <td>934.791192</td>\n",
              "      <td>1099.931675</td>\n",
              "      <td>71.16</td>\n",
              "      <td>transporte_logistica</td>\n",
              "      <td>23.210656</td>\n",
              "      <td>1445.716238</td>\n",
              "    </tr>\n",
              "    <tr>\n",
              "      <th>48319</th>\n",
              "      <td>22/12/2017</td>\n",
              "      <td>PETROLEO</td>\n",
              "      <td>PETR25</td>\n",
              "      <td>BRPETRDBS068</td>\n",
              "      <td>13355</td>\n",
              "      <td>71</td>\n",
              "      <td>1017.756895</td>\n",
              "      <td>1030.590726</td>\n",
              "      <td>1061.652368</td>\n",
              "      <td>100.33</td>\n",
              "      <td>petroleo_e_gas</td>\n",
              "      <td>4.312962</td>\n",
              "      <td>958.160439</td>\n",
              "    </tr>\n",
              "    <tr>\n",
              "      <th>48320</th>\n",
              "      <td>22/12/2017</td>\n",
              "      <td>ENERGISA</td>\n",
              "      <td>ENGI49</td>\n",
              "      <td>BRENGIDBS0H9</td>\n",
              "      <td>102</td>\n",
              "      <td>2</td>\n",
              "      <td>1019.244485</td>\n",
              "      <td>1019.244485</td>\n",
              "      <td>1019.244485</td>\n",
              "      <td>100.83</td>\n",
              "      <td>energia_eletrica</td>\n",
              "      <td>0.000000</td>\n",
              "      <td>910.854394</td>\n",
              "    </tr>\n",
              "    <tr>\n",
              "      <th>48321</th>\n",
              "      <td>22/12/2017</td>\n",
              "      <td>EDP SAO</td>\n",
              "      <td>EBEN17</td>\n",
              "      <td>BREBENDBS069</td>\n",
              "      <td>100</td>\n",
              "      <td>1</td>\n",
              "      <td>10163.406640</td>\n",
              "      <td>10163.406640</td>\n",
              "      <td>10163.406640</td>\n",
              "      <td>100.04</td>\n",
              "      <td>energia_eletrica</td>\n",
              "      <td>0.000000</td>\n",
              "      <td>10059.342910</td>\n",
              "    </tr>\n",
              "    <tr>\n",
              "      <th>48322</th>\n",
              "      <td>22/12/2017</td>\n",
              "      <td>CONCESSI</td>\n",
              "      <td>CBAN11</td>\n",
              "      <td>BRCRBDDBS009</td>\n",
              "      <td>1</td>\n",
              "      <td>1</td>\n",
              "      <td>16124.431800</td>\n",
              "      <td>16124.431800</td>\n",
              "      <td>16124.431800</td>\n",
              "      <td>105.69</td>\n",
              "      <td>transporte_logistica</td>\n",
              "      <td>0.000000</td>\n",
              "      <td>15156.345720</td>\n",
              "    </tr>\n",
              "  </tbody>\n",
              "</table>\n",
              "</div>"
            ],
            "text/plain": [
              "             data  ... rentabilidade_teorica_do_titulo\n",
              "48318  21/12/2017  ...                     1445.716238\n",
              "48319  22/12/2017  ...                      958.160439\n",
              "48320  22/12/2017  ...                      910.854394\n",
              "48321  22/12/2017  ...                    10059.342910\n",
              "48322  22/12/2017  ...                    15156.345720\n",
              "\n",
              "[5 rows x 13 columns]"
            ]
          },
          "metadata": {
            "tags": []
          },
          "execution_count": 39
        }
      ]
    },
    {
      "cell_type": "code",
      "metadata": {
        "id": "yjTyMaJkydCQ",
        "colab_type": "code",
        "colab": {}
      },
      "source": [
        "# Formatos das colunas - Tipos dos dados:\n",
        "# qtd                                     48322 non-null  int64  \n",
        "# numero_de_ negociacoes                  48322 non-null  int64  \n",
        "# minimo                                  48322 non-null  float64\n",
        "# medio                                   48322 non-null  float64\n",
        "# maximo                                  48322 non-null  float64\n",
        "# pu_curva                                48322 non-null  float64\n",
        "# rentabilidade_maxima_teorica_do_titulo  48322 non-null  float64\n",
        "# rentabilidade_teorica_do_titulo         48322 non-null  float64"
      ],
      "execution_count": 40,
      "outputs": []
    },
    {
      "cell_type": "code",
      "metadata": {
        "id": "O3cRUQlEyK4k",
        "colab_type": "code",
        "colab": {
          "base_uri": "https://localhost:8080/",
          "height": 170
        },
        "outputId": "cde6f088-1d9d-476a-bf35-aff89810ec0c"
      },
      "source": [
        "# Detalhes dos dados da coluna\n",
        "df_deb['qtd'].describe()"
      ],
      "execution_count": 41,
      "outputs": [
        {
          "output_type": "execute_result",
          "data": {
            "text/plain": [
              "count    4.832200e+04\n",
              "mean     5.182284e+05\n",
              "std      9.164970e+06\n",
              "min      1.000000e+00\n",
              "25%      3.500000e+01\n",
              "50%      1.940000e+02\n",
              "75%      9.340000e+02\n",
              "max      5.154690e+08\n",
              "Name: qtd, dtype: float64"
            ]
          },
          "metadata": {
            "tags": []
          },
          "execution_count": 41
        }
      ]
    },
    {
      "cell_type": "code",
      "metadata": {
        "id": "L0-gPuu3y-7K",
        "colab_type": "code",
        "colab": {
          "base_uri": "https://localhost:8080/",
          "height": 170
        },
        "outputId": "1a7c1425-1c6c-4b90-91cd-329333e20c83"
      },
      "source": [
        "# Detalhes dos dados da coluna\n",
        "df_deb['rentabilidade_teorica_do_titulo'].describe()"
      ],
      "execution_count": 42,
      "outputs": [
        {
          "output_type": "execute_result",
          "data": {
            "text/plain": [
              "count    4.832200e+04\n",
              "mean     3.704214e+04\n",
              "std      1.548410e+06\n",
              "min     -9.999933e+01\n",
              "25%      1.014491e+03\n",
              "50%      8.181731e+03\n",
              "75%      1.061987e+04\n",
              "max      3.160192e+08\n",
              "Name: rentabilidade_teorica_do_titulo, dtype: float64"
            ]
          },
          "metadata": {
            "tags": []
          },
          "execution_count": 42
        }
      ]
    },
    {
      "cell_type": "code",
      "metadata": {
        "id": "CMxqXQBZz8Mp",
        "colab_type": "code",
        "colab": {
          "base_uri": "https://localhost:8080/",
          "height": 221
        },
        "outputId": "1f6645b6-d0d2-4345-888c-498f58be0d16"
      },
      "source": [
        "# Qual é a quantidade de debentures emitidas por emissor?\n",
        "df_emissor = df_deb['emissor'].value_counts()\n",
        "df_emissor"
      ],
      "execution_count": 43,
      "outputs": [
        {
          "output_type": "execute_result",
          "data": {
            "text/plain": [
              "CONCESSI    6177\n",
              "COMPANHI    3542\n",
              "VALE S/A    2785\n",
              "CESP-CIA    2381\n",
              "DIBENS L    2156\n",
              "            ... \n",
              "MAGAZINE       1\n",
              "ST. MICH       1\n",
              "METODO E       1\n",
              "ECTE - E       1\n",
              "WTORRE S       1\n",
              "Name: emissor, Length: 340, dtype: int64"
            ]
          },
          "metadata": {
            "tags": []
          },
          "execution_count": 43
        }
      ]
    },
    {
      "cell_type": "code",
      "metadata": {
        "id": "DuIFyYRpbl50",
        "colab_type": "code",
        "colab": {
          "base_uri": "https://localhost:8080/",
          "height": 595
        },
        "outputId": "79be89a9-2eae-4629-beb3-b59c4e74615f"
      },
      "source": [
        "# Selecionando os setores com maiores quantidades de debentures \n",
        "df_setor1 = df_deb.groupby(by='setor').size()\n",
        "df_setor1"
      ],
      "execution_count": 44,
      "outputs": [
        {
          "output_type": "execute_result",
          "data": {
            "text/plain": [
              "setor\n",
              "administracao_shopping_center                  801\n",
              "agronegocio                                     46\n",
              "alimentos_e_bebidas                            187\n",
              "assistencia_medica_produtos_farmaceuticos      779\n",
              "autopecas                                       17\n",
              "aviacao_aeronautica                            105\n",
              "bens_consumo                                     1\n",
              "cimentos                                       536\n",
              "comercio_varejista                             710\n",
              "construcao_civil                               370\n",
              "educacao                                        18\n",
              "educacional                                     37\n",
              "empreendimentos_e_participacao                2553\n",
              "energia_eletrica                             12528\n",
              "financeiro                                    6920\n",
              "graficas_editoras                                7\n",
              "indefinido                                      58\n",
              "industria_e_comercio                           201\n",
              "maquinas_e_equipamentos                         20\n",
              "metalurgia_siderurgia                          286\n",
              "mineracao                                     2785\n",
              "outros                                         863\n",
              "papel_celulose                                3230\n",
              "petroleo                                        26\n",
              "petroleo_e_gas                                 875\n",
              "quimica_petroquimica                           486\n",
              "saneamento                                    1169\n",
              "seguros                                        199\n",
              "servicos                                        24\n",
              "textil_e_calcados                               84\n",
              "ti_e_telecomunicacoes                         2455\n",
              "transporte_logistica                          9946\n",
              "dtype: int64"
            ]
          },
          "metadata": {
            "tags": []
          },
          "execution_count": 44
        }
      ]
    },
    {
      "cell_type": "code",
      "metadata": {
        "id": "CE_l1yXSbn5G",
        "colab_type": "code",
        "colab": {
          "base_uri": "https://localhost:8080/",
          "height": 578
        },
        "outputId": "dad724f3-6bea-4512-d1d3-6bd06aed51be"
      },
      "source": [
        "# Qual é a quantidade de debentures emitidas por setor?\n",
        "df_setor2 = df_deb['setor'].value_counts()\n",
        "df_setor2"
      ],
      "execution_count": 45,
      "outputs": [
        {
          "output_type": "execute_result",
          "data": {
            "text/plain": [
              "energia_eletrica                             12528\n",
              "transporte_logistica                          9946\n",
              "financeiro                                    6920\n",
              "papel_celulose                                3230\n",
              "mineracao                                     2785\n",
              "empreendimentos_e_participacao                2553\n",
              "ti_e_telecomunicacoes                         2455\n",
              "saneamento                                    1169\n",
              "petroleo_e_gas                                 875\n",
              "outros                                         863\n",
              "administracao_shopping_center                  801\n",
              "assistencia_medica_produtos_farmaceuticos      779\n",
              "comercio_varejista                             710\n",
              "cimentos                                       536\n",
              "quimica_petroquimica                           486\n",
              "construcao_civil                               370\n",
              "metalurgia_siderurgia                          286\n",
              "industria_e_comercio                           201\n",
              "seguros                                        199\n",
              "alimentos_e_bebidas                            187\n",
              "aviacao_aeronautica                            105\n",
              "textil_e_calcados                               84\n",
              "indefinido                                      58\n",
              "agronegocio                                     46\n",
              "educacional                                     37\n",
              "petroleo                                        26\n",
              "servicos                                        24\n",
              "maquinas_e_equipamentos                         20\n",
              "educacao                                        18\n",
              "autopecas                                       17\n",
              "graficas_editoras                                7\n",
              "bens_consumo                                     1\n",
              "Name: setor, dtype: int64"
            ]
          },
          "metadata": {
            "tags": []
          },
          "execution_count": 45
        }
      ]
    },
    {
      "cell_type": "code",
      "metadata": {
        "id": "bQU-di1YaKP5",
        "colab_type": "code",
        "colab": {
          "base_uri": "https://localhost:8080/",
          "height": 204
        },
        "outputId": "2da2dab7-87f2-4f7f-b692-d7643afa5b5a"
      },
      "source": [
        "# Qual é a maior quantidade de debentures (ativos) emitidas?\n",
        "df_ativos1 = df_deb['ativo'].value_counts().head(10)\n",
        "df_ativos1"
      ],
      "execution_count": 73,
      "outputs": [
        {
          "output_type": "execute_result",
          "data": {
            "text/plain": [
              "RDVT11    775\n",
              "ECOV22    774\n",
              "CART12    663\n",
              "PANA13    598\n",
              "VALE18    485\n",
              "TSAE22    479\n",
              "PETR13    474\n",
              "ANHB15    471\n",
              "BNDP36    441\n",
              "CVRD27    435\n",
              "Name: ativo, dtype: int64"
            ]
          },
          "metadata": {
            "tags": []
          },
          "execution_count": 73
        }
      ]
    },
    {
      "cell_type": "markdown",
      "metadata": {
        "id": "zRE7_gStCG70",
        "colab_type": "text"
      },
      "source": [
        "RDVT11    775\n",
        "ECOV22    774\n",
        "CART12    663\n",
        "PANA13    598\n",
        "VALE18    485\n",
        "TSAE22    479\n",
        "PETR13    474\n",
        "ANHB15    471\n",
        "BNDP36    441\n",
        "CVRD27    435"
      ]
    },
    {
      "cell_type": "code",
      "metadata": {
        "id": "VVKqYwgQPj4T",
        "colab_type": "code",
        "colab": {
          "base_uri": "https://localhost:8080/",
          "height": 581
        },
        "outputId": "f0342815-2086-4d24-a0d4-a591d7deed02"
      },
      "source": [
        "# Imprimindo usando o gráfico catplot (função de plotagem scater)\n",
        "sns.catplot(x=\"setor\", y=\"numero_de_ negociacoes\", data=df_deb)\n",
        "plt.xticks (color='orange', rotation=90)\n",
        "plt.yticks (color='orange')\n",
        "plt.ylabel('numero de negociacoes',color='orange')\n",
        "plt.xlabel('setor',color='orange')\n",
        "plt.show()"
      ],
      "execution_count": 85,
      "outputs": [
        {
          "output_type": "display_data",
          "data": {
            "image/png": "[encoded data removed]",
            "text/plain": [
              "<Figure size 360x360 with 1 Axes>"
            ]
          },
          "metadata": {
            "tags": [],
            "needs_background": "dark"
          }
        }
      ]
    },
    {
      "cell_type": "code",
      "metadata": {
        "id": "1wvii5DFjH_M",
        "colab_type": "code",
        "colab": {
          "base_uri": "https://localhost:8080/",
          "height": 732
        },
        "outputId": "d9d72f4f-0fcd-4d5b-a546-3caf87319ef1"
      },
      "source": [
        "# Mostar a contagem dos dados em um gráfico de barras\n",
        "fi=df_deb['setor'].value_counts().plot.bar(facecolor='g', figsize=(20,10), width = 0.5)\n",
        "plt.title('Gráfico de Barras: Valores x Setores', fontsize=18, color='orange')\n",
        "plt.grid(axis='y', alpha=0.75)\n",
        "plt.xticks (color='pink',rotation= 90)\n",
        "plt.yticks (color='pink')\n",
        "plt.xlabel('Setores',color='orange')\n",
        "plt.ylabel('Valores',color='orange')\n",
        "plt.grid(True)\n",
        "plt.legend() \n",
        "plt.show()"
      ],
      "execution_count": 87,
      "outputs": [
        {
          "output_type": "display_data",
          "data": {
            "image/png": "[encoded data removed]",
            "text/plain": [
              "<Figure size 1440x720 with 1 Axes>"
            ]
          },
          "metadata": {
            "tags": [],
            "needs_background": "dark"
          }
        }
      ]
    },
    {
      "cell_type": "code",
      "metadata": {
        "id": "fPMbnkcoK-38",
        "colab_type": "code",
        "colab": {
          "base_uri": "https://localhost:8080/",
          "height": 204
        },
        "outputId": "14f8aba7-8a4e-4614-8066-3c906b0deda9"
      },
      "source": [
        "#Selecionando os 10 maiores setores que emitiram Debenture\n",
        "df_setor3=df_setor2.head(10)\n",
        "df_setor3"
      ],
      "execution_count": 50,
      "outputs": [
        {
          "output_type": "execute_result",
          "data": {
            "text/plain": [
              "energia_eletrica                  12528\n",
              "transporte_logistica               9946\n",
              "financeiro                         6920\n",
              "papel_celulose                     3230\n",
              "mineracao                          2785\n",
              "empreendimentos_e_participacao     2553\n",
              "ti_e_telecomunicacoes              2455\n",
              "saneamento                         1169\n",
              "petroleo_e_gas                      875\n",
              "outros                              863\n",
              "Name: setor, dtype: int64"
            ]
          },
          "metadata": {
            "tags": []
          },
          "execution_count": 50
        }
      ]
    },
    {
      "cell_type": "code",
      "metadata": {
        "id": "uOLseeegGU5K",
        "colab_type": "code",
        "colab": {
          "base_uri": "https://localhost:8080/",
          "height": 680
        },
        "outputId": "69295fc5-20ad-4b80-aa96-cfbe19ea76a6"
      },
      "source": [
        "#Gráfico de Barras\n",
        "fi1=df_setor3.plot.bar(facecolor='blue',figsize=(20,10), width = 0.5)\n",
        "# plt.axis([0 ,0 , 0, 120]) - #[xmin, xmax, ymin, ymax] - limites de visualização\n",
        "plt.title('Gráfico de Barras', fontsize=18, color='white')\n",
        "plt.grid(axis='y', alpha=0.75)\n",
        "plt.xticks (color='orange', rotation= 70)\n",
        "plt.yticks (color='orange')\n",
        "plt.xlabel('Marcações',color='orange')\n",
        "plt.ylabel('Valores',color='orange')\n",
        "plt.grid(True)\n",
        "plt.legend() \n",
        "plt.show()\n"
      ],
      "execution_count": 88,
      "outputs": [
        {
          "output_type": "display_data",
          "data": {
            "image/png": "[encoded data removed]",
            "text/plain": [
              "<Figure size 1440x720 with 1 Axes>"
            ]
          },
          "metadata": {
            "tags": [],
            "needs_background": "dark"
          }
        }
      ]
    },
    {
      "cell_type": "code",
      "metadata": {
        "id": "PGX2mRZ8K_2z",
        "colab_type": "code",
        "colab": {
          "base_uri": "https://localhost:8080/",
          "height": 411
        },
        "outputId": "349f021c-56d6-41b2-e705-abb1fe7e9832"
      },
      "source": [
        "# Grafico de \"Pizza\" - com os 10 maiores setores que geraram debentures\n",
        "# Criando o conjunto de dados\n",
        "setor= ['energia_eletrica','transporte_logistica','financeiro ', 'papel_celulose', 'mineracao', 'empreendimentos_e_participacao', 'ti_e_telecomunicacoes ', 'saneamento','petroleo_e_gas ', 'outros']\n",
        "valores=[12528, 9946, 6920, 3230, 2785, 2553, 2455, 1169, 875, 863]\n",
        "explode = (0.2,0,0,0,0,0,0,0,0,0)\n",
        "\n",
        "# Criando a figura para a plotagem\n",
        "plt.subplots(figsize=(7,7))\n",
        "\n",
        "# Fazendo um gráfico de Pizza para melhor visualizacao\n",
        "plt.pie(x=valores, labels=setor, explode=explode, autopct='%1.1f%%', startangle=90)\n",
        "\n",
        "# Mostrando o grafico\n",
        "plt.show()"
      ],
      "execution_count": 55,
      "outputs": [
        {
          "output_type": "display_data",
          "data": {
            "image/png": "[encoded data removed]",
            "text/plain": [
              "<Figure size 504x504 with 1 Axes>"
            ]
          },
          "metadata": {
            "tags": []
          }
        }
      ]
    },
    {
      "cell_type": "code",
      "metadata": {
        "id": "kjJ1ulwKTDT_",
        "colab_type": "code",
        "colab": {
          "base_uri": "https://localhost:8080/",
          "height": 204
        },
        "outputId": "d62a0641-da21-4c9c-c16f-453dfb092835"
      },
      "source": [
        "# Quais os 10 maiores ativos (debentures) emitidas em quantidades?\n",
        "df_ativos2=df_ativos1.head(10)\n",
        "df_ativos2"
      ],
      "execution_count": 56,
      "outputs": [
        {
          "output_type": "execute_result",
          "data": {
            "text/plain": [
              "RDVT11    775\n",
              "ECOV22    774\n",
              "CART12    663\n",
              "PANA13    598\n",
              "VALE18    485\n",
              "TSAE22    479\n",
              "PETR13    474\n",
              "ANHB15    471\n",
              "BNDP36    441\n",
              "CVRD27    435\n",
              "Name: ativo, dtype: int64"
            ]
          },
          "metadata": {
            "tags": []
          },
          "execution_count": 56
        }
      ]
    },
    {
      "cell_type": "code",
      "metadata": {
        "id": "0vKWYdRRT6D8",
        "colab_type": "code",
        "colab": {
          "base_uri": "https://localhost:8080/",
          "height": 411
        },
        "outputId": "fd93bc8e-b421-45b1-ac28-333645d483e2"
      },
      "source": [
        "# Grafico de \"Pizza\" - com os 10 maiores ativos \n",
        "# Criando o conjunto de dados\n",
        "ativos= ['RDVT11', 'ECOV22','CART12', 'PANA13', 'VALE18', 'TSAE22', 'PETR13', 'ANHB15', 'BNDP36', 'CVRD27']\n",
        "valores=[ 775, 774, 663, 598, 485, 479, 474, 471, 441, 435]\n",
        "explode = (0.2,0,0,0,0,0,0,0,0,0)\n",
        "\n",
        "# Criando a figura para a plotagem\n",
        "plt.subplots(figsize=(7,7))\n",
        "\n",
        "# Fazendo um gráfico de Pizza para melhor visualizacao\n",
        "plt.pie(x=valores, labels=ativos, explode=explode, autopct='%1.1f%%', startangle=90)\n",
        "\n",
        "# Mostrando o grafico\n",
        "plt.show()"
      ],
      "execution_count": 57,
      "outputs": [
        {
          "output_type": "display_data",
          "data": {
            "image/png": "[encoded data removed]",
            "text/plain": [
              "<Figure size 504x504 with 1 Axes>"
            ]
          },
          "metadata": {
            "tags": []
          }
        }
      ]
    },
    {
      "cell_type": "code",
      "metadata": {
        "id": "q5ktoBJj8aZa",
        "colab_type": "code",
        "colab": {
          "base_uri": "https://localhost:8080/",
          "height": 238
        },
        "outputId": "84f2efd1-268b-4939-f8ab-3f3c227efec9"
      },
      "source": [
        "# Quanto cada senador solicitou de reembolso em 2018?\n",
        "# df.groupby('SENADOR')['VALOR_REEMBOLSADO'].sum().sort_values(ascending=False)\n",
        "# Selecionando a soma total de negociações por ativo\n",
        "df_neg1=df_deb.groupby('ativo')['numero_de_ negociacoes'].sum().sort_values(ascending=False)\n",
        "df_neg1"
      ],
      "execution_count": 67,
      "outputs": [
        {
          "output_type": "execute_result",
          "data": {
            "text/plain": [
              "ativo\n",
              "RDVT11    31500\n",
              "CMDT23     8748\n",
              "ECOV22     8608\n",
              "STEN23     5862\n",
              "SAIP11     5527\n",
              "          ...  \n",
              "ONCO15        1\n",
              "ECOG21        1\n",
              "OASM23        1\n",
              "ECOP14        1\n",
              "ILAME9        1\n",
              "Name: numero_de_ negociacoes, Length: 1236, dtype: int64"
            ]
          },
          "metadata": {
            "tags": []
          },
          "execution_count": 67
        }
      ]
    },
    {
      "cell_type": "code",
      "metadata": {
        "id": "yRYGL3O5Xon6",
        "colab_type": "code",
        "colab": {
          "base_uri": "https://localhost:8080/",
          "height": 221
        },
        "outputId": "2d206369-879e-4cf5-ee15-255685c8c1ae"
      },
      "source": [
        "#Selecionando os 10 ativos mais negociados\n",
        "df_ativos3=df_neg1.head(10)\n",
        "df_ativos3"
      ],
      "execution_count": 68,
      "outputs": [
        {
          "output_type": "execute_result",
          "data": {
            "text/plain": [
              "ativo\n",
              "RDVT11    31500\n",
              "CMDT23     8748\n",
              "ECOV22     8608\n",
              "STEN23     5862\n",
              "SAIP11     5527\n",
              "TCPA31     4853\n",
              "CART12     4655\n",
              "SNTI23     3834\n",
              "VALE18     3733\n",
              "CMTR33     3463\n",
              "Name: numero_de_ negociacoes, dtype: int64"
            ]
          },
          "metadata": {
            "tags": []
          },
          "execution_count": 68
        }
      ]
    },
    {
      "cell_type": "code",
      "metadata": {
        "id": "gyyl_3OUYE8M",
        "colab_type": "code",
        "colab": {
          "base_uri": "https://localhost:8080/",
          "height": 272
        },
        "outputId": "e39320b2-2eb0-4c71-ec59-2daae380641c"
      },
      "source": [
        "# Localizando o ativo RDVT11 - Mostrando as informações da linha específica\n",
        "lin = df_deb.loc[44621]\n",
        "print('Linha 44621:\\n', lin)"
      ],
      "execution_count": 84,
      "outputs": [
        {
          "output_type": "stream",
          "text": [
            "Linha 44621:\n",
            " data                                                20/12/2016\n",
            "emissor                                               CONCESSI\n",
            "ativo                                                   RDVT11\n",
            "isin                                              BRRDVTDBS001\n",
            "qtd                                                       1783\n",
            "numero_de_ negociacoes                                     118\n",
            "minimo                                                 1123.16\n",
            "medio                                                  1215.52\n",
            "maximo                                                 1241.03\n",
            "pu_curva                                                 94.47\n",
            "setor                                     transporte_logistica\n",
            "rentabilidade_maxima_teorica_do_titulo                 10.4942\n",
            "rentabilidade_teorica_do_titulo                        1213.67\n",
            "Name: 44621, dtype: object\n"
          ],
          "name": "stdout"
        }
      ]
    },
    {
      "cell_type": "code",
      "metadata": {
        "id": "gTxDp8meKrbq",
        "colab_type": "code",
        "colab": {}
      },
      "source": [
        ""
      ],
      "execution_count": null,
      "outputs": []
    }
  ]
}