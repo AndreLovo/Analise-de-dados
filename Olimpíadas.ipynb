{
  "cells": [
    {
      "cell_type": "markdown",
      "metadata": {
        "id": "view-in-github",
        "colab_type": "text"
      },
      "source": [
        "<a href=\"https://colab.research.google.com/github/AndreLovo/Analise-de-dados/blob/master/Olimp%C3%ADadas.ipynb\" target=\"_parent\"><img src=\"https://colab.research.google.com/assets/colab-badge.svg\" alt=\"Open In Colab\"/></a>"
      ]
    },
    {
      "cell_type": "markdown",
      "metadata": {
        "extensions": {
          "jupyter_dashboards": {
            "version": 1,
            "views": {
              "grid_default": {},
              "report_default": {
                "hidden": false
              }
            }
          }
        },
        "id": "N3JyEB1X6j1x"
      },
      "source": [
        "# <center>Analise dos Dados Jogos Olímpicos - Natação 50 m - Livre (Fem e Mas)</center>\n",
        "Fonte: https://www.olimpiadatododia.com.br/toquio-2020/jogos-olimpicos/natacao/  <br>\n",
        "\n",
        "Fonte: https://www.olimpiadatododia.com.br/toquio-2020/jogos-olimpicos/natacao/50m-livre-feminino/ <br>\n",
        "\n",
        "Fonte: https://www.olimpiadatododia.com.br/toquio-2020/jogos-olimpicos/natacao/50m-livre-masculino/ <br>\n",
        "\n",
        "### Objetivos:\n",
        "Fazer análise exploratória dos dados da natação nas olimpíadas, através do webscraping "
      ]
    },
    {
      "cell_type": "markdown",
      "metadata": {
        "extensions": {
          "jupyter_dashboards": {
            "version": 1,
            "views": {
              "grid_default": {},
              "report_default": {
                "hidden": false
              }
            }
          }
        },
        "id": "kUOj5R336j2c"
      },
      "source": [
        "# Análise Natação 50 m Livre - Feminino"
      ]
    },
    {
      "cell_type": "code",
      "execution_count": 151,
      "metadata": {
        "extensions": {
          "jupyter_dashboards": {
            "version": 1,
            "views": {
              "grid_default": {},
              "report_default": {
                "hidden": true
              }
            }
          }
        },
        "id": "4E-sauZc6j2m"
      },
      "outputs": [],
      "source": [
        "# Importando as bibliotecas\n",
        "import pandas as pd\n",
        "import numpy as np\n",
        "\n",
        "import seaborn as sns\n",
        "import matplotlib.pyplot as plt\n",
        "\n",
        "import plotly.express as px"
      ]
    },
    {
      "cell_type": "code",
      "execution_count": 152,
      "metadata": {
        "extensions": {
          "jupyter_dashboards": {
            "version": 1,
            "views": {
              "grid_default": {},
              "report_default": {
                "hidden": false
              }
            }
          }
        },
        "colab": {
          "base_uri": "https://localhost:8080/",
          "height": 746
        },
        "id": "ievgcXkb6j20",
        "outputId": "80994200-3f86-44fd-e97e-c07ab24f8cd7"
      },
      "outputs": [
        {
          "output_type": "display_data",
          "data": {
            "text/plain": [
              "[                                     Data  \\\n",
              " 0  2021-07-30 07:00:0030 de julho de 2021   \n",
              " 1  2021-07-30 22:30:0030 de julho de 2021   \n",
              " 2  2021-07-31 22:30:0031 de julho de 2021   \n",
              " \n",
              "                                                Prova Horário/Resultado  \n",
              " 0  50m livre feminino – Eliminatórias x Etiene Me...     07:00:0007:00  \n",
              " 1                  50m livre feminino – Semifinais x     22:30:0022:30  \n",
              " 2                       50m livre feminino – Final x     22:30:0022:30  ,\n",
              "                 0                          1                              2  \\\n",
              " 0           Jogos                       Ouro                          Prata   \n",
              " 1       Seul 1988         Kristin Otto (GDR)               Yang Wenyi (CHN)   \n",
              " 2  Barcelona 1992           Yang Wenyi (CHN)              Zhuang Yong (CHN)   \n",
              " 3    Atlanta 1996        Amy Van Dyken (USA)                Le Jingyi (CHN)   \n",
              " 4     Sydney 2000       Inge de Bruijn (NED)        Therèse Alshammar (SWE)   \n",
              " 5     Atenas 2004       Inge de Bruijn (NED)            Malia Metella (FRA)   \n",
              " 6     Pequim 2008       Britta Steffen (GER)              Dara Torres (USA)   \n",
              " 7    Londres 2012  Ranomi Kromowidjojo (NED)  Aliaksandra Herasimenia (BLR)   \n",
              " 8        Rio 2016       Pernille Blume (DEN)            Simone Manuel (USA)   \n",
              " \n",
              "                                          3  \n",
              " 0                                   Bronze  \n",
              " 1  Katrin Meissner (GDR)Jill Sterkel (USA)  \n",
              " 2                      Angel Martino (USA)  \n",
              " 3                      Sandra Völker (GER)  \n",
              " 4                        Dara Torres (USA)  \n",
              " 5                       Libby Lenton (AUS)  \n",
              " 6                      Cate Campbell (AUS)  \n",
              " 7                   Marleen Veldhuis (NED)  \n",
              " 8            Aliaksandra Herasimenia (BLR)  ,\n",
              "                     0     1      2       3      4\n",
              " 0                País  Ouro  Prata  Bronze  Total\n",
              " 1             Holanda     3      0       1      4\n",
              " 2               China     1      3       0      4\n",
              " 3      Estados Unidos     1      2       3      6\n",
              " 4   Alemanha Oriental     1      0       1      2\n",
              " 5            Alemanha     1      0       1      2\n",
              " 6           Dinamarca     1      0       0      1\n",
              " 7             Belarus     0      1       1      2\n",
              " 8              França     0      1       0      1\n",
              " 9              Suécia     0      1       0      1\n",
              " 10          Austrália     0      0       2      2]"
            ]
          },
          "metadata": {}
        }
      ],
      "source": [
        "from bs4 import BeautifulSoup\n",
        "from urllib.request import Request, urlopen\n",
        "import pandas as pd\n",
        "\n",
        "#Obter a resposta em formato HTML\n",
        "df = pd.read_html('/content/drive/MyDrive/Colab Notebooks/Natação_Dados/50f.html')\n",
        "#Vamos dar uma olhada no resultado\n",
        "display(df)"
      ]
    },
    {
      "cell_type": "code",
      "source": [
        "from google.colab import drive\n",
        "drive.mount('/content/drive')"
      ],
      "metadata": {
        "colab": {
          "base_uri": "https://localhost:8080/"
        },
        "id": "qDMVwphh615m",
        "outputId": "9d8e98cb-6770-4a78-eba5-aaa7e53f78c0"
      },
      "execution_count": 153,
      "outputs": [
        {
          "output_type": "stream",
          "name": "stdout",
          "text": [
            "Drive already mounted at /content/drive; to attempt to forcibly remount, call drive.mount(\"/content/drive\", force_remount=True).\n"
          ]
        }
      ]
    },
    {
      "cell_type": "markdown",
      "metadata": {
        "extensions": {
          "jupyter_dashboards": {
            "version": 1,
            "views": {
              "grid_default": {},
              "report_default": {
                "hidden": false
              }
            }
          }
        },
        "id": "yoxvJtzh6j3F"
      },
      "source": [
        "### Separando as 3 tabelas"
      ]
    },
    {
      "cell_type": "code",
      "execution_count": 154,
      "metadata": {
        "extensions": {
          "jupyter_dashboards": {
            "version": 1,
            "views": {
              "grid_default": {},
              "report_default": {
                "hidden": false
              }
            }
          }
        },
        "colab": {
          "base_uri": "https://localhost:8080/",
          "height": 144
        },
        "id": "1MvUWJnW6j3J",
        "outputId": "8483c0bc-acad-4269-d301-a1bfa2dcf5b9"
      },
      "outputs": [
        {
          "output_type": "display_data",
          "data": {
            "text/plain": [
              "                                     Data  \\\n",
              "0  2021-07-30 07:00:0030 de julho de 2021   \n",
              "1  2021-07-30 22:30:0030 de julho de 2021   \n",
              "2  2021-07-31 22:30:0031 de julho de 2021   \n",
              "\n",
              "                                               Prova Horário/Resultado  \n",
              "0  50m livre feminino – Eliminatórias x Etiene Me...     07:00:0007:00  \n",
              "1                  50m livre feminino – Semifinais x     22:30:0022:30  \n",
              "2                       50m livre feminino – Final x     22:30:0022:30  "
            ],
            "text/html": [
              "\n",
              "  <div id=\"df-c28a2344-019c-4569-bab0-5aedcae606be\">\n",
              "    <div class=\"colab-df-container\">\n",
              "      <div>\n",
              "<style scoped>\n",
              "    .dataframe tbody tr th:only-of-type {\n",
              "        vertical-align: middle;\n",
              "    }\n",
              "\n",
              "    .dataframe tbody tr th {\n",
              "        vertical-align: top;\n",
              "    }\n",
              "\n",
              "    .dataframe thead th {\n",
              "        text-align: right;\n",
              "    }\n",
              "</style>\n",
              "<table border=\"1\" class=\"dataframe\">\n",
              "  <thead>\n",
              "    <tr style=\"text-align: right;\">\n",
              "      <th></th>\n",
              "      <th>Data</th>\n",
              "      <th>Prova</th>\n",
              "      <th>Horário/Resultado</th>\n",
              "    </tr>\n",
              "  </thead>\n",
              "  <tbody>\n",
              "    <tr>\n",
              "      <th>0</th>\n",
              "      <td>2021-07-30 07:00:0030 de julho de 2021</td>\n",
              "      <td>50m livre feminino – Eliminatórias x Etiene Me...</td>\n",
              "      <td>07:00:0007:00</td>\n",
              "    </tr>\n",
              "    <tr>\n",
              "      <th>1</th>\n",
              "      <td>2021-07-30 22:30:0030 de julho de 2021</td>\n",
              "      <td>50m livre feminino – Semifinais x</td>\n",
              "      <td>22:30:0022:30</td>\n",
              "    </tr>\n",
              "    <tr>\n",
              "      <th>2</th>\n",
              "      <td>2021-07-31 22:30:0031 de julho de 2021</td>\n",
              "      <td>50m livre feminino – Final x</td>\n",
              "      <td>22:30:0022:30</td>\n",
              "    </tr>\n",
              "  </tbody>\n",
              "</table>\n",
              "</div>\n",
              "      <button class=\"colab-df-convert\" onclick=\"convertToInteractive('df-c28a2344-019c-4569-bab0-5aedcae606be')\"\n",
              "              title=\"Convert this dataframe to an interactive table.\"\n",
              "              style=\"display:none;\">\n",
              "        \n",
              "  <svg xmlns=\"http://www.w3.org/2000/svg\" height=\"24px\"viewBox=\"0 0 24 24\"\n",
              "       width=\"24px\">\n",
              "    <path d=\"M0 0h24v24H0V0z\" fill=\"none\"/>\n",
              "    <path d=\"M18.56 5.44l.94 2.06.94-2.06 2.06-.94-2.06-.94-.94-2.06-.94 2.06-2.06.94zm-11 1L8.5 8.5l.94-2.06 2.06-.94-2.06-.94L8.5 2.5l-.94 2.06-2.06.94zm10 10l.94 2.06.94-2.06 2.06-.94-2.06-.94-.94-2.06-.94 2.06-2.06.94z\"/><path d=\"M17.41 7.96l-1.37-1.37c-.4-.4-.92-.59-1.43-.59-.52 0-1.04.2-1.43.59L10.3 9.45l-7.72 7.72c-.78.78-.78 2.05 0 2.83L4 21.41c.39.39.9.59 1.41.59.51 0 1.02-.2 1.41-.59l7.78-7.78 2.81-2.81c.8-.78.8-2.07 0-2.86zM5.41 20L4 18.59l7.72-7.72 1.47 1.35L5.41 20z\"/>\n",
              "  </svg>\n",
              "      </button>\n",
              "      \n",
              "  <style>\n",
              "    .colab-df-container {\n",
              "      display:flex;\n",
              "      flex-wrap:wrap;\n",
              "      gap: 12px;\n",
              "    }\n",
              "\n",
              "    .colab-df-convert {\n",
              "      background-color: #E8F0FE;\n",
              "      border: none;\n",
              "      border-radius: 50%;\n",
              "      cursor: pointer;\n",
              "      display: none;\n",
              "      fill: #1967D2;\n",
              "      height: 32px;\n",
              "      padding: 0 0 0 0;\n",
              "      width: 32px;\n",
              "    }\n",
              "\n",
              "    .colab-df-convert:hover {\n",
              "      background-color: #E2EBFA;\n",
              "      box-shadow: 0px 1px 2px rgba(60, 64, 67, 0.3), 0px 1px 3px 1px rgba(60, 64, 67, 0.15);\n",
              "      fill: #174EA6;\n",
              "    }\n",
              "\n",
              "    [theme=dark] .colab-df-convert {\n",
              "      background-color: #3B4455;\n",
              "      fill: #D2E3FC;\n",
              "    }\n",
              "\n",
              "    [theme=dark] .colab-df-convert:hover {\n",
              "      background-color: #434B5C;\n",
              "      box-shadow: 0px 1px 3px 1px rgba(0, 0, 0, 0.15);\n",
              "      filter: drop-shadow(0px 1px 2px rgba(0, 0, 0, 0.3));\n",
              "      fill: #FFFFFF;\n",
              "    }\n",
              "  </style>\n",
              "\n",
              "      <script>\n",
              "        const buttonEl =\n",
              "          document.querySelector('#df-c28a2344-019c-4569-bab0-5aedcae606be button.colab-df-convert');\n",
              "        buttonEl.style.display =\n",
              "          google.colab.kernel.accessAllowed ? 'block' : 'none';\n",
              "\n",
              "        async function convertToInteractive(key) {\n",
              "          const element = document.querySelector('#df-c28a2344-019c-4569-bab0-5aedcae606be');\n",
              "          const dataTable =\n",
              "            await google.colab.kernel.invokeFunction('convertToInteractive',\n",
              "                                                     [key], {});\n",
              "          if (!dataTable) return;\n",
              "\n",
              "          const docLinkHtml = 'Like what you see? Visit the ' +\n",
              "            '<a target=\"_blank\" href=https://colab.research.google.com/notebooks/data_table.ipynb>data table notebook</a>'\n",
              "            + ' to learn more about interactive tables.';\n",
              "          element.innerHTML = '';\n",
              "          dataTable['output_type'] = 'display_data';\n",
              "          await google.colab.output.renderOutput(dataTable, element);\n",
              "          const docLink = document.createElement('div');\n",
              "          docLink.innerHTML = docLinkHtml;\n",
              "          element.appendChild(docLink);\n",
              "        }\n",
              "      </script>\n",
              "    </div>\n",
              "  </div>\n",
              "  "
            ]
          },
          "metadata": {}
        }
      ],
      "source": [
        "#Tabela 1\n",
        "tabela50f1 = df[0]\n",
        "display(tabela50f1)"
      ]
    },
    {
      "cell_type": "code",
      "execution_count": 155,
      "metadata": {
        "extensions": {
          "jupyter_dashboards": {
            "version": 1,
            "views": {
              "grid_default": {},
              "report_default": {
                "hidden": false
              }
            }
          }
        },
        "colab": {
          "base_uri": "https://localhost:8080/"
        },
        "id": "XgCiJFnh6j3U",
        "outputId": "3753405b-608f-4b73-b668-e235a3cee87f"
      },
      "outputs": [
        {
          "output_type": "stream",
          "name": "stdout",
          "text": [
            "<class 'pandas.core.frame.DataFrame'>\n",
            "RangeIndex: 3 entries, 0 to 2\n",
            "Data columns (total 3 columns):\n",
            " #   Column             Non-Null Count  Dtype \n",
            "---  ------             --------------  ----- \n",
            " 0   Data               3 non-null      object\n",
            " 1   Prova              3 non-null      object\n",
            " 2   Horário/Resultado  3 non-null      object\n",
            "dtypes: object(3)\n",
            "memory usage: 200.0+ bytes\n"
          ]
        }
      ],
      "source": [
        "# Verificando as informações da tabela \n",
        "tabela50f1.info()"
      ]
    },
    {
      "cell_type": "code",
      "execution_count": 156,
      "metadata": {
        "extensions": {
          "jupyter_dashboards": {
            "version": 1,
            "views": {
              "grid_default": {},
              "report_default": {
                "hidden": true
              }
            }
          }
        },
        "id": "Yrgsiqpq6j4b"
      },
      "outputs": [],
      "source": [
        "# Alterando os tipos dos dados para string\n",
        "tabela50f1['Data'] = tabela50f1['Data'].astype(str)\n",
        "tabela50f1['Prova'] = tabela50f1['Prova'].astype(str)\n",
        "tabela50f1['Horário/Resultado'] = tabela50f1['Horário/Resultado'].astype(str)"
      ]
    },
    {
      "cell_type": "code",
      "execution_count": 157,
      "metadata": {
        "extensions": {
          "jupyter_dashboards": {
            "version": 1,
            "views": {
              "grid_default": {},
              "report_default": {
                "hidden": false
              }
            }
          }
        },
        "colab": {
          "base_uri": "https://localhost:8080/",
          "height": 144
        },
        "id": "8mZgZmAb6j5H",
        "outputId": "d3da5b72-65bc-46a7-c25a-da8711882bb4"
      },
      "outputs": [
        {
          "output_type": "display_data",
          "data": {
            "text/plain": [
              "                                     Data  \\\n",
              "0  2021-07-30 07:00:0030 de julho de 2021   \n",
              "1  2021-07-30 22:30:0030 de julho de 2021   \n",
              "2  2021-07-31 22:30:0031 de julho de 2021   \n",
              "\n",
              "                                               Prova Horário/Resultado  \n",
              "0  50m livre feminino – Eliminatórias x Etiene Me...     07:00:0007:00  \n",
              "1                  50m livre feminino – Semifinais x     22:30:0022:30  \n",
              "2                       50m livre feminino – Final x     22:30:0022:30  "
            ],
            "text/html": [
              "\n",
              "  <div id=\"df-8da4bf50-e49c-4633-98cb-854d7afcd553\">\n",
              "    <div class=\"colab-df-container\">\n",
              "      <div>\n",
              "<style scoped>\n",
              "    .dataframe tbody tr th:only-of-type {\n",
              "        vertical-align: middle;\n",
              "    }\n",
              "\n",
              "    .dataframe tbody tr th {\n",
              "        vertical-align: top;\n",
              "    }\n",
              "\n",
              "    .dataframe thead th {\n",
              "        text-align: right;\n",
              "    }\n",
              "</style>\n",
              "<table border=\"1\" class=\"dataframe\">\n",
              "  <thead>\n",
              "    <tr style=\"text-align: right;\">\n",
              "      <th></th>\n",
              "      <th>Data</th>\n",
              "      <th>Prova</th>\n",
              "      <th>Horário/Resultado</th>\n",
              "    </tr>\n",
              "  </thead>\n",
              "  <tbody>\n",
              "    <tr>\n",
              "      <th>0</th>\n",
              "      <td>2021-07-30 07:00:0030 de julho de 2021</td>\n",
              "      <td>50m livre feminino – Eliminatórias x Etiene Me...</td>\n",
              "      <td>07:00:0007:00</td>\n",
              "    </tr>\n",
              "    <tr>\n",
              "      <th>1</th>\n",
              "      <td>2021-07-30 22:30:0030 de julho de 2021</td>\n",
              "      <td>50m livre feminino – Semifinais x</td>\n",
              "      <td>22:30:0022:30</td>\n",
              "    </tr>\n",
              "    <tr>\n",
              "      <th>2</th>\n",
              "      <td>2021-07-31 22:30:0031 de julho de 2021</td>\n",
              "      <td>50m livre feminino – Final x</td>\n",
              "      <td>22:30:0022:30</td>\n",
              "    </tr>\n",
              "  </tbody>\n",
              "</table>\n",
              "</div>\n",
              "      <button class=\"colab-df-convert\" onclick=\"convertToInteractive('df-8da4bf50-e49c-4633-98cb-854d7afcd553')\"\n",
              "              title=\"Convert this dataframe to an interactive table.\"\n",
              "              style=\"display:none;\">\n",
              "        \n",
              "  <svg xmlns=\"http://www.w3.org/2000/svg\" height=\"24px\"viewBox=\"0 0 24 24\"\n",
              "       width=\"24px\">\n",
              "    <path d=\"M0 0h24v24H0V0z\" fill=\"none\"/>\n",
              "    <path d=\"M18.56 5.44l.94 2.06.94-2.06 2.06-.94-2.06-.94-.94-2.06-.94 2.06-2.06.94zm-11 1L8.5 8.5l.94-2.06 2.06-.94-2.06-.94L8.5 2.5l-.94 2.06-2.06.94zm10 10l.94 2.06.94-2.06 2.06-.94-2.06-.94-.94-2.06-.94 2.06-2.06.94z\"/><path d=\"M17.41 7.96l-1.37-1.37c-.4-.4-.92-.59-1.43-.59-.52 0-1.04.2-1.43.59L10.3 9.45l-7.72 7.72c-.78.78-.78 2.05 0 2.83L4 21.41c.39.39.9.59 1.41.59.51 0 1.02-.2 1.41-.59l7.78-7.78 2.81-2.81c.8-.78.8-2.07 0-2.86zM5.41 20L4 18.59l7.72-7.72 1.47 1.35L5.41 20z\"/>\n",
              "  </svg>\n",
              "      </button>\n",
              "      \n",
              "  <style>\n",
              "    .colab-df-container {\n",
              "      display:flex;\n",
              "      flex-wrap:wrap;\n",
              "      gap: 12px;\n",
              "    }\n",
              "\n",
              "    .colab-df-convert {\n",
              "      background-color: #E8F0FE;\n",
              "      border: none;\n",
              "      border-radius: 50%;\n",
              "      cursor: pointer;\n",
              "      display: none;\n",
              "      fill: #1967D2;\n",
              "      height: 32px;\n",
              "      padding: 0 0 0 0;\n",
              "      width: 32px;\n",
              "    }\n",
              "\n",
              "    .colab-df-convert:hover {\n",
              "      background-color: #E2EBFA;\n",
              "      box-shadow: 0px 1px 2px rgba(60, 64, 67, 0.3), 0px 1px 3px 1px rgba(60, 64, 67, 0.15);\n",
              "      fill: #174EA6;\n",
              "    }\n",
              "\n",
              "    [theme=dark] .colab-df-convert {\n",
              "      background-color: #3B4455;\n",
              "      fill: #D2E3FC;\n",
              "    }\n",
              "\n",
              "    [theme=dark] .colab-df-convert:hover {\n",
              "      background-color: #434B5C;\n",
              "      box-shadow: 0px 1px 3px 1px rgba(0, 0, 0, 0.15);\n",
              "      filter: drop-shadow(0px 1px 2px rgba(0, 0, 0, 0.3));\n",
              "      fill: #FFFFFF;\n",
              "    }\n",
              "  </style>\n",
              "\n",
              "      <script>\n",
              "        const buttonEl =\n",
              "          document.querySelector('#df-8da4bf50-e49c-4633-98cb-854d7afcd553 button.colab-df-convert');\n",
              "        buttonEl.style.display =\n",
              "          google.colab.kernel.accessAllowed ? 'block' : 'none';\n",
              "\n",
              "        async function convertToInteractive(key) {\n",
              "          const element = document.querySelector('#df-8da4bf50-e49c-4633-98cb-854d7afcd553');\n",
              "          const dataTable =\n",
              "            await google.colab.kernel.invokeFunction('convertToInteractive',\n",
              "                                                     [key], {});\n",
              "          if (!dataTable) return;\n",
              "\n",
              "          const docLinkHtml = 'Like what you see? Visit the ' +\n",
              "            '<a target=\"_blank\" href=https://colab.research.google.com/notebooks/data_table.ipynb>data table notebook</a>'\n",
              "            + ' to learn more about interactive tables.';\n",
              "          element.innerHTML = '';\n",
              "          dataTable['output_type'] = 'display_data';\n",
              "          await google.colab.output.renderOutput(dataTable, element);\n",
              "          const docLink = document.createElement('div');\n",
              "          docLink.innerHTML = docLinkHtml;\n",
              "          element.appendChild(docLink);\n",
              "        }\n",
              "      </script>\n",
              "    </div>\n",
              "  </div>\n",
              "  "
            ]
          },
          "metadata": {}
        }
      ],
      "source": [
        "display(tabela50f1)"
      ]
    },
    {
      "cell_type": "code",
      "execution_count": 158,
      "metadata": {
        "extensions": {
          "jupyter_dashboards": {
            "version": 1,
            "views": {
              "grid_default": {},
              "report_default": {
                "hidden": false
              }
            }
          }
        },
        "colab": {
          "base_uri": "https://localhost:8080/",
          "height": 300
        },
        "id": "XCuVT5t_6j5V",
        "outputId": "0f24f18a-e467-4ac5-ac26-e33b3e1f2262"
      },
      "outputs": [
        {
          "output_type": "display_data",
          "data": {
            "text/plain": [
              "0           Jogos                       Ouro                          Prata  \\\n",
              "1       Seul 1988         Kristin Otto (GDR)               Yang Wenyi (CHN)   \n",
              "2  Barcelona 1992           Yang Wenyi (CHN)              Zhuang Yong (CHN)   \n",
              "3    Atlanta 1996        Amy Van Dyken (USA)                Le Jingyi (CHN)   \n",
              "4     Sydney 2000       Inge de Bruijn (NED)        Therèse Alshammar (SWE)   \n",
              "5     Atenas 2004       Inge de Bruijn (NED)            Malia Metella (FRA)   \n",
              "6     Pequim 2008       Britta Steffen (GER)              Dara Torres (USA)   \n",
              "7    Londres 2012  Ranomi Kromowidjojo (NED)  Aliaksandra Herasimenia (BLR)   \n",
              "8        Rio 2016       Pernille Blume (DEN)            Simone Manuel (USA)   \n",
              "\n",
              "0                                   Bronze  \n",
              "1  Katrin Meissner (GDR)Jill Sterkel (USA)  \n",
              "2                      Angel Martino (USA)  \n",
              "3                      Sandra Völker (GER)  \n",
              "4                        Dara Torres (USA)  \n",
              "5                       Libby Lenton (AUS)  \n",
              "6                      Cate Campbell (AUS)  \n",
              "7                   Marleen Veldhuis (NED)  \n",
              "8            Aliaksandra Herasimenia (BLR)  "
            ],
            "text/html": [
              "\n",
              "  <div id=\"df-8bd07c56-92b2-45e7-8bed-5bc6bdcd1630\">\n",
              "    <div class=\"colab-df-container\">\n",
              "      <div>\n",
              "<style scoped>\n",
              "    .dataframe tbody tr th:only-of-type {\n",
              "        vertical-align: middle;\n",
              "    }\n",
              "\n",
              "    .dataframe tbody tr th {\n",
              "        vertical-align: top;\n",
              "    }\n",
              "\n",
              "    .dataframe thead th {\n",
              "        text-align: right;\n",
              "    }\n",
              "</style>\n",
              "<table border=\"1\" class=\"dataframe\">\n",
              "  <thead>\n",
              "    <tr style=\"text-align: right;\">\n",
              "      <th></th>\n",
              "      <th>Jogos</th>\n",
              "      <th>Ouro</th>\n",
              "      <th>Prata</th>\n",
              "      <th>Bronze</th>\n",
              "    </tr>\n",
              "  </thead>\n",
              "  <tbody>\n",
              "    <tr>\n",
              "      <th>1</th>\n",
              "      <td>Seul 1988</td>\n",
              "      <td>Kristin Otto (GDR)</td>\n",
              "      <td>Yang Wenyi (CHN)</td>\n",
              "      <td>Katrin Meissner (GDR)Jill Sterkel (USA)</td>\n",
              "    </tr>\n",
              "    <tr>\n",
              "      <th>2</th>\n",
              "      <td>Barcelona 1992</td>\n",
              "      <td>Yang Wenyi (CHN)</td>\n",
              "      <td>Zhuang Yong (CHN)</td>\n",
              "      <td>Angel Martino (USA)</td>\n",
              "    </tr>\n",
              "    <tr>\n",
              "      <th>3</th>\n",
              "      <td>Atlanta 1996</td>\n",
              "      <td>Amy Van Dyken (USA)</td>\n",
              "      <td>Le Jingyi (CHN)</td>\n",
              "      <td>Sandra Völker (GER)</td>\n",
              "    </tr>\n",
              "    <tr>\n",
              "      <th>4</th>\n",
              "      <td>Sydney 2000</td>\n",
              "      <td>Inge de Bruijn (NED)</td>\n",
              "      <td>Therèse Alshammar (SWE)</td>\n",
              "      <td>Dara Torres (USA)</td>\n",
              "    </tr>\n",
              "    <tr>\n",
              "      <th>5</th>\n",
              "      <td>Atenas 2004</td>\n",
              "      <td>Inge de Bruijn (NED)</td>\n",
              "      <td>Malia Metella (FRA)</td>\n",
              "      <td>Libby Lenton (AUS)</td>\n",
              "    </tr>\n",
              "    <tr>\n",
              "      <th>6</th>\n",
              "      <td>Pequim 2008</td>\n",
              "      <td>Britta Steffen (GER)</td>\n",
              "      <td>Dara Torres (USA)</td>\n",
              "      <td>Cate Campbell (AUS)</td>\n",
              "    </tr>\n",
              "    <tr>\n",
              "      <th>7</th>\n",
              "      <td>Londres 2012</td>\n",
              "      <td>Ranomi Kromowidjojo (NED)</td>\n",
              "      <td>Aliaksandra Herasimenia (BLR)</td>\n",
              "      <td>Marleen Veldhuis (NED)</td>\n",
              "    </tr>\n",
              "    <tr>\n",
              "      <th>8</th>\n",
              "      <td>Rio 2016</td>\n",
              "      <td>Pernille Blume (DEN)</td>\n",
              "      <td>Simone Manuel (USA)</td>\n",
              "      <td>Aliaksandra Herasimenia (BLR)</td>\n",
              "    </tr>\n",
              "  </tbody>\n",
              "</table>\n",
              "</div>\n",
              "      <button class=\"colab-df-convert\" onclick=\"convertToInteractive('df-8bd07c56-92b2-45e7-8bed-5bc6bdcd1630')\"\n",
              "              title=\"Convert this dataframe to an interactive table.\"\n",
              "              style=\"display:none;\">\n",
              "        \n",
              "  <svg xmlns=\"http://www.w3.org/2000/svg\" height=\"24px\"viewBox=\"0 0 24 24\"\n",
              "       width=\"24px\">\n",
              "    <path d=\"M0 0h24v24H0V0z\" fill=\"none\"/>\n",
              "    <path d=\"M18.56 5.44l.94 2.06.94-2.06 2.06-.94-2.06-.94-.94-2.06-.94 2.06-2.06.94zm-11 1L8.5 8.5l.94-2.06 2.06-.94-2.06-.94L8.5 2.5l-.94 2.06-2.06.94zm10 10l.94 2.06.94-2.06 2.06-.94-2.06-.94-.94-2.06-.94 2.06-2.06.94z\"/><path d=\"M17.41 7.96l-1.37-1.37c-.4-.4-.92-.59-1.43-.59-.52 0-1.04.2-1.43.59L10.3 9.45l-7.72 7.72c-.78.78-.78 2.05 0 2.83L4 21.41c.39.39.9.59 1.41.59.51 0 1.02-.2 1.41-.59l7.78-7.78 2.81-2.81c.8-.78.8-2.07 0-2.86zM5.41 20L4 18.59l7.72-7.72 1.47 1.35L5.41 20z\"/>\n",
              "  </svg>\n",
              "      </button>\n",
              "      \n",
              "  <style>\n",
              "    .colab-df-container {\n",
              "      display:flex;\n",
              "      flex-wrap:wrap;\n",
              "      gap: 12px;\n",
              "    }\n",
              "\n",
              "    .colab-df-convert {\n",
              "      background-color: #E8F0FE;\n",
              "      border: none;\n",
              "      border-radius: 50%;\n",
              "      cursor: pointer;\n",
              "      display: none;\n",
              "      fill: #1967D2;\n",
              "      height: 32px;\n",
              "      padding: 0 0 0 0;\n",
              "      width: 32px;\n",
              "    }\n",
              "\n",
              "    .colab-df-convert:hover {\n",
              "      background-color: #E2EBFA;\n",
              "      box-shadow: 0px 1px 2px rgba(60, 64, 67, 0.3), 0px 1px 3px 1px rgba(60, 64, 67, 0.15);\n",
              "      fill: #174EA6;\n",
              "    }\n",
              "\n",
              "    [theme=dark] .colab-df-convert {\n",
              "      background-color: #3B4455;\n",
              "      fill: #D2E3FC;\n",
              "    }\n",
              "\n",
              "    [theme=dark] .colab-df-convert:hover {\n",
              "      background-color: #434B5C;\n",
              "      box-shadow: 0px 1px 3px 1px rgba(0, 0, 0, 0.15);\n",
              "      filter: drop-shadow(0px 1px 2px rgba(0, 0, 0, 0.3));\n",
              "      fill: #FFFFFF;\n",
              "    }\n",
              "  </style>\n",
              "\n",
              "      <script>\n",
              "        const buttonEl =\n",
              "          document.querySelector('#df-8bd07c56-92b2-45e7-8bed-5bc6bdcd1630 button.colab-df-convert');\n",
              "        buttonEl.style.display =\n",
              "          google.colab.kernel.accessAllowed ? 'block' : 'none';\n",
              "\n",
              "        async function convertToInteractive(key) {\n",
              "          const element = document.querySelector('#df-8bd07c56-92b2-45e7-8bed-5bc6bdcd1630');\n",
              "          const dataTable =\n",
              "            await google.colab.kernel.invokeFunction('convertToInteractive',\n",
              "                                                     [key], {});\n",
              "          if (!dataTable) return;\n",
              "\n",
              "          const docLinkHtml = 'Like what you see? Visit the ' +\n",
              "            '<a target=\"_blank\" href=https://colab.research.google.com/notebooks/data_table.ipynb>data table notebook</a>'\n",
              "            + ' to learn more about interactive tables.';\n",
              "          element.innerHTML = '';\n",
              "          dataTable['output_type'] = 'display_data';\n",
              "          await google.colab.output.renderOutput(dataTable, element);\n",
              "          const docLink = document.createElement('div');\n",
              "          docLink.innerHTML = docLinkHtml;\n",
              "          element.appendChild(docLink);\n",
              "        }\n",
              "      </script>\n",
              "    </div>\n",
              "  </div>\n",
              "  "
            ]
          },
          "metadata": {}
        }
      ],
      "source": [
        "#Tabela 2\n",
        "tabela50f2 = df[1]\n",
        "tabela50f2.columns = tabela50f2.iloc[0]#subindo a linha 0\n",
        "tabela50f2=tabela50f2[1:9]#tirando a linha 0\n",
        "display(tabela50f2)"
      ]
    },
    {
      "cell_type": "code",
      "execution_count": 159,
      "metadata": {
        "extensions": {
          "jupyter_dashboards": {
            "version": 1,
            "views": {
              "grid_default": {},
              "report_default": {
                "hidden": false
              }
            }
          }
        },
        "colab": {
          "base_uri": "https://localhost:8080/"
        },
        "id": "MHzoU1X-6j5d",
        "outputId": "4edfaf51-f173-4d58-b92e-97b1d22e05e4"
      },
      "outputs": [
        {
          "output_type": "stream",
          "name": "stdout",
          "text": [
            "<class 'pandas.core.frame.DataFrame'>\n",
            "RangeIndex: 8 entries, 1 to 8\n",
            "Data columns (total 4 columns):\n",
            " #   Column  Non-Null Count  Dtype \n",
            "---  ------  --------------  ----- \n",
            " 0   Jogos   8 non-null      object\n",
            " 1   Ouro    8 non-null      object\n",
            " 2   Prata   8 non-null      object\n",
            " 3   Bronze  8 non-null      object\n",
            "dtypes: object(4)\n",
            "memory usage: 388.0+ bytes\n"
          ]
        }
      ],
      "source": [
        "# Verificando as informações da tabela \n",
        "tabela50f2.info()"
      ]
    },
    {
      "cell_type": "code",
      "execution_count": 160,
      "metadata": {
        "extensions": {
          "jupyter_dashboards": {
            "version": 1,
            "views": {
              "grid_default": {},
              "report_default": {
                "hidden": false
              }
            }
          }
        },
        "colab": {
          "base_uri": "https://localhost:8080/",
          "height": 405
        },
        "id": "_cBxW2bd6j5k",
        "outputId": "00821edf-d46d-4d76-b553-c32b3e07d6cf"
      },
      "outputs": [
        {
          "output_type": "stream",
          "name": "stderr",
          "text": [
            "/usr/local/lib/python3.7/dist-packages/pandas/core/frame.py:3641: SettingWithCopyWarning: \n",
            "A value is trying to be set on a copy of a slice from a DataFrame.\n",
            "Try using .loc[row_indexer,col_indexer] = value instead\n",
            "\n",
            "See the caveats in the documentation: https://pandas.pydata.org/pandas-docs/stable/user_guide/indexing.html#returning-a-view-versus-a-copy\n",
            "  self[k1] = value[k2]\n"
          ]
        },
        {
          "output_type": "display_data",
          "data": {
            "text/plain": [
              "0           Jogos                       Ouro                          Prata  \\\n",
              "1       Seul 1988         Kristin Otto (GDR)               Yang Wenyi (CHN)   \n",
              "2  Barcelona 1992           Yang Wenyi (CHN)              Zhuang Yong (CHN)   \n",
              "3    Atlanta 1996        Amy Van Dyken (USA)                Le Jingyi (CHN)   \n",
              "4     Sydney 2000       Inge de Bruijn (NED)        Therèse Alshammar (SWE)   \n",
              "5     Atenas 2004       Inge de Bruijn (NED)            Malia Metella (FRA)   \n",
              "6     Pequim 2008       Britta Steffen (GER)              Dara Torres (USA)   \n",
              "7    Londres 2012  Ranomi Kromowidjojo (NED)  Aliaksandra Herasimenia (BLR)   \n",
              "8        Rio 2016       Pernille Blume (DEN)            Simone Manuel (USA)   \n",
              "\n",
              "0                                   Bronze          0     1  \n",
              "1  Katrin Meissner (GDR)Jill Sterkel (USA)       Seul  1988  \n",
              "2                      Angel Martino (USA)  Barcelona  1992  \n",
              "3                      Sandra Völker (GER)    Atlanta  1996  \n",
              "4                        Dara Torres (USA)     Sydney  2000  \n",
              "5                       Libby Lenton (AUS)     Atenas  2004  \n",
              "6                      Cate Campbell (AUS)     Pequim  2008  \n",
              "7                   Marleen Veldhuis (NED)    Londres  2012  \n",
              "8            Aliaksandra Herasimenia (BLR)        Rio  2016  "
            ],
            "text/html": [
              "\n",
              "  <div id=\"df-ef8865d4-f152-4a4c-8f0d-0176484dfd48\">\n",
              "    <div class=\"colab-df-container\">\n",
              "      <div>\n",
              "<style scoped>\n",
              "    .dataframe tbody tr th:only-of-type {\n",
              "        vertical-align: middle;\n",
              "    }\n",
              "\n",
              "    .dataframe tbody tr th {\n",
              "        vertical-align: top;\n",
              "    }\n",
              "\n",
              "    .dataframe thead th {\n",
              "        text-align: right;\n",
              "    }\n",
              "</style>\n",
              "<table border=\"1\" class=\"dataframe\">\n",
              "  <thead>\n",
              "    <tr style=\"text-align: right;\">\n",
              "      <th></th>\n",
              "      <th>Jogos</th>\n",
              "      <th>Ouro</th>\n",
              "      <th>Prata</th>\n",
              "      <th>Bronze</th>\n",
              "      <th>0</th>\n",
              "      <th>1</th>\n",
              "    </tr>\n",
              "  </thead>\n",
              "  <tbody>\n",
              "    <tr>\n",
              "      <th>1</th>\n",
              "      <td>Seul 1988</td>\n",
              "      <td>Kristin Otto (GDR)</td>\n",
              "      <td>Yang Wenyi (CHN)</td>\n",
              "      <td>Katrin Meissner (GDR)Jill Sterkel (USA)</td>\n",
              "      <td>Seul</td>\n",
              "      <td>1988</td>\n",
              "    </tr>\n",
              "    <tr>\n",
              "      <th>2</th>\n",
              "      <td>Barcelona 1992</td>\n",
              "      <td>Yang Wenyi (CHN)</td>\n",
              "      <td>Zhuang Yong (CHN)</td>\n",
              "      <td>Angel Martino (USA)</td>\n",
              "      <td>Barcelona</td>\n",
              "      <td>1992</td>\n",
              "    </tr>\n",
              "    <tr>\n",
              "      <th>3</th>\n",
              "      <td>Atlanta 1996</td>\n",
              "      <td>Amy Van Dyken (USA)</td>\n",
              "      <td>Le Jingyi (CHN)</td>\n",
              "      <td>Sandra Völker (GER)</td>\n",
              "      <td>Atlanta</td>\n",
              "      <td>1996</td>\n",
              "    </tr>\n",
              "    <tr>\n",
              "      <th>4</th>\n",
              "      <td>Sydney 2000</td>\n",
              "      <td>Inge de Bruijn (NED)</td>\n",
              "      <td>Therèse Alshammar (SWE)</td>\n",
              "      <td>Dara Torres (USA)</td>\n",
              "      <td>Sydney</td>\n",
              "      <td>2000</td>\n",
              "    </tr>\n",
              "    <tr>\n",
              "      <th>5</th>\n",
              "      <td>Atenas 2004</td>\n",
              "      <td>Inge de Bruijn (NED)</td>\n",
              "      <td>Malia Metella (FRA)</td>\n",
              "      <td>Libby Lenton (AUS)</td>\n",
              "      <td>Atenas</td>\n",
              "      <td>2004</td>\n",
              "    </tr>\n",
              "    <tr>\n",
              "      <th>6</th>\n",
              "      <td>Pequim 2008</td>\n",
              "      <td>Britta Steffen (GER)</td>\n",
              "      <td>Dara Torres (USA)</td>\n",
              "      <td>Cate Campbell (AUS)</td>\n",
              "      <td>Pequim</td>\n",
              "      <td>2008</td>\n",
              "    </tr>\n",
              "    <tr>\n",
              "      <th>7</th>\n",
              "      <td>Londres 2012</td>\n",
              "      <td>Ranomi Kromowidjojo (NED)</td>\n",
              "      <td>Aliaksandra Herasimenia (BLR)</td>\n",
              "      <td>Marleen Veldhuis (NED)</td>\n",
              "      <td>Londres</td>\n",
              "      <td>2012</td>\n",
              "    </tr>\n",
              "    <tr>\n",
              "      <th>8</th>\n",
              "      <td>Rio 2016</td>\n",
              "      <td>Pernille Blume (DEN)</td>\n",
              "      <td>Simone Manuel (USA)</td>\n",
              "      <td>Aliaksandra Herasimenia (BLR)</td>\n",
              "      <td>Rio</td>\n",
              "      <td>2016</td>\n",
              "    </tr>\n",
              "  </tbody>\n",
              "</table>\n",
              "</div>\n",
              "      <button class=\"colab-df-convert\" onclick=\"convertToInteractive('df-ef8865d4-f152-4a4c-8f0d-0176484dfd48')\"\n",
              "              title=\"Convert this dataframe to an interactive table.\"\n",
              "              style=\"display:none;\">\n",
              "        \n",
              "  <svg xmlns=\"http://www.w3.org/2000/svg\" height=\"24px\"viewBox=\"0 0 24 24\"\n",
              "       width=\"24px\">\n",
              "    <path d=\"M0 0h24v24H0V0z\" fill=\"none\"/>\n",
              "    <path d=\"M18.56 5.44l.94 2.06.94-2.06 2.06-.94-2.06-.94-.94-2.06-.94 2.06-2.06.94zm-11 1L8.5 8.5l.94-2.06 2.06-.94-2.06-.94L8.5 2.5l-.94 2.06-2.06.94zm10 10l.94 2.06.94-2.06 2.06-.94-2.06-.94-.94-2.06-.94 2.06-2.06.94z\"/><path d=\"M17.41 7.96l-1.37-1.37c-.4-.4-.92-.59-1.43-.59-.52 0-1.04.2-1.43.59L10.3 9.45l-7.72 7.72c-.78.78-.78 2.05 0 2.83L4 21.41c.39.39.9.59 1.41.59.51 0 1.02-.2 1.41-.59l7.78-7.78 2.81-2.81c.8-.78.8-2.07 0-2.86zM5.41 20L4 18.59l7.72-7.72 1.47 1.35L5.41 20z\"/>\n",
              "  </svg>\n",
              "      </button>\n",
              "      \n",
              "  <style>\n",
              "    .colab-df-container {\n",
              "      display:flex;\n",
              "      flex-wrap:wrap;\n",
              "      gap: 12px;\n",
              "    }\n",
              "\n",
              "    .colab-df-convert {\n",
              "      background-color: #E8F0FE;\n",
              "      border: none;\n",
              "      border-radius: 50%;\n",
              "      cursor: pointer;\n",
              "      display: none;\n",
              "      fill: #1967D2;\n",
              "      height: 32px;\n",
              "      padding: 0 0 0 0;\n",
              "      width: 32px;\n",
              "    }\n",
              "\n",
              "    .colab-df-convert:hover {\n",
              "      background-color: #E2EBFA;\n",
              "      box-shadow: 0px 1px 2px rgba(60, 64, 67, 0.3), 0px 1px 3px 1px rgba(60, 64, 67, 0.15);\n",
              "      fill: #174EA6;\n",
              "    }\n",
              "\n",
              "    [theme=dark] .colab-df-convert {\n",
              "      background-color: #3B4455;\n",
              "      fill: #D2E3FC;\n",
              "    }\n",
              "\n",
              "    [theme=dark] .colab-df-convert:hover {\n",
              "      background-color: #434B5C;\n",
              "      box-shadow: 0px 1px 3px 1px rgba(0, 0, 0, 0.15);\n",
              "      filter: drop-shadow(0px 1px 2px rgba(0, 0, 0, 0.3));\n",
              "      fill: #FFFFFF;\n",
              "    }\n",
              "  </style>\n",
              "\n",
              "      <script>\n",
              "        const buttonEl =\n",
              "          document.querySelector('#df-ef8865d4-f152-4a4c-8f0d-0176484dfd48 button.colab-df-convert');\n",
              "        buttonEl.style.display =\n",
              "          google.colab.kernel.accessAllowed ? 'block' : 'none';\n",
              "\n",
              "        async function convertToInteractive(key) {\n",
              "          const element = document.querySelector('#df-ef8865d4-f152-4a4c-8f0d-0176484dfd48');\n",
              "          const dataTable =\n",
              "            await google.colab.kernel.invokeFunction('convertToInteractive',\n",
              "                                                     [key], {});\n",
              "          if (!dataTable) return;\n",
              "\n",
              "          const docLinkHtml = 'Like what you see? Visit the ' +\n",
              "            '<a target=\"_blank\" href=https://colab.research.google.com/notebooks/data_table.ipynb>data table notebook</a>'\n",
              "            + ' to learn more about interactive tables.';\n",
              "          element.innerHTML = '';\n",
              "          dataTable['output_type'] = 'display_data';\n",
              "          await google.colab.output.renderOutput(dataTable, element);\n",
              "          const docLink = document.createElement('div');\n",
              "          docLink.innerHTML = docLinkHtml;\n",
              "          element.appendChild(docLink);\n",
              "        }\n",
              "      </script>\n",
              "    </div>\n",
              "  </div>\n",
              "  "
            ]
          },
          "metadata": {}
        }
      ],
      "source": [
        "# As informações estão separadas por um espaço\n",
        "tabela50f2[[0, 1]] = tabela50f2[\"Jogos\"].str.split(\" \", expand=True)\n",
        "display(tabela50f2)"
      ]
    },
    {
      "cell_type": "code",
      "execution_count": 161,
      "metadata": {
        "extensions": {
          "jupyter_dashboards": {
            "version": 1,
            "views": {
              "grid_default": {},
              "report_default": {
                "hidden": false
              }
            }
          }
        },
        "colab": {
          "base_uri": "https://localhost:8080/"
        },
        "id": "UMlbxHO36j5r",
        "outputId": "f5f8ff85-a25a-4a56-9214-fb8bc1a85fc2"
      },
      "outputs": [
        {
          "output_type": "stream",
          "name": "stdout",
          "text": [
            "<class 'pandas.core.frame.DataFrame'>\n",
            "RangeIndex: 8 entries, 1 to 8\n",
            "Data columns (total 6 columns):\n",
            " #   Column  Non-Null Count  Dtype \n",
            "---  ------  --------------  ----- \n",
            " 0   Jogos   8 non-null      object\n",
            " 1   Ouro    8 non-null      object\n",
            " 2   Prata   8 non-null      object\n",
            " 3   Bronze  8 non-null      object\n",
            " 4   0       8 non-null      object\n",
            " 5   1       8 non-null      object\n",
            "dtypes: object(6)\n",
            "memory usage: 516.0+ bytes\n"
          ]
        }
      ],
      "source": [
        "# Verificando as informações da tabela \n",
        "tabela50f2.info()"
      ]
    },
    {
      "cell_type": "code",
      "execution_count": 162,
      "metadata": {
        "extensions": {
          "jupyter_dashboards": {
            "version": 1,
            "views": {
              "grid_default": {},
              "report_default": {
                "hidden": false
              }
            }
          }
        },
        "colab": {
          "base_uri": "https://localhost:8080/",
          "height": 300
        },
        "id": "YPMPqt4C6j6Q",
        "outputId": "b380d385-459c-419c-eb9d-9664c9571cd8"
      },
      "outputs": [
        {
          "output_type": "display_data",
          "data": {
            "text/plain": [
              "0                       Ouro                          Prata  \\\n",
              "1         Kristin Otto (GDR)               Yang Wenyi (CHN)   \n",
              "2           Yang Wenyi (CHN)              Zhuang Yong (CHN)   \n",
              "3        Amy Van Dyken (USA)                Le Jingyi (CHN)   \n",
              "4       Inge de Bruijn (NED)        Therèse Alshammar (SWE)   \n",
              "5       Inge de Bruijn (NED)            Malia Metella (FRA)   \n",
              "6       Britta Steffen (GER)              Dara Torres (USA)   \n",
              "7  Ranomi Kromowidjojo (NED)  Aliaksandra Herasimenia (BLR)   \n",
              "8       Pernille Blume (DEN)            Simone Manuel (USA)   \n",
              "\n",
              "0                                   Bronze          0     1  \n",
              "1  Katrin Meissner (GDR)Jill Sterkel (USA)       Seul  1988  \n",
              "2                      Angel Martino (USA)  Barcelona  1992  \n",
              "3                      Sandra Völker (GER)    Atlanta  1996  \n",
              "4                        Dara Torres (USA)     Sydney  2000  \n",
              "5                       Libby Lenton (AUS)     Atenas  2004  \n",
              "6                      Cate Campbell (AUS)     Pequim  2008  \n",
              "7                   Marleen Veldhuis (NED)    Londres  2012  \n",
              "8            Aliaksandra Herasimenia (BLR)        Rio  2016  "
            ],
            "text/html": [
              "\n",
              "  <div id=\"df-203362a4-f347-41b7-a7e1-9e74803e70ed\">\n",
              "    <div class=\"colab-df-container\">\n",
              "      <div>\n",
              "<style scoped>\n",
              "    .dataframe tbody tr th:only-of-type {\n",
              "        vertical-align: middle;\n",
              "    }\n",
              "\n",
              "    .dataframe tbody tr th {\n",
              "        vertical-align: top;\n",
              "    }\n",
              "\n",
              "    .dataframe thead th {\n",
              "        text-align: right;\n",
              "    }\n",
              "</style>\n",
              "<table border=\"1\" class=\"dataframe\">\n",
              "  <thead>\n",
              "    <tr style=\"text-align: right;\">\n",
              "      <th></th>\n",
              "      <th>Ouro</th>\n",
              "      <th>Prata</th>\n",
              "      <th>Bronze</th>\n",
              "      <th>0</th>\n",
              "      <th>1</th>\n",
              "    </tr>\n",
              "  </thead>\n",
              "  <tbody>\n",
              "    <tr>\n",
              "      <th>1</th>\n",
              "      <td>Kristin Otto (GDR)</td>\n",
              "      <td>Yang Wenyi (CHN)</td>\n",
              "      <td>Katrin Meissner (GDR)Jill Sterkel (USA)</td>\n",
              "      <td>Seul</td>\n",
              "      <td>1988</td>\n",
              "    </tr>\n",
              "    <tr>\n",
              "      <th>2</th>\n",
              "      <td>Yang Wenyi (CHN)</td>\n",
              "      <td>Zhuang Yong (CHN)</td>\n",
              "      <td>Angel Martino (USA)</td>\n",
              "      <td>Barcelona</td>\n",
              "      <td>1992</td>\n",
              "    </tr>\n",
              "    <tr>\n",
              "      <th>3</th>\n",
              "      <td>Amy Van Dyken (USA)</td>\n",
              "      <td>Le Jingyi (CHN)</td>\n",
              "      <td>Sandra Völker (GER)</td>\n",
              "      <td>Atlanta</td>\n",
              "      <td>1996</td>\n",
              "    </tr>\n",
              "    <tr>\n",
              "      <th>4</th>\n",
              "      <td>Inge de Bruijn (NED)</td>\n",
              "      <td>Therèse Alshammar (SWE)</td>\n",
              "      <td>Dara Torres (USA)</td>\n",
              "      <td>Sydney</td>\n",
              "      <td>2000</td>\n",
              "    </tr>\n",
              "    <tr>\n",
              "      <th>5</th>\n",
              "      <td>Inge de Bruijn (NED)</td>\n",
              "      <td>Malia Metella (FRA)</td>\n",
              "      <td>Libby Lenton (AUS)</td>\n",
              "      <td>Atenas</td>\n",
              "      <td>2004</td>\n",
              "    </tr>\n",
              "    <tr>\n",
              "      <th>6</th>\n",
              "      <td>Britta Steffen (GER)</td>\n",
              "      <td>Dara Torres (USA)</td>\n",
              "      <td>Cate Campbell (AUS)</td>\n",
              "      <td>Pequim</td>\n",
              "      <td>2008</td>\n",
              "    </tr>\n",
              "    <tr>\n",
              "      <th>7</th>\n",
              "      <td>Ranomi Kromowidjojo (NED)</td>\n",
              "      <td>Aliaksandra Herasimenia (BLR)</td>\n",
              "      <td>Marleen Veldhuis (NED)</td>\n",
              "      <td>Londres</td>\n",
              "      <td>2012</td>\n",
              "    </tr>\n",
              "    <tr>\n",
              "      <th>8</th>\n",
              "      <td>Pernille Blume (DEN)</td>\n",
              "      <td>Simone Manuel (USA)</td>\n",
              "      <td>Aliaksandra Herasimenia (BLR)</td>\n",
              "      <td>Rio</td>\n",
              "      <td>2016</td>\n",
              "    </tr>\n",
              "  </tbody>\n",
              "</table>\n",
              "</div>\n",
              "      <button class=\"colab-df-convert\" onclick=\"convertToInteractive('df-203362a4-f347-41b7-a7e1-9e74803e70ed')\"\n",
              "              title=\"Convert this dataframe to an interactive table.\"\n",
              "              style=\"display:none;\">\n",
              "        \n",
              "  <svg xmlns=\"http://www.w3.org/2000/svg\" height=\"24px\"viewBox=\"0 0 24 24\"\n",
              "       width=\"24px\">\n",
              "    <path d=\"M0 0h24v24H0V0z\" fill=\"none\"/>\n",
              "    <path d=\"M18.56 5.44l.94 2.06.94-2.06 2.06-.94-2.06-.94-.94-2.06-.94 2.06-2.06.94zm-11 1L8.5 8.5l.94-2.06 2.06-.94-2.06-.94L8.5 2.5l-.94 2.06-2.06.94zm10 10l.94 2.06.94-2.06 2.06-.94-2.06-.94-.94-2.06-.94 2.06-2.06.94z\"/><path d=\"M17.41 7.96l-1.37-1.37c-.4-.4-.92-.59-1.43-.59-.52 0-1.04.2-1.43.59L10.3 9.45l-7.72 7.72c-.78.78-.78 2.05 0 2.83L4 21.41c.39.39.9.59 1.41.59.51 0 1.02-.2 1.41-.59l7.78-7.78 2.81-2.81c.8-.78.8-2.07 0-2.86zM5.41 20L4 18.59l7.72-7.72 1.47 1.35L5.41 20z\"/>\n",
              "  </svg>\n",
              "      </button>\n",
              "      \n",
              "  <style>\n",
              "    .colab-df-container {\n",
              "      display:flex;\n",
              "      flex-wrap:wrap;\n",
              "      gap: 12px;\n",
              "    }\n",
              "\n",
              "    .colab-df-convert {\n",
              "      background-color: #E8F0FE;\n",
              "      border: none;\n",
              "      border-radius: 50%;\n",
              "      cursor: pointer;\n",
              "      display: none;\n",
              "      fill: #1967D2;\n",
              "      height: 32px;\n",
              "      padding: 0 0 0 0;\n",
              "      width: 32px;\n",
              "    }\n",
              "\n",
              "    .colab-df-convert:hover {\n",
              "      background-color: #E2EBFA;\n",
              "      box-shadow: 0px 1px 2px rgba(60, 64, 67, 0.3), 0px 1px 3px 1px rgba(60, 64, 67, 0.15);\n",
              "      fill: #174EA6;\n",
              "    }\n",
              "\n",
              "    [theme=dark] .colab-df-convert {\n",
              "      background-color: #3B4455;\n",
              "      fill: #D2E3FC;\n",
              "    }\n",
              "\n",
              "    [theme=dark] .colab-df-convert:hover {\n",
              "      background-color: #434B5C;\n",
              "      box-shadow: 0px 1px 3px 1px rgba(0, 0, 0, 0.15);\n",
              "      filter: drop-shadow(0px 1px 2px rgba(0, 0, 0, 0.3));\n",
              "      fill: #FFFFFF;\n",
              "    }\n",
              "  </style>\n",
              "\n",
              "      <script>\n",
              "        const buttonEl =\n",
              "          document.querySelector('#df-203362a4-f347-41b7-a7e1-9e74803e70ed button.colab-df-convert');\n",
              "        buttonEl.style.display =\n",
              "          google.colab.kernel.accessAllowed ? 'block' : 'none';\n",
              "\n",
              "        async function convertToInteractive(key) {\n",
              "          const element = document.querySelector('#df-203362a4-f347-41b7-a7e1-9e74803e70ed');\n",
              "          const dataTable =\n",
              "            await google.colab.kernel.invokeFunction('convertToInteractive',\n",
              "                                                     [key], {});\n",
              "          if (!dataTable) return;\n",
              "\n",
              "          const docLinkHtml = 'Like what you see? Visit the ' +\n",
              "            '<a target=\"_blank\" href=https://colab.research.google.com/notebooks/data_table.ipynb>data table notebook</a>'\n",
              "            + ' to learn more about interactive tables.';\n",
              "          element.innerHTML = '';\n",
              "          dataTable['output_type'] = 'display_data';\n",
              "          await google.colab.output.renderOutput(dataTable, element);\n",
              "          const docLink = document.createElement('div');\n",
              "          docLink.innerHTML = docLinkHtml;\n",
              "          element.appendChild(docLink);\n",
              "        }\n",
              "      </script>\n",
              "    </div>\n",
              "  </div>\n",
              "  "
            ]
          },
          "metadata": {}
        }
      ],
      "source": [
        "#Retirando a coluna que foi separada\n",
        "tabela50f2 = tabela50f2.drop(\"Jogos\", axis=1)\n",
        "display(tabela50f2)"
      ]
    },
    {
      "cell_type": "code",
      "execution_count": 163,
      "metadata": {
        "extensions": {
          "jupyter_dashboards": {
            "version": 1,
            "views": {
              "grid_default": {},
              "report_default": {
                "hidden": true
              }
            }
          }
        },
        "id": "vv-8hMsj6j6a"
      },
      "outputs": [],
      "source": [
        "# Alterando os tipos dos dados para string\n",
        "tabela50f2['Ouro'] = tabela50f2['Ouro'].astype(str)\n",
        "tabela50f2['Prata'] = tabela50f2['Prata'].astype(str)\n",
        "tabela50f2['Bronze'] = tabela50f2['Bronze'].astype(str)\n",
        "tabela50f2[0] = tabela50f2[0].astype(str)\n",
        "tabela50f2[1] = tabela50f2[1].astype(int)"
      ]
    },
    {
      "cell_type": "code",
      "execution_count": 164,
      "metadata": {
        "extensions": {
          "jupyter_dashboards": {
            "version": 1,
            "views": {
              "grid_default": {},
              "report_default": {
                "hidden": false
              }
            }
          }
        },
        "colab": {
          "base_uri": "https://localhost:8080/"
        },
        "id": "lx7c2gjG6j6d",
        "outputId": "d449189e-df99-44f2-e141-aa90c873a1d2"
      },
      "outputs": [
        {
          "output_type": "stream",
          "name": "stdout",
          "text": [
            "<class 'pandas.core.frame.DataFrame'>\n",
            "RangeIndex: 8 entries, 1 to 8\n",
            "Data columns (total 5 columns):\n",
            " #   Column  Non-Null Count  Dtype \n",
            "---  ------  --------------  ----- \n",
            " 0   Ouro    8 non-null      object\n",
            " 1   Prata   8 non-null      object\n",
            " 2   Bronze  8 non-null      object\n",
            " 3   0       8 non-null      object\n",
            " 4   1       8 non-null      int64 \n",
            "dtypes: int64(1), object(4)\n",
            "memory usage: 452.0+ bytes\n"
          ]
        }
      ],
      "source": [
        "# Verificando as informações da tabela \n",
        "tabela50f2.info()"
      ]
    },
    {
      "cell_type": "code",
      "execution_count": 165,
      "metadata": {
        "extensions": {
          "jupyter_dashboards": {
            "version": 1,
            "views": {
              "grid_default": {},
              "report_default": {
                "hidden": false
              }
            }
          }
        },
        "colab": {
          "base_uri": "https://localhost:8080/",
          "height": 300
        },
        "id": "JlaGwUYr6j6m",
        "outputId": "29fe530d-8057-4673-acfd-90986e73f827"
      },
      "outputs": [
        {
          "output_type": "display_data",
          "data": {
            "text/plain": [
              "0           OuroNadadoraPaís              PrataNadadoraPaís  \\\n",
              "1         Kristin Otto (GDR)               Yang Wenyi (CHN)   \n",
              "2           Yang Wenyi (CHN)              Zhuang Yong (CHN)   \n",
              "3        Amy Van Dyken (USA)                Le Jingyi (CHN)   \n",
              "4       Inge de Bruijn (NED)        Therèse Alshammar (SWE)   \n",
              "5       Inge de Bruijn (NED)            Malia Metella (FRA)   \n",
              "6       Britta Steffen (GER)              Dara Torres (USA)   \n",
              "7  Ranomi Kromowidjojo (NED)  Aliaksandra Herasimenia (BLR)   \n",
              "8       Pernille Blume (DEN)            Simone Manuel (USA)   \n",
              "\n",
              "0                       BronzeNadadoraPaís     Cidade   Ano  \n",
              "1  Katrin Meissner (GDR)Jill Sterkel (USA)       Seul  1988  \n",
              "2                      Angel Martino (USA)  Barcelona  1992  \n",
              "3                      Sandra Völker (GER)    Atlanta  1996  \n",
              "4                        Dara Torres (USA)     Sydney  2000  \n",
              "5                       Libby Lenton (AUS)     Atenas  2004  \n",
              "6                      Cate Campbell (AUS)     Pequim  2008  \n",
              "7                   Marleen Veldhuis (NED)    Londres  2012  \n",
              "8            Aliaksandra Herasimenia (BLR)        Rio  2016  "
            ],
            "text/html": [
              "\n",
              "  <div id=\"df-67df66e2-626f-4718-94a9-f838d5265240\">\n",
              "    <div class=\"colab-df-container\">\n",
              "      <div>\n",
              "<style scoped>\n",
              "    .dataframe tbody tr th:only-of-type {\n",
              "        vertical-align: middle;\n",
              "    }\n",
              "\n",
              "    .dataframe tbody tr th {\n",
              "        vertical-align: top;\n",
              "    }\n",
              "\n",
              "    .dataframe thead th {\n",
              "        text-align: right;\n",
              "    }\n",
              "</style>\n",
              "<table border=\"1\" class=\"dataframe\">\n",
              "  <thead>\n",
              "    <tr style=\"text-align: right;\">\n",
              "      <th></th>\n",
              "      <th>OuroNadadoraPaís</th>\n",
              "      <th>PrataNadadoraPaís</th>\n",
              "      <th>BronzeNadadoraPaís</th>\n",
              "      <th>Cidade</th>\n",
              "      <th>Ano</th>\n",
              "    </tr>\n",
              "  </thead>\n",
              "  <tbody>\n",
              "    <tr>\n",
              "      <th>1</th>\n",
              "      <td>Kristin Otto (GDR)</td>\n",
              "      <td>Yang Wenyi (CHN)</td>\n",
              "      <td>Katrin Meissner (GDR)Jill Sterkel (USA)</td>\n",
              "      <td>Seul</td>\n",
              "      <td>1988</td>\n",
              "    </tr>\n",
              "    <tr>\n",
              "      <th>2</th>\n",
              "      <td>Yang Wenyi (CHN)</td>\n",
              "      <td>Zhuang Yong (CHN)</td>\n",
              "      <td>Angel Martino (USA)</td>\n",
              "      <td>Barcelona</td>\n",
              "      <td>1992</td>\n",
              "    </tr>\n",
              "    <tr>\n",
              "      <th>3</th>\n",
              "      <td>Amy Van Dyken (USA)</td>\n",
              "      <td>Le Jingyi (CHN)</td>\n",
              "      <td>Sandra Völker (GER)</td>\n",
              "      <td>Atlanta</td>\n",
              "      <td>1996</td>\n",
              "    </tr>\n",
              "    <tr>\n",
              "      <th>4</th>\n",
              "      <td>Inge de Bruijn (NED)</td>\n",
              "      <td>Therèse Alshammar (SWE)</td>\n",
              "      <td>Dara Torres (USA)</td>\n",
              "      <td>Sydney</td>\n",
              "      <td>2000</td>\n",
              "    </tr>\n",
              "    <tr>\n",
              "      <th>5</th>\n",
              "      <td>Inge de Bruijn (NED)</td>\n",
              "      <td>Malia Metella (FRA)</td>\n",
              "      <td>Libby Lenton (AUS)</td>\n",
              "      <td>Atenas</td>\n",
              "      <td>2004</td>\n",
              "    </tr>\n",
              "    <tr>\n",
              "      <th>6</th>\n",
              "      <td>Britta Steffen (GER)</td>\n",
              "      <td>Dara Torres (USA)</td>\n",
              "      <td>Cate Campbell (AUS)</td>\n",
              "      <td>Pequim</td>\n",
              "      <td>2008</td>\n",
              "    </tr>\n",
              "    <tr>\n",
              "      <th>7</th>\n",
              "      <td>Ranomi Kromowidjojo (NED)</td>\n",
              "      <td>Aliaksandra Herasimenia (BLR)</td>\n",
              "      <td>Marleen Veldhuis (NED)</td>\n",
              "      <td>Londres</td>\n",
              "      <td>2012</td>\n",
              "    </tr>\n",
              "    <tr>\n",
              "      <th>8</th>\n",
              "      <td>Pernille Blume (DEN)</td>\n",
              "      <td>Simone Manuel (USA)</td>\n",
              "      <td>Aliaksandra Herasimenia (BLR)</td>\n",
              "      <td>Rio</td>\n",
              "      <td>2016</td>\n",
              "    </tr>\n",
              "  </tbody>\n",
              "</table>\n",
              "</div>\n",
              "      <button class=\"colab-df-convert\" onclick=\"convertToInteractive('df-67df66e2-626f-4718-94a9-f838d5265240')\"\n",
              "              title=\"Convert this dataframe to an interactive table.\"\n",
              "              style=\"display:none;\">\n",
              "        \n",
              "  <svg xmlns=\"http://www.w3.org/2000/svg\" height=\"24px\"viewBox=\"0 0 24 24\"\n",
              "       width=\"24px\">\n",
              "    <path d=\"M0 0h24v24H0V0z\" fill=\"none\"/>\n",
              "    <path d=\"M18.56 5.44l.94 2.06.94-2.06 2.06-.94-2.06-.94-.94-2.06-.94 2.06-2.06.94zm-11 1L8.5 8.5l.94-2.06 2.06-.94-2.06-.94L8.5 2.5l-.94 2.06-2.06.94zm10 10l.94 2.06.94-2.06 2.06-.94-2.06-.94-.94-2.06-.94 2.06-2.06.94z\"/><path d=\"M17.41 7.96l-1.37-1.37c-.4-.4-.92-.59-1.43-.59-.52 0-1.04.2-1.43.59L10.3 9.45l-7.72 7.72c-.78.78-.78 2.05 0 2.83L4 21.41c.39.39.9.59 1.41.59.51 0 1.02-.2 1.41-.59l7.78-7.78 2.81-2.81c.8-.78.8-2.07 0-2.86zM5.41 20L4 18.59l7.72-7.72 1.47 1.35L5.41 20z\"/>\n",
              "  </svg>\n",
              "      </button>\n",
              "      \n",
              "  <style>\n",
              "    .colab-df-container {\n",
              "      display:flex;\n",
              "      flex-wrap:wrap;\n",
              "      gap: 12px;\n",
              "    }\n",
              "\n",
              "    .colab-df-convert {\n",
              "      background-color: #E8F0FE;\n",
              "      border: none;\n",
              "      border-radius: 50%;\n",
              "      cursor: pointer;\n",
              "      display: none;\n",
              "      fill: #1967D2;\n",
              "      height: 32px;\n",
              "      padding: 0 0 0 0;\n",
              "      width: 32px;\n",
              "    }\n",
              "\n",
              "    .colab-df-convert:hover {\n",
              "      background-color: #E2EBFA;\n",
              "      box-shadow: 0px 1px 2px rgba(60, 64, 67, 0.3), 0px 1px 3px 1px rgba(60, 64, 67, 0.15);\n",
              "      fill: #174EA6;\n",
              "    }\n",
              "\n",
              "    [theme=dark] .colab-df-convert {\n",
              "      background-color: #3B4455;\n",
              "      fill: #D2E3FC;\n",
              "    }\n",
              "\n",
              "    [theme=dark] .colab-df-convert:hover {\n",
              "      background-color: #434B5C;\n",
              "      box-shadow: 0px 1px 3px 1px rgba(0, 0, 0, 0.15);\n",
              "      filter: drop-shadow(0px 1px 2px rgba(0, 0, 0, 0.3));\n",
              "      fill: #FFFFFF;\n",
              "    }\n",
              "  </style>\n",
              "\n",
              "      <script>\n",
              "        const buttonEl =\n",
              "          document.querySelector('#df-67df66e2-626f-4718-94a9-f838d5265240 button.colab-df-convert');\n",
              "        buttonEl.style.display =\n",
              "          google.colab.kernel.accessAllowed ? 'block' : 'none';\n",
              "\n",
              "        async function convertToInteractive(key) {\n",
              "          const element = document.querySelector('#df-67df66e2-626f-4718-94a9-f838d5265240');\n",
              "          const dataTable =\n",
              "            await google.colab.kernel.invokeFunction('convertToInteractive',\n",
              "                                                     [key], {});\n",
              "          if (!dataTable) return;\n",
              "\n",
              "          const docLinkHtml = 'Like what you see? Visit the ' +\n",
              "            '<a target=\"_blank\" href=https://colab.research.google.com/notebooks/data_table.ipynb>data table notebook</a>'\n",
              "            + ' to learn more about interactive tables.';\n",
              "          element.innerHTML = '';\n",
              "          dataTable['output_type'] = 'display_data';\n",
              "          await google.colab.output.renderOutput(dataTable, element);\n",
              "          const docLink = document.createElement('div');\n",
              "          docLink.innerHTML = docLinkHtml;\n",
              "          element.appendChild(docLink);\n",
              "        }\n",
              "      </script>\n",
              "    </div>\n",
              "  </div>\n",
              "  "
            ]
          },
          "metadata": {}
        }
      ],
      "source": [
        "#Renomeando as colunas 0 e 1 em 'Sede','Ano'\n",
        "tabela50f2.rename(columns={0: 'Cidade'}, inplace=True)\n",
        "tabela50f2.rename(columns={1: 'Ano'}, inplace=True)\n",
        "tabela50f2.rename(columns={'Ouro': 'OuroNadadoraPaís'}, inplace=True)\n",
        "tabela50f2.rename(columns={'Prata': 'PrataNadadoraPaís'}, inplace=True)\n",
        "tabela50f2.rename(columns={'Bronze': 'BronzeNadadoraPaís'}, inplace=True)\n",
        "display(tabela50f2)"
      ]
    },
    {
      "cell_type": "code",
      "execution_count": 166,
      "metadata": {
        "id": "GLAEDODs6j6r"
      },
      "outputs": [],
      "source": [
        "# Salvando o arquivo na pasta em excel\n",
        "tabela50f2.to_excel('/content/drive/MyDrive/Colab Notebooks/Natação_Dados/tabela50f2.xlsx', index = True)\n",
        "# /content/drive/MyDrive/Colab Notebooks/Natação_Dados/tabela50f2.xlsx\n",
        "#, encoding='cp1252'"
      ]
    },
    {
      "cell_type": "code",
      "execution_count": 167,
      "metadata": {
        "extensions": {
          "jupyter_dashboards": {
            "version": 1,
            "views": {
              "grid_default": {},
              "report_default": {
                "hidden": false
              }
            }
          }
        },
        "colab": {
          "base_uri": "https://localhost:8080/",
          "height": 112
        },
        "id": "kvmIZEd66j6u",
        "outputId": "ad8bd5d9-b0ed-43eb-df35-241bd67edd23"
      },
      "outputs": [
        {
          "output_type": "execute_result",
          "data": {
            "text/plain": [
              "0    OuroNadadoraPaís  PrataNadadoraPaís  \\\n",
              "1  Kristin Otto (GDR)   Yang Wenyi (CHN)   \n",
              "2    Yang Wenyi (CHN)  Zhuang Yong (CHN)   \n",
              "\n",
              "0                       BronzeNadadoraPaís     Cidade   Ano  \n",
              "1  Katrin Meissner (GDR)Jill Sterkel (USA)       Seul  1988  \n",
              "2                      Angel Martino (USA)  Barcelona  1992  "
            ],
            "text/html": [
              "\n",
              "  <div id=\"df-2eae072a-6a41-4efa-b92f-be4001061909\">\n",
              "    <div class=\"colab-df-container\">\n",
              "      <div>\n",
              "<style scoped>\n",
              "    .dataframe tbody tr th:only-of-type {\n",
              "        vertical-align: middle;\n",
              "    }\n",
              "\n",
              "    .dataframe tbody tr th {\n",
              "        vertical-align: top;\n",
              "    }\n",
              "\n",
              "    .dataframe thead th {\n",
              "        text-align: right;\n",
              "    }\n",
              "</style>\n",
              "<table border=\"1\" class=\"dataframe\">\n",
              "  <thead>\n",
              "    <tr style=\"text-align: right;\">\n",
              "      <th></th>\n",
              "      <th>OuroNadadoraPaís</th>\n",
              "      <th>PrataNadadoraPaís</th>\n",
              "      <th>BronzeNadadoraPaís</th>\n",
              "      <th>Cidade</th>\n",
              "      <th>Ano</th>\n",
              "    </tr>\n",
              "  </thead>\n",
              "  <tbody>\n",
              "    <tr>\n",
              "      <th>1</th>\n",
              "      <td>Kristin Otto (GDR)</td>\n",
              "      <td>Yang Wenyi (CHN)</td>\n",
              "      <td>Katrin Meissner (GDR)Jill Sterkel (USA)</td>\n",
              "      <td>Seul</td>\n",
              "      <td>1988</td>\n",
              "    </tr>\n",
              "    <tr>\n",
              "      <th>2</th>\n",
              "      <td>Yang Wenyi (CHN)</td>\n",
              "      <td>Zhuang Yong (CHN)</td>\n",
              "      <td>Angel Martino (USA)</td>\n",
              "      <td>Barcelona</td>\n",
              "      <td>1992</td>\n",
              "    </tr>\n",
              "  </tbody>\n",
              "</table>\n",
              "</div>\n",
              "      <button class=\"colab-df-convert\" onclick=\"convertToInteractive('df-2eae072a-6a41-4efa-b92f-be4001061909')\"\n",
              "              title=\"Convert this dataframe to an interactive table.\"\n",
              "              style=\"display:none;\">\n",
              "        \n",
              "  <svg xmlns=\"http://www.w3.org/2000/svg\" height=\"24px\"viewBox=\"0 0 24 24\"\n",
              "       width=\"24px\">\n",
              "    <path d=\"M0 0h24v24H0V0z\" fill=\"none\"/>\n",
              "    <path d=\"M18.56 5.44l.94 2.06.94-2.06 2.06-.94-2.06-.94-.94-2.06-.94 2.06-2.06.94zm-11 1L8.5 8.5l.94-2.06 2.06-.94-2.06-.94L8.5 2.5l-.94 2.06-2.06.94zm10 10l.94 2.06.94-2.06 2.06-.94-2.06-.94-.94-2.06-.94 2.06-2.06.94z\"/><path d=\"M17.41 7.96l-1.37-1.37c-.4-.4-.92-.59-1.43-.59-.52 0-1.04.2-1.43.59L10.3 9.45l-7.72 7.72c-.78.78-.78 2.05 0 2.83L4 21.41c.39.39.9.59 1.41.59.51 0 1.02-.2 1.41-.59l7.78-7.78 2.81-2.81c.8-.78.8-2.07 0-2.86zM5.41 20L4 18.59l7.72-7.72 1.47 1.35L5.41 20z\"/>\n",
              "  </svg>\n",
              "      </button>\n",
              "      \n",
              "  <style>\n",
              "    .colab-df-container {\n",
              "      display:flex;\n",
              "      flex-wrap:wrap;\n",
              "      gap: 12px;\n",
              "    }\n",
              "\n",
              "    .colab-df-convert {\n",
              "      background-color: #E8F0FE;\n",
              "      border: none;\n",
              "      border-radius: 50%;\n",
              "      cursor: pointer;\n",
              "      display: none;\n",
              "      fill: #1967D2;\n",
              "      height: 32px;\n",
              "      padding: 0 0 0 0;\n",
              "      width: 32px;\n",
              "    }\n",
              "\n",
              "    .colab-df-convert:hover {\n",
              "      background-color: #E2EBFA;\n",
              "      box-shadow: 0px 1px 2px rgba(60, 64, 67, 0.3), 0px 1px 3px 1px rgba(60, 64, 67, 0.15);\n",
              "      fill: #174EA6;\n",
              "    }\n",
              "\n",
              "    [theme=dark] .colab-df-convert {\n",
              "      background-color: #3B4455;\n",
              "      fill: #D2E3FC;\n",
              "    }\n",
              "\n",
              "    [theme=dark] .colab-df-convert:hover {\n",
              "      background-color: #434B5C;\n",
              "      box-shadow: 0px 1px 3px 1px rgba(0, 0, 0, 0.15);\n",
              "      filter: drop-shadow(0px 1px 2px rgba(0, 0, 0, 0.3));\n",
              "      fill: #FFFFFF;\n",
              "    }\n",
              "  </style>\n",
              "\n",
              "      <script>\n",
              "        const buttonEl =\n",
              "          document.querySelector('#df-2eae072a-6a41-4efa-b92f-be4001061909 button.colab-df-convert');\n",
              "        buttonEl.style.display =\n",
              "          google.colab.kernel.accessAllowed ? 'block' : 'none';\n",
              "\n",
              "        async function convertToInteractive(key) {\n",
              "          const element = document.querySelector('#df-2eae072a-6a41-4efa-b92f-be4001061909');\n",
              "          const dataTable =\n",
              "            await google.colab.kernel.invokeFunction('convertToInteractive',\n",
              "                                                     [key], {});\n",
              "          if (!dataTable) return;\n",
              "\n",
              "          const docLinkHtml = 'Like what you see? Visit the ' +\n",
              "            '<a target=\"_blank\" href=https://colab.research.google.com/notebooks/data_table.ipynb>data table notebook</a>'\n",
              "            + ' to learn more about interactive tables.';\n",
              "          element.innerHTML = '';\n",
              "          dataTable['output_type'] = 'display_data';\n",
              "          await google.colab.output.renderOutput(dataTable, element);\n",
              "          const docLink = document.createElement('div');\n",
              "          docLink.innerHTML = docLinkHtml;\n",
              "          element.appendChild(docLink);\n",
              "        }\n",
              "      </script>\n",
              "    </div>\n",
              "  </div>\n",
              "  "
            ]
          },
          "metadata": {},
          "execution_count": 167
        }
      ],
      "source": [
        "#Localizando um dado específico - Posições da nadadora Yang Wenyi (CHN)\n",
        "tabela50f2.query('OuroNadadoraPaís ==\"Yang Wenyi (CHN)\" | PrataNadadoraPaís ==\"Yang Wenyi (CHN)\" | BronzeNadadoraPaís ==\"Yang Wenyi (CHN)\"').head(8)"
      ]
    },
    {
      "cell_type": "code",
      "execution_count": 168,
      "metadata": {
        "extensions": {
          "jupyter_dashboards": {
            "version": 1,
            "views": {
              "grid_default": {},
              "report_default": {
                "hidden": false
              }
            }
          }
        },
        "colab": {
          "base_uri": "https://localhost:8080/",
          "height": 112
        },
        "id": "hgQBFSug6j6z",
        "outputId": "d6840a6f-6251-45e6-b369-2fa8a1509c29"
      },
      "outputs": [
        {
          "output_type": "execute_result",
          "data": {
            "text/plain": [
              "0      OuroNadadoraPaís        PrataNadadoraPaís   BronzeNadadoraPaís  Cidade  \\\n",
              "4  Inge de Bruijn (NED)  Therèse Alshammar (SWE)    Dara Torres (USA)  Sydney   \n",
              "6  Britta Steffen (GER)        Dara Torres (USA)  Cate Campbell (AUS)  Pequim   \n",
              "\n",
              "0   Ano  \n",
              "4  2000  \n",
              "6  2008  "
            ],
            "text/html": [
              "\n",
              "  <div id=\"df-33fe2722-4373-433d-8068-538f31fdf360\">\n",
              "    <div class=\"colab-df-container\">\n",
              "      <div>\n",
              "<style scoped>\n",
              "    .dataframe tbody tr th:only-of-type {\n",
              "        vertical-align: middle;\n",
              "    }\n",
              "\n",
              "    .dataframe tbody tr th {\n",
              "        vertical-align: top;\n",
              "    }\n",
              "\n",
              "    .dataframe thead th {\n",
              "        text-align: right;\n",
              "    }\n",
              "</style>\n",
              "<table border=\"1\" class=\"dataframe\">\n",
              "  <thead>\n",
              "    <tr style=\"text-align: right;\">\n",
              "      <th></th>\n",
              "      <th>OuroNadadoraPaís</th>\n",
              "      <th>PrataNadadoraPaís</th>\n",
              "      <th>BronzeNadadoraPaís</th>\n",
              "      <th>Cidade</th>\n",
              "      <th>Ano</th>\n",
              "    </tr>\n",
              "  </thead>\n",
              "  <tbody>\n",
              "    <tr>\n",
              "      <th>4</th>\n",
              "      <td>Inge de Bruijn (NED)</td>\n",
              "      <td>Therèse Alshammar (SWE)</td>\n",
              "      <td>Dara Torres (USA)</td>\n",
              "      <td>Sydney</td>\n",
              "      <td>2000</td>\n",
              "    </tr>\n",
              "    <tr>\n",
              "      <th>6</th>\n",
              "      <td>Britta Steffen (GER)</td>\n",
              "      <td>Dara Torres (USA)</td>\n",
              "      <td>Cate Campbell (AUS)</td>\n",
              "      <td>Pequim</td>\n",
              "      <td>2008</td>\n",
              "    </tr>\n",
              "  </tbody>\n",
              "</table>\n",
              "</div>\n",
              "      <button class=\"colab-df-convert\" onclick=\"convertToInteractive('df-33fe2722-4373-433d-8068-538f31fdf360')\"\n",
              "              title=\"Convert this dataframe to an interactive table.\"\n",
              "              style=\"display:none;\">\n",
              "        \n",
              "  <svg xmlns=\"http://www.w3.org/2000/svg\" height=\"24px\"viewBox=\"0 0 24 24\"\n",
              "       width=\"24px\">\n",
              "    <path d=\"M0 0h24v24H0V0z\" fill=\"none\"/>\n",
              "    <path d=\"M18.56 5.44l.94 2.06.94-2.06 2.06-.94-2.06-.94-.94-2.06-.94 2.06-2.06.94zm-11 1L8.5 8.5l.94-2.06 2.06-.94-2.06-.94L8.5 2.5l-.94 2.06-2.06.94zm10 10l.94 2.06.94-2.06 2.06-.94-2.06-.94-.94-2.06-.94 2.06-2.06.94z\"/><path d=\"M17.41 7.96l-1.37-1.37c-.4-.4-.92-.59-1.43-.59-.52 0-1.04.2-1.43.59L10.3 9.45l-7.72 7.72c-.78.78-.78 2.05 0 2.83L4 21.41c.39.39.9.59 1.41.59.51 0 1.02-.2 1.41-.59l7.78-7.78 2.81-2.81c.8-.78.8-2.07 0-2.86zM5.41 20L4 18.59l7.72-7.72 1.47 1.35L5.41 20z\"/>\n",
              "  </svg>\n",
              "      </button>\n",
              "      \n",
              "  <style>\n",
              "    .colab-df-container {\n",
              "      display:flex;\n",
              "      flex-wrap:wrap;\n",
              "      gap: 12px;\n",
              "    }\n",
              "\n",
              "    .colab-df-convert {\n",
              "      background-color: #E8F0FE;\n",
              "      border: none;\n",
              "      border-radius: 50%;\n",
              "      cursor: pointer;\n",
              "      display: none;\n",
              "      fill: #1967D2;\n",
              "      height: 32px;\n",
              "      padding: 0 0 0 0;\n",
              "      width: 32px;\n",
              "    }\n",
              "\n",
              "    .colab-df-convert:hover {\n",
              "      background-color: #E2EBFA;\n",
              "      box-shadow: 0px 1px 2px rgba(60, 64, 67, 0.3), 0px 1px 3px 1px rgba(60, 64, 67, 0.15);\n",
              "      fill: #174EA6;\n",
              "    }\n",
              "\n",
              "    [theme=dark] .colab-df-convert {\n",
              "      background-color: #3B4455;\n",
              "      fill: #D2E3FC;\n",
              "    }\n",
              "\n",
              "    [theme=dark] .colab-df-convert:hover {\n",
              "      background-color: #434B5C;\n",
              "      box-shadow: 0px 1px 3px 1px rgba(0, 0, 0, 0.15);\n",
              "      filter: drop-shadow(0px 1px 2px rgba(0, 0, 0, 0.3));\n",
              "      fill: #FFFFFF;\n",
              "    }\n",
              "  </style>\n",
              "\n",
              "      <script>\n",
              "        const buttonEl =\n",
              "          document.querySelector('#df-33fe2722-4373-433d-8068-538f31fdf360 button.colab-df-convert');\n",
              "        buttonEl.style.display =\n",
              "          google.colab.kernel.accessAllowed ? 'block' : 'none';\n",
              "\n",
              "        async function convertToInteractive(key) {\n",
              "          const element = document.querySelector('#df-33fe2722-4373-433d-8068-538f31fdf360');\n",
              "          const dataTable =\n",
              "            await google.colab.kernel.invokeFunction('convertToInteractive',\n",
              "                                                     [key], {});\n",
              "          if (!dataTable) return;\n",
              "\n",
              "          const docLinkHtml = 'Like what you see? Visit the ' +\n",
              "            '<a target=\"_blank\" href=https://colab.research.google.com/notebooks/data_table.ipynb>data table notebook</a>'\n",
              "            + ' to learn more about interactive tables.';\n",
              "          element.innerHTML = '';\n",
              "          dataTable['output_type'] = 'display_data';\n",
              "          await google.colab.output.renderOutput(dataTable, element);\n",
              "          const docLink = document.createElement('div');\n",
              "          docLink.innerHTML = docLinkHtml;\n",
              "          element.appendChild(docLink);\n",
              "        }\n",
              "      </script>\n",
              "    </div>\n",
              "  </div>\n",
              "  "
            ]
          },
          "metadata": {},
          "execution_count": 168
        }
      ],
      "source": [
        "#Localizando um dado específico - Posições da nadadora Dara Torres\n",
        "tabela50f2.query('OuroNadadoraPaís ==\"Dara Torres (USA)\" | PrataNadadoraPaís ==\"Dara Torres (USA)\" | BronzeNadadoraPaís ==\"Dara Torres (USA)\"').head(8)"
      ]
    },
    {
      "cell_type": "code",
      "execution_count": 169,
      "metadata": {
        "extensions": {
          "jupyter_dashboards": {
            "version": 1,
            "views": {
              "grid_default": {},
              "report_default": {
                "hidden": false
              }
            }
          }
        },
        "colab": {
          "base_uri": "https://localhost:8080/"
        },
        "id": "eGd1yLl16j68",
        "outputId": "31585ada-1769-4fe3-e3bf-4734a72f8f96"
      },
      "outputs": [
        {
          "output_type": "stream",
          "name": "stdout",
          "text": [
            "<class 'pandas.core.frame.DataFrame'>\n",
            "RangeIndex: 8 entries, 1 to 8\n",
            "Data columns (total 5 columns):\n",
            " #   Column              Non-Null Count  Dtype \n",
            "---  ------              --------------  ----- \n",
            " 0   OuroNadadoraPaís    8 non-null      object\n",
            " 1   PrataNadadoraPaís   8 non-null      object\n",
            " 2   BronzeNadadoraPaís  8 non-null      object\n",
            " 3   Cidade              8 non-null      object\n",
            " 4   Ano                 8 non-null      int64 \n",
            "dtypes: int64(1), object(4)\n",
            "memory usage: 452.0+ bytes\n"
          ]
        }
      ],
      "source": [
        "# Verificando as informações da tabela \n",
        "tabela50f2.info()"
      ]
    },
    {
      "cell_type": "code",
      "execution_count": 170,
      "metadata": {
        "extensions": {
          "jupyter_dashboards": {
            "version": 1,
            "views": {
              "grid_default": {},
              "report_default": {
                "hidden": false
              }
            }
          }
        },
        "colab": {
          "base_uri": "https://localhost:8080/"
        },
        "id": "Z4HZGuKf6j6_",
        "outputId": "cf606b07-90ad-4726-ad86-184dd4c0e083"
      },
      "outputs": [
        {
          "output_type": "execute_result",
          "data": {
            "text/plain": [
              "0\n",
              "OuroNadadoraPaís         Inge de Bruijn (NED)\n",
              "PrataNadadoraPaís     Therèse Alshammar (SWE)\n",
              "BronzeNadadoraPaís          Dara Torres (USA)\n",
              "Cidade                                 Sydney\n",
              "Ano                                      2000\n",
              "Name: 4, dtype: object"
            ]
          },
          "metadata": {},
          "execution_count": 170
        }
      ],
      "source": [
        "#Localizando os dados da linha com o índice 3\n",
        "tabela50f2.iloc[3]"
      ]
    },
    {
      "cell_type": "code",
      "execution_count": 171,
      "metadata": {
        "extensions": {
          "jupyter_dashboards": {
            "version": 1,
            "views": {
              "grid_default": {},
              "report_default": {
                "hidden": false
              }
            }
          }
        },
        "colab": {
          "base_uri": "https://localhost:8080/",
          "height": 363
        },
        "id": "o2lplzIM6j7C",
        "outputId": "33f5ba89-34e5-495c-f983-421c1e6179af"
      },
      "outputs": [
        {
          "output_type": "display_data",
          "data": {
            "text/plain": [
              "0                País Ouro Prata Bronze Total\n",
              "1             Holanda    3     0      1     4\n",
              "2               China    1     3      0     4\n",
              "3      Estados Unidos    1     2      3     6\n",
              "4   Alemanha Oriental    1     0      1     2\n",
              "5            Alemanha    1     0      1     2\n",
              "6           Dinamarca    1     0      0     1\n",
              "7             Belarus    0     1      1     2\n",
              "8              França    0     1      0     1\n",
              "9              Suécia    0     1      0     1\n",
              "10          Austrália    0     0      2     2"
            ],
            "text/html": [
              "\n",
              "  <div id=\"df-f7be79c2-f957-4389-b1ff-d2e4fcd7ac30\">\n",
              "    <div class=\"colab-df-container\">\n",
              "      <div>\n",
              "<style scoped>\n",
              "    .dataframe tbody tr th:only-of-type {\n",
              "        vertical-align: middle;\n",
              "    }\n",
              "\n",
              "    .dataframe tbody tr th {\n",
              "        vertical-align: top;\n",
              "    }\n",
              "\n",
              "    .dataframe thead th {\n",
              "        text-align: right;\n",
              "    }\n",
              "</style>\n",
              "<table border=\"1\" class=\"dataframe\">\n",
              "  <thead>\n",
              "    <tr style=\"text-align: right;\">\n",
              "      <th></th>\n",
              "      <th>País</th>\n",
              "      <th>Ouro</th>\n",
              "      <th>Prata</th>\n",
              "      <th>Bronze</th>\n",
              "      <th>Total</th>\n",
              "    </tr>\n",
              "  </thead>\n",
              "  <tbody>\n",
              "    <tr>\n",
              "      <th>1</th>\n",
              "      <td>Holanda</td>\n",
              "      <td>3</td>\n",
              "      <td>0</td>\n",
              "      <td>1</td>\n",
              "      <td>4</td>\n",
              "    </tr>\n",
              "    <tr>\n",
              "      <th>2</th>\n",
              "      <td>China</td>\n",
              "      <td>1</td>\n",
              "      <td>3</td>\n",
              "      <td>0</td>\n",
              "      <td>4</td>\n",
              "    </tr>\n",
              "    <tr>\n",
              "      <th>3</th>\n",
              "      <td>Estados Unidos</td>\n",
              "      <td>1</td>\n",
              "      <td>2</td>\n",
              "      <td>3</td>\n",
              "      <td>6</td>\n",
              "    </tr>\n",
              "    <tr>\n",
              "      <th>4</th>\n",
              "      <td>Alemanha Oriental</td>\n",
              "      <td>1</td>\n",
              "      <td>0</td>\n",
              "      <td>1</td>\n",
              "      <td>2</td>\n",
              "    </tr>\n",
              "    <tr>\n",
              "      <th>5</th>\n",
              "      <td>Alemanha</td>\n",
              "      <td>1</td>\n",
              "      <td>0</td>\n",
              "      <td>1</td>\n",
              "      <td>2</td>\n",
              "    </tr>\n",
              "    <tr>\n",
              "      <th>6</th>\n",
              "      <td>Dinamarca</td>\n",
              "      <td>1</td>\n",
              "      <td>0</td>\n",
              "      <td>0</td>\n",
              "      <td>1</td>\n",
              "    </tr>\n",
              "    <tr>\n",
              "      <th>7</th>\n",
              "      <td>Belarus</td>\n",
              "      <td>0</td>\n",
              "      <td>1</td>\n",
              "      <td>1</td>\n",
              "      <td>2</td>\n",
              "    </tr>\n",
              "    <tr>\n",
              "      <th>8</th>\n",
              "      <td>França</td>\n",
              "      <td>0</td>\n",
              "      <td>1</td>\n",
              "      <td>0</td>\n",
              "      <td>1</td>\n",
              "    </tr>\n",
              "    <tr>\n",
              "      <th>9</th>\n",
              "      <td>Suécia</td>\n",
              "      <td>0</td>\n",
              "      <td>1</td>\n",
              "      <td>0</td>\n",
              "      <td>1</td>\n",
              "    </tr>\n",
              "    <tr>\n",
              "      <th>10</th>\n",
              "      <td>Austrália</td>\n",
              "      <td>0</td>\n",
              "      <td>0</td>\n",
              "      <td>2</td>\n",
              "      <td>2</td>\n",
              "    </tr>\n",
              "  </tbody>\n",
              "</table>\n",
              "</div>\n",
              "      <button class=\"colab-df-convert\" onclick=\"convertToInteractive('df-f7be79c2-f957-4389-b1ff-d2e4fcd7ac30')\"\n",
              "              title=\"Convert this dataframe to an interactive table.\"\n",
              "              style=\"display:none;\">\n",
              "        \n",
              "  <svg xmlns=\"http://www.w3.org/2000/svg\" height=\"24px\"viewBox=\"0 0 24 24\"\n",
              "       width=\"24px\">\n",
              "    <path d=\"M0 0h24v24H0V0z\" fill=\"none\"/>\n",
              "    <path d=\"M18.56 5.44l.94 2.06.94-2.06 2.06-.94-2.06-.94-.94-2.06-.94 2.06-2.06.94zm-11 1L8.5 8.5l.94-2.06 2.06-.94-2.06-.94L8.5 2.5l-.94 2.06-2.06.94zm10 10l.94 2.06.94-2.06 2.06-.94-2.06-.94-.94-2.06-.94 2.06-2.06.94z\"/><path d=\"M17.41 7.96l-1.37-1.37c-.4-.4-.92-.59-1.43-.59-.52 0-1.04.2-1.43.59L10.3 9.45l-7.72 7.72c-.78.78-.78 2.05 0 2.83L4 21.41c.39.39.9.59 1.41.59.51 0 1.02-.2 1.41-.59l7.78-7.78 2.81-2.81c.8-.78.8-2.07 0-2.86zM5.41 20L4 18.59l7.72-7.72 1.47 1.35L5.41 20z\"/>\n",
              "  </svg>\n",
              "      </button>\n",
              "      \n",
              "  <style>\n",
              "    .colab-df-container {\n",
              "      display:flex;\n",
              "      flex-wrap:wrap;\n",
              "      gap: 12px;\n",
              "    }\n",
              "\n",
              "    .colab-df-convert {\n",
              "      background-color: #E8F0FE;\n",
              "      border: none;\n",
              "      border-radius: 50%;\n",
              "      cursor: pointer;\n",
              "      display: none;\n",
              "      fill: #1967D2;\n",
              "      height: 32px;\n",
              "      padding: 0 0 0 0;\n",
              "      width: 32px;\n",
              "    }\n",
              "\n",
              "    .colab-df-convert:hover {\n",
              "      background-color: #E2EBFA;\n",
              "      box-shadow: 0px 1px 2px rgba(60, 64, 67, 0.3), 0px 1px 3px 1px rgba(60, 64, 67, 0.15);\n",
              "      fill: #174EA6;\n",
              "    }\n",
              "\n",
              "    [theme=dark] .colab-df-convert {\n",
              "      background-color: #3B4455;\n",
              "      fill: #D2E3FC;\n",
              "    }\n",
              "\n",
              "    [theme=dark] .colab-df-convert:hover {\n",
              "      background-color: #434B5C;\n",
              "      box-shadow: 0px 1px 3px 1px rgba(0, 0, 0, 0.15);\n",
              "      filter: drop-shadow(0px 1px 2px rgba(0, 0, 0, 0.3));\n",
              "      fill: #FFFFFF;\n",
              "    }\n",
              "  </style>\n",
              "\n",
              "      <script>\n",
              "        const buttonEl =\n",
              "          document.querySelector('#df-f7be79c2-f957-4389-b1ff-d2e4fcd7ac30 button.colab-df-convert');\n",
              "        buttonEl.style.display =\n",
              "          google.colab.kernel.accessAllowed ? 'block' : 'none';\n",
              "\n",
              "        async function convertToInteractive(key) {\n",
              "          const element = document.querySelector('#df-f7be79c2-f957-4389-b1ff-d2e4fcd7ac30');\n",
              "          const dataTable =\n",
              "            await google.colab.kernel.invokeFunction('convertToInteractive',\n",
              "                                                     [key], {});\n",
              "          if (!dataTable) return;\n",
              "\n",
              "          const docLinkHtml = 'Like what you see? Visit the ' +\n",
              "            '<a target=\"_blank\" href=https://colab.research.google.com/notebooks/data_table.ipynb>data table notebook</a>'\n",
              "            + ' to learn more about interactive tables.';\n",
              "          element.innerHTML = '';\n",
              "          dataTable['output_type'] = 'display_data';\n",
              "          await google.colab.output.renderOutput(dataTable, element);\n",
              "          const docLink = document.createElement('div');\n",
              "          docLink.innerHTML = docLinkHtml;\n",
              "          element.appendChild(docLink);\n",
              "        }\n",
              "      </script>\n",
              "    </div>\n",
              "  </div>\n",
              "  "
            ]
          },
          "metadata": {}
        }
      ],
      "source": [
        "#Tabela3\n",
        "tabela50f3 = df[2]\n",
        "tabela50f3.columns = tabela50f3.iloc[0]#subindo ou copiando a linha 0\n",
        "tabela50f3=tabela50f3[1:11]#tirando a linha 0\n",
        "display(tabela50f3)"
      ]
    },
    {
      "cell_type": "code",
      "execution_count": 172,
      "metadata": {
        "extensions": {
          "jupyter_dashboards": {
            "version": 1,
            "views": {
              "grid_default": {},
              "report_default": {
                "hidden": false
              }
            }
          }
        },
        "colab": {
          "base_uri": "https://localhost:8080/"
        },
        "id": "uefi992N6j7I",
        "outputId": "3108df3d-4f31-4e58-b1e9-01261651c346"
      },
      "outputs": [
        {
          "output_type": "stream",
          "name": "stdout",
          "text": [
            "<class 'pandas.core.frame.DataFrame'>\n",
            "RangeIndex: 10 entries, 1 to 10\n",
            "Data columns (total 5 columns):\n",
            " #   Column  Non-Null Count  Dtype \n",
            "---  ------  --------------  ----- \n",
            " 0   País    10 non-null     object\n",
            " 1   Ouro    10 non-null     object\n",
            " 2   Prata   10 non-null     object\n",
            " 3   Bronze  10 non-null     object\n",
            " 4   Total   10 non-null     object\n",
            "dtypes: object(5)\n",
            "memory usage: 532.0+ bytes\n"
          ]
        }
      ],
      "source": [
        "# Verificando as informações da tabela \n",
        "tabela50f3.info()"
      ]
    },
    {
      "cell_type": "code",
      "execution_count": 173,
      "metadata": {
        "extensions": {
          "jupyter_dashboards": {
            "version": 1,
            "views": {
              "grid_default": {},
              "report_default": {
                "hidden": true
              }
            }
          }
        },
        "scrolled": true,
        "colab": {
          "base_uri": "https://localhost:8080/"
        },
        "id": "3EOxqVQb6j7q",
        "outputId": "d2d4996e-0e4c-4685-9ffa-634905ecce7c"
      },
      "outputs": [
        {
          "output_type": "stream",
          "name": "stderr",
          "text": [
            "/usr/local/lib/python3.7/dist-packages/pandas/core/frame.py:3641: SettingWithCopyWarning: \n",
            "A value is trying to be set on a copy of a slice from a DataFrame.\n",
            "Try using .loc[row_indexer,col_indexer] = value instead\n",
            "\n",
            "See the caveats in the documentation: https://pandas.pydata.org/pandas-docs/stable/user_guide/indexing.html#returning-a-view-versus-a-copy\n",
            "  self[k1] = value[k2]\n"
          ]
        }
      ],
      "source": [
        "tabela50f3[['Ouro','Prata','Bronze','Total']] = tabela50f3[['Ouro','Prata','Bronze','Total']].astype(int)"
      ]
    },
    {
      "cell_type": "code",
      "execution_count": 174,
      "metadata": {
        "extensions": {
          "jupyter_dashboards": {
            "version": 1,
            "views": {
              "grid_default": {},
              "report_default": {
                "hidden": true
              }
            }
          }
        },
        "colab": {
          "base_uri": "https://localhost:8080/"
        },
        "id": "O866jUK96j7t",
        "outputId": "91ff212c-02cd-4f82-dd0e-759c1e856d0d"
      },
      "outputs": [
        {
          "output_type": "stream",
          "name": "stderr",
          "text": [
            "/usr/local/lib/python3.7/dist-packages/ipykernel_launcher.py:1: SettingWithCopyWarning: \n",
            "A value is trying to be set on a copy of a slice from a DataFrame.\n",
            "Try using .loc[row_indexer,col_indexer] = value instead\n",
            "\n",
            "See the caveats in the documentation: https://pandas.pydata.org/pandas-docs/stable/user_guide/indexing.html#returning-a-view-versus-a-copy\n",
            "  \"\"\"Entry point for launching an IPython kernel.\n"
          ]
        }
      ],
      "source": [
        "tabela50f3['País'] = tabela50f3['País'].astype('string')"
      ]
    },
    {
      "cell_type": "code",
      "execution_count": 175,
      "metadata": {
        "extensions": {
          "jupyter_dashboards": {
            "version": 1,
            "views": {
              "grid_default": {},
              "report_default": {
                "hidden": false
              }
            }
          }
        },
        "colab": {
          "base_uri": "https://localhost:8080/",
          "height": 363
        },
        "id": "aw_pCB1x6j7v",
        "outputId": "99363774-6b67-4891-f9d8-bf7fdcb02daf"
      },
      "outputs": [
        {
          "output_type": "display_data",
          "data": {
            "text/plain": [
              "0                País  Ouro  Prata  Bronze  Total\n",
              "1             Holanda     3      0       1      4\n",
              "2               China     1      3       0      4\n",
              "3      Estados Unidos     1      2       3      6\n",
              "4   Alemanha Oriental     1      0       1      2\n",
              "5            Alemanha     1      0       1      2\n",
              "6           Dinamarca     1      0       0      1\n",
              "7             Belarus     0      1       1      2\n",
              "8              França     0      1       0      1\n",
              "9              Suécia     0      1       0      1\n",
              "10          Austrália     0      0       2      2"
            ],
            "text/html": [
              "\n",
              "  <div id=\"df-4fdd2664-eb19-4861-b5d7-dbce27c8ae4e\">\n",
              "    <div class=\"colab-df-container\">\n",
              "      <div>\n",
              "<style scoped>\n",
              "    .dataframe tbody tr th:only-of-type {\n",
              "        vertical-align: middle;\n",
              "    }\n",
              "\n",
              "    .dataframe tbody tr th {\n",
              "        vertical-align: top;\n",
              "    }\n",
              "\n",
              "    .dataframe thead th {\n",
              "        text-align: right;\n",
              "    }\n",
              "</style>\n",
              "<table border=\"1\" class=\"dataframe\">\n",
              "  <thead>\n",
              "    <tr style=\"text-align: right;\">\n",
              "      <th></th>\n",
              "      <th>País</th>\n",
              "      <th>Ouro</th>\n",
              "      <th>Prata</th>\n",
              "      <th>Bronze</th>\n",
              "      <th>Total</th>\n",
              "    </tr>\n",
              "  </thead>\n",
              "  <tbody>\n",
              "    <tr>\n",
              "      <th>1</th>\n",
              "      <td>Holanda</td>\n",
              "      <td>3</td>\n",
              "      <td>0</td>\n",
              "      <td>1</td>\n",
              "      <td>4</td>\n",
              "    </tr>\n",
              "    <tr>\n",
              "      <th>2</th>\n",
              "      <td>China</td>\n",
              "      <td>1</td>\n",
              "      <td>3</td>\n",
              "      <td>0</td>\n",
              "      <td>4</td>\n",
              "    </tr>\n",
              "    <tr>\n",
              "      <th>3</th>\n",
              "      <td>Estados Unidos</td>\n",
              "      <td>1</td>\n",
              "      <td>2</td>\n",
              "      <td>3</td>\n",
              "      <td>6</td>\n",
              "    </tr>\n",
              "    <tr>\n",
              "      <th>4</th>\n",
              "      <td>Alemanha Oriental</td>\n",
              "      <td>1</td>\n",
              "      <td>0</td>\n",
              "      <td>1</td>\n",
              "      <td>2</td>\n",
              "    </tr>\n",
              "    <tr>\n",
              "      <th>5</th>\n",
              "      <td>Alemanha</td>\n",
              "      <td>1</td>\n",
              "      <td>0</td>\n",
              "      <td>1</td>\n",
              "      <td>2</td>\n",
              "    </tr>\n",
              "    <tr>\n",
              "      <th>6</th>\n",
              "      <td>Dinamarca</td>\n",
              "      <td>1</td>\n",
              "      <td>0</td>\n",
              "      <td>0</td>\n",
              "      <td>1</td>\n",
              "    </tr>\n",
              "    <tr>\n",
              "      <th>7</th>\n",
              "      <td>Belarus</td>\n",
              "      <td>0</td>\n",
              "      <td>1</td>\n",
              "      <td>1</td>\n",
              "      <td>2</td>\n",
              "    </tr>\n",
              "    <tr>\n",
              "      <th>8</th>\n",
              "      <td>França</td>\n",
              "      <td>0</td>\n",
              "      <td>1</td>\n",
              "      <td>0</td>\n",
              "      <td>1</td>\n",
              "    </tr>\n",
              "    <tr>\n",
              "      <th>9</th>\n",
              "      <td>Suécia</td>\n",
              "      <td>0</td>\n",
              "      <td>1</td>\n",
              "      <td>0</td>\n",
              "      <td>1</td>\n",
              "    </tr>\n",
              "    <tr>\n",
              "      <th>10</th>\n",
              "      <td>Austrália</td>\n",
              "      <td>0</td>\n",
              "      <td>0</td>\n",
              "      <td>2</td>\n",
              "      <td>2</td>\n",
              "    </tr>\n",
              "  </tbody>\n",
              "</table>\n",
              "</div>\n",
              "      <button class=\"colab-df-convert\" onclick=\"convertToInteractive('df-4fdd2664-eb19-4861-b5d7-dbce27c8ae4e')\"\n",
              "              title=\"Convert this dataframe to an interactive table.\"\n",
              "              style=\"display:none;\">\n",
              "        \n",
              "  <svg xmlns=\"http://www.w3.org/2000/svg\" height=\"24px\"viewBox=\"0 0 24 24\"\n",
              "       width=\"24px\">\n",
              "    <path d=\"M0 0h24v24H0V0z\" fill=\"none\"/>\n",
              "    <path d=\"M18.56 5.44l.94 2.06.94-2.06 2.06-.94-2.06-.94-.94-2.06-.94 2.06-2.06.94zm-11 1L8.5 8.5l.94-2.06 2.06-.94-2.06-.94L8.5 2.5l-.94 2.06-2.06.94zm10 10l.94 2.06.94-2.06 2.06-.94-2.06-.94-.94-2.06-.94 2.06-2.06.94z\"/><path d=\"M17.41 7.96l-1.37-1.37c-.4-.4-.92-.59-1.43-.59-.52 0-1.04.2-1.43.59L10.3 9.45l-7.72 7.72c-.78.78-.78 2.05 0 2.83L4 21.41c.39.39.9.59 1.41.59.51 0 1.02-.2 1.41-.59l7.78-7.78 2.81-2.81c.8-.78.8-2.07 0-2.86zM5.41 20L4 18.59l7.72-7.72 1.47 1.35L5.41 20z\"/>\n",
              "  </svg>\n",
              "      </button>\n",
              "      \n",
              "  <style>\n",
              "    .colab-df-container {\n",
              "      display:flex;\n",
              "      flex-wrap:wrap;\n",
              "      gap: 12px;\n",
              "    }\n",
              "\n",
              "    .colab-df-convert {\n",
              "      background-color: #E8F0FE;\n",
              "      border: none;\n",
              "      border-radius: 50%;\n",
              "      cursor: pointer;\n",
              "      display: none;\n",
              "      fill: #1967D2;\n",
              "      height: 32px;\n",
              "      padding: 0 0 0 0;\n",
              "      width: 32px;\n",
              "    }\n",
              "\n",
              "    .colab-df-convert:hover {\n",
              "      background-color: #E2EBFA;\n",
              "      box-shadow: 0px 1px 2px rgba(60, 64, 67, 0.3), 0px 1px 3px 1px rgba(60, 64, 67, 0.15);\n",
              "      fill: #174EA6;\n",
              "    }\n",
              "\n",
              "    [theme=dark] .colab-df-convert {\n",
              "      background-color: #3B4455;\n",
              "      fill: #D2E3FC;\n",
              "    }\n",
              "\n",
              "    [theme=dark] .colab-df-convert:hover {\n",
              "      background-color: #434B5C;\n",
              "      box-shadow: 0px 1px 3px 1px rgba(0, 0, 0, 0.15);\n",
              "      filter: drop-shadow(0px 1px 2px rgba(0, 0, 0, 0.3));\n",
              "      fill: #FFFFFF;\n",
              "    }\n",
              "  </style>\n",
              "\n",
              "      <script>\n",
              "        const buttonEl =\n",
              "          document.querySelector('#df-4fdd2664-eb19-4861-b5d7-dbce27c8ae4e button.colab-df-convert');\n",
              "        buttonEl.style.display =\n",
              "          google.colab.kernel.accessAllowed ? 'block' : 'none';\n",
              "\n",
              "        async function convertToInteractive(key) {\n",
              "          const element = document.querySelector('#df-4fdd2664-eb19-4861-b5d7-dbce27c8ae4e');\n",
              "          const dataTable =\n",
              "            await google.colab.kernel.invokeFunction('convertToInteractive',\n",
              "                                                     [key], {});\n",
              "          if (!dataTable) return;\n",
              "\n",
              "          const docLinkHtml = 'Like what you see? Visit the ' +\n",
              "            '<a target=\"_blank\" href=https://colab.research.google.com/notebooks/data_table.ipynb>data table notebook</a>'\n",
              "            + ' to learn more about interactive tables.';\n",
              "          element.innerHTML = '';\n",
              "          dataTable['output_type'] = 'display_data';\n",
              "          await google.colab.output.renderOutput(dataTable, element);\n",
              "          const docLink = document.createElement('div');\n",
              "          docLink.innerHTML = docLinkHtml;\n",
              "          element.appendChild(docLink);\n",
              "        }\n",
              "      </script>\n",
              "    </div>\n",
              "  </div>\n",
              "  "
            ]
          },
          "metadata": {}
        }
      ],
      "source": [
        "#Tabela Número de Medalhas 50m (Fem) x Países\n",
        "display(tabela50f3)"
      ]
    },
    {
      "cell_type": "code",
      "execution_count": 175,
      "metadata": {
        "id": "duoxhY_r6j7x"
      },
      "outputs": [],
      "source": [
        ""
      ]
    },
    {
      "cell_type": "code",
      "execution_count": 176,
      "metadata": {
        "id": "WkXK-3Xp6j7y"
      },
      "outputs": [],
      "source": [
        "# Salvando o arquivo na pasta em excel\n",
        "tabela50f3.to_excel  ('/content/drive/MyDrive/Colab Notebooks/Natação_Dados/tabela50f3.xlsx', index = True)\n",
        "# /content/drive/MyDrive/Colab Notebooks/Natação_Dados/tabela50f3.xlsx"
      ]
    },
    {
      "cell_type": "code",
      "execution_count": 177,
      "metadata": {
        "extensions": {
          "jupyter_dashboards": {
            "version": 1,
            "views": {
              "grid_default": {},
              "report_default": {
                "hidden": true
              }
            }
          }
        },
        "id": "gk37vusn6j70"
      },
      "outputs": [],
      "source": [
        "#Visualização para a distribuição do Total das Medalhas\n",
        "País=['Holanda','China','Estados Unidos','Alemanha Oriental','Alemanha','Dinamarca','Belarus','França','Suécia','Austrália']\n",
        "Total=[4,4,6,2,2,1,2,1,1,2]"
      ]
    },
    {
      "cell_type": "code",
      "execution_count": 178,
      "metadata": {
        "extensions": {
          "jupyter_dashboards": {
            "version": 1,
            "views": {
              "grid_default": {},
              "report_default": {
                "hidden": false
              }
            }
          }
        },
        "colab": {
          "base_uri": "https://localhost:8080/",
          "height": 676
        },
        "id": "19iLC1gl6j8h",
        "outputId": "95678451-b845-4c2c-be7d-87831ccc7cea"
      },
      "outputs": [
        {
          "output_type": "display_data",
          "data": {
            "text/plain": [
              "<Figure size 720x720 with 1 Axes>"
            ],
            "image/png": "[encoded data removed]"
          },
          "metadata": {
            "needs_background": "light"
          }
        }
      ],
      "source": [
        "# Aumentando o tamanho dos gráficos\n",
        "plt.figure(figsize=(10,10))\n",
        "#Plotando o gráfico de barras\n",
        "plt.bar(País,Total)\n",
        "plt.xticks (rotation= 60, fontsize=9)\n",
        "plt.title(\"Quadro de Medalhas Feminino - 50m Livre\")\n",
        "plt.show()"
      ]
    },
    {
      "cell_type": "code",
      "execution_count": 179,
      "metadata": {
        "extensions": {
          "jupyter_dashboards": {
            "version": 1,
            "views": {
              "grid_default": {},
              "report_default": {
                "hidden": false
              }
            }
          }
        },
        "colab": {
          "base_uri": "https://localhost:8080/",
          "height": 678
        },
        "id": "qXMJiIe56j8m",
        "outputId": "1d039cc6-e54b-42be-b7f0-b0f65f7dade6"
      },
      "outputs": [
        {
          "output_type": "display_data",
          "data": {
            "text/plain": [
              "<Figure size 1440x720 with 1 Axes>"
            ],
            "image/png": "[encoded data removed]"
          },
          "metadata": {
            "needs_background": "light"
          }
        }
      ],
      "source": [
        "# Gráfico de Barras Aninhado\n",
        "País=['Holanda','China','Estados Unidos','Alemanha Oriental','Alemanha','Dinamarca','Belarus','França','Suécia','Austrália']\n",
        "\n",
        "Ouro=[3,1,1,1,1,1,0,0,0,0]\n",
        "Prata=[0,3,2,0,0,0,1,1,1,0]\n",
        "Bronze=[1,0,3,1,1,0,1,0,0,2]\n",
        "\n",
        "# Aumentando o tamanho dos gráficos\n",
        "plt.figure(figsize=(20,10))\n",
        "\n",
        "#Plotando o gráfico de barras\n",
        "plt.bar(País, Ouro, color = 'gold')\n",
        "plt.bar(País, Prata, color = 'grey', bottom = np.array(Ouro))\n",
        "plt.bar(País, Bronze, color = 'saddlebrown', bottom = np.array(Ouro) + np.array(Prata))\n",
        "\n",
        "\n",
        "plt.xticks (rotation= 45, fontsize=11)\n",
        "plt.title(\"Quadro de Medalhas Feminino - 50m Livre\")\n",
        "plt.show()"
      ]
    },
    {
      "cell_type": "code",
      "execution_count": 180,
      "metadata": {
        "extensions": {
          "jupyter_dashboards": {
            "version": 1,
            "views": {
              "grid_default": {},
              "report_default": {
                "hidden": false
              }
            }
          }
        },
        "colab": {
          "base_uri": "https://localhost:8080/",
          "height": 411
        },
        "id": "IplsyNUM6j8s",
        "outputId": "908bd36d-6bce-49c9-cff4-0404a55854d0"
      },
      "outputs": [
        {
          "output_type": "display_data",
          "data": {
            "text/plain": [
              "<Figure size 504x504 with 1 Axes>"
            ],
            "image/png": "[encoded data removed]"
          },
          "metadata": {}
        }
      ],
      "source": [
        "# Imprimir gráfico de Pizza para verificação de Porcentagem\n",
        "\n",
        "País=['Holanda','China','Estados Unidos','Alemanha Oriental','Alemanha','Dinamarca','Belarus','França','Suécia','Austrália']\n",
        "Total=[4,4,6,2,2,1,2,1,1,2]\n",
        "explode = (0.1,0.1,0.2,0,0,0,0,0,0,0)\n",
        "\n",
        "# Criando a figura para a plotagem\n",
        "\n",
        "plt.subplots(figsize=(7,7))\n",
        "\n",
        "# Fazendo um gráfico de Pizza para melhor visualizacao\n",
        "plt.pie(x= Total, labels=País, explode=explode, autopct='%1.1f%%', startangle=90)\n",
        "\n",
        "\n",
        "# Mostrando o grafico\n",
        "plt.show()"
      ]
    },
    {
      "cell_type": "code",
      "execution_count": 181,
      "metadata": {
        "extensions": {
          "jupyter_dashboards": {
            "version": 1,
            "views": {
              "grid_default": {},
              "report_default": {
                "hidden": false
              }
            }
          }
        },
        "colab": {
          "base_uri": "https://localhost:8080/"
        },
        "id": "dwh3pspr6j8z",
        "outputId": "7d0eea37-cd63-4ddc-897b-2b01dfa9f503"
      },
      "outputs": [
        {
          "output_type": "stream",
          "name": "stdout",
          "text": [
            "<class 'pandas.core.frame.DataFrame'>\n",
            "RangeIndex: 10 entries, 1 to 10\n",
            "Data columns (total 5 columns):\n",
            " #   Column  Non-Null Count  Dtype \n",
            "---  ------  --------------  ----- \n",
            " 0   País    10 non-null     string\n",
            " 1   Ouro    10 non-null     int64 \n",
            " 2   Prata   10 non-null     int64 \n",
            " 3   Bronze  10 non-null     int64 \n",
            " 4   Total   10 non-null     int64 \n",
            "dtypes: int64(4), string(1)\n",
            "memory usage: 532.0 bytes\n"
          ]
        }
      ],
      "source": [
        "# Verificando as informações da tabela \n",
        "tabela50f3.info()"
      ]
    },
    {
      "cell_type": "code",
      "execution_count": 182,
      "metadata": {
        "extensions": {
          "jupyter_dashboards": {
            "version": 1,
            "views": {
              "grid_default": {},
              "report_default": {
                "hidden": false
              }
            }
          }
        },
        "colab": {
          "base_uri": "https://localhost:8080/",
          "height": 410
        },
        "id": "r-Xo-jUi6j83",
        "outputId": "1f1ebb12-2150-4ec0-ca3a-32b589201f35"
      },
      "outputs": [
        {
          "output_type": "display_data",
          "data": {
            "text/plain": [
              "<Figure size 489.75x360 with 1 Axes>"
            ],
            "image/png": "[encoded data removed]"
          },
          "metadata": {
            "needs_background": "light"
          }
        }
      ],
      "source": [
        "# Imprimindo o gráfico scatter - relplot\n",
        "sns.relplot(x=\"País\", y=\"Total\", data=tabela50f3, hue=\"País\", sizes=(12,250), size=\"País\")\n",
        "plt.xticks(color='blue',rotation=45,size=7)\n",
        "#sns.relplot(x=\"País\", y=\"Ouro\", data=tabela50f3, hue=\"País\", sizes=(12,250), size=\"País\")\n",
        "#plt.xticks(color='blue',rotation=45,size=7)\n",
        "plt.show()"
      ]
    },
    {
      "cell_type": "code",
      "execution_count": 183,
      "metadata": {
        "extensions": {
          "jupyter_dashboards": {
            "version": 1,
            "views": {
              "grid_default": {},
              "report_default": {
                "hidden": true
              }
            }
          }
        },
        "id": "AqWiS60o6j9C"
      },
      "outputs": [],
      "source": [
        "# Automatizar a construção de Gráficos:\n",
        "#for coluna in tabela50f3: #Por padrão no for ele percorre as colunas\n",
        "#   grafico = px.histogram(tabela50f3, x=coluna, color=\"País\")\n",
        "#   grafico.show()\n",
        "#Podemos olhar cada um dos gráficos que \"saltam aos olhos\""
      ]
    },
    {
      "cell_type": "markdown",
      "metadata": {
        "extensions": {
          "jupyter_dashboards": {
            "version": 1,
            "views": {
              "grid_default": {},
              "report_default": {
                "hidden": false
              }
            }
          }
        },
        "id": "MXSOMpUI6j9F"
      },
      "source": [
        "# Análise Natação 50 m Livre - Masculino"
      ]
    },
    {
      "cell_type": "code",
      "execution_count": 184,
      "metadata": {
        "extensions": {
          "jupyter_dashboards": {
            "version": 1,
            "views": {
              "grid_default": {},
              "report_default": {
                "hidden": false
              }
            }
          }
        },
        "colab": {
          "base_uri": "https://localhost:8080/",
          "height": 729
        },
        "id": "7TL0LmAJ6j9H",
        "outputId": "b7915bee-2cdd-44bc-8aa7-51391733dafb"
      },
      "outputs": [
        {
          "output_type": "display_data",
          "data": {
            "text/plain": [
              "[                                     Data  \\\n",
              " 0  2021-07-30 07:00:0030 de julho de 2021   \n",
              " 1  2021-07-30 22:30:0030 de julho de 2021   \n",
              " 2  2021-07-31 22:30:0031 de julho de 2021   \n",
              " \n",
              "                                                Prova Horário/Resultado  \n",
              " 0  50m livre masculino – Eliminatórias x Bruno Fr...     07:00:0007:00  \n",
              " 1                 50m livre masculino – Semifinais x     22:30:0022:30  \n",
              " 2                      50m livre masculino – Final x     22:30:0022:30  ,\n",
              "                 0                                       1  \\\n",
              " 0           Jogos                                    Ouro   \n",
              " 1      Seull 1988                       Matt Biondi (USA)   \n",
              " 2  Barcelona 1992                   Aleksandr Popov (EUN)   \n",
              " 3     Atenas 1996                   Aleksandr Popov (RUS)   \n",
              " 4     Sydney 2000  Gary Hall Jr. (USA)Anthony Ervin (USA)   \n",
              " 5     Atenas 2004                     Gary Hall Jr. (USA)   \n",
              " 6     Pequim 2008                 César Cielo Filho (BRA)   \n",
              " 7    Londres 2012                  Florent Manaudou (FRA)   \n",
              " 8        Rio 2016                     Anthony Ervin (USA)   \n",
              " \n",
              "                         2                                3  \n",
              " 0                   Prata                           Bronze  \n",
              " 1         Tom Jager (USA)            Gennady Prigoda (TRS)  \n",
              " 2       Matt Biondi (USA)                  Tom Jager (USA)  \n",
              " 3     Gary Hall Jr. (USA)           Fernando Scherer (BRA)  \n",
              " 4                       —  Pieter van den Hoogenband (NED)  \n",
              " 5     Duje Draganja (CRO)            Roland Schoeman (RSA)  \n",
              " 6    Amaury Leveaux (FRA)              Alain Bernard (FRA)  \n",
              " 7      Cullen Jones (USA)          César Cielo Filho (BRA)  \n",
              " 8  Florent Manaudou (FRA)              Nathan Adrian (USA)  ,\n",
              "                   0     1      2       3      4\n",
              " 0              País  Ouro  Prata  Bronze  Total\n",
              " 1    Estados Unidos     5      4       2     11\n",
              " 2            França     1      2       1      4\n",
              " 3            Brasil     1      0       2      3\n",
              " 4            Rússia     1      0       0      1\n",
              " 5  Equipe Unificada     1      0       0      1\n",
              " 6           Croácia     0      1       0      1\n",
              " 7           Holanda     0      0       1      1\n",
              " 8     África do Sul     0      0       1      1\n",
              " 9   União Soviética     0      0       1      1]"
            ]
          },
          "metadata": {}
        }
      ],
      "source": [
        "from bs4 import BeautifulSoup\n",
        "from urllib.request import Request, urlopen\n",
        "import pandas as pd\n",
        "\n",
        "#Obter a resposta em formato HTML\n",
        "dfm = pd.read_html('/content/drive/MyDrive/Colab Notebooks/Natação_Dados/50m.html')\n",
        "\n",
        "#Vamos dar uma olhada no resultado\n",
        "display(dfm)"
      ]
    },
    {
      "cell_type": "markdown",
      "metadata": {
        "extensions": {
          "jupyter_dashboards": {
            "version": 1,
            "views": {
              "grid_default": {},
              "report_default": {
                "hidden": false
              }
            }
          }
        },
        "id": "OqvahsI36j9M"
      },
      "source": [
        "# Separando as tabelas"
      ]
    },
    {
      "cell_type": "code",
      "execution_count": 185,
      "metadata": {
        "extensions": {
          "jupyter_dashboards": {
            "version": 1,
            "views": {
              "grid_default": {},
              "report_default": {
                "hidden": false
              }
            }
          }
        },
        "colab": {
          "base_uri": "https://localhost:8080/",
          "height": 144
        },
        "id": "JBhAzpUC6j9P",
        "outputId": "9759c313-7456-46ca-f4f1-750e44db5022"
      },
      "outputs": [
        {
          "output_type": "display_data",
          "data": {
            "text/plain": [
              "                                     Data  \\\n",
              "0  2021-07-30 07:00:0030 de julho de 2021   \n",
              "1  2021-07-30 22:30:0030 de julho de 2021   \n",
              "2  2021-07-31 22:30:0031 de julho de 2021   \n",
              "\n",
              "                                               Prova Horário/Resultado  \n",
              "0  50m livre masculino – Eliminatórias x Bruno Fr...     07:00:0007:00  \n",
              "1                 50m livre masculino – Semifinais x     22:30:0022:30  \n",
              "2                      50m livre masculino – Final x     22:30:0022:30  "
            ],
            "text/html": [
              "\n",
              "  <div id=\"df-0a275697-6d95-4784-bff5-7350038f458d\">\n",
              "    <div class=\"colab-df-container\">\n",
              "      <div>\n",
              "<style scoped>\n",
              "    .dataframe tbody tr th:only-of-type {\n",
              "        vertical-align: middle;\n",
              "    }\n",
              "\n",
              "    .dataframe tbody tr th {\n",
              "        vertical-align: top;\n",
              "    }\n",
              "\n",
              "    .dataframe thead th {\n",
              "        text-align: right;\n",
              "    }\n",
              "</style>\n",
              "<table border=\"1\" class=\"dataframe\">\n",
              "  <thead>\n",
              "    <tr style=\"text-align: right;\">\n",
              "      <th></th>\n",
              "      <th>Data</th>\n",
              "      <th>Prova</th>\n",
              "      <th>Horário/Resultado</th>\n",
              "    </tr>\n",
              "  </thead>\n",
              "  <tbody>\n",
              "    <tr>\n",
              "      <th>0</th>\n",
              "      <td>2021-07-30 07:00:0030 de julho de 2021</td>\n",
              "      <td>50m livre masculino – Eliminatórias x Bruno Fr...</td>\n",
              "      <td>07:00:0007:00</td>\n",
              "    </tr>\n",
              "    <tr>\n",
              "      <th>1</th>\n",
              "      <td>2021-07-30 22:30:0030 de julho de 2021</td>\n",
              "      <td>50m livre masculino – Semifinais x</td>\n",
              "      <td>22:30:0022:30</td>\n",
              "    </tr>\n",
              "    <tr>\n",
              "      <th>2</th>\n",
              "      <td>2021-07-31 22:30:0031 de julho de 2021</td>\n",
              "      <td>50m livre masculino – Final x</td>\n",
              "      <td>22:30:0022:30</td>\n",
              "    </tr>\n",
              "  </tbody>\n",
              "</table>\n",
              "</div>\n",
              "      <button class=\"colab-df-convert\" onclick=\"convertToInteractive('df-0a275697-6d95-4784-bff5-7350038f458d')\"\n",
              "              title=\"Convert this dataframe to an interactive table.\"\n",
              "              style=\"display:none;\">\n",
              "        \n",
              "  <svg xmlns=\"http://www.w3.org/2000/svg\" height=\"24px\"viewBox=\"0 0 24 24\"\n",
              "       width=\"24px\">\n",
              "    <path d=\"M0 0h24v24H0V0z\" fill=\"none\"/>\n",
              "    <path d=\"M18.56 5.44l.94 2.06.94-2.06 2.06-.94-2.06-.94-.94-2.06-.94 2.06-2.06.94zm-11 1L8.5 8.5l.94-2.06 2.06-.94-2.06-.94L8.5 2.5l-.94 2.06-2.06.94zm10 10l.94 2.06.94-2.06 2.06-.94-2.06-.94-.94-2.06-.94 2.06-2.06.94z\"/><path d=\"M17.41 7.96l-1.37-1.37c-.4-.4-.92-.59-1.43-.59-.52 0-1.04.2-1.43.59L10.3 9.45l-7.72 7.72c-.78.78-.78 2.05 0 2.83L4 21.41c.39.39.9.59 1.41.59.51 0 1.02-.2 1.41-.59l7.78-7.78 2.81-2.81c.8-.78.8-2.07 0-2.86zM5.41 20L4 18.59l7.72-7.72 1.47 1.35L5.41 20z\"/>\n",
              "  </svg>\n",
              "      </button>\n",
              "      \n",
              "  <style>\n",
              "    .colab-df-container {\n",
              "      display:flex;\n",
              "      flex-wrap:wrap;\n",
              "      gap: 12px;\n",
              "    }\n",
              "\n",
              "    .colab-df-convert {\n",
              "      background-color: #E8F0FE;\n",
              "      border: none;\n",
              "      border-radius: 50%;\n",
              "      cursor: pointer;\n",
              "      display: none;\n",
              "      fill: #1967D2;\n",
              "      height: 32px;\n",
              "      padding: 0 0 0 0;\n",
              "      width: 32px;\n",
              "    }\n",
              "\n",
              "    .colab-df-convert:hover {\n",
              "      background-color: #E2EBFA;\n",
              "      box-shadow: 0px 1px 2px rgba(60, 64, 67, 0.3), 0px 1px 3px 1px rgba(60, 64, 67, 0.15);\n",
              "      fill: #174EA6;\n",
              "    }\n",
              "\n",
              "    [theme=dark] .colab-df-convert {\n",
              "      background-color: #3B4455;\n",
              "      fill: #D2E3FC;\n",
              "    }\n",
              "\n",
              "    [theme=dark] .colab-df-convert:hover {\n",
              "      background-color: #434B5C;\n",
              "      box-shadow: 0px 1px 3px 1px rgba(0, 0, 0, 0.15);\n",
              "      filter: drop-shadow(0px 1px 2px rgba(0, 0, 0, 0.3));\n",
              "      fill: #FFFFFF;\n",
              "    }\n",
              "  </style>\n",
              "\n",
              "      <script>\n",
              "        const buttonEl =\n",
              "          document.querySelector('#df-0a275697-6d95-4784-bff5-7350038f458d button.colab-df-convert');\n",
              "        buttonEl.style.display =\n",
              "          google.colab.kernel.accessAllowed ? 'block' : 'none';\n",
              "\n",
              "        async function convertToInteractive(key) {\n",
              "          const element = document.querySelector('#df-0a275697-6d95-4784-bff5-7350038f458d');\n",
              "          const dataTable =\n",
              "            await google.colab.kernel.invokeFunction('convertToInteractive',\n",
              "                                                     [key], {});\n",
              "          if (!dataTable) return;\n",
              "\n",
              "          const docLinkHtml = 'Like what you see? Visit the ' +\n",
              "            '<a target=\"_blank\" href=https://colab.research.google.com/notebooks/data_table.ipynb>data table notebook</a>'\n",
              "            + ' to learn more about interactive tables.';\n",
              "          element.innerHTML = '';\n",
              "          dataTable['output_type'] = 'display_data';\n",
              "          await google.colab.output.renderOutput(dataTable, element);\n",
              "          const docLink = document.createElement('div');\n",
              "          docLink.innerHTML = docLinkHtml;\n",
              "          element.appendChild(docLink);\n",
              "        }\n",
              "      </script>\n",
              "    </div>\n",
              "  </div>\n",
              "  "
            ]
          },
          "metadata": {}
        }
      ],
      "source": [
        "#Tabela 1\n",
        "tabela50m1 = dfm[0]\n",
        "display(tabela50m1)"
      ]
    },
    {
      "cell_type": "code",
      "execution_count": 186,
      "metadata": {
        "extensions": {
          "jupyter_dashboards": {
            "version": 1,
            "views": {
              "grid_default": {},
              "report_default": {
                "hidden": false
              }
            }
          }
        },
        "colab": {
          "base_uri": "https://localhost:8080/"
        },
        "id": "-M8FEYA86j9W",
        "outputId": "181eefb5-793b-4b3b-9521-db3f1576b127"
      },
      "outputs": [
        {
          "output_type": "stream",
          "name": "stdout",
          "text": [
            "<class 'pandas.core.frame.DataFrame'>\n",
            "RangeIndex: 3 entries, 0 to 2\n",
            "Data columns (total 3 columns):\n",
            " #   Column             Non-Null Count  Dtype \n",
            "---  ------             --------------  ----- \n",
            " 0   Data               3 non-null      object\n",
            " 1   Prova              3 non-null      object\n",
            " 2   Horário/Resultado  3 non-null      object\n",
            "dtypes: object(3)\n",
            "memory usage: 200.0+ bytes\n"
          ]
        }
      ],
      "source": [
        "# Verificando as informações da tabela \n",
        "tabela50m1.info()"
      ]
    },
    {
      "cell_type": "code",
      "execution_count": 187,
      "metadata": {
        "extensions": {
          "jupyter_dashboards": {
            "version": 1,
            "views": {
              "grid_default": {},
              "report_default": {
                "hidden": false
              }
            }
          }
        },
        "colab": {
          "base_uri": "https://localhost:8080/",
          "height": 332
        },
        "id": "s8U7XQOZ6j9Y",
        "outputId": "b9b0eca6-3a94-434e-8fa4-d85d92f665fd"
      },
      "outputs": [
        {
          "output_type": "display_data",
          "data": {
            "text/plain": [
              "                0                                       1  \\\n",
              "0           Jogos                                    Ouro   \n",
              "1      Seull 1988                       Matt Biondi (USA)   \n",
              "2  Barcelona 1992                   Aleksandr Popov (EUN)   \n",
              "3     Atenas 1996                   Aleksandr Popov (RUS)   \n",
              "4     Sydney 2000  Gary Hall Jr. (USA)Anthony Ervin (USA)   \n",
              "5     Atenas 2004                     Gary Hall Jr. (USA)   \n",
              "6     Pequim 2008                 César Cielo Filho (BRA)   \n",
              "7    Londres 2012                  Florent Manaudou (FRA)   \n",
              "8        Rio 2016                     Anthony Ervin (USA)   \n",
              "\n",
              "                        2                                3  \n",
              "0                   Prata                           Bronze  \n",
              "1         Tom Jager (USA)            Gennady Prigoda (TRS)  \n",
              "2       Matt Biondi (USA)                  Tom Jager (USA)  \n",
              "3     Gary Hall Jr. (USA)           Fernando Scherer (BRA)  \n",
              "4                       —  Pieter van den Hoogenband (NED)  \n",
              "5     Duje Draganja (CRO)            Roland Schoeman (RSA)  \n",
              "6    Amaury Leveaux (FRA)              Alain Bernard (FRA)  \n",
              "7      Cullen Jones (USA)          César Cielo Filho (BRA)  \n",
              "8  Florent Manaudou (FRA)              Nathan Adrian (USA)  "
            ],
            "text/html": [
              "\n",
              "  <div id=\"df-018d8b49-42b1-41e4-a299-66248288a010\">\n",
              "    <div class=\"colab-df-container\">\n",
              "      <div>\n",
              "<style scoped>\n",
              "    .dataframe tbody tr th:only-of-type {\n",
              "        vertical-align: middle;\n",
              "    }\n",
              "\n",
              "    .dataframe tbody tr th {\n",
              "        vertical-align: top;\n",
              "    }\n",
              "\n",
              "    .dataframe thead th {\n",
              "        text-align: right;\n",
              "    }\n",
              "</style>\n",
              "<table border=\"1\" class=\"dataframe\">\n",
              "  <thead>\n",
              "    <tr style=\"text-align: right;\">\n",
              "      <th></th>\n",
              "      <th>0</th>\n",
              "      <th>1</th>\n",
              "      <th>2</th>\n",
              "      <th>3</th>\n",
              "    </tr>\n",
              "  </thead>\n",
              "  <tbody>\n",
              "    <tr>\n",
              "      <th>0</th>\n",
              "      <td>Jogos</td>\n",
              "      <td>Ouro</td>\n",
              "      <td>Prata</td>\n",
              "      <td>Bronze</td>\n",
              "    </tr>\n",
              "    <tr>\n",
              "      <th>1</th>\n",
              "      <td>Seull 1988</td>\n",
              "      <td>Matt Biondi (USA)</td>\n",
              "      <td>Tom Jager (USA)</td>\n",
              "      <td>Gennady Prigoda (TRS)</td>\n",
              "    </tr>\n",
              "    <tr>\n",
              "      <th>2</th>\n",
              "      <td>Barcelona 1992</td>\n",
              "      <td>Aleksandr Popov (EUN)</td>\n",
              "      <td>Matt Biondi (USA)</td>\n",
              "      <td>Tom Jager (USA)</td>\n",
              "    </tr>\n",
              "    <tr>\n",
              "      <th>3</th>\n",
              "      <td>Atenas 1996</td>\n",
              "      <td>Aleksandr Popov (RUS)</td>\n",
              "      <td>Gary Hall Jr. (USA)</td>\n",
              "      <td>Fernando Scherer (BRA)</td>\n",
              "    </tr>\n",
              "    <tr>\n",
              "      <th>4</th>\n",
              "      <td>Sydney 2000</td>\n",
              "      <td>Gary Hall Jr. (USA)Anthony Ervin (USA)</td>\n",
              "      <td>—</td>\n",
              "      <td>Pieter van den Hoogenband (NED)</td>\n",
              "    </tr>\n",
              "    <tr>\n",
              "      <th>5</th>\n",
              "      <td>Atenas 2004</td>\n",
              "      <td>Gary Hall Jr. (USA)</td>\n",
              "      <td>Duje Draganja (CRO)</td>\n",
              "      <td>Roland Schoeman (RSA)</td>\n",
              "    </tr>\n",
              "    <tr>\n",
              "      <th>6</th>\n",
              "      <td>Pequim 2008</td>\n",
              "      <td>César Cielo Filho (BRA)</td>\n",
              "      <td>Amaury Leveaux (FRA)</td>\n",
              "      <td>Alain Bernard (FRA)</td>\n",
              "    </tr>\n",
              "    <tr>\n",
              "      <th>7</th>\n",
              "      <td>Londres 2012</td>\n",
              "      <td>Florent Manaudou (FRA)</td>\n",
              "      <td>Cullen Jones (USA)</td>\n",
              "      <td>César Cielo Filho (BRA)</td>\n",
              "    </tr>\n",
              "    <tr>\n",
              "      <th>8</th>\n",
              "      <td>Rio 2016</td>\n",
              "      <td>Anthony Ervin (USA)</td>\n",
              "      <td>Florent Manaudou (FRA)</td>\n",
              "      <td>Nathan Adrian (USA)</td>\n",
              "    </tr>\n",
              "  </tbody>\n",
              "</table>\n",
              "</div>\n",
              "      <button class=\"colab-df-convert\" onclick=\"convertToInteractive('df-018d8b49-42b1-41e4-a299-66248288a010')\"\n",
              "              title=\"Convert this dataframe to an interactive table.\"\n",
              "              style=\"display:none;\">\n",
              "        \n",
              "  <svg xmlns=\"http://www.w3.org/2000/svg\" height=\"24px\"viewBox=\"0 0 24 24\"\n",
              "       width=\"24px\">\n",
              "    <path d=\"M0 0h24v24H0V0z\" fill=\"none\"/>\n",
              "    <path d=\"M18.56 5.44l.94 2.06.94-2.06 2.06-.94-2.06-.94-.94-2.06-.94 2.06-2.06.94zm-11 1L8.5 8.5l.94-2.06 2.06-.94-2.06-.94L8.5 2.5l-.94 2.06-2.06.94zm10 10l.94 2.06.94-2.06 2.06-.94-2.06-.94-.94-2.06-.94 2.06-2.06.94z\"/><path d=\"M17.41 7.96l-1.37-1.37c-.4-.4-.92-.59-1.43-.59-.52 0-1.04.2-1.43.59L10.3 9.45l-7.72 7.72c-.78.78-.78 2.05 0 2.83L4 21.41c.39.39.9.59 1.41.59.51 0 1.02-.2 1.41-.59l7.78-7.78 2.81-2.81c.8-.78.8-2.07 0-2.86zM5.41 20L4 18.59l7.72-7.72 1.47 1.35L5.41 20z\"/>\n",
              "  </svg>\n",
              "      </button>\n",
              "      \n",
              "  <style>\n",
              "    .colab-df-container {\n",
              "      display:flex;\n",
              "      flex-wrap:wrap;\n",
              "      gap: 12px;\n",
              "    }\n",
              "\n",
              "    .colab-df-convert {\n",
              "      background-color: #E8F0FE;\n",
              "      border: none;\n",
              "      border-radius: 50%;\n",
              "      cursor: pointer;\n",
              "      display: none;\n",
              "      fill: #1967D2;\n",
              "      height: 32px;\n",
              "      padding: 0 0 0 0;\n",
              "      width: 32px;\n",
              "    }\n",
              "\n",
              "    .colab-df-convert:hover {\n",
              "      background-color: #E2EBFA;\n",
              "      box-shadow: 0px 1px 2px rgba(60, 64, 67, 0.3), 0px 1px 3px 1px rgba(60, 64, 67, 0.15);\n",
              "      fill: #174EA6;\n",
              "    }\n",
              "\n",
              "    [theme=dark] .colab-df-convert {\n",
              "      background-color: #3B4455;\n",
              "      fill: #D2E3FC;\n",
              "    }\n",
              "\n",
              "    [theme=dark] .colab-df-convert:hover {\n",
              "      background-color: #434B5C;\n",
              "      box-shadow: 0px 1px 3px 1px rgba(0, 0, 0, 0.15);\n",
              "      filter: drop-shadow(0px 1px 2px rgba(0, 0, 0, 0.3));\n",
              "      fill: #FFFFFF;\n",
              "    }\n",
              "  </style>\n",
              "\n",
              "      <script>\n",
              "        const buttonEl =\n",
              "          document.querySelector('#df-018d8b49-42b1-41e4-a299-66248288a010 button.colab-df-convert');\n",
              "        buttonEl.style.display =\n",
              "          google.colab.kernel.accessAllowed ? 'block' : 'none';\n",
              "\n",
              "        async function convertToInteractive(key) {\n",
              "          const element = document.querySelector('#df-018d8b49-42b1-41e4-a299-66248288a010');\n",
              "          const dataTable =\n",
              "            await google.colab.kernel.invokeFunction('convertToInteractive',\n",
              "                                                     [key], {});\n",
              "          if (!dataTable) return;\n",
              "\n",
              "          const docLinkHtml = 'Like what you see? Visit the ' +\n",
              "            '<a target=\"_blank\" href=https://colab.research.google.com/notebooks/data_table.ipynb>data table notebook</a>'\n",
              "            + ' to learn more about interactive tables.';\n",
              "          element.innerHTML = '';\n",
              "          dataTable['output_type'] = 'display_data';\n",
              "          await google.colab.output.renderOutput(dataTable, element);\n",
              "          const docLink = document.createElement('div');\n",
              "          docLink.innerHTML = docLinkHtml;\n",
              "          element.appendChild(docLink);\n",
              "        }\n",
              "      </script>\n",
              "    </div>\n",
              "  </div>\n",
              "  "
            ]
          },
          "metadata": {}
        }
      ],
      "source": [
        "#Tabela 2\n",
        "tabela50m2 = dfm[1]\n",
        "display(tabela50m2)"
      ]
    },
    {
      "cell_type": "code",
      "execution_count": 188,
      "metadata": {
        "extensions": {
          "jupyter_dashboards": {
            "version": 1,
            "views": {
              "grid_default": {},
              "report_default": {
                "hidden": false
              }
            }
          }
        },
        "colab": {
          "base_uri": "https://localhost:8080/"
        },
        "id": "Q6HP__g16j9b",
        "outputId": "8f36a468-eebb-4be5-b9be-edb8d06bac06"
      },
      "outputs": [
        {
          "output_type": "stream",
          "name": "stdout",
          "text": [
            "<class 'pandas.core.frame.DataFrame'>\n",
            "RangeIndex: 9 entries, 0 to 8\n",
            "Data columns (total 4 columns):\n",
            " #   Column  Non-Null Count  Dtype \n",
            "---  ------  --------------  ----- \n",
            " 0   0       9 non-null      object\n",
            " 1   1       9 non-null      object\n",
            " 2   2       9 non-null      object\n",
            " 3   3       9 non-null      object\n",
            "dtypes: object(4)\n",
            "memory usage: 416.0+ bytes\n"
          ]
        }
      ],
      "source": [
        "# Verificando as informações da tabela \n",
        "tabela50m2.info()"
      ]
    },
    {
      "cell_type": "code",
      "execution_count": 189,
      "metadata": {
        "extensions": {
          "jupyter_dashboards": {
            "version": 1,
            "views": {
              "grid_default": {},
              "report_default": {
                "hidden": false
              }
            }
          }
        },
        "colab": {
          "base_uri": "https://localhost:8080/",
          "height": 300
        },
        "id": "OlvorpJT6j9e",
        "outputId": "e3ca7f04-54cb-4c30-c230-932d789b7123"
      },
      "outputs": [
        {
          "output_type": "display_data",
          "data": {
            "text/plain": [
              "0           Jogos                                    Ouro  \\\n",
              "1      Seull 1988                       Matt Biondi (USA)   \n",
              "2  Barcelona 1992                   Aleksandr Popov (EUN)   \n",
              "3     Atenas 1996                   Aleksandr Popov (RUS)   \n",
              "4     Sydney 2000  Gary Hall Jr. (USA)Anthony Ervin (USA)   \n",
              "5     Atenas 2004                     Gary Hall Jr. (USA)   \n",
              "6     Pequim 2008                 César Cielo Filho (BRA)   \n",
              "7    Londres 2012                  Florent Manaudou (FRA)   \n",
              "8        Rio 2016                     Anthony Ervin (USA)   \n",
              "\n",
              "0                   Prata                           Bronze  \n",
              "1         Tom Jager (USA)            Gennady Prigoda (TRS)  \n",
              "2       Matt Biondi (USA)                  Tom Jager (USA)  \n",
              "3     Gary Hall Jr. (USA)           Fernando Scherer (BRA)  \n",
              "4                       —  Pieter van den Hoogenband (NED)  \n",
              "5     Duje Draganja (CRO)            Roland Schoeman (RSA)  \n",
              "6    Amaury Leveaux (FRA)              Alain Bernard (FRA)  \n",
              "7      Cullen Jones (USA)          César Cielo Filho (BRA)  \n",
              "8  Florent Manaudou (FRA)              Nathan Adrian (USA)  "
            ],
            "text/html": [
              "\n",
              "  <div id=\"df-ffad2985-2b14-4fcc-85f4-eb7f227bec5c\">\n",
              "    <div class=\"colab-df-container\">\n",
              "      <div>\n",
              "<style scoped>\n",
              "    .dataframe tbody tr th:only-of-type {\n",
              "        vertical-align: middle;\n",
              "    }\n",
              "\n",
              "    .dataframe tbody tr th {\n",
              "        vertical-align: top;\n",
              "    }\n",
              "\n",
              "    .dataframe thead th {\n",
              "        text-align: right;\n",
              "    }\n",
              "</style>\n",
              "<table border=\"1\" class=\"dataframe\">\n",
              "  <thead>\n",
              "    <tr style=\"text-align: right;\">\n",
              "      <th></th>\n",
              "      <th>Jogos</th>\n",
              "      <th>Ouro</th>\n",
              "      <th>Prata</th>\n",
              "      <th>Bronze</th>\n",
              "    </tr>\n",
              "  </thead>\n",
              "  <tbody>\n",
              "    <tr>\n",
              "      <th>1</th>\n",
              "      <td>Seull 1988</td>\n",
              "      <td>Matt Biondi (USA)</td>\n",
              "      <td>Tom Jager (USA)</td>\n",
              "      <td>Gennady Prigoda (TRS)</td>\n",
              "    </tr>\n",
              "    <tr>\n",
              "      <th>2</th>\n",
              "      <td>Barcelona 1992</td>\n",
              "      <td>Aleksandr Popov (EUN)</td>\n",
              "      <td>Matt Biondi (USA)</td>\n",
              "      <td>Tom Jager (USA)</td>\n",
              "    </tr>\n",
              "    <tr>\n",
              "      <th>3</th>\n",
              "      <td>Atenas 1996</td>\n",
              "      <td>Aleksandr Popov (RUS)</td>\n",
              "      <td>Gary Hall Jr. (USA)</td>\n",
              "      <td>Fernando Scherer (BRA)</td>\n",
              "    </tr>\n",
              "    <tr>\n",
              "      <th>4</th>\n",
              "      <td>Sydney 2000</td>\n",
              "      <td>Gary Hall Jr. (USA)Anthony Ervin (USA)</td>\n",
              "      <td>—</td>\n",
              "      <td>Pieter van den Hoogenband (NED)</td>\n",
              "    </tr>\n",
              "    <tr>\n",
              "      <th>5</th>\n",
              "      <td>Atenas 2004</td>\n",
              "      <td>Gary Hall Jr. (USA)</td>\n",
              "      <td>Duje Draganja (CRO)</td>\n",
              "      <td>Roland Schoeman (RSA)</td>\n",
              "    </tr>\n",
              "    <tr>\n",
              "      <th>6</th>\n",
              "      <td>Pequim 2008</td>\n",
              "      <td>César Cielo Filho (BRA)</td>\n",
              "      <td>Amaury Leveaux (FRA)</td>\n",
              "      <td>Alain Bernard (FRA)</td>\n",
              "    </tr>\n",
              "    <tr>\n",
              "      <th>7</th>\n",
              "      <td>Londres 2012</td>\n",
              "      <td>Florent Manaudou (FRA)</td>\n",
              "      <td>Cullen Jones (USA)</td>\n",
              "      <td>César Cielo Filho (BRA)</td>\n",
              "    </tr>\n",
              "    <tr>\n",
              "      <th>8</th>\n",
              "      <td>Rio 2016</td>\n",
              "      <td>Anthony Ervin (USA)</td>\n",
              "      <td>Florent Manaudou (FRA)</td>\n",
              "      <td>Nathan Adrian (USA)</td>\n",
              "    </tr>\n",
              "  </tbody>\n",
              "</table>\n",
              "</div>\n",
              "      <button class=\"colab-df-convert\" onclick=\"convertToInteractive('df-ffad2985-2b14-4fcc-85f4-eb7f227bec5c')\"\n",
              "              title=\"Convert this dataframe to an interactive table.\"\n",
              "              style=\"display:none;\">\n",
              "        \n",
              "  <svg xmlns=\"http://www.w3.org/2000/svg\" height=\"24px\"viewBox=\"0 0 24 24\"\n",
              "       width=\"24px\">\n",
              "    <path d=\"M0 0h24v24H0V0z\" fill=\"none\"/>\n",
              "    <path d=\"M18.56 5.44l.94 2.06.94-2.06 2.06-.94-2.06-.94-.94-2.06-.94 2.06-2.06.94zm-11 1L8.5 8.5l.94-2.06 2.06-.94-2.06-.94L8.5 2.5l-.94 2.06-2.06.94zm10 10l.94 2.06.94-2.06 2.06-.94-2.06-.94-.94-2.06-.94 2.06-2.06.94z\"/><path d=\"M17.41 7.96l-1.37-1.37c-.4-.4-.92-.59-1.43-.59-.52 0-1.04.2-1.43.59L10.3 9.45l-7.72 7.72c-.78.78-.78 2.05 0 2.83L4 21.41c.39.39.9.59 1.41.59.51 0 1.02-.2 1.41-.59l7.78-7.78 2.81-2.81c.8-.78.8-2.07 0-2.86zM5.41 20L4 18.59l7.72-7.72 1.47 1.35L5.41 20z\"/>\n",
              "  </svg>\n",
              "      </button>\n",
              "      \n",
              "  <style>\n",
              "    .colab-df-container {\n",
              "      display:flex;\n",
              "      flex-wrap:wrap;\n",
              "      gap: 12px;\n",
              "    }\n",
              "\n",
              "    .colab-df-convert {\n",
              "      background-color: #E8F0FE;\n",
              "      border: none;\n",
              "      border-radius: 50%;\n",
              "      cursor: pointer;\n",
              "      display: none;\n",
              "      fill: #1967D2;\n",
              "      height: 32px;\n",
              "      padding: 0 0 0 0;\n",
              "      width: 32px;\n",
              "    }\n",
              "\n",
              "    .colab-df-convert:hover {\n",
              "      background-color: #E2EBFA;\n",
              "      box-shadow: 0px 1px 2px rgba(60, 64, 67, 0.3), 0px 1px 3px 1px rgba(60, 64, 67, 0.15);\n",
              "      fill: #174EA6;\n",
              "    }\n",
              "\n",
              "    [theme=dark] .colab-df-convert {\n",
              "      background-color: #3B4455;\n",
              "      fill: #D2E3FC;\n",
              "    }\n",
              "\n",
              "    [theme=dark] .colab-df-convert:hover {\n",
              "      background-color: #434B5C;\n",
              "      box-shadow: 0px 1px 3px 1px rgba(0, 0, 0, 0.15);\n",
              "      filter: drop-shadow(0px 1px 2px rgba(0, 0, 0, 0.3));\n",
              "      fill: #FFFFFF;\n",
              "    }\n",
              "  </style>\n",
              "\n",
              "      <script>\n",
              "        const buttonEl =\n",
              "          document.querySelector('#df-ffad2985-2b14-4fcc-85f4-eb7f227bec5c button.colab-df-convert');\n",
              "        buttonEl.style.display =\n",
              "          google.colab.kernel.accessAllowed ? 'block' : 'none';\n",
              "\n",
              "        async function convertToInteractive(key) {\n",
              "          const element = document.querySelector('#df-ffad2985-2b14-4fcc-85f4-eb7f227bec5c');\n",
              "          const dataTable =\n",
              "            await google.colab.kernel.invokeFunction('convertToInteractive',\n",
              "                                                     [key], {});\n",
              "          if (!dataTable) return;\n",
              "\n",
              "          const docLinkHtml = 'Like what you see? Visit the ' +\n",
              "            '<a target=\"_blank\" href=https://colab.research.google.com/notebooks/data_table.ipynb>data table notebook</a>'\n",
              "            + ' to learn more about interactive tables.';\n",
              "          element.innerHTML = '';\n",
              "          dataTable['output_type'] = 'display_data';\n",
              "          await google.colab.output.renderOutput(dataTable, element);\n",
              "          const docLink = document.createElement('div');\n",
              "          docLink.innerHTML = docLinkHtml;\n",
              "          element.appendChild(docLink);\n",
              "        }\n",
              "      </script>\n",
              "    </div>\n",
              "  </div>\n",
              "  "
            ]
          },
          "metadata": {}
        }
      ],
      "source": [
        "#Tabela 2\n",
        "tabela50m2 = dfm[1]\n",
        "tabela50m2.columns = tabela50m2.iloc[0]#subindo a linha 0\n",
        "tabela50m2=tabela50m2[1:10]#tirando a linha 0\n",
        "display(tabela50m2)"
      ]
    },
    {
      "cell_type": "code",
      "execution_count": 190,
      "metadata": {
        "extensions": {
          "jupyter_dashboards": {
            "version": 1,
            "views": {
              "grid_default": {},
              "report_default": {
                "hidden": false
              }
            }
          }
        },
        "colab": {
          "base_uri": "https://localhost:8080/"
        },
        "id": "03RJcXUM6j9g",
        "outputId": "ff1244ec-d5a3-444c-e0c9-9b1e0bfc3549"
      },
      "outputs": [
        {
          "output_type": "stream",
          "name": "stdout",
          "text": [
            "<class 'pandas.core.frame.DataFrame'>\n",
            "RangeIndex: 8 entries, 1 to 8\n",
            "Data columns (total 4 columns):\n",
            " #   Column  Non-Null Count  Dtype \n",
            "---  ------  --------------  ----- \n",
            " 0   Jogos   8 non-null      object\n",
            " 1   Ouro    8 non-null      object\n",
            " 2   Prata   8 non-null      object\n",
            " 3   Bronze  8 non-null      object\n",
            "dtypes: object(4)\n",
            "memory usage: 388.0+ bytes\n"
          ]
        }
      ],
      "source": [
        "# Verificando as informações da tabela \n",
        "tabela50m2.info()"
      ]
    },
    {
      "cell_type": "code",
      "execution_count": 191,
      "metadata": {
        "extensions": {
          "jupyter_dashboards": {
            "version": 1,
            "views": {
              "grid_default": {},
              "report_default": {
                "hidden": false
              }
            }
          }
        },
        "colab": {
          "base_uri": "https://localhost:8080/",
          "height": 405
        },
        "id": "EaS9_mjc6j9j",
        "outputId": "927df06c-826f-4d3b-c716-a30a349516c3"
      },
      "outputs": [
        {
          "output_type": "stream",
          "name": "stderr",
          "text": [
            "/usr/local/lib/python3.7/dist-packages/pandas/core/frame.py:3641: SettingWithCopyWarning: \n",
            "A value is trying to be set on a copy of a slice from a DataFrame.\n",
            "Try using .loc[row_indexer,col_indexer] = value instead\n",
            "\n",
            "See the caveats in the documentation: https://pandas.pydata.org/pandas-docs/stable/user_guide/indexing.html#returning-a-view-versus-a-copy\n",
            "  self[k1] = value[k2]\n"
          ]
        },
        {
          "output_type": "display_data",
          "data": {
            "text/plain": [
              "0           Jogos                                    Ouro  \\\n",
              "1      Seull 1988                       Matt Biondi (USA)   \n",
              "2  Barcelona 1992                   Aleksandr Popov (EUN)   \n",
              "3     Atenas 1996                   Aleksandr Popov (RUS)   \n",
              "4     Sydney 2000  Gary Hall Jr. (USA)Anthony Ervin (USA)   \n",
              "5     Atenas 2004                     Gary Hall Jr. (USA)   \n",
              "6     Pequim 2008                 César Cielo Filho (BRA)   \n",
              "7    Londres 2012                  Florent Manaudou (FRA)   \n",
              "8        Rio 2016                     Anthony Ervin (USA)   \n",
              "\n",
              "0                   Prata                           Bronze          0     1  \n",
              "1         Tom Jager (USA)            Gennady Prigoda (TRS)      Seull  1988  \n",
              "2       Matt Biondi (USA)                  Tom Jager (USA)  Barcelona  1992  \n",
              "3     Gary Hall Jr. (USA)           Fernando Scherer (BRA)     Atenas  1996  \n",
              "4                       —  Pieter van den Hoogenband (NED)     Sydney  2000  \n",
              "5     Duje Draganja (CRO)            Roland Schoeman (RSA)     Atenas  2004  \n",
              "6    Amaury Leveaux (FRA)              Alain Bernard (FRA)     Pequim  2008  \n",
              "7      Cullen Jones (USA)          César Cielo Filho (BRA)    Londres  2012  \n",
              "8  Florent Manaudou (FRA)              Nathan Adrian (USA)        Rio  2016  "
            ],
            "text/html": [
              "\n",
              "  <div id=\"df-15fb52fa-d297-4973-9852-b00238ca623d\">\n",
              "    <div class=\"colab-df-container\">\n",
              "      <div>\n",
              "<style scoped>\n",
              "    .dataframe tbody tr th:only-of-type {\n",
              "        vertical-align: middle;\n",
              "    }\n",
              "\n",
              "    .dataframe tbody tr th {\n",
              "        vertical-align: top;\n",
              "    }\n",
              "\n",
              "    .dataframe thead th {\n",
              "        text-align: right;\n",
              "    }\n",
              "</style>\n",
              "<table border=\"1\" class=\"dataframe\">\n",
              "  <thead>\n",
              "    <tr style=\"text-align: right;\">\n",
              "      <th></th>\n",
              "      <th>Jogos</th>\n",
              "      <th>Ouro</th>\n",
              "      <th>Prata</th>\n",
              "      <th>Bronze</th>\n",
              "      <th>0</th>\n",
              "      <th>1</th>\n",
              "    </tr>\n",
              "  </thead>\n",
              "  <tbody>\n",
              "    <tr>\n",
              "      <th>1</th>\n",
              "      <td>Seull 1988</td>\n",
              "      <td>Matt Biondi (USA)</td>\n",
              "      <td>Tom Jager (USA)</td>\n",
              "      <td>Gennady Prigoda (TRS)</td>\n",
              "      <td>Seull</td>\n",
              "      <td>1988</td>\n",
              "    </tr>\n",
              "    <tr>\n",
              "      <th>2</th>\n",
              "      <td>Barcelona 1992</td>\n",
              "      <td>Aleksandr Popov (EUN)</td>\n",
              "      <td>Matt Biondi (USA)</td>\n",
              "      <td>Tom Jager (USA)</td>\n",
              "      <td>Barcelona</td>\n",
              "      <td>1992</td>\n",
              "    </tr>\n",
              "    <tr>\n",
              "      <th>3</th>\n",
              "      <td>Atenas 1996</td>\n",
              "      <td>Aleksandr Popov (RUS)</td>\n",
              "      <td>Gary Hall Jr. (USA)</td>\n",
              "      <td>Fernando Scherer (BRA)</td>\n",
              "      <td>Atenas</td>\n",
              "      <td>1996</td>\n",
              "    </tr>\n",
              "    <tr>\n",
              "      <th>4</th>\n",
              "      <td>Sydney 2000</td>\n",
              "      <td>Gary Hall Jr. (USA)Anthony Ervin (USA)</td>\n",
              "      <td>—</td>\n",
              "      <td>Pieter van den Hoogenband (NED)</td>\n",
              "      <td>Sydney</td>\n",
              "      <td>2000</td>\n",
              "    </tr>\n",
              "    <tr>\n",
              "      <th>5</th>\n",
              "      <td>Atenas 2004</td>\n",
              "      <td>Gary Hall Jr. (USA)</td>\n",
              "      <td>Duje Draganja (CRO)</td>\n",
              "      <td>Roland Schoeman (RSA)</td>\n",
              "      <td>Atenas</td>\n",
              "      <td>2004</td>\n",
              "    </tr>\n",
              "    <tr>\n",
              "      <th>6</th>\n",
              "      <td>Pequim 2008</td>\n",
              "      <td>César Cielo Filho (BRA)</td>\n",
              "      <td>Amaury Leveaux (FRA)</td>\n",
              "      <td>Alain Bernard (FRA)</td>\n",
              "      <td>Pequim</td>\n",
              "      <td>2008</td>\n",
              "    </tr>\n",
              "    <tr>\n",
              "      <th>7</th>\n",
              "      <td>Londres 2012</td>\n",
              "      <td>Florent Manaudou (FRA)</td>\n",
              "      <td>Cullen Jones (USA)</td>\n",
              "      <td>César Cielo Filho (BRA)</td>\n",
              "      <td>Londres</td>\n",
              "      <td>2012</td>\n",
              "    </tr>\n",
              "    <tr>\n",
              "      <th>8</th>\n",
              "      <td>Rio 2016</td>\n",
              "      <td>Anthony Ervin (USA)</td>\n",
              "      <td>Florent Manaudou (FRA)</td>\n",
              "      <td>Nathan Adrian (USA)</td>\n",
              "      <td>Rio</td>\n",
              "      <td>2016</td>\n",
              "    </tr>\n",
              "  </tbody>\n",
              "</table>\n",
              "</div>\n",
              "      <button class=\"colab-df-convert\" onclick=\"convertToInteractive('df-15fb52fa-d297-4973-9852-b00238ca623d')\"\n",
              "              title=\"Convert this dataframe to an interactive table.\"\n",
              "              style=\"display:none;\">\n",
              "        \n",
              "  <svg xmlns=\"http://www.w3.org/2000/svg\" height=\"24px\"viewBox=\"0 0 24 24\"\n",
              "       width=\"24px\">\n",
              "    <path d=\"M0 0h24v24H0V0z\" fill=\"none\"/>\n",
              "    <path d=\"M18.56 5.44l.94 2.06.94-2.06 2.06-.94-2.06-.94-.94-2.06-.94 2.06-2.06.94zm-11 1L8.5 8.5l.94-2.06 2.06-.94-2.06-.94L8.5 2.5l-.94 2.06-2.06.94zm10 10l.94 2.06.94-2.06 2.06-.94-2.06-.94-.94-2.06-.94 2.06-2.06.94z\"/><path d=\"M17.41 7.96l-1.37-1.37c-.4-.4-.92-.59-1.43-.59-.52 0-1.04.2-1.43.59L10.3 9.45l-7.72 7.72c-.78.78-.78 2.05 0 2.83L4 21.41c.39.39.9.59 1.41.59.51 0 1.02-.2 1.41-.59l7.78-7.78 2.81-2.81c.8-.78.8-2.07 0-2.86zM5.41 20L4 18.59l7.72-7.72 1.47 1.35L5.41 20z\"/>\n",
              "  </svg>\n",
              "      </button>\n",
              "      \n",
              "  <style>\n",
              "    .colab-df-container {\n",
              "      display:flex;\n",
              "      flex-wrap:wrap;\n",
              "      gap: 12px;\n",
              "    }\n",
              "\n",
              "    .colab-df-convert {\n",
              "      background-color: #E8F0FE;\n",
              "      border: none;\n",
              "      border-radius: 50%;\n",
              "      cursor: pointer;\n",
              "      display: none;\n",
              "      fill: #1967D2;\n",
              "      height: 32px;\n",
              "      padding: 0 0 0 0;\n",
              "      width: 32px;\n",
              "    }\n",
              "\n",
              "    .colab-df-convert:hover {\n",
              "      background-color: #E2EBFA;\n",
              "      box-shadow: 0px 1px 2px rgba(60, 64, 67, 0.3), 0px 1px 3px 1px rgba(60, 64, 67, 0.15);\n",
              "      fill: #174EA6;\n",
              "    }\n",
              "\n",
              "    [theme=dark] .colab-df-convert {\n",
              "      background-color: #3B4455;\n",
              "      fill: #D2E3FC;\n",
              "    }\n",
              "\n",
              "    [theme=dark] .colab-df-convert:hover {\n",
              "      background-color: #434B5C;\n",
              "      box-shadow: 0px 1px 3px 1px rgba(0, 0, 0, 0.15);\n",
              "      filter: drop-shadow(0px 1px 2px rgba(0, 0, 0, 0.3));\n",
              "      fill: #FFFFFF;\n",
              "    }\n",
              "  </style>\n",
              "\n",
              "      <script>\n",
              "        const buttonEl =\n",
              "          document.querySelector('#df-15fb52fa-d297-4973-9852-b00238ca623d button.colab-df-convert');\n",
              "        buttonEl.style.display =\n",
              "          google.colab.kernel.accessAllowed ? 'block' : 'none';\n",
              "\n",
              "        async function convertToInteractive(key) {\n",
              "          const element = document.querySelector('#df-15fb52fa-d297-4973-9852-b00238ca623d');\n",
              "          const dataTable =\n",
              "            await google.colab.kernel.invokeFunction('convertToInteractive',\n",
              "                                                     [key], {});\n",
              "          if (!dataTable) return;\n",
              "\n",
              "          const docLinkHtml = 'Like what you see? Visit the ' +\n",
              "            '<a target=\"_blank\" href=https://colab.research.google.com/notebooks/data_table.ipynb>data table notebook</a>'\n",
              "            + ' to learn more about interactive tables.';\n",
              "          element.innerHTML = '';\n",
              "          dataTable['output_type'] = 'display_data';\n",
              "          await google.colab.output.renderOutput(dataTable, element);\n",
              "          const docLink = document.createElement('div');\n",
              "          docLink.innerHTML = docLinkHtml;\n",
              "          element.appendChild(docLink);\n",
              "        }\n",
              "      </script>\n",
              "    </div>\n",
              "  </div>\n",
              "  "
            ]
          },
          "metadata": {}
        }
      ],
      "source": [
        "# As informações estão separadas por um espaço\n",
        "tabela50m2[[0, 1]] = tabela50m2[\"Jogos\"].str.split(\" \", expand=True)\n",
        "display(tabela50m2)"
      ]
    },
    {
      "cell_type": "code",
      "execution_count": 192,
      "metadata": {
        "extensions": {
          "jupyter_dashboards": {
            "version": 1,
            "views": {
              "grid_default": {},
              "report_default": {
                "hidden": false
              }
            }
          }
        },
        "colab": {
          "base_uri": "https://localhost:8080/",
          "height": 300
        },
        "id": "xu12sghm6j9l",
        "outputId": "b9986418-ac30-4b39-a063-685291629cdb"
      },
      "outputs": [
        {
          "output_type": "display_data",
          "data": {
            "text/plain": [
              "0                                    Ouro                   Prata  \\\n",
              "1                       Matt Biondi (USA)         Tom Jager (USA)   \n",
              "2                   Aleksandr Popov (EUN)       Matt Biondi (USA)   \n",
              "3                   Aleksandr Popov (RUS)     Gary Hall Jr. (USA)   \n",
              "4  Gary Hall Jr. (USA)Anthony Ervin (USA)                       —   \n",
              "5                     Gary Hall Jr. (USA)     Duje Draganja (CRO)   \n",
              "6                 César Cielo Filho (BRA)    Amaury Leveaux (FRA)   \n",
              "7                  Florent Manaudou (FRA)      Cullen Jones (USA)   \n",
              "8                     Anthony Ervin (USA)  Florent Manaudou (FRA)   \n",
              "\n",
              "0                           Bronze          0     1  \n",
              "1            Gennady Prigoda (TRS)      Seull  1988  \n",
              "2                  Tom Jager (USA)  Barcelona  1992  \n",
              "3           Fernando Scherer (BRA)     Atenas  1996  \n",
              "4  Pieter van den Hoogenband (NED)     Sydney  2000  \n",
              "5            Roland Schoeman (RSA)     Atenas  2004  \n",
              "6              Alain Bernard (FRA)     Pequim  2008  \n",
              "7          César Cielo Filho (BRA)    Londres  2012  \n",
              "8              Nathan Adrian (USA)        Rio  2016  "
            ],
            "text/html": [
              "\n",
              "  <div id=\"df-ef48f6a0-d9d7-40d0-84f3-0fd7d67554f6\">\n",
              "    <div class=\"colab-df-container\">\n",
              "      <div>\n",
              "<style scoped>\n",
              "    .dataframe tbody tr th:only-of-type {\n",
              "        vertical-align: middle;\n",
              "    }\n",
              "\n",
              "    .dataframe tbody tr th {\n",
              "        vertical-align: top;\n",
              "    }\n",
              "\n",
              "    .dataframe thead th {\n",
              "        text-align: right;\n",
              "    }\n",
              "</style>\n",
              "<table border=\"1\" class=\"dataframe\">\n",
              "  <thead>\n",
              "    <tr style=\"text-align: right;\">\n",
              "      <th></th>\n",
              "      <th>Ouro</th>\n",
              "      <th>Prata</th>\n",
              "      <th>Bronze</th>\n",
              "      <th>0</th>\n",
              "      <th>1</th>\n",
              "    </tr>\n",
              "  </thead>\n",
              "  <tbody>\n",
              "    <tr>\n",
              "      <th>1</th>\n",
              "      <td>Matt Biondi (USA)</td>\n",
              "      <td>Tom Jager (USA)</td>\n",
              "      <td>Gennady Prigoda (TRS)</td>\n",
              "      <td>Seull</td>\n",
              "      <td>1988</td>\n",
              "    </tr>\n",
              "    <tr>\n",
              "      <th>2</th>\n",
              "      <td>Aleksandr Popov (EUN)</td>\n",
              "      <td>Matt Biondi (USA)</td>\n",
              "      <td>Tom Jager (USA)</td>\n",
              "      <td>Barcelona</td>\n",
              "      <td>1992</td>\n",
              "    </tr>\n",
              "    <tr>\n",
              "      <th>3</th>\n",
              "      <td>Aleksandr Popov (RUS)</td>\n",
              "      <td>Gary Hall Jr. (USA)</td>\n",
              "      <td>Fernando Scherer (BRA)</td>\n",
              "      <td>Atenas</td>\n",
              "      <td>1996</td>\n",
              "    </tr>\n",
              "    <tr>\n",
              "      <th>4</th>\n",
              "      <td>Gary Hall Jr. (USA)Anthony Ervin (USA)</td>\n",
              "      <td>—</td>\n",
              "      <td>Pieter van den Hoogenband (NED)</td>\n",
              "      <td>Sydney</td>\n",
              "      <td>2000</td>\n",
              "    </tr>\n",
              "    <tr>\n",
              "      <th>5</th>\n",
              "      <td>Gary Hall Jr. (USA)</td>\n",
              "      <td>Duje Draganja (CRO)</td>\n",
              "      <td>Roland Schoeman (RSA)</td>\n",
              "      <td>Atenas</td>\n",
              "      <td>2004</td>\n",
              "    </tr>\n",
              "    <tr>\n",
              "      <th>6</th>\n",
              "      <td>César Cielo Filho (BRA)</td>\n",
              "      <td>Amaury Leveaux (FRA)</td>\n",
              "      <td>Alain Bernard (FRA)</td>\n",
              "      <td>Pequim</td>\n",
              "      <td>2008</td>\n",
              "    </tr>\n",
              "    <tr>\n",
              "      <th>7</th>\n",
              "      <td>Florent Manaudou (FRA)</td>\n",
              "      <td>Cullen Jones (USA)</td>\n",
              "      <td>César Cielo Filho (BRA)</td>\n",
              "      <td>Londres</td>\n",
              "      <td>2012</td>\n",
              "    </tr>\n",
              "    <tr>\n",
              "      <th>8</th>\n",
              "      <td>Anthony Ervin (USA)</td>\n",
              "      <td>Florent Manaudou (FRA)</td>\n",
              "      <td>Nathan Adrian (USA)</td>\n",
              "      <td>Rio</td>\n",
              "      <td>2016</td>\n",
              "    </tr>\n",
              "  </tbody>\n",
              "</table>\n",
              "</div>\n",
              "      <button class=\"colab-df-convert\" onclick=\"convertToInteractive('df-ef48f6a0-d9d7-40d0-84f3-0fd7d67554f6')\"\n",
              "              title=\"Convert this dataframe to an interactive table.\"\n",
              "              style=\"display:none;\">\n",
              "        \n",
              "  <svg xmlns=\"http://www.w3.org/2000/svg\" height=\"24px\"viewBox=\"0 0 24 24\"\n",
              "       width=\"24px\">\n",
              "    <path d=\"M0 0h24v24H0V0z\" fill=\"none\"/>\n",
              "    <path d=\"M18.56 5.44l.94 2.06.94-2.06 2.06-.94-2.06-.94-.94-2.06-.94 2.06-2.06.94zm-11 1L8.5 8.5l.94-2.06 2.06-.94-2.06-.94L8.5 2.5l-.94 2.06-2.06.94zm10 10l.94 2.06.94-2.06 2.06-.94-2.06-.94-.94-2.06-.94 2.06-2.06.94z\"/><path d=\"M17.41 7.96l-1.37-1.37c-.4-.4-.92-.59-1.43-.59-.52 0-1.04.2-1.43.59L10.3 9.45l-7.72 7.72c-.78.78-.78 2.05 0 2.83L4 21.41c.39.39.9.59 1.41.59.51 0 1.02-.2 1.41-.59l7.78-7.78 2.81-2.81c.8-.78.8-2.07 0-2.86zM5.41 20L4 18.59l7.72-7.72 1.47 1.35L5.41 20z\"/>\n",
              "  </svg>\n",
              "      </button>\n",
              "      \n",
              "  <style>\n",
              "    .colab-df-container {\n",
              "      display:flex;\n",
              "      flex-wrap:wrap;\n",
              "      gap: 12px;\n",
              "    }\n",
              "\n",
              "    .colab-df-convert {\n",
              "      background-color: #E8F0FE;\n",
              "      border: none;\n",
              "      border-radius: 50%;\n",
              "      cursor: pointer;\n",
              "      display: none;\n",
              "      fill: #1967D2;\n",
              "      height: 32px;\n",
              "      padding: 0 0 0 0;\n",
              "      width: 32px;\n",
              "    }\n",
              "\n",
              "    .colab-df-convert:hover {\n",
              "      background-color: #E2EBFA;\n",
              "      box-shadow: 0px 1px 2px rgba(60, 64, 67, 0.3), 0px 1px 3px 1px rgba(60, 64, 67, 0.15);\n",
              "      fill: #174EA6;\n",
              "    }\n",
              "\n",
              "    [theme=dark] .colab-df-convert {\n",
              "      background-color: #3B4455;\n",
              "      fill: #D2E3FC;\n",
              "    }\n",
              "\n",
              "    [theme=dark] .colab-df-convert:hover {\n",
              "      background-color: #434B5C;\n",
              "      box-shadow: 0px 1px 3px 1px rgba(0, 0, 0, 0.15);\n",
              "      filter: drop-shadow(0px 1px 2px rgba(0, 0, 0, 0.3));\n",
              "      fill: #FFFFFF;\n",
              "    }\n",
              "  </style>\n",
              "\n",
              "      <script>\n",
              "        const buttonEl =\n",
              "          document.querySelector('#df-ef48f6a0-d9d7-40d0-84f3-0fd7d67554f6 button.colab-df-convert');\n",
              "        buttonEl.style.display =\n",
              "          google.colab.kernel.accessAllowed ? 'block' : 'none';\n",
              "\n",
              "        async function convertToInteractive(key) {\n",
              "          const element = document.querySelector('#df-ef48f6a0-d9d7-40d0-84f3-0fd7d67554f6');\n",
              "          const dataTable =\n",
              "            await google.colab.kernel.invokeFunction('convertToInteractive',\n",
              "                                                     [key], {});\n",
              "          if (!dataTable) return;\n",
              "\n",
              "          const docLinkHtml = 'Like what you see? Visit the ' +\n",
              "            '<a target=\"_blank\" href=https://colab.research.google.com/notebooks/data_table.ipynb>data table notebook</a>'\n",
              "            + ' to learn more about interactive tables.';\n",
              "          element.innerHTML = '';\n",
              "          dataTable['output_type'] = 'display_data';\n",
              "          await google.colab.output.renderOutput(dataTable, element);\n",
              "          const docLink = document.createElement('div');\n",
              "          docLink.innerHTML = docLinkHtml;\n",
              "          element.appendChild(docLink);\n",
              "        }\n",
              "      </script>\n",
              "    </div>\n",
              "  </div>\n",
              "  "
            ]
          },
          "metadata": {}
        }
      ],
      "source": [
        "#Retirando a coluna que foi separada\n",
        "tabela50m2 = tabela50m2.drop(\"Jogos\", axis=1)\n",
        "display(tabela50m2)"
      ]
    },
    {
      "cell_type": "code",
      "execution_count": 193,
      "metadata": {
        "extensions": {
          "jupyter_dashboards": {
            "version": 1,
            "views": {
              "grid_default": {},
              "report_default": {
                "hidden": true
              }
            }
          }
        },
        "id": "QxilzeSc6j9n"
      },
      "outputs": [],
      "source": [
        "# Alterando os tipos dos dados para string\n",
        "tabela50m2['Ouro'] = tabela50m2['Ouro'].astype(str)\n",
        "tabela50m2['Prata'] = tabela50m2['Prata'].astype(str)\n",
        "tabela50m2['Bronze'] = tabela50m2['Bronze'].astype(str)\n",
        "tabela50m2[0] = tabela50m2[0].astype(str)\n",
        "tabela50m2[1] = tabela50m2[1].astype(int)"
      ]
    },
    {
      "cell_type": "code",
      "execution_count": 194,
      "metadata": {
        "extensions": {
          "jupyter_dashboards": {
            "version": 1,
            "views": {
              "grid_default": {},
              "report_default": {
                "hidden": false
              }
            }
          }
        },
        "colab": {
          "base_uri": "https://localhost:8080/"
        },
        "id": "uOQCS3-p6j9o",
        "outputId": "5515f545-3825-415d-b379-22337b2957b1"
      },
      "outputs": [
        {
          "output_type": "stream",
          "name": "stdout",
          "text": [
            "<class 'pandas.core.frame.DataFrame'>\n",
            "RangeIndex: 8 entries, 1 to 8\n",
            "Data columns (total 5 columns):\n",
            " #   Column  Non-Null Count  Dtype \n",
            "---  ------  --------------  ----- \n",
            " 0   Ouro    8 non-null      object\n",
            " 1   Prata   8 non-null      object\n",
            " 2   Bronze  8 non-null      object\n",
            " 3   0       8 non-null      object\n",
            " 4   1       8 non-null      int64 \n",
            "dtypes: int64(1), object(4)\n",
            "memory usage: 452.0+ bytes\n"
          ]
        }
      ],
      "source": [
        "# Verificando as informações da tabela \n",
        "tabela50m2.info()"
      ]
    },
    {
      "cell_type": "code",
      "execution_count": 195,
      "metadata": {
        "extensions": {
          "jupyter_dashboards": {
            "version": 1,
            "views": {
              "grid_default": {},
              "report_default": {
                "hidden": false
              }
            }
          }
        },
        "colab": {
          "base_uri": "https://localhost:8080/",
          "height": 300
        },
        "id": "-sHiVi9_6j9q",
        "outputId": "4d118b2b-d3ef-4c6e-e5bd-0964df2b2841"
      },
      "outputs": [
        {
          "output_type": "display_data",
          "data": {
            "text/plain": [
              "0                         OuroNadadorPaís        PrataNadadorPaís  \\\n",
              "1                       Matt Biondi (USA)         Tom Jager (USA)   \n",
              "2                   Aleksandr Popov (EUN)       Matt Biondi (USA)   \n",
              "3                   Aleksandr Popov (RUS)     Gary Hall Jr. (USA)   \n",
              "4  Gary Hall Jr. (USA)Anthony Ervin (USA)                       —   \n",
              "5                     Gary Hall Jr. (USA)     Duje Draganja (CRO)   \n",
              "6                 César Cielo Filho (BRA)    Amaury Leveaux (FRA)   \n",
              "7                  Florent Manaudou (FRA)      Cullen Jones (USA)   \n",
              "8                     Anthony Ervin (USA)  Florent Manaudou (FRA)   \n",
              "\n",
              "0                BronzeNadadorPaís     Cidade   Ano  \n",
              "1            Gennady Prigoda (TRS)      Seull  1988  \n",
              "2                  Tom Jager (USA)  Barcelona  1992  \n",
              "3           Fernando Scherer (BRA)     Atenas  1996  \n",
              "4  Pieter van den Hoogenband (NED)     Sydney  2000  \n",
              "5            Roland Schoeman (RSA)     Atenas  2004  \n",
              "6              Alain Bernard (FRA)     Pequim  2008  \n",
              "7          César Cielo Filho (BRA)    Londres  2012  \n",
              "8              Nathan Adrian (USA)        Rio  2016  "
            ],
            "text/html": [
              "\n",
              "  <div id=\"df-2481f61e-a80e-44f4-8ad6-fa48f81c2ca9\">\n",
              "    <div class=\"colab-df-container\">\n",
              "      <div>\n",
              "<style scoped>\n",
              "    .dataframe tbody tr th:only-of-type {\n",
              "        vertical-align: middle;\n",
              "    }\n",
              "\n",
              "    .dataframe tbody tr th {\n",
              "        vertical-align: top;\n",
              "    }\n",
              "\n",
              "    .dataframe thead th {\n",
              "        text-align: right;\n",
              "    }\n",
              "</style>\n",
              "<table border=\"1\" class=\"dataframe\">\n",
              "  <thead>\n",
              "    <tr style=\"text-align: right;\">\n",
              "      <th></th>\n",
              "      <th>OuroNadadorPaís</th>\n",
              "      <th>PrataNadadorPaís</th>\n",
              "      <th>BronzeNadadorPaís</th>\n",
              "      <th>Cidade</th>\n",
              "      <th>Ano</th>\n",
              "    </tr>\n",
              "  </thead>\n",
              "  <tbody>\n",
              "    <tr>\n",
              "      <th>1</th>\n",
              "      <td>Matt Biondi (USA)</td>\n",
              "      <td>Tom Jager (USA)</td>\n",
              "      <td>Gennady Prigoda (TRS)</td>\n",
              "      <td>Seull</td>\n",
              "      <td>1988</td>\n",
              "    </tr>\n",
              "    <tr>\n",
              "      <th>2</th>\n",
              "      <td>Aleksandr Popov (EUN)</td>\n",
              "      <td>Matt Biondi (USA)</td>\n",
              "      <td>Tom Jager (USA)</td>\n",
              "      <td>Barcelona</td>\n",
              "      <td>1992</td>\n",
              "    </tr>\n",
              "    <tr>\n",
              "      <th>3</th>\n",
              "      <td>Aleksandr Popov (RUS)</td>\n",
              "      <td>Gary Hall Jr. (USA)</td>\n",
              "      <td>Fernando Scherer (BRA)</td>\n",
              "      <td>Atenas</td>\n",
              "      <td>1996</td>\n",
              "    </tr>\n",
              "    <tr>\n",
              "      <th>4</th>\n",
              "      <td>Gary Hall Jr. (USA)Anthony Ervin (USA)</td>\n",
              "      <td>—</td>\n",
              "      <td>Pieter van den Hoogenband (NED)</td>\n",
              "      <td>Sydney</td>\n",
              "      <td>2000</td>\n",
              "    </tr>\n",
              "    <tr>\n",
              "      <th>5</th>\n",
              "      <td>Gary Hall Jr. (USA)</td>\n",
              "      <td>Duje Draganja (CRO)</td>\n",
              "      <td>Roland Schoeman (RSA)</td>\n",
              "      <td>Atenas</td>\n",
              "      <td>2004</td>\n",
              "    </tr>\n",
              "    <tr>\n",
              "      <th>6</th>\n",
              "      <td>César Cielo Filho (BRA)</td>\n",
              "      <td>Amaury Leveaux (FRA)</td>\n",
              "      <td>Alain Bernard (FRA)</td>\n",
              "      <td>Pequim</td>\n",
              "      <td>2008</td>\n",
              "    </tr>\n",
              "    <tr>\n",
              "      <th>7</th>\n",
              "      <td>Florent Manaudou (FRA)</td>\n",
              "      <td>Cullen Jones (USA)</td>\n",
              "      <td>César Cielo Filho (BRA)</td>\n",
              "      <td>Londres</td>\n",
              "      <td>2012</td>\n",
              "    </tr>\n",
              "    <tr>\n",
              "      <th>8</th>\n",
              "      <td>Anthony Ervin (USA)</td>\n",
              "      <td>Florent Manaudou (FRA)</td>\n",
              "      <td>Nathan Adrian (USA)</td>\n",
              "      <td>Rio</td>\n",
              "      <td>2016</td>\n",
              "    </tr>\n",
              "  </tbody>\n",
              "</table>\n",
              "</div>\n",
              "      <button class=\"colab-df-convert\" onclick=\"convertToInteractive('df-2481f61e-a80e-44f4-8ad6-fa48f81c2ca9')\"\n",
              "              title=\"Convert this dataframe to an interactive table.\"\n",
              "              style=\"display:none;\">\n",
              "        \n",
              "  <svg xmlns=\"http://www.w3.org/2000/svg\" height=\"24px\"viewBox=\"0 0 24 24\"\n",
              "       width=\"24px\">\n",
              "    <path d=\"M0 0h24v24H0V0z\" fill=\"none\"/>\n",
              "    <path d=\"M18.56 5.44l.94 2.06.94-2.06 2.06-.94-2.06-.94-.94-2.06-.94 2.06-2.06.94zm-11 1L8.5 8.5l.94-2.06 2.06-.94-2.06-.94L8.5 2.5l-.94 2.06-2.06.94zm10 10l.94 2.06.94-2.06 2.06-.94-2.06-.94-.94-2.06-.94 2.06-2.06.94z\"/><path d=\"M17.41 7.96l-1.37-1.37c-.4-.4-.92-.59-1.43-.59-.52 0-1.04.2-1.43.59L10.3 9.45l-7.72 7.72c-.78.78-.78 2.05 0 2.83L4 21.41c.39.39.9.59 1.41.59.51 0 1.02-.2 1.41-.59l7.78-7.78 2.81-2.81c.8-.78.8-2.07 0-2.86zM5.41 20L4 18.59l7.72-7.72 1.47 1.35L5.41 20z\"/>\n",
              "  </svg>\n",
              "      </button>\n",
              "      \n",
              "  <style>\n",
              "    .colab-df-container {\n",
              "      display:flex;\n",
              "      flex-wrap:wrap;\n",
              "      gap: 12px;\n",
              "    }\n",
              "\n",
              "    .colab-df-convert {\n",
              "      background-color: #E8F0FE;\n",
              "      border: none;\n",
              "      border-radius: 50%;\n",
              "      cursor: pointer;\n",
              "      display: none;\n",
              "      fill: #1967D2;\n",
              "      height: 32px;\n",
              "      padding: 0 0 0 0;\n",
              "      width: 32px;\n",
              "    }\n",
              "\n",
              "    .colab-df-convert:hover {\n",
              "      background-color: #E2EBFA;\n",
              "      box-shadow: 0px 1px 2px rgba(60, 64, 67, 0.3), 0px 1px 3px 1px rgba(60, 64, 67, 0.15);\n",
              "      fill: #174EA6;\n",
              "    }\n",
              "\n",
              "    [theme=dark] .colab-df-convert {\n",
              "      background-color: #3B4455;\n",
              "      fill: #D2E3FC;\n",
              "    }\n",
              "\n",
              "    [theme=dark] .colab-df-convert:hover {\n",
              "      background-color: #434B5C;\n",
              "      box-shadow: 0px 1px 3px 1px rgba(0, 0, 0, 0.15);\n",
              "      filter: drop-shadow(0px 1px 2px rgba(0, 0, 0, 0.3));\n",
              "      fill: #FFFFFF;\n",
              "    }\n",
              "  </style>\n",
              "\n",
              "      <script>\n",
              "        const buttonEl =\n",
              "          document.querySelector('#df-2481f61e-a80e-44f4-8ad6-fa48f81c2ca9 button.colab-df-convert');\n",
              "        buttonEl.style.display =\n",
              "          google.colab.kernel.accessAllowed ? 'block' : 'none';\n",
              "\n",
              "        async function convertToInteractive(key) {\n",
              "          const element = document.querySelector('#df-2481f61e-a80e-44f4-8ad6-fa48f81c2ca9');\n",
              "          const dataTable =\n",
              "            await google.colab.kernel.invokeFunction('convertToInteractive',\n",
              "                                                     [key], {});\n",
              "          if (!dataTable) return;\n",
              "\n",
              "          const docLinkHtml = 'Like what you see? Visit the ' +\n",
              "            '<a target=\"_blank\" href=https://colab.research.google.com/notebooks/data_table.ipynb>data table notebook</a>'\n",
              "            + ' to learn more about interactive tables.';\n",
              "          element.innerHTML = '';\n",
              "          dataTable['output_type'] = 'display_data';\n",
              "          await google.colab.output.renderOutput(dataTable, element);\n",
              "          const docLink = document.createElement('div');\n",
              "          docLink.innerHTML = docLinkHtml;\n",
              "          element.appendChild(docLink);\n",
              "        }\n",
              "      </script>\n",
              "    </div>\n",
              "  </div>\n",
              "  "
            ]
          },
          "metadata": {}
        }
      ],
      "source": [
        "#Renomeando as colunas 0 e 1 em 'Sede','Ano'\n",
        "tabela50m2.rename(columns={0: 'Cidade'}, inplace=True)\n",
        "tabela50m2.rename(columns={1: 'Ano'}, inplace=True)\n",
        "tabela50m2.rename(columns={'Ouro': 'OuroNadadorPaís'}, inplace=True)\n",
        "tabela50m2.rename(columns={'Prata': 'PrataNadadorPaís'}, inplace=True)\n",
        "tabela50m2.rename(columns={'Bronze': 'BronzeNadadorPaís'}, inplace=True)\n",
        "display(tabela50m2)"
      ]
    },
    {
      "cell_type": "code",
      "execution_count": 196,
      "metadata": {
        "extensions": {
          "jupyter_dashboards": {
            "version": 1,
            "views": {
              "grid_default": {},
              "report_default": {
                "hidden": false
              }
            }
          }
        },
        "colab": {
          "base_uri": "https://localhost:8080/",
          "height": 300
        },
        "id": "hr5gkWcr6j9u",
        "outputId": "1da27849-3fdc-4c52-85f0-b0c13b243fd0"
      },
      "outputs": [
        {
          "output_type": "display_data",
          "data": {
            "text/plain": [
              "0   Ano     Cidade                         OuroNadadorPaís  \\\n",
              "1  1988      Seull                       Matt Biondi (USA)   \n",
              "2  1992  Barcelona                   Aleksandr Popov (EUN)   \n",
              "3  1996     Atenas                   Aleksandr Popov (RUS)   \n",
              "4  2000     Sydney  Gary Hall Jr. (USA)Anthony Ervin (USA)   \n",
              "5  2004     Atenas                     Gary Hall Jr. (USA)   \n",
              "6  2008     Pequim                 César Cielo Filho (BRA)   \n",
              "7  2012    Londres                  Florent Manaudou (FRA)   \n",
              "8  2016        Rio                     Anthony Ervin (USA)   \n",
              "\n",
              "0        PrataNadadorPaís                BronzeNadadorPaís  \n",
              "1         Tom Jager (USA)            Gennady Prigoda (TRS)  \n",
              "2       Matt Biondi (USA)                  Tom Jager (USA)  \n",
              "3     Gary Hall Jr. (USA)           Fernando Scherer (BRA)  \n",
              "4                       —  Pieter van den Hoogenband (NED)  \n",
              "5     Duje Draganja (CRO)            Roland Schoeman (RSA)  \n",
              "6    Amaury Leveaux (FRA)              Alain Bernard (FRA)  \n",
              "7      Cullen Jones (USA)          César Cielo Filho (BRA)  \n",
              "8  Florent Manaudou (FRA)              Nathan Adrian (USA)  "
            ],
            "text/html": [
              "\n",
              "  <div id=\"df-43675404-9b39-4b5b-9152-e32ba15d929e\">\n",
              "    <div class=\"colab-df-container\">\n",
              "      <div>\n",
              "<style scoped>\n",
              "    .dataframe tbody tr th:only-of-type {\n",
              "        vertical-align: middle;\n",
              "    }\n",
              "\n",
              "    .dataframe tbody tr th {\n",
              "        vertical-align: top;\n",
              "    }\n",
              "\n",
              "    .dataframe thead th {\n",
              "        text-align: right;\n",
              "    }\n",
              "</style>\n",
              "<table border=\"1\" class=\"dataframe\">\n",
              "  <thead>\n",
              "    <tr style=\"text-align: right;\">\n",
              "      <th></th>\n",
              "      <th>Ano</th>\n",
              "      <th>Cidade</th>\n",
              "      <th>OuroNadadorPaís</th>\n",
              "      <th>PrataNadadorPaís</th>\n",
              "      <th>BronzeNadadorPaís</th>\n",
              "    </tr>\n",
              "  </thead>\n",
              "  <tbody>\n",
              "    <tr>\n",
              "      <th>1</th>\n",
              "      <td>1988</td>\n",
              "      <td>Seull</td>\n",
              "      <td>Matt Biondi (USA)</td>\n",
              "      <td>Tom Jager (USA)</td>\n",
              "      <td>Gennady Prigoda (TRS)</td>\n",
              "    </tr>\n",
              "    <tr>\n",
              "      <th>2</th>\n",
              "      <td>1992</td>\n",
              "      <td>Barcelona</td>\n",
              "      <td>Aleksandr Popov (EUN)</td>\n",
              "      <td>Matt Biondi (USA)</td>\n",
              "      <td>Tom Jager (USA)</td>\n",
              "    </tr>\n",
              "    <tr>\n",
              "      <th>3</th>\n",
              "      <td>1996</td>\n",
              "      <td>Atenas</td>\n",
              "      <td>Aleksandr Popov (RUS)</td>\n",
              "      <td>Gary Hall Jr. (USA)</td>\n",
              "      <td>Fernando Scherer (BRA)</td>\n",
              "    </tr>\n",
              "    <tr>\n",
              "      <th>4</th>\n",
              "      <td>2000</td>\n",
              "      <td>Sydney</td>\n",
              "      <td>Gary Hall Jr. (USA)Anthony Ervin (USA)</td>\n",
              "      <td>—</td>\n",
              "      <td>Pieter van den Hoogenband (NED)</td>\n",
              "    </tr>\n",
              "    <tr>\n",
              "      <th>5</th>\n",
              "      <td>2004</td>\n",
              "      <td>Atenas</td>\n",
              "      <td>Gary Hall Jr. (USA)</td>\n",
              "      <td>Duje Draganja (CRO)</td>\n",
              "      <td>Roland Schoeman (RSA)</td>\n",
              "    </tr>\n",
              "    <tr>\n",
              "      <th>6</th>\n",
              "      <td>2008</td>\n",
              "      <td>Pequim</td>\n",
              "      <td>César Cielo Filho (BRA)</td>\n",
              "      <td>Amaury Leveaux (FRA)</td>\n",
              "      <td>Alain Bernard (FRA)</td>\n",
              "    </tr>\n",
              "    <tr>\n",
              "      <th>7</th>\n",
              "      <td>2012</td>\n",
              "      <td>Londres</td>\n",
              "      <td>Florent Manaudou (FRA)</td>\n",
              "      <td>Cullen Jones (USA)</td>\n",
              "      <td>César Cielo Filho (BRA)</td>\n",
              "    </tr>\n",
              "    <tr>\n",
              "      <th>8</th>\n",
              "      <td>2016</td>\n",
              "      <td>Rio</td>\n",
              "      <td>Anthony Ervin (USA)</td>\n",
              "      <td>Florent Manaudou (FRA)</td>\n",
              "      <td>Nathan Adrian (USA)</td>\n",
              "    </tr>\n",
              "  </tbody>\n",
              "</table>\n",
              "</div>\n",
              "      <button class=\"colab-df-convert\" onclick=\"convertToInteractive('df-43675404-9b39-4b5b-9152-e32ba15d929e')\"\n",
              "              title=\"Convert this dataframe to an interactive table.\"\n",
              "              style=\"display:none;\">\n",
              "        \n",
              "  <svg xmlns=\"http://www.w3.org/2000/svg\" height=\"24px\"viewBox=\"0 0 24 24\"\n",
              "       width=\"24px\">\n",
              "    <path d=\"M0 0h24v24H0V0z\" fill=\"none\"/>\n",
              "    <path d=\"M18.56 5.44l.94 2.06.94-2.06 2.06-.94-2.06-.94-.94-2.06-.94 2.06-2.06.94zm-11 1L8.5 8.5l.94-2.06 2.06-.94-2.06-.94L8.5 2.5l-.94 2.06-2.06.94zm10 10l.94 2.06.94-2.06 2.06-.94-2.06-.94-.94-2.06-.94 2.06-2.06.94z\"/><path d=\"M17.41 7.96l-1.37-1.37c-.4-.4-.92-.59-1.43-.59-.52 0-1.04.2-1.43.59L10.3 9.45l-7.72 7.72c-.78.78-.78 2.05 0 2.83L4 21.41c.39.39.9.59 1.41.59.51 0 1.02-.2 1.41-.59l7.78-7.78 2.81-2.81c.8-.78.8-2.07 0-2.86zM5.41 20L4 18.59l7.72-7.72 1.47 1.35L5.41 20z\"/>\n",
              "  </svg>\n",
              "      </button>\n",
              "      \n",
              "  <style>\n",
              "    .colab-df-container {\n",
              "      display:flex;\n",
              "      flex-wrap:wrap;\n",
              "      gap: 12px;\n",
              "    }\n",
              "\n",
              "    .colab-df-convert {\n",
              "      background-color: #E8F0FE;\n",
              "      border: none;\n",
              "      border-radius: 50%;\n",
              "      cursor: pointer;\n",
              "      display: none;\n",
              "      fill: #1967D2;\n",
              "      height: 32px;\n",
              "      padding: 0 0 0 0;\n",
              "      width: 32px;\n",
              "    }\n",
              "\n",
              "    .colab-df-convert:hover {\n",
              "      background-color: #E2EBFA;\n",
              "      box-shadow: 0px 1px 2px rgba(60, 64, 67, 0.3), 0px 1px 3px 1px rgba(60, 64, 67, 0.15);\n",
              "      fill: #174EA6;\n",
              "    }\n",
              "\n",
              "    [theme=dark] .colab-df-convert {\n",
              "      background-color: #3B4455;\n",
              "      fill: #D2E3FC;\n",
              "    }\n",
              "\n",
              "    [theme=dark] .colab-df-convert:hover {\n",
              "      background-color: #434B5C;\n",
              "      box-shadow: 0px 1px 3px 1px rgba(0, 0, 0, 0.15);\n",
              "      filter: drop-shadow(0px 1px 2px rgba(0, 0, 0, 0.3));\n",
              "      fill: #FFFFFF;\n",
              "    }\n",
              "  </style>\n",
              "\n",
              "      <script>\n",
              "        const buttonEl =\n",
              "          document.querySelector('#df-43675404-9b39-4b5b-9152-e32ba15d929e button.colab-df-convert');\n",
              "        buttonEl.style.display =\n",
              "          google.colab.kernel.accessAllowed ? 'block' : 'none';\n",
              "\n",
              "        async function convertToInteractive(key) {\n",
              "          const element = document.querySelector('#df-43675404-9b39-4b5b-9152-e32ba15d929e');\n",
              "          const dataTable =\n",
              "            await google.colab.kernel.invokeFunction('convertToInteractive',\n",
              "                                                     [key], {});\n",
              "          if (!dataTable) return;\n",
              "\n",
              "          const docLinkHtml = 'Like what you see? Visit the ' +\n",
              "            '<a target=\"_blank\" href=https://colab.research.google.com/notebooks/data_table.ipynb>data table notebook</a>'\n",
              "            + ' to learn more about interactive tables.';\n",
              "          element.innerHTML = '';\n",
              "          dataTable['output_type'] = 'display_data';\n",
              "          await google.colab.output.renderOutput(dataTable, element);\n",
              "          const docLink = document.createElement('div');\n",
              "          docLink.innerHTML = docLinkHtml;\n",
              "          element.appendChild(docLink);\n",
              "        }\n",
              "      </script>\n",
              "    </div>\n",
              "  </div>\n",
              "  "
            ]
          },
          "metadata": {}
        }
      ],
      "source": [
        "tabela50m2=tabela50m2[['Ano','Cidade','OuroNadadorPaís','PrataNadadorPaís','BronzeNadadorPaís']]\n",
        "display(tabela50m2)"
      ]
    },
    {
      "cell_type": "markdown",
      "metadata": {
        "id": "tDqOCxJ46j9x"
      },
      "source": [
        "## Gerar a tabela em excel - .xlsx"
      ]
    },
    {
      "cell_type": "code",
      "execution_count": 197,
      "metadata": {
        "id": "Lw51msOo6j9z"
      },
      "outputs": [],
      "source": [
        "# Salvando o arquivo na pasta em excel\n",
        "tabela50m2.to_excel('/content/drive/MyDrive/Colab Notebooks/Natação_Dados/tabela50m2.xlsx', index = True)\n",
        "#, encoding='cp1252'"
      ]
    },
    {
      "cell_type": "code",
      "execution_count": 198,
      "metadata": {
        "extensions": {
          "jupyter_dashboards": {
            "version": 1,
            "views": {
              "grid_default": {},
              "report_default": {
                "hidden": false
              }
            }
          }
        },
        "colab": {
          "base_uri": "https://localhost:8080/",
          "height": 112
        },
        "id": "30RnLfsc6j90",
        "outputId": "f8b9e32a-13b9-4b92-d242-1806d09bbcd2"
      },
      "outputs": [
        {
          "output_type": "execute_result",
          "data": {
            "text/plain": [
              "0   Ano   Cidade          OuroNadadorPaís      PrataNadadorPaís  \\\n",
              "6  2008   Pequim  César Cielo Filho (BRA)  Amaury Leveaux (FRA)   \n",
              "7  2012  Londres   Florent Manaudou (FRA)    Cullen Jones (USA)   \n",
              "\n",
              "0        BronzeNadadorPaís  \n",
              "6      Alain Bernard (FRA)  \n",
              "7  César Cielo Filho (BRA)  "
            ],
            "text/html": [
              "\n",
              "  <div id=\"df-19b13d47-62a6-4705-9041-6bc464c7959a\">\n",
              "    <div class=\"colab-df-container\">\n",
              "      <div>\n",
              "<style scoped>\n",
              "    .dataframe tbody tr th:only-of-type {\n",
              "        vertical-align: middle;\n",
              "    }\n",
              "\n",
              "    .dataframe tbody tr th {\n",
              "        vertical-align: top;\n",
              "    }\n",
              "\n",
              "    .dataframe thead th {\n",
              "        text-align: right;\n",
              "    }\n",
              "</style>\n",
              "<table border=\"1\" class=\"dataframe\">\n",
              "  <thead>\n",
              "    <tr style=\"text-align: right;\">\n",
              "      <th></th>\n",
              "      <th>Ano</th>\n",
              "      <th>Cidade</th>\n",
              "      <th>OuroNadadorPaís</th>\n",
              "      <th>PrataNadadorPaís</th>\n",
              "      <th>BronzeNadadorPaís</th>\n",
              "    </tr>\n",
              "  </thead>\n",
              "  <tbody>\n",
              "    <tr>\n",
              "      <th>6</th>\n",
              "      <td>2008</td>\n",
              "      <td>Pequim</td>\n",
              "      <td>César Cielo Filho (BRA)</td>\n",
              "      <td>Amaury Leveaux (FRA)</td>\n",
              "      <td>Alain Bernard (FRA)</td>\n",
              "    </tr>\n",
              "    <tr>\n",
              "      <th>7</th>\n",
              "      <td>2012</td>\n",
              "      <td>Londres</td>\n",
              "      <td>Florent Manaudou (FRA)</td>\n",
              "      <td>Cullen Jones (USA)</td>\n",
              "      <td>César Cielo Filho (BRA)</td>\n",
              "    </tr>\n",
              "  </tbody>\n",
              "</table>\n",
              "</div>\n",
              "      <button class=\"colab-df-convert\" onclick=\"convertToInteractive('df-19b13d47-62a6-4705-9041-6bc464c7959a')\"\n",
              "              title=\"Convert this dataframe to an interactive table.\"\n",
              "              style=\"display:none;\">\n",
              "        \n",
              "  <svg xmlns=\"http://www.w3.org/2000/svg\" height=\"24px\"viewBox=\"0 0 24 24\"\n",
              "       width=\"24px\">\n",
              "    <path d=\"M0 0h24v24H0V0z\" fill=\"none\"/>\n",
              "    <path d=\"M18.56 5.44l.94 2.06.94-2.06 2.06-.94-2.06-.94-.94-2.06-.94 2.06-2.06.94zm-11 1L8.5 8.5l.94-2.06 2.06-.94-2.06-.94L8.5 2.5l-.94 2.06-2.06.94zm10 10l.94 2.06.94-2.06 2.06-.94-2.06-.94-.94-2.06-.94 2.06-2.06.94z\"/><path d=\"M17.41 7.96l-1.37-1.37c-.4-.4-.92-.59-1.43-.59-.52 0-1.04.2-1.43.59L10.3 9.45l-7.72 7.72c-.78.78-.78 2.05 0 2.83L4 21.41c.39.39.9.59 1.41.59.51 0 1.02-.2 1.41-.59l7.78-7.78 2.81-2.81c.8-.78.8-2.07 0-2.86zM5.41 20L4 18.59l7.72-7.72 1.47 1.35L5.41 20z\"/>\n",
              "  </svg>\n",
              "      </button>\n",
              "      \n",
              "  <style>\n",
              "    .colab-df-container {\n",
              "      display:flex;\n",
              "      flex-wrap:wrap;\n",
              "      gap: 12px;\n",
              "    }\n",
              "\n",
              "    .colab-df-convert {\n",
              "      background-color: #E8F0FE;\n",
              "      border: none;\n",
              "      border-radius: 50%;\n",
              "      cursor: pointer;\n",
              "      display: none;\n",
              "      fill: #1967D2;\n",
              "      height: 32px;\n",
              "      padding: 0 0 0 0;\n",
              "      width: 32px;\n",
              "    }\n",
              "\n",
              "    .colab-df-convert:hover {\n",
              "      background-color: #E2EBFA;\n",
              "      box-shadow: 0px 1px 2px rgba(60, 64, 67, 0.3), 0px 1px 3px 1px rgba(60, 64, 67, 0.15);\n",
              "      fill: #174EA6;\n",
              "    }\n",
              "\n",
              "    [theme=dark] .colab-df-convert {\n",
              "      background-color: #3B4455;\n",
              "      fill: #D2E3FC;\n",
              "    }\n",
              "\n",
              "    [theme=dark] .colab-df-convert:hover {\n",
              "      background-color: #434B5C;\n",
              "      box-shadow: 0px 1px 3px 1px rgba(0, 0, 0, 0.15);\n",
              "      filter: drop-shadow(0px 1px 2px rgba(0, 0, 0, 0.3));\n",
              "      fill: #FFFFFF;\n",
              "    }\n",
              "  </style>\n",
              "\n",
              "      <script>\n",
              "        const buttonEl =\n",
              "          document.querySelector('#df-19b13d47-62a6-4705-9041-6bc464c7959a button.colab-df-convert');\n",
              "        buttonEl.style.display =\n",
              "          google.colab.kernel.accessAllowed ? 'block' : 'none';\n",
              "\n",
              "        async function convertToInteractive(key) {\n",
              "          const element = document.querySelector('#df-19b13d47-62a6-4705-9041-6bc464c7959a');\n",
              "          const dataTable =\n",
              "            await google.colab.kernel.invokeFunction('convertToInteractive',\n",
              "                                                     [key], {});\n",
              "          if (!dataTable) return;\n",
              "\n",
              "          const docLinkHtml = 'Like what you see? Visit the ' +\n",
              "            '<a target=\"_blank\" href=https://colab.research.google.com/notebooks/data_table.ipynb>data table notebook</a>'\n",
              "            + ' to learn more about interactive tables.';\n",
              "          element.innerHTML = '';\n",
              "          dataTable['output_type'] = 'display_data';\n",
              "          await google.colab.output.renderOutput(dataTable, element);\n",
              "          const docLink = document.createElement('div');\n",
              "          docLink.innerHTML = docLinkHtml;\n",
              "          element.appendChild(docLink);\n",
              "        }\n",
              "      </script>\n",
              "    </div>\n",
              "  </div>\n",
              "  "
            ]
          },
          "metadata": {},
          "execution_count": 198
        }
      ],
      "source": [
        "#Localizando um dado específico - Posições do nadador: César Cielo Filho (BRA)\n",
        "tabela50m2.query('OuroNadadorPaís ==\"César Cielo Filho (BRA)\" | PrataNadadorPaís ==\"César Cielo Filho (BRA)\" | BronzeNadadorPaís ==\"César Cielo Filho (BRA)\"').head(8)"
      ]
    },
    {
      "cell_type": "code",
      "execution_count": 199,
      "metadata": {
        "extensions": {
          "jupyter_dashboards": {
            "version": 1,
            "views": {
              "grid_default": {},
              "report_default": {
                "hidden": false
              }
            }
          }
        },
        "colab": {
          "base_uri": "https://localhost:8080/",
          "height": 81
        },
        "id": "C0vNircA6j92",
        "outputId": "3ac20088-9ef9-4dd7-ddc9-5a77a454bfbe"
      },
      "outputs": [
        {
          "output_type": "execute_result",
          "data": {
            "text/plain": [
              "0   Ano  Cidade        OuroNadadorPaís     PrataNadadorPaís  \\\n",
              "3  1996  Atenas  Aleksandr Popov (RUS)  Gary Hall Jr. (USA)   \n",
              "\n",
              "0       BronzeNadadorPaís  \n",
              "3  Fernando Scherer (BRA)  "
            ],
            "text/html": [
              "\n",
              "  <div id=\"df-8f679fc1-4649-4252-8acd-5fe1b4c0e438\">\n",
              "    <div class=\"colab-df-container\">\n",
              "      <div>\n",
              "<style scoped>\n",
              "    .dataframe tbody tr th:only-of-type {\n",
              "        vertical-align: middle;\n",
              "    }\n",
              "\n",
              "    .dataframe tbody tr th {\n",
              "        vertical-align: top;\n",
              "    }\n",
              "\n",
              "    .dataframe thead th {\n",
              "        text-align: right;\n",
              "    }\n",
              "</style>\n",
              "<table border=\"1\" class=\"dataframe\">\n",
              "  <thead>\n",
              "    <tr style=\"text-align: right;\">\n",
              "      <th></th>\n",
              "      <th>Ano</th>\n",
              "      <th>Cidade</th>\n",
              "      <th>OuroNadadorPaís</th>\n",
              "      <th>PrataNadadorPaís</th>\n",
              "      <th>BronzeNadadorPaís</th>\n",
              "    </tr>\n",
              "  </thead>\n",
              "  <tbody>\n",
              "    <tr>\n",
              "      <th>3</th>\n",
              "      <td>1996</td>\n",
              "      <td>Atenas</td>\n",
              "      <td>Aleksandr Popov (RUS)</td>\n",
              "      <td>Gary Hall Jr. (USA)</td>\n",
              "      <td>Fernando Scherer (BRA)</td>\n",
              "    </tr>\n",
              "  </tbody>\n",
              "</table>\n",
              "</div>\n",
              "      <button class=\"colab-df-convert\" onclick=\"convertToInteractive('df-8f679fc1-4649-4252-8acd-5fe1b4c0e438')\"\n",
              "              title=\"Convert this dataframe to an interactive table.\"\n",
              "              style=\"display:none;\">\n",
              "        \n",
              "  <svg xmlns=\"http://www.w3.org/2000/svg\" height=\"24px\"viewBox=\"0 0 24 24\"\n",
              "       width=\"24px\">\n",
              "    <path d=\"M0 0h24v24H0V0z\" fill=\"none\"/>\n",
              "    <path d=\"M18.56 5.44l.94 2.06.94-2.06 2.06-.94-2.06-.94-.94-2.06-.94 2.06-2.06.94zm-11 1L8.5 8.5l.94-2.06 2.06-.94-2.06-.94L8.5 2.5l-.94 2.06-2.06.94zm10 10l.94 2.06.94-2.06 2.06-.94-2.06-.94-.94-2.06-.94 2.06-2.06.94z\"/><path d=\"M17.41 7.96l-1.37-1.37c-.4-.4-.92-.59-1.43-.59-.52 0-1.04.2-1.43.59L10.3 9.45l-7.72 7.72c-.78.78-.78 2.05 0 2.83L4 21.41c.39.39.9.59 1.41.59.51 0 1.02-.2 1.41-.59l7.78-7.78 2.81-2.81c.8-.78.8-2.07 0-2.86zM5.41 20L4 18.59l7.72-7.72 1.47 1.35L5.41 20z\"/>\n",
              "  </svg>\n",
              "      </button>\n",
              "      \n",
              "  <style>\n",
              "    .colab-df-container {\n",
              "      display:flex;\n",
              "      flex-wrap:wrap;\n",
              "      gap: 12px;\n",
              "    }\n",
              "\n",
              "    .colab-df-convert {\n",
              "      background-color: #E8F0FE;\n",
              "      border: none;\n",
              "      border-radius: 50%;\n",
              "      cursor: pointer;\n",
              "      display: none;\n",
              "      fill: #1967D2;\n",
              "      height: 32px;\n",
              "      padding: 0 0 0 0;\n",
              "      width: 32px;\n",
              "    }\n",
              "\n",
              "    .colab-df-convert:hover {\n",
              "      background-color: #E2EBFA;\n",
              "      box-shadow: 0px 1px 2px rgba(60, 64, 67, 0.3), 0px 1px 3px 1px rgba(60, 64, 67, 0.15);\n",
              "      fill: #174EA6;\n",
              "    }\n",
              "\n",
              "    [theme=dark] .colab-df-convert {\n",
              "      background-color: #3B4455;\n",
              "      fill: #D2E3FC;\n",
              "    }\n",
              "\n",
              "    [theme=dark] .colab-df-convert:hover {\n",
              "      background-color: #434B5C;\n",
              "      box-shadow: 0px 1px 3px 1px rgba(0, 0, 0, 0.15);\n",
              "      filter: drop-shadow(0px 1px 2px rgba(0, 0, 0, 0.3));\n",
              "      fill: #FFFFFF;\n",
              "    }\n",
              "  </style>\n",
              "\n",
              "      <script>\n",
              "        const buttonEl =\n",
              "          document.querySelector('#df-8f679fc1-4649-4252-8acd-5fe1b4c0e438 button.colab-df-convert');\n",
              "        buttonEl.style.display =\n",
              "          google.colab.kernel.accessAllowed ? 'block' : 'none';\n",
              "\n",
              "        async function convertToInteractive(key) {\n",
              "          const element = document.querySelector('#df-8f679fc1-4649-4252-8acd-5fe1b4c0e438');\n",
              "          const dataTable =\n",
              "            await google.colab.kernel.invokeFunction('convertToInteractive',\n",
              "                                                     [key], {});\n",
              "          if (!dataTable) return;\n",
              "\n",
              "          const docLinkHtml = 'Like what you see? Visit the ' +\n",
              "            '<a target=\"_blank\" href=https://colab.research.google.com/notebooks/data_table.ipynb>data table notebook</a>'\n",
              "            + ' to learn more about interactive tables.';\n",
              "          element.innerHTML = '';\n",
              "          dataTable['output_type'] = 'display_data';\n",
              "          await google.colab.output.renderOutput(dataTable, element);\n",
              "          const docLink = document.createElement('div');\n",
              "          docLink.innerHTML = docLinkHtml;\n",
              "          element.appendChild(docLink);\n",
              "        }\n",
              "      </script>\n",
              "    </div>\n",
              "  </div>\n",
              "  "
            ]
          },
          "metadata": {},
          "execution_count": 199
        }
      ],
      "source": [
        "#Localizando um dado específico - Posições do nadador: Fernando Scherer (BRA)\n",
        "tabela50m2.query('OuroNadadorPaís ==\"Fernando Scherer (BRA)\" | PrataNadadorPaís ==\"Fernando Scherer (BRA)\" | BronzeNadadorPaís ==\"Fernando Scherer (BRA)\"').head(4)"
      ]
    },
    {
      "cell_type": "code",
      "execution_count": 200,
      "metadata": {
        "extensions": {
          "jupyter_dashboards": {
            "version": 1,
            "views": {
              "grid_default": {},
              "report_default": {
                "hidden": false
              }
            }
          }
        },
        "colab": {
          "base_uri": "https://localhost:8080/",
          "height": 363
        },
        "id": "BtTafT1s6j95",
        "outputId": "67ca997a-1e49-452b-9abf-6d74671f182e"
      },
      "outputs": [
        {
          "output_type": "display_data",
          "data": {
            "text/plain": [
              "                  0     1      2       3      4\n",
              "0              País  Ouro  Prata  Bronze  Total\n",
              "1    Estados Unidos     5      4       2     11\n",
              "2            França     1      2       1      4\n",
              "3            Brasil     1      0       2      3\n",
              "4            Rússia     1      0       0      1\n",
              "5  Equipe Unificada     1      0       0      1\n",
              "6           Croácia     0      1       0      1\n",
              "7           Holanda     0      0       1      1\n",
              "8     África do Sul     0      0       1      1\n",
              "9   União Soviética     0      0       1      1"
            ],
            "text/html": [
              "\n",
              "  <div id=\"df-70d45f5d-c411-4842-9438-edfec02b96cd\">\n",
              "    <div class=\"colab-df-container\">\n",
              "      <div>\n",
              "<style scoped>\n",
              "    .dataframe tbody tr th:only-of-type {\n",
              "        vertical-align: middle;\n",
              "    }\n",
              "\n",
              "    .dataframe tbody tr th {\n",
              "        vertical-align: top;\n",
              "    }\n",
              "\n",
              "    .dataframe thead th {\n",
              "        text-align: right;\n",
              "    }\n",
              "</style>\n",
              "<table border=\"1\" class=\"dataframe\">\n",
              "  <thead>\n",
              "    <tr style=\"text-align: right;\">\n",
              "      <th></th>\n",
              "      <th>0</th>\n",
              "      <th>1</th>\n",
              "      <th>2</th>\n",
              "      <th>3</th>\n",
              "      <th>4</th>\n",
              "    </tr>\n",
              "  </thead>\n",
              "  <tbody>\n",
              "    <tr>\n",
              "      <th>0</th>\n",
              "      <td>País</td>\n",
              "      <td>Ouro</td>\n",
              "      <td>Prata</td>\n",
              "      <td>Bronze</td>\n",
              "      <td>Total</td>\n",
              "    </tr>\n",
              "    <tr>\n",
              "      <th>1</th>\n",
              "      <td>Estados Unidos</td>\n",
              "      <td>5</td>\n",
              "      <td>4</td>\n",
              "      <td>2</td>\n",
              "      <td>11</td>\n",
              "    </tr>\n",
              "    <tr>\n",
              "      <th>2</th>\n",
              "      <td>França</td>\n",
              "      <td>1</td>\n",
              "      <td>2</td>\n",
              "      <td>1</td>\n",
              "      <td>4</td>\n",
              "    </tr>\n",
              "    <tr>\n",
              "      <th>3</th>\n",
              "      <td>Brasil</td>\n",
              "      <td>1</td>\n",
              "      <td>0</td>\n",
              "      <td>2</td>\n",
              "      <td>3</td>\n",
              "    </tr>\n",
              "    <tr>\n",
              "      <th>4</th>\n",
              "      <td>Rússia</td>\n",
              "      <td>1</td>\n",
              "      <td>0</td>\n",
              "      <td>0</td>\n",
              "      <td>1</td>\n",
              "    </tr>\n",
              "    <tr>\n",
              "      <th>5</th>\n",
              "      <td>Equipe Unificada</td>\n",
              "      <td>1</td>\n",
              "      <td>0</td>\n",
              "      <td>0</td>\n",
              "      <td>1</td>\n",
              "    </tr>\n",
              "    <tr>\n",
              "      <th>6</th>\n",
              "      <td>Croácia</td>\n",
              "      <td>0</td>\n",
              "      <td>1</td>\n",
              "      <td>0</td>\n",
              "      <td>1</td>\n",
              "    </tr>\n",
              "    <tr>\n",
              "      <th>7</th>\n",
              "      <td>Holanda</td>\n",
              "      <td>0</td>\n",
              "      <td>0</td>\n",
              "      <td>1</td>\n",
              "      <td>1</td>\n",
              "    </tr>\n",
              "    <tr>\n",
              "      <th>8</th>\n",
              "      <td>África do Sul</td>\n",
              "      <td>0</td>\n",
              "      <td>0</td>\n",
              "      <td>1</td>\n",
              "      <td>1</td>\n",
              "    </tr>\n",
              "    <tr>\n",
              "      <th>9</th>\n",
              "      <td>União Soviética</td>\n",
              "      <td>0</td>\n",
              "      <td>0</td>\n",
              "      <td>1</td>\n",
              "      <td>1</td>\n",
              "    </tr>\n",
              "  </tbody>\n",
              "</table>\n",
              "</div>\n",
              "      <button class=\"colab-df-convert\" onclick=\"convertToInteractive('df-70d45f5d-c411-4842-9438-edfec02b96cd')\"\n",
              "              title=\"Convert this dataframe to an interactive table.\"\n",
              "              style=\"display:none;\">\n",
              "        \n",
              "  <svg xmlns=\"http://www.w3.org/2000/svg\" height=\"24px\"viewBox=\"0 0 24 24\"\n",
              "       width=\"24px\">\n",
              "    <path d=\"M0 0h24v24H0V0z\" fill=\"none\"/>\n",
              "    <path d=\"M18.56 5.44l.94 2.06.94-2.06 2.06-.94-2.06-.94-.94-2.06-.94 2.06-2.06.94zm-11 1L8.5 8.5l.94-2.06 2.06-.94-2.06-.94L8.5 2.5l-.94 2.06-2.06.94zm10 10l.94 2.06.94-2.06 2.06-.94-2.06-.94-.94-2.06-.94 2.06-2.06.94z\"/><path d=\"M17.41 7.96l-1.37-1.37c-.4-.4-.92-.59-1.43-.59-.52 0-1.04.2-1.43.59L10.3 9.45l-7.72 7.72c-.78.78-.78 2.05 0 2.83L4 21.41c.39.39.9.59 1.41.59.51 0 1.02-.2 1.41-.59l7.78-7.78 2.81-2.81c.8-.78.8-2.07 0-2.86zM5.41 20L4 18.59l7.72-7.72 1.47 1.35L5.41 20z\"/>\n",
              "  </svg>\n",
              "      </button>\n",
              "      \n",
              "  <style>\n",
              "    .colab-df-container {\n",
              "      display:flex;\n",
              "      flex-wrap:wrap;\n",
              "      gap: 12px;\n",
              "    }\n",
              "\n",
              "    .colab-df-convert {\n",
              "      background-color: #E8F0FE;\n",
              "      border: none;\n",
              "      border-radius: 50%;\n",
              "      cursor: pointer;\n",
              "      display: none;\n",
              "      fill: #1967D2;\n",
              "      height: 32px;\n",
              "      padding: 0 0 0 0;\n",
              "      width: 32px;\n",
              "    }\n",
              "\n",
              "    .colab-df-convert:hover {\n",
              "      background-color: #E2EBFA;\n",
              "      box-shadow: 0px 1px 2px rgba(60, 64, 67, 0.3), 0px 1px 3px 1px rgba(60, 64, 67, 0.15);\n",
              "      fill: #174EA6;\n",
              "    }\n",
              "\n",
              "    [theme=dark] .colab-df-convert {\n",
              "      background-color: #3B4455;\n",
              "      fill: #D2E3FC;\n",
              "    }\n",
              "\n",
              "    [theme=dark] .colab-df-convert:hover {\n",
              "      background-color: #434B5C;\n",
              "      box-shadow: 0px 1px 3px 1px rgba(0, 0, 0, 0.15);\n",
              "      filter: drop-shadow(0px 1px 2px rgba(0, 0, 0, 0.3));\n",
              "      fill: #FFFFFF;\n",
              "    }\n",
              "  </style>\n",
              "\n",
              "      <script>\n",
              "        const buttonEl =\n",
              "          document.querySelector('#df-70d45f5d-c411-4842-9438-edfec02b96cd button.colab-df-convert');\n",
              "        buttonEl.style.display =\n",
              "          google.colab.kernel.accessAllowed ? 'block' : 'none';\n",
              "\n",
              "        async function convertToInteractive(key) {\n",
              "          const element = document.querySelector('#df-70d45f5d-c411-4842-9438-edfec02b96cd');\n",
              "          const dataTable =\n",
              "            await google.colab.kernel.invokeFunction('convertToInteractive',\n",
              "                                                     [key], {});\n",
              "          if (!dataTable) return;\n",
              "\n",
              "          const docLinkHtml = 'Like what you see? Visit the ' +\n",
              "            '<a target=\"_blank\" href=https://colab.research.google.com/notebooks/data_table.ipynb>data table notebook</a>'\n",
              "            + ' to learn more about interactive tables.';\n",
              "          element.innerHTML = '';\n",
              "          dataTable['output_type'] = 'display_data';\n",
              "          await google.colab.output.renderOutput(dataTable, element);\n",
              "          const docLink = document.createElement('div');\n",
              "          docLink.innerHTML = docLinkHtml;\n",
              "          element.appendChild(docLink);\n",
              "        }\n",
              "      </script>\n",
              "    </div>\n",
              "  </div>\n",
              "  "
            ]
          },
          "metadata": {}
        }
      ],
      "source": [
        "#Tabela 3\n",
        "tabela50m3 = dfm[2]\n",
        "display(tabela50m3)"
      ]
    },
    {
      "cell_type": "code",
      "execution_count": 201,
      "metadata": {
        "extensions": {
          "jupyter_dashboards": {
            "version": 1,
            "views": {
              "grid_default": {},
              "report_default": {
                "hidden": false
              }
            }
          }
        },
        "colab": {
          "base_uri": "https://localhost:8080/",
          "height": 332
        },
        "id": "9fsbxy106j-A",
        "outputId": "53c070bd-6f14-42df-e944-04b784264942"
      },
      "outputs": [
        {
          "output_type": "display_data",
          "data": {
            "text/plain": [
              "0              País Ouro Prata Bronze Total\n",
              "1    Estados Unidos    5     4      2    11\n",
              "2            França    1     2      1     4\n",
              "3            Brasil    1     0      2     3\n",
              "4            Rússia    1     0      0     1\n",
              "5  Equipe Unificada    1     0      0     1\n",
              "6           Croácia    0     1      0     1\n",
              "7           Holanda    0     0      1     1\n",
              "8     África do Sul    0     0      1     1\n",
              "9   União Soviética    0     0      1     1"
            ],
            "text/html": [
              "\n",
              "  <div id=\"df-40d46d3c-bb95-4060-adb1-f4d642764e9a\">\n",
              "    <div class=\"colab-df-container\">\n",
              "      <div>\n",
              "<style scoped>\n",
              "    .dataframe tbody tr th:only-of-type {\n",
              "        vertical-align: middle;\n",
              "    }\n",
              "\n",
              "    .dataframe tbody tr th {\n",
              "        vertical-align: top;\n",
              "    }\n",
              "\n",
              "    .dataframe thead th {\n",
              "        text-align: right;\n",
              "    }\n",
              "</style>\n",
              "<table border=\"1\" class=\"dataframe\">\n",
              "  <thead>\n",
              "    <tr style=\"text-align: right;\">\n",
              "      <th></th>\n",
              "      <th>País</th>\n",
              "      <th>Ouro</th>\n",
              "      <th>Prata</th>\n",
              "      <th>Bronze</th>\n",
              "      <th>Total</th>\n",
              "    </tr>\n",
              "  </thead>\n",
              "  <tbody>\n",
              "    <tr>\n",
              "      <th>1</th>\n",
              "      <td>Estados Unidos</td>\n",
              "      <td>5</td>\n",
              "      <td>4</td>\n",
              "      <td>2</td>\n",
              "      <td>11</td>\n",
              "    </tr>\n",
              "    <tr>\n",
              "      <th>2</th>\n",
              "      <td>França</td>\n",
              "      <td>1</td>\n",
              "      <td>2</td>\n",
              "      <td>1</td>\n",
              "      <td>4</td>\n",
              "    </tr>\n",
              "    <tr>\n",
              "      <th>3</th>\n",
              "      <td>Brasil</td>\n",
              "      <td>1</td>\n",
              "      <td>0</td>\n",
              "      <td>2</td>\n",
              "      <td>3</td>\n",
              "    </tr>\n",
              "    <tr>\n",
              "      <th>4</th>\n",
              "      <td>Rússia</td>\n",
              "      <td>1</td>\n",
              "      <td>0</td>\n",
              "      <td>0</td>\n",
              "      <td>1</td>\n",
              "    </tr>\n",
              "    <tr>\n",
              "      <th>5</th>\n",
              "      <td>Equipe Unificada</td>\n",
              "      <td>1</td>\n",
              "      <td>0</td>\n",
              "      <td>0</td>\n",
              "      <td>1</td>\n",
              "    </tr>\n",
              "    <tr>\n",
              "      <th>6</th>\n",
              "      <td>Croácia</td>\n",
              "      <td>0</td>\n",
              "      <td>1</td>\n",
              "      <td>0</td>\n",
              "      <td>1</td>\n",
              "    </tr>\n",
              "    <tr>\n",
              "      <th>7</th>\n",
              "      <td>Holanda</td>\n",
              "      <td>0</td>\n",
              "      <td>0</td>\n",
              "      <td>1</td>\n",
              "      <td>1</td>\n",
              "    </tr>\n",
              "    <tr>\n",
              "      <th>8</th>\n",
              "      <td>África do Sul</td>\n",
              "      <td>0</td>\n",
              "      <td>0</td>\n",
              "      <td>1</td>\n",
              "      <td>1</td>\n",
              "    </tr>\n",
              "    <tr>\n",
              "      <th>9</th>\n",
              "      <td>União Soviética</td>\n",
              "      <td>0</td>\n",
              "      <td>0</td>\n",
              "      <td>1</td>\n",
              "      <td>1</td>\n",
              "    </tr>\n",
              "  </tbody>\n",
              "</table>\n",
              "</div>\n",
              "      <button class=\"colab-df-convert\" onclick=\"convertToInteractive('df-40d46d3c-bb95-4060-adb1-f4d642764e9a')\"\n",
              "              title=\"Convert this dataframe to an interactive table.\"\n",
              "              style=\"display:none;\">\n",
              "        \n",
              "  <svg xmlns=\"http://www.w3.org/2000/svg\" height=\"24px\"viewBox=\"0 0 24 24\"\n",
              "       width=\"24px\">\n",
              "    <path d=\"M0 0h24v24H0V0z\" fill=\"none\"/>\n",
              "    <path d=\"M18.56 5.44l.94 2.06.94-2.06 2.06-.94-2.06-.94-.94-2.06-.94 2.06-2.06.94zm-11 1L8.5 8.5l.94-2.06 2.06-.94-2.06-.94L8.5 2.5l-.94 2.06-2.06.94zm10 10l.94 2.06.94-2.06 2.06-.94-2.06-.94-.94-2.06-.94 2.06-2.06.94z\"/><path d=\"M17.41 7.96l-1.37-1.37c-.4-.4-.92-.59-1.43-.59-.52 0-1.04.2-1.43.59L10.3 9.45l-7.72 7.72c-.78.78-.78 2.05 0 2.83L4 21.41c.39.39.9.59 1.41.59.51 0 1.02-.2 1.41-.59l7.78-7.78 2.81-2.81c.8-.78.8-2.07 0-2.86zM5.41 20L4 18.59l7.72-7.72 1.47 1.35L5.41 20z\"/>\n",
              "  </svg>\n",
              "      </button>\n",
              "      \n",
              "  <style>\n",
              "    .colab-df-container {\n",
              "      display:flex;\n",
              "      flex-wrap:wrap;\n",
              "      gap: 12px;\n",
              "    }\n",
              "\n",
              "    .colab-df-convert {\n",
              "      background-color: #E8F0FE;\n",
              "      border: none;\n",
              "      border-radius: 50%;\n",
              "      cursor: pointer;\n",
              "      display: none;\n",
              "      fill: #1967D2;\n",
              "      height: 32px;\n",
              "      padding: 0 0 0 0;\n",
              "      width: 32px;\n",
              "    }\n",
              "\n",
              "    .colab-df-convert:hover {\n",
              "      background-color: #E2EBFA;\n",
              "      box-shadow: 0px 1px 2px rgba(60, 64, 67, 0.3), 0px 1px 3px 1px rgba(60, 64, 67, 0.15);\n",
              "      fill: #174EA6;\n",
              "    }\n",
              "\n",
              "    [theme=dark] .colab-df-convert {\n",
              "      background-color: #3B4455;\n",
              "      fill: #D2E3FC;\n",
              "    }\n",
              "\n",
              "    [theme=dark] .colab-df-convert:hover {\n",
              "      background-color: #434B5C;\n",
              "      box-shadow: 0px 1px 3px 1px rgba(0, 0, 0, 0.15);\n",
              "      filter: drop-shadow(0px 1px 2px rgba(0, 0, 0, 0.3));\n",
              "      fill: #FFFFFF;\n",
              "    }\n",
              "  </style>\n",
              "\n",
              "      <script>\n",
              "        const buttonEl =\n",
              "          document.querySelector('#df-40d46d3c-bb95-4060-adb1-f4d642764e9a button.colab-df-convert');\n",
              "        buttonEl.style.display =\n",
              "          google.colab.kernel.accessAllowed ? 'block' : 'none';\n",
              "\n",
              "        async function convertToInteractive(key) {\n",
              "          const element = document.querySelector('#df-40d46d3c-bb95-4060-adb1-f4d642764e9a');\n",
              "          const dataTable =\n",
              "            await google.colab.kernel.invokeFunction('convertToInteractive',\n",
              "                                                     [key], {});\n",
              "          if (!dataTable) return;\n",
              "\n",
              "          const docLinkHtml = 'Like what you see? Visit the ' +\n",
              "            '<a target=\"_blank\" href=https://colab.research.google.com/notebooks/data_table.ipynb>data table notebook</a>'\n",
              "            + ' to learn more about interactive tables.';\n",
              "          element.innerHTML = '';\n",
              "          dataTable['output_type'] = 'display_data';\n",
              "          await google.colab.output.renderOutput(dataTable, element);\n",
              "          const docLink = document.createElement('div');\n",
              "          docLink.innerHTML = docLinkHtml;\n",
              "          element.appendChild(docLink);\n",
              "        }\n",
              "      </script>\n",
              "    </div>\n",
              "  </div>\n",
              "  "
            ]
          },
          "metadata": {}
        }
      ],
      "source": [
        "#Tabela 3\n",
        "tabela50m3 = dfm[2]\n",
        "tabela50m3.columns = tabela50m3.iloc[0]#subindo a linha 0\n",
        "tabela50m3=tabela50m3[1:10]#tirando a linha 0\n",
        "display(tabela50m3)"
      ]
    },
    {
      "cell_type": "code",
      "execution_count": 202,
      "metadata": {
        "extensions": {
          "jupyter_dashboards": {
            "version": 1,
            "views": {
              "grid_default": {},
              "report_default": {
                "hidden": false
              }
            }
          }
        },
        "colab": {
          "base_uri": "https://localhost:8080/"
        },
        "id": "6XRi-lUR6j-D",
        "outputId": "f04e8763-eb0c-4100-df8c-963f22677939"
      },
      "outputs": [
        {
          "output_type": "stream",
          "name": "stdout",
          "text": [
            "<class 'pandas.core.frame.DataFrame'>\n",
            "RangeIndex: 9 entries, 1 to 9\n",
            "Data columns (total 5 columns):\n",
            " #   Column  Non-Null Count  Dtype \n",
            "---  ------  --------------  ----- \n",
            " 0   País    9 non-null      object\n",
            " 1   Ouro    9 non-null      object\n",
            " 2   Prata   9 non-null      object\n",
            " 3   Bronze  9 non-null      object\n",
            " 4   Total   9 non-null      object\n",
            "dtypes: object(5)\n",
            "memory usage: 492.0+ bytes\n"
          ]
        }
      ],
      "source": [
        "# Verificando as informações da tabela \n",
        "tabela50m3.info()"
      ]
    },
    {
      "cell_type": "code",
      "execution_count": 203,
      "metadata": {
        "extensions": {
          "jupyter_dashboards": {
            "version": 1,
            "views": {
              "grid_default": {},
              "report_default": {
                "hidden": true
              }
            }
          }
        },
        "id": "fyDtNbht6j-G"
      },
      "outputs": [],
      "source": [
        "# Alterando os tipos dos dados para string\n",
        "#tabela50m3['País'] = tabela50m3['País'].astype(str)\n",
        "#tabela50m3['Ouro/Nadador/País'] = tabela50m3['Ouro/Nadador/País'].astype(int)\n",
        "#tabela50m3['Prata/Nadador/País'] = tabela50m3['Prata/Nadador/País'].astype(int)\n",
        "#tabela50m3['Bronze/Nadador/País'] = tabela50m3['Bronze/Nadador/País'].astype(int)\n",
        "#tabela50m3['Total'] = tabela50m3['Total'].astype(int)"
      ]
    },
    {
      "cell_type": "code",
      "execution_count": 204,
      "metadata": {
        "extensions": {
          "jupyter_dashboards": {
            "version": 1,
            "views": {
              "grid_default": {},
              "report_default": {
                "hidden": false
              }
            }
          }
        },
        "colab": {
          "base_uri": "https://localhost:8080/"
        },
        "id": "ceslaLem6j-I",
        "outputId": "ee6ececb-c7b4-46e9-ea4f-459df9d20f55"
      },
      "outputs": [
        {
          "output_type": "stream",
          "name": "stdout",
          "text": [
            "<class 'pandas.core.frame.DataFrame'>\n",
            "RangeIndex: 9 entries, 1 to 9\n",
            "Data columns (total 5 columns):\n",
            " #   Column  Non-Null Count  Dtype \n",
            "---  ------  --------------  ----- \n",
            " 0   País    9 non-null      object\n",
            " 1   Ouro    9 non-null      object\n",
            " 2   Prata   9 non-null      object\n",
            " 3   Bronze  9 non-null      object\n",
            " 4   Total   9 non-null      object\n",
            "dtypes: object(5)\n",
            "memory usage: 492.0+ bytes\n"
          ]
        }
      ],
      "source": [
        "# Verificando as informações da tabela \n",
        "tabela50m3.info()"
      ]
    },
    {
      "cell_type": "code",
      "execution_count": 205,
      "metadata": {
        "id": "cnHkx-c16j-K"
      },
      "outputs": [],
      "source": [
        "# Salvando o arquivo na pasta em excel\n",
        "tabela50m3.to_excel('/content/drive/MyDrive/Colab Notebooks/Natação_Dados/tabela50m3.xlsx', index = True)\n",
        "# /content/drive/MyDrive/Colab Notebooks/Natação_Dados/tabela50m3.xlsx"
      ]
    },
    {
      "cell_type": "code",
      "execution_count": 206,
      "metadata": {
        "colab": {
          "base_uri": "https://localhost:8080/"
        },
        "id": "jsqZ7RbM6j-M",
        "outputId": "f11d25ac-5535-47fb-f49b-ebbf8a629e17"
      },
      "outputs": [
        {
          "output_type": "execute_result",
          "data": {
            "text/plain": [
              "['Estados Unidos',\n",
              " 'França',\n",
              " 'Brasil',\n",
              " 'Rússia',\n",
              " 'Equipe Unificada',\n",
              " 'Croácia',\n",
              " 'Holanda',\n",
              " 'África do Sul',\n",
              " 'União Soviética']"
            ]
          },
          "metadata": {},
          "execution_count": 206
        }
      ],
      "source": [
        "#Criando uma lista com os Países\n",
        "list(tabela50m3.País)"
      ]
    },
    {
      "cell_type": "code",
      "execution_count": 207,
      "metadata": {
        "colab": {
          "base_uri": "https://localhost:8080/"
        },
        "id": "2uL9uIAp6j-P",
        "outputId": "919f31a3-7d03-49b7-b7ec-761c26137e1f"
      },
      "outputs": [
        {
          "output_type": "execute_result",
          "data": {
            "text/plain": [
              "['11', '4', '3', '1', '1', '1', '1', '1', '1']"
            ]
          },
          "metadata": {},
          "execution_count": 207
        }
      ],
      "source": [
        "#Criando uma lista com o total de medalhas\n",
        "list(tabela50m3.Total)"
      ]
    },
    {
      "cell_type": "code",
      "execution_count": 208,
      "metadata": {
        "extensions": {
          "jupyter_dashboards": {
            "version": 1,
            "views": {
              "grid_default": {},
              "report_default": {
                "hidden": true
              }
            }
          }
        },
        "id": "fJZCtky26j-R"
      },
      "outputs": [],
      "source": [
        "#Visualização para a distribuição do Total das Medalhas\n",
        "Paísm=['Estados Unidos','França','Brasil','Russia','Equipe Unificada','Croácia','Holanda','África do Sul','União Soviética']\n",
        "Total=[11,4,3,1,1,1,1,1,1]"
      ]
    },
    {
      "cell_type": "code",
      "execution_count": 209,
      "metadata": {
        "extensions": {
          "jupyter_dashboards": {
            "version": 1,
            "views": {
              "grid_default": {},
              "report_default": {
                "hidden": false
              }
            }
          }
        },
        "colab": {
          "base_uri": "https://localhost:8080/",
          "height": 668
        },
        "id": "B5YP8QOG6j-T",
        "outputId": "fb7d3dea-fc9b-414b-ff4a-05aeeecef224"
      },
      "outputs": [
        {
          "output_type": "display_data",
          "data": {
            "text/plain": [
              "<Figure size 720x720 with 1 Axes>"
            ],
            "image/png": "[encoded data removed]"
          },
          "metadata": {
            "needs_background": "light"
          }
        }
      ],
      "source": [
        "# Aumentando o tamanho dos gráficos\n",
        "plt.figure(figsize=(10,10))\n",
        "#Plotando o gráfico de barras\n",
        "plt.bar(Paísm,Total)\n",
        "plt.xticks (rotation= 60, fontsize=9)\n",
        "plt.title(\"Quadro de Medalhas Masculino - 50m Livre\")\n",
        "plt.show()"
      ]
    },
    {
      "cell_type": "code",
      "execution_count": 210,
      "metadata": {
        "extensions": {
          "jupyter_dashboards": {
            "version": 1,
            "views": {
              "grid_default": {},
              "report_default": {
                "hidden": false
              }
            }
          }
        },
        "colab": {
          "base_uri": "https://localhost:8080/",
          "height": 671
        },
        "id": "AGQiJ3Iv6j-V",
        "outputId": "f0b4cdc0-41f9-487a-eda3-3f8e6ffbb46d"
      },
      "outputs": [
        {
          "output_type": "display_data",
          "data": {
            "text/plain": [
              "<Figure size 1440x720 with 1 Axes>"
            ],
            "image/png": "[encoded data removed]"
          },
          "metadata": {
            "needs_background": "light"
          }
        }
      ],
      "source": [
        "# Gráfico de Barras Aninhado\n",
        "Paísm=['Estados Unidos','França','Brasil','Russia','Equipe Unificada','Croácia','Holanda','África do Sul','União Soviética']\n",
        "Total=[11,4,3,1,1,1,1,1,1]\n",
        "\n",
        "Ouro=[5,1,1,1,1,0,0,0,0]\n",
        "Prata=[4,2,0,0,0,1,0,0,0]\n",
        "Bronze=[2,1,2,0,0,0,1,1,1]\n",
        "\n",
        "# Aumentando o tamanho dos gráficos\n",
        "plt.figure(figsize=(20,10))\n",
        "\n",
        "#Plotando o gráfico de barras\n",
        "plt.bar(Paísm, Ouro, color = 'gold')\n",
        "plt.bar(Paísm, Prata, color = 'grey', bottom = np.array(Ouro))\n",
        "plt.bar(Paísm, Bronze, color = 'saddlebrown', bottom = np.array(Ouro) + np.array(Prata))\n",
        "\n",
        "\n",
        "plt.xticks (rotation= 45, fontsize=11)\n",
        "plt.title(\"Quadro de Medalhas Masculino - 50m Livre\")\n",
        "plt.show()"
      ]
    },
    {
      "cell_type": "code",
      "execution_count": 211,
      "metadata": {
        "extensions": {
          "jupyter_dashboards": {
            "version": 1,
            "views": {
              "grid_default": {},
              "report_default": {
                "hidden": false
              }
            }
          }
        },
        "scrolled": false,
        "colab": {
          "base_uri": "https://localhost:8080/",
          "height": 411
        },
        "id": "mrp7LTKh6j-Y",
        "outputId": "333e834d-74ce-4254-e172-cb3c009efa11"
      },
      "outputs": [
        {
          "output_type": "display_data",
          "data": {
            "text/plain": [
              "<Figure size 504x504 with 1 Axes>"
            ],
            "image/png": "[encoded data removed]"
          },
          "metadata": {}
        }
      ],
      "source": [
        "# Imprimir gráfico de Pizza para verificação de Porcentagem\n",
        "Paísm=['Estados Unidos','França','Brasil','Russia','Equipe Unificada','Croácia','Holanda','África do Sul','União Soviética']\n",
        "Total=[11,4,3,1,1,1,1,1,1]\n",
        "explode = (0.1,0.1,0.2,0,0,0,0,0,0)\n",
        "\n",
        "# Criando a figura para a plotagem\n",
        "plt.subplots(figsize=(7,7))\n",
        "\n",
        "# Fazendo um gráfico de Pizza para melhor visualizacao\n",
        "plt.pie(x= Total, labels=Paísm, explode=explode, autopct='%1.1f%%', startangle=90)\n",
        "\n",
        "# Mostrando o grafico\n",
        "plt.show()"
      ]
    },
    {
      "cell_type": "code",
      "execution_count": 212,
      "metadata": {
        "extensions": {
          "jupyter_dashboards": {
            "version": 1,
            "views": {
              "grid_default": {},
              "report_default": {
                "hidden": false
              }
            }
          }
        },
        "scrolled": true,
        "colab": {
          "base_uri": "https://localhost:8080/"
        },
        "id": "GEa2mx3Q6j-a",
        "outputId": "8167cb0e-157d-4e7a-a954-90efee34fca8"
      },
      "outputs": [
        {
          "output_type": "stream",
          "name": "stdout",
          "text": [
            "<class 'pandas.core.frame.DataFrame'>\n",
            "RangeIndex: 9 entries, 1 to 9\n",
            "Data columns (total 5 columns):\n",
            " #   Column  Non-Null Count  Dtype \n",
            "---  ------  --------------  ----- \n",
            " 0   País    9 non-null      object\n",
            " 1   Ouro    9 non-null      object\n",
            " 2   Prata   9 non-null      object\n",
            " 3   Bronze  9 non-null      object\n",
            " 4   Total   9 non-null      object\n",
            "dtypes: object(5)\n",
            "memory usage: 492.0+ bytes\n"
          ]
        }
      ],
      "source": [
        "# Verificando as informações da tabela \n",
        "tabela50m3.info()"
      ]
    },
    {
      "cell_type": "code",
      "execution_count": 213,
      "metadata": {
        "extensions": {
          "jupyter_dashboards": {
            "version": 1,
            "views": {
              "grid_default": {},
              "report_default": {
                "hidden": false
              }
            }
          }
        },
        "scrolled": true,
        "colab": {
          "base_uri": "https://localhost:8080/",
          "height": 405
        },
        "id": "fR1ock6b6j-c",
        "outputId": "290ff74c-648a-4270-963e-795f4ac0b0fd"
      },
      "outputs": [
        {
          "output_type": "display_data",
          "data": {
            "text/plain": [
              "<Figure size 480.625x360 with 1 Axes>"
            ],
            "image/png": "[encoded data removed]"
          },
          "metadata": {
            "needs_background": "light"
          }
        }
      ],
      "source": [
        "# Imprimindo o gráfico scatter - relplot - Masculino\n",
        "sns.relplot(x=\"País\", y=\"Total\", data=tabela50m3, hue=\"País\", sizes=(12,250), size=\"País\")\n",
        "plt.xticks(color='blue',rotation=45,size=7)\n",
        "#sns.relplot(x=\"País\", y=\"Ouro\", data=tabela50m3, hue=\"País\", sizes=(12,250), size=\"País\")\n",
        "#plt.xticks(color='blue',rotation=45,size=7)\n",
        "plt.show()"
      ]
    },
    {
      "cell_type": "code",
      "execution_count": 214,
      "metadata": {
        "extensions": {
          "jupyter_dashboards": {
            "version": 1,
            "views": {
              "grid_default": {},
              "report_default": {
                "hidden": true
              }
            }
          }
        },
        "id": "TEPTNDGu6j-p"
      },
      "outputs": [],
      "source": [
        "# Automatizar a construção de Gráficos:\n",
        "#for coluna in tabela50m3: #Por padrão no for ele percorre as colunas\n",
        "#    grafico = px.histogram(tabela50m3, x=coluna, color=\"País\")\n",
        "#    grafico.show()\n",
        "#Podemos olhar cada um dos gráficos que \"saltam aos olhos\""
      ]
    }
  ],
  "metadata": {
    "extensions": {
      "jupyter_dashboards": {
        "activeView": "report_default",
        "version": 1,
        "views": {
          "grid_default": {
            "cellMargin": 10,
            "defaultCellHeight": 20,
            "maxColumns": 12,
            "name": "grid",
            "type": "grid"
          },
          "report_default": {
            "name": "report",
            "type": "report"
          }
        }
      }
    },
    "interpreter": {
      "hash": "55019192f8fb827c482db27d27796e87e266e4e93fd6033d36027005a0eeff86"
    },
    "kernelspec": {
      "display_name": "Python 3 (ipykernel)",
      "language": "python",
      "name": "python3"
    },
    "language_info": {
      "codemirror_mode": {
        "name": "ipython",
        "version": 3
      },
      "file_extension": ".py",
      "mimetype": "text/x-python",
      "name": "python",
      "nbconvert_exporter": "python",
      "pygments_lexer": "ipython3",
      "version": "3.8.10"
    },
    "colab": {
      "name": "Olimpíadas.ipynb",
      "provenance": [],
      "collapsed_sections": [],
      "include_colab_link": true
    }
  },
  "nbformat": 4,
  "nbformat_minor": 0
}