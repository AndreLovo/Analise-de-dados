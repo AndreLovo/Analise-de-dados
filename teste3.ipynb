{
  "nbformat": 4,
  "nbformat_minor": 0,
  "metadata": {
    "colab": {
      "name": "teste3.ipynb",
      "provenance": [],
      "collapsed_sections": [],
      "toc_visible": true,
      "mount_file_id": "1vZt76NBwoovYX0i9_pqqevFii2iQjrNj",
      "authorship_tag": "ABX9TyMs13wnnGi2lQtL5st1RrCX",
      "include_colab_link": true
    },
    "kernelspec": {
      "name": "python3",
      "display_name": "Python 3"
    }
  },
  "cells": [
    {
      "cell_type": "markdown",
      "metadata": {
        "id": "view-in-github",
        "colab_type": "text"
      },
      "source": [
        "<a href=\"https://colab.research.google.com/github/AndreLovo/Analise-de-dados/blob/master/teste3.ipynb\" target=\"_parent\"><img src=\"https://colab.research.google.com/assets/colab-badge.svg\" alt=\"Open In Colab\"/></a>"
      ]
    },
    {
      "cell_type": "markdown",
      "metadata": {
        "id": "4rqtT-cPvekb",
        "colab_type": "text"
      },
      "source": [
        "# <center>**CEP - Controle Estatístico de Processo**</center>\n",
        "\n"
      ]
    },
    {
      "cell_type": "markdown",
      "metadata": {
        "id": "h9Watoe7rMG1",
        "colab_type": "text"
      },
      "source": [
        "Considere um processo de usinagem de um pino onde o diâmetro é medido em subgrupos de 10 peças ao longo do tempo (dia), conforme a Tabela usinagem pino. Vamos construir os gráficos $ \\overline{X} $ e $ S $.\n",
        "\n"
      ]
    },
    {
      "cell_type": "markdown",
      "metadata": {
        "id": "d-5_TSdKstyS",
        "colab_type": "text"
      },
      "source": [
        "A seguir, vamos apresentar os principais tópicos para a construção do gráfico $ \\overline{X} $ e  $ S. $\n",
        "\n",
        "A única diferença na aplicação do gráfico $ \\overline{X} $ e $ S $ (média e desvio padrão), ao invés do $ \\overline{X} $ e $ R $ é no cálculo da estimativa de $ \\sigma $.\n",
        "Estimamos $ \\sigma $ de forma direta, ou seja, através do cálculo do desvio padrão amostral.\n",
        "O gráfico $ \\overline{X} $ e $ S $ é utilizado quando o tamanho da amostra é grande (> 10 ou 12). Além disso, o tamanho da amostra ou subgrupo pode ser variável.\n",
        "\n",
        "\n",
        "http://www.portalaction.com.br/controle-estatistico-do-processo/42-graficos-media-e-desvio-padrao\n",
        "\n",
        "\n",
        "\n",
        "http://www.portalaction.com.br/controle-estatistico-do-processo/10-apendice\n",
        "\n",
        "\n"
      ]
    },
    {
      "cell_type": "code",
      "metadata": {
        "id": "vg_CE2VsxEHy",
        "colab_type": "code",
        "colab": {
          "base_uri": "https://localhost:8080/",
          "height": 71
        },
        "outputId": "7f5f62db-1d54-471c-d4e9-9bcf35b56143"
      },
      "source": [
        "# Importando bibliotecas\n",
        "import pandas as pd\n",
        "import seaborn as sns\n",
        "import matplotlib.pyplot as plt\n",
        "\n",
        "\n",
        "# Mostrar os gráficos no arquivo:\n",
        "%matplotlib inline\n"
      ],
      "execution_count": null,
      "outputs": [
        {
          "output_type": "stream",
          "text": [
            "/usr/local/lib/python3.6/dist-packages/statsmodels/tools/_testing.py:19: FutureWarning: pandas.util.testing is deprecated. Use the functions in the public API at pandas.testing instead.\n",
            "  import pandas.util.testing as tm\n"
          ],
          "name": "stderr"
        }
      ]
    },
    {
      "cell_type": "code",
      "metadata": {
        "id": "fU34FGBGxax3",
        "colab_type": "code",
        "colab": {}
      },
      "source": [
        "tabela1=pd.read_csv(\"/content/drive/My Drive/Colab Notebooks/usinagempino.csv\", sep=\";\", encoding='cp1252')"
      ],
      "execution_count": null,
      "outputs": []
    },
    {
      "cell_type": "code",
      "metadata": {
        "id": "8w-XLRrGxvGR",
        "colab_type": "code",
        "colab": {
          "base_uri": "https://localhost:8080/",
          "height": 917
        },
        "outputId": "811e36c0-bc1e-4276-88d5-a431f877571c"
      },
      "source": [
        "tabela1"
      ],
      "execution_count": null,
      "outputs": [
        {
          "output_type": "execute_result",
          "data": {
            "text/html": [
              "<div>\n",
              "<style scoped>\n",
              "    .dataframe tbody tr th:only-of-type {\n",
              "        vertical-align: middle;\n",
              "    }\n",
              "\n",
              "    .dataframe tbody tr th {\n",
              "        vertical-align: top;\n",
              "    }\n",
              "\n",
              "    .dataframe thead th {\n",
              "        text-align: right;\n",
              "    }\n",
              "</style>\n",
              "<table border=\"1\" class=\"dataframe\">\n",
              "  <thead>\n",
              "    <tr style=\"text-align: right;\">\n",
              "      <th></th>\n",
              "      <th>X1</th>\n",
              "      <th>X2</th>\n",
              "      <th>X3</th>\n",
              "      <th>X4</th>\n",
              "      <th>X5</th>\n",
              "      <th>X6</th>\n",
              "      <th>X7</th>\n",
              "      <th>X8</th>\n",
              "      <th>X9</th>\n",
              "      <th>X10</th>\n",
              "      <th>Média</th>\n",
              "      <th>DP</th>\n",
              "    </tr>\n",
              "  </thead>\n",
              "  <tbody>\n",
              "    <tr>\n",
              "      <th>0</th>\n",
              "      <td>9.8323</td>\n",
              "      <td>10.4735</td>\n",
              "      <td>9.5178</td>\n",
              "      <td>10.8361</td>\n",
              "      <td>9.9201</td>\n",
              "      <td>9.6272</td>\n",
              "      <td>10.0284</td>\n",
              "      <td>9.6664</td>\n",
              "      <td>9.3373</td>\n",
              "      <td>10.9362</td>\n",
              "      <td>10.01753</td>\n",
              "      <td>0.553166</td>\n",
              "    </tr>\n",
              "    <tr>\n",
              "      <th>1</th>\n",
              "      <td>9.0219</td>\n",
              "      <td>10.6217</td>\n",
              "      <td>10.6176</td>\n",
              "      <td>11.4604</td>\n",
              "      <td>8.9944</td>\n",
              "      <td>10.1264</td>\n",
              "      <td>10.3556</td>\n",
              "      <td>9.6835</td>\n",
              "      <td>9.9313</td>\n",
              "      <td>10.5404</td>\n",
              "      <td>10.13532</td>\n",
              "      <td>0.761932</td>\n",
              "    </tr>\n",
              "    <tr>\n",
              "      <th>2</th>\n",
              "      <td>10.7431</td>\n",
              "      <td>10.9621</td>\n",
              "      <td>9.4968</td>\n",
              "      <td>10.1700</td>\n",
              "      <td>8.9321</td>\n",
              "      <td>9.6742</td>\n",
              "      <td>10.2471</td>\n",
              "      <td>9.7774</td>\n",
              "      <td>10.0575</td>\n",
              "      <td>10.5816</td>\n",
              "      <td>10.06419</td>\n",
              "      <td>0.616213</td>\n",
              "    </tr>\n",
              "    <tr>\n",
              "      <th>3</th>\n",
              "      <td>10.0543</td>\n",
              "      <td>11.0115</td>\n",
              "      <td>10.4363</td>\n",
              "      <td>11.4068</td>\n",
              "      <td>10.1321</td>\n",
              "      <td>11.3897</td>\n",
              "      <td>9.9963</td>\n",
              "      <td>9.8184</td>\n",
              "      <td>10.4614</td>\n",
              "      <td>10.4651</td>\n",
              "      <td>10.51719</td>\n",
              "      <td>0.570729</td>\n",
              "    </tr>\n",
              "    <tr>\n",
              "      <th>4</th>\n",
              "      <td>9.6915</td>\n",
              "      <td>11.2257</td>\n",
              "      <td>9.8063</td>\n",
              "      <td>10.7478</td>\n",
              "      <td>10.1048</td>\n",
              "      <td>11.1482</td>\n",
              "      <td>10.1624</td>\n",
              "      <td>9.9117</td>\n",
              "      <td>9.9081</td>\n",
              "      <td>10.6442</td>\n",
              "      <td>10.33507</td>\n",
              "      <td>0.563567</td>\n",
              "    </tr>\n",
              "    <tr>\n",
              "      <th>5</th>\n",
              "      <td>9.9209</td>\n",
              "      <td>10.0309</td>\n",
              "      <td>10.5285</td>\n",
              "      <td>10.9878</td>\n",
              "      <td>9.8168</td>\n",
              "      <td>10.1317</td>\n",
              "      <td>10.0633</td>\n",
              "      <td>11.1288</td>\n",
              "      <td>11.2937</td>\n",
              "      <td>9.7451</td>\n",
              "      <td>10.36475</td>\n",
              "      <td>0.577310</td>\n",
              "    </tr>\n",
              "    <tr>\n",
              "      <th>6</th>\n",
              "      <td>9.6343</td>\n",
              "      <td>11.0474</td>\n",
              "      <td>9.8212</td>\n",
              "      <td>11.1468</td>\n",
              "      <td>9.1150</td>\n",
              "      <td>10.7762</td>\n",
              "      <td>9.7394</td>\n",
              "      <td>10.0534</td>\n",
              "      <td>9.7941</td>\n",
              "      <td>11.6617</td>\n",
              "      <td>10.27895</td>\n",
              "      <td>0.820561</td>\n",
              "    </tr>\n",
              "    <tr>\n",
              "      <th>7</th>\n",
              "      <td>10.2035</td>\n",
              "      <td>10.4941</td>\n",
              "      <td>11.2188</td>\n",
              "      <td>10.5150</td>\n",
              "      <td>9.4150</td>\n",
              "      <td>10.7148</td>\n",
              "      <td>9.5438</td>\n",
              "      <td>10.1777</td>\n",
              "      <td>9.1048</td>\n",
              "      <td>10.4412</td>\n",
              "      <td>10.18287</td>\n",
              "      <td>0.648993</td>\n",
              "    </tr>\n",
              "    <tr>\n",
              "      <th>8</th>\n",
              "      <td>10.6667</td>\n",
              "      <td>10.7832</td>\n",
              "      <td>10.2442</td>\n",
              "      <td>11.6138</td>\n",
              "      <td>10.0163</td>\n",
              "      <td>10.0467</td>\n",
              "      <td>8.9035</td>\n",
              "      <td>10.9109</td>\n",
              "      <td>9.5230</td>\n",
              "      <td>11.1139</td>\n",
              "      <td>10.38222</td>\n",
              "      <td>0.800261</td>\n",
              "    </tr>\n",
              "    <tr>\n",
              "      <th>9</th>\n",
              "      <td>10.4892</td>\n",
              "      <td>10.6291</td>\n",
              "      <td>10.6905</td>\n",
              "      <td>11.3870</td>\n",
              "      <td>10.1746</td>\n",
              "      <td>9.5808</td>\n",
              "      <td>9.6638</td>\n",
              "      <td>11.0216</td>\n",
              "      <td>9.8581</td>\n",
              "      <td>10.6037</td>\n",
              "      <td>10.40984</td>\n",
              "      <td>0.587221</td>\n",
              "    </tr>\n",
              "    <tr>\n",
              "      <th>10</th>\n",
              "      <td>10.6649</td>\n",
              "      <td>11.1688</td>\n",
              "      <td>11.0198</td>\n",
              "      <td>9.8607</td>\n",
              "      <td>9.5741</td>\n",
              "      <td>10.2868</td>\n",
              "      <td>10.1390</td>\n",
              "      <td>10.0186</td>\n",
              "      <td>10.6223</td>\n",
              "      <td>11.6381</td>\n",
              "      <td>10.49931</td>\n",
              "      <td>0.643637</td>\n",
              "    </tr>\n",
              "    <tr>\n",
              "      <th>11</th>\n",
              "      <td>10.5682</td>\n",
              "      <td>10.5393</td>\n",
              "      <td>10.1765</td>\n",
              "      <td>10.1989</td>\n",
              "      <td>10.7500</td>\n",
              "      <td>10.0564</td>\n",
              "      <td>10.9785</td>\n",
              "      <td>10.5446</td>\n",
              "      <td>9.1627</td>\n",
              "      <td>10.2037</td>\n",
              "      <td>10.31788</td>\n",
              "      <td>0.498468</td>\n",
              "    </tr>\n",
              "    <tr>\n",
              "      <th>12</th>\n",
              "      <td>10.8432</td>\n",
              "      <td>9.1263</td>\n",
              "      <td>9.9808</td>\n",
              "      <td>11.2966</td>\n",
              "      <td>9.3850</td>\n",
              "      <td>11.5448</td>\n",
              "      <td>10.6659</td>\n",
              "      <td>9.9193</td>\n",
              "      <td>10.4170</td>\n",
              "      <td>10.9449</td>\n",
              "      <td>10.41238</td>\n",
              "      <td>0.798373</td>\n",
              "    </tr>\n",
              "    <tr>\n",
              "      <th>13</th>\n",
              "      <td>9.6101</td>\n",
              "      <td>9.8000</td>\n",
              "      <td>10.4167</td>\n",
              "      <td>10.4374</td>\n",
              "      <td>9.5798</td>\n",
              "      <td>10.3382</td>\n",
              "      <td>9.9084</td>\n",
              "      <td>10.0147</td>\n",
              "      <td>9.7580</td>\n",
              "      <td>9.9967</td>\n",
              "      <td>9.98600</td>\n",
              "      <td>0.318529</td>\n",
              "    </tr>\n",
              "    <tr>\n",
              "      <th>14</th>\n",
              "      <td>10.1325</td>\n",
              "      <td>10.8271</td>\n",
              "      <td>10.5070</td>\n",
              "      <td>10.4371</td>\n",
              "      <td>10.8779</td>\n",
              "      <td>10.8975</td>\n",
              "      <td>8.9913</td>\n",
              "      <td>10.1882</td>\n",
              "      <td>10.5538</td>\n",
              "      <td>10.3392</td>\n",
              "      <td>10.37516</td>\n",
              "      <td>0.557092</td>\n",
              "    </tr>\n",
              "    <tr>\n",
              "      <th>15</th>\n",
              "      <td>10.3702</td>\n",
              "      <td>11.2328</td>\n",
              "      <td>9.7624</td>\n",
              "      <td>10.4681</td>\n",
              "      <td>9.9547</td>\n",
              "      <td>9.7824</td>\n",
              "      <td>9.7726</td>\n",
              "      <td>10.6453</td>\n",
              "      <td>9.8423</td>\n",
              "      <td>10.8680</td>\n",
              "      <td>10.26988</td>\n",
              "      <td>0.527034</td>\n",
              "    </tr>\n",
              "    <tr>\n",
              "      <th>16</th>\n",
              "      <td>9.5008</td>\n",
              "      <td>9.5963</td>\n",
              "      <td>10.3490</td>\n",
              "      <td>12.0111</td>\n",
              "      <td>10.1694</td>\n",
              "      <td>10.8770</td>\n",
              "      <td>9.8602</td>\n",
              "      <td>9.7677</td>\n",
              "      <td>9.8443</td>\n",
              "      <td>11.1214</td>\n",
              "      <td>10.30972</td>\n",
              "      <td>0.800857</td>\n",
              "    </tr>\n",
              "    <tr>\n",
              "      <th>17</th>\n",
              "      <td>9.8528</td>\n",
              "      <td>10.0426</td>\n",
              "      <td>10.0269</td>\n",
              "      <td>10.7828</td>\n",
              "      <td>10.1054</td>\n",
              "      <td>9.9032</td>\n",
              "      <td>10.2323</td>\n",
              "      <td>10.7983</td>\n",
              "      <td>9.6603</td>\n",
              "      <td>10.9406</td>\n",
              "      <td>10.23452</td>\n",
              "      <td>0.447069</td>\n",
              "    </tr>\n",
              "    <tr>\n",
              "      <th>18</th>\n",
              "      <td>10.4005</td>\n",
              "      <td>10.7238</td>\n",
              "      <td>11.0019</td>\n",
              "      <td>10.4417</td>\n",
              "      <td>10.2053</td>\n",
              "      <td>10.0774</td>\n",
              "      <td>9.7682</td>\n",
              "      <td>9.7861</td>\n",
              "      <td>10.2386</td>\n",
              "      <td>10.3000</td>\n",
              "      <td>10.29435</td>\n",
              "      <td>0.381710</td>\n",
              "    </tr>\n",
              "    <tr>\n",
              "      <th>19</th>\n",
              "      <td>9.7635</td>\n",
              "      <td>11.2020</td>\n",
              "      <td>9.5674</td>\n",
              "      <td>10.1705</td>\n",
              "      <td>9.7851</td>\n",
              "      <td>10.3353</td>\n",
              "      <td>10.2331</td>\n",
              "      <td>10.3768</td>\n",
              "      <td>10.8271</td>\n",
              "      <td>10.4101</td>\n",
              "      <td>10.26709</td>\n",
              "      <td>0.495623</td>\n",
              "    </tr>\n",
              "    <tr>\n",
              "      <th>20</th>\n",
              "      <td>10.3412</td>\n",
              "      <td>10.1655</td>\n",
              "      <td>10.0494</td>\n",
              "      <td>11.4595</td>\n",
              "      <td>10.4515</td>\n",
              "      <td>10.3260</td>\n",
              "      <td>10.8081</td>\n",
              "      <td>9.8483</td>\n",
              "      <td>9.7066</td>\n",
              "      <td>9.7909</td>\n",
              "      <td>10.29470</td>\n",
              "      <td>0.529558</td>\n",
              "    </tr>\n",
              "    <tr>\n",
              "      <th>21</th>\n",
              "      <td>10.2931</td>\n",
              "      <td>9.9962</td>\n",
              "      <td>9.7957</td>\n",
              "      <td>10.7590</td>\n",
              "      <td>10.9442</td>\n",
              "      <td>10.3623</td>\n",
              "      <td>9.7833</td>\n",
              "      <td>9.0060</td>\n",
              "      <td>11.1923</td>\n",
              "      <td>10.1037</td>\n",
              "      <td>10.22358</td>\n",
              "      <td>0.640656</td>\n",
              "    </tr>\n",
              "    <tr>\n",
              "      <th>22</th>\n",
              "      <td>10.2808</td>\n",
              "      <td>10.8858</td>\n",
              "      <td>10.2942</td>\n",
              "      <td>10.9120</td>\n",
              "      <td>10.8164</td>\n",
              "      <td>9.8223</td>\n",
              "      <td>9.8758</td>\n",
              "      <td>9.1255</td>\n",
              "      <td>9.7107</td>\n",
              "      <td>9.8788</td>\n",
              "      <td>10.16023</td>\n",
              "      <td>0.587055</td>\n",
              "    </tr>\n",
              "    <tr>\n",
              "      <th>23</th>\n",
              "      <td>9.8984</td>\n",
              "      <td>11.0424</td>\n",
              "      <td>10.3988</td>\n",
              "      <td>11.0127</td>\n",
              "      <td>9.2655</td>\n",
              "      <td>10.2082</td>\n",
              "      <td>9.8238</td>\n",
              "      <td>9.8925</td>\n",
              "      <td>10.3074</td>\n",
              "      <td>9.9735</td>\n",
              "      <td>10.18232</td>\n",
              "      <td>0.544646</td>\n",
              "    </tr>\n",
              "    <tr>\n",
              "      <th>24</th>\n",
              "      <td>9.4126</td>\n",
              "      <td>11.9882</td>\n",
              "      <td>9.3897</td>\n",
              "      <td>10.9499</td>\n",
              "      <td>10.1394</td>\n",
              "      <td>9.7375</td>\n",
              "      <td>10.0704</td>\n",
              "      <td>9.9912</td>\n",
              "      <td>9.9054</td>\n",
              "      <td>10.9421</td>\n",
              "      <td>10.25264</td>\n",
              "      <td>0.811333</td>\n",
              "    </tr>\n",
              "    <tr>\n",
              "      <th>25</th>\n",
              "      <td>10.2554</td>\n",
              "      <td>9.6405</td>\n",
              "      <td>10.6678</td>\n",
              "      <td>10.6074</td>\n",
              "      <td>9.7188</td>\n",
              "      <td>11.1229</td>\n",
              "      <td>9.6877</td>\n",
              "      <td>10.8275</td>\n",
              "      <td>8.9760</td>\n",
              "      <td>11.1306</td>\n",
              "      <td>10.26346</td>\n",
              "      <td>0.727579</td>\n",
              "    </tr>\n",
              "    <tr>\n",
              "      <th>26</th>\n",
              "      <td>9.7630</td>\n",
              "      <td>11.4587</td>\n",
              "      <td>10.5735</td>\n",
              "      <td>10.3049</td>\n",
              "      <td>10.5277</td>\n",
              "      <td>11.0722</td>\n",
              "      <td>9.8399</td>\n",
              "      <td>9.6746</td>\n",
              "      <td>9.7708</td>\n",
              "      <td>10.1013</td>\n",
              "      <td>10.30866</td>\n",
              "      <td>0.603280</td>\n",
              "    </tr>\n",
              "    <tr>\n",
              "      <th>27</th>\n",
              "      <td>10.9390</td>\n",
              "      <td>10.3562</td>\n",
              "      <td>10.7339</td>\n",
              "      <td>11.1043</td>\n",
              "      <td>10.0477</td>\n",
              "      <td>10.5310</td>\n",
              "      <td>11.0688</td>\n",
              "      <td>9.8020</td>\n",
              "      <td>10.2629</td>\n",
              "      <td>10.2776</td>\n",
              "      <td>10.51234</td>\n",
              "      <td>0.441427</td>\n",
              "    </tr>\n",
              "  </tbody>\n",
              "</table>\n",
              "</div>"
            ],
            "text/plain": [
              "         X1       X2       X3       X4  ...       X9      X10     Média        DP\n",
              "0    9.8323  10.4735   9.5178  10.8361  ...   9.3373  10.9362  10.01753  0.553166\n",
              "1    9.0219  10.6217  10.6176  11.4604  ...   9.9313  10.5404  10.13532  0.761932\n",
              "2   10.7431  10.9621   9.4968  10.1700  ...  10.0575  10.5816  10.06419  0.616213\n",
              "3   10.0543  11.0115  10.4363  11.4068  ...  10.4614  10.4651  10.51719  0.570729\n",
              "4    9.6915  11.2257   9.8063  10.7478  ...   9.9081  10.6442  10.33507  0.563567\n",
              "5    9.9209  10.0309  10.5285  10.9878  ...  11.2937   9.7451  10.36475  0.577310\n",
              "6    9.6343  11.0474   9.8212  11.1468  ...   9.7941  11.6617  10.27895  0.820561\n",
              "7   10.2035  10.4941  11.2188  10.5150  ...   9.1048  10.4412  10.18287  0.648993\n",
              "8   10.6667  10.7832  10.2442  11.6138  ...   9.5230  11.1139  10.38222  0.800261\n",
              "9   10.4892  10.6291  10.6905  11.3870  ...   9.8581  10.6037  10.40984  0.587221\n",
              "10  10.6649  11.1688  11.0198   9.8607  ...  10.6223  11.6381  10.49931  0.643637\n",
              "11  10.5682  10.5393  10.1765  10.1989  ...   9.1627  10.2037  10.31788  0.498468\n",
              "12  10.8432   9.1263   9.9808  11.2966  ...  10.4170  10.9449  10.41238  0.798373\n",
              "13   9.6101   9.8000  10.4167  10.4374  ...   9.7580   9.9967   9.98600  0.318529\n",
              "14  10.1325  10.8271  10.5070  10.4371  ...  10.5538  10.3392  10.37516  0.557092\n",
              "15  10.3702  11.2328   9.7624  10.4681  ...   9.8423  10.8680  10.26988  0.527034\n",
              "16   9.5008   9.5963  10.3490  12.0111  ...   9.8443  11.1214  10.30972  0.800857\n",
              "17   9.8528  10.0426  10.0269  10.7828  ...   9.6603  10.9406  10.23452  0.447069\n",
              "18  10.4005  10.7238  11.0019  10.4417  ...  10.2386  10.3000  10.29435  0.381710\n",
              "19   9.7635  11.2020   9.5674  10.1705  ...  10.8271  10.4101  10.26709  0.495623\n",
              "20  10.3412  10.1655  10.0494  11.4595  ...   9.7066   9.7909  10.29470  0.529558\n",
              "21  10.2931   9.9962   9.7957  10.7590  ...  11.1923  10.1037  10.22358  0.640656\n",
              "22  10.2808  10.8858  10.2942  10.9120  ...   9.7107   9.8788  10.16023  0.587055\n",
              "23   9.8984  11.0424  10.3988  11.0127  ...  10.3074   9.9735  10.18232  0.544646\n",
              "24   9.4126  11.9882   9.3897  10.9499  ...   9.9054  10.9421  10.25264  0.811333\n",
              "25  10.2554   9.6405  10.6678  10.6074  ...   8.9760  11.1306  10.26346  0.727579\n",
              "26   9.7630  11.4587  10.5735  10.3049  ...   9.7708  10.1013  10.30866  0.603280\n",
              "27  10.9390  10.3562  10.7339  11.1043  ...  10.2629  10.2776  10.51234  0.441427\n",
              "\n",
              "[28 rows x 12 columns]"
            ]
          },
          "metadata": {
            "tags": []
          },
          "execution_count": 3
        }
      ]
    },
    {
      "cell_type": "markdown",
      "metadata": {
        "id": "4MR8o63B1gwW",
        "colab_type": "text"
      },
      "source": [
        "A seleção da característica de qualidade do processo é focada no cliente.\n",
        "\n",
        "Registro das observações obtidas segue os critérios de amostragem racional. No exemplo foram escolhidos 10 itens por dia durante m = 28 dias.\n",
        "\n",
        "Cálculo da média amostral $ \\overline{X} $ e do desvio padrão $ S $, para cada i = 1, 2, …, m das m amostras escolhidas. Os valores de $ \\overline{X} $ e de $ S $ estão dispostos nas duas últimas colunas da tabela.\n",
        "\n",
        "Cálculo da média das médias amostrais e da média dos desvios padrão amostrais, os quais são indicados, respectivamente, por $ \\overline{\\overline{X}} $ e $ \\overline{S} $.\n",
        " \n"
      ]
    },
    {
      "cell_type": "markdown",
      "metadata": {
        "id": "5-LTZdId2Pre",
        "colab_type": "text"
      },
      "source": [
        "Para os nossos dados temos:\n",
        "\n",
        "Número de amostras: m = 28\n",
        "\n",
        "Tamanho das amostras: n = 10"
      ]
    },
    {
      "cell_type": "code",
      "metadata": {
        "id": "4wfPBkKX8ot_",
        "colab_type": "code",
        "colab": {
          "base_uri": "https://localhost:8080/",
          "height": 441
        },
        "outputId": "b9cc7123-b887-44eb-a1d4-bfa20a2c7e76"
      },
      "source": [
        "# Transformando a tabela (Linha vira coluna)\n",
        "tabela1.T"
      ],
      "execution_count": null,
      "outputs": [
        {
          "output_type": "execute_result",
          "data": {
            "text/html": [
              "<div>\n",
              "<style scoped>\n",
              "    .dataframe tbody tr th:only-of-type {\n",
              "        vertical-align: middle;\n",
              "    }\n",
              "\n",
              "    .dataframe tbody tr th {\n",
              "        vertical-align: top;\n",
              "    }\n",
              "\n",
              "    .dataframe thead th {\n",
              "        text-align: right;\n",
              "    }\n",
              "</style>\n",
              "<table border=\"1\" class=\"dataframe\">\n",
              "  <thead>\n",
              "    <tr style=\"text-align: right;\">\n",
              "      <th></th>\n",
              "      <th>0</th>\n",
              "      <th>1</th>\n",
              "      <th>2</th>\n",
              "      <th>3</th>\n",
              "      <th>4</th>\n",
              "      <th>5</th>\n",
              "      <th>6</th>\n",
              "      <th>7</th>\n",
              "      <th>8</th>\n",
              "      <th>9</th>\n",
              "      <th>10</th>\n",
              "      <th>11</th>\n",
              "      <th>12</th>\n",
              "      <th>13</th>\n",
              "      <th>14</th>\n",
              "      <th>15</th>\n",
              "      <th>16</th>\n",
              "      <th>17</th>\n",
              "      <th>18</th>\n",
              "      <th>19</th>\n",
              "      <th>20</th>\n",
              "      <th>21</th>\n",
              "      <th>22</th>\n",
              "      <th>23</th>\n",
              "      <th>24</th>\n",
              "      <th>25</th>\n",
              "      <th>26</th>\n",
              "      <th>27</th>\n",
              "    </tr>\n",
              "  </thead>\n",
              "  <tbody>\n",
              "    <tr>\n",
              "      <th>X1</th>\n",
              "      <td>9.832300</td>\n",
              "      <td>9.021900</td>\n",
              "      <td>10.743100</td>\n",
              "      <td>10.054300</td>\n",
              "      <td>9.691500</td>\n",
              "      <td>9.92090</td>\n",
              "      <td>9.634300</td>\n",
              "      <td>10.203500</td>\n",
              "      <td>10.666700</td>\n",
              "      <td>10.489200</td>\n",
              "      <td>10.664900</td>\n",
              "      <td>10.568200</td>\n",
              "      <td>10.843200</td>\n",
              "      <td>9.610100</td>\n",
              "      <td>10.132500</td>\n",
              "      <td>10.370200</td>\n",
              "      <td>9.500800</td>\n",
              "      <td>9.852800</td>\n",
              "      <td>10.40050</td>\n",
              "      <td>9.763500</td>\n",
              "      <td>10.341200</td>\n",
              "      <td>10.293100</td>\n",
              "      <td>10.280800</td>\n",
              "      <td>9.898400</td>\n",
              "      <td>9.412600</td>\n",
              "      <td>10.255400</td>\n",
              "      <td>9.76300</td>\n",
              "      <td>10.939000</td>\n",
              "    </tr>\n",
              "    <tr>\n",
              "      <th>X2</th>\n",
              "      <td>10.473500</td>\n",
              "      <td>10.621700</td>\n",
              "      <td>10.962100</td>\n",
              "      <td>11.011500</td>\n",
              "      <td>11.225700</td>\n",
              "      <td>10.03090</td>\n",
              "      <td>11.047400</td>\n",
              "      <td>10.494100</td>\n",
              "      <td>10.783200</td>\n",
              "      <td>10.629100</td>\n",
              "      <td>11.168800</td>\n",
              "      <td>10.539300</td>\n",
              "      <td>9.126300</td>\n",
              "      <td>9.800000</td>\n",
              "      <td>10.827100</td>\n",
              "      <td>11.232800</td>\n",
              "      <td>9.596300</td>\n",
              "      <td>10.042600</td>\n",
              "      <td>10.72380</td>\n",
              "      <td>11.202000</td>\n",
              "      <td>10.165500</td>\n",
              "      <td>9.996200</td>\n",
              "      <td>10.885800</td>\n",
              "      <td>11.042400</td>\n",
              "      <td>11.988200</td>\n",
              "      <td>9.640500</td>\n",
              "      <td>11.45870</td>\n",
              "      <td>10.356200</td>\n",
              "    </tr>\n",
              "    <tr>\n",
              "      <th>X3</th>\n",
              "      <td>9.517800</td>\n",
              "      <td>10.617600</td>\n",
              "      <td>9.496800</td>\n",
              "      <td>10.436300</td>\n",
              "      <td>9.806300</td>\n",
              "      <td>10.52850</td>\n",
              "      <td>9.821200</td>\n",
              "      <td>11.218800</td>\n",
              "      <td>10.244200</td>\n",
              "      <td>10.690500</td>\n",
              "      <td>11.019800</td>\n",
              "      <td>10.176500</td>\n",
              "      <td>9.980800</td>\n",
              "      <td>10.416700</td>\n",
              "      <td>10.507000</td>\n",
              "      <td>9.762400</td>\n",
              "      <td>10.349000</td>\n",
              "      <td>10.026900</td>\n",
              "      <td>11.00190</td>\n",
              "      <td>9.567400</td>\n",
              "      <td>10.049400</td>\n",
              "      <td>9.795700</td>\n",
              "      <td>10.294200</td>\n",
              "      <td>10.398800</td>\n",
              "      <td>9.389700</td>\n",
              "      <td>10.667800</td>\n",
              "      <td>10.57350</td>\n",
              "      <td>10.733900</td>\n",
              "    </tr>\n",
              "    <tr>\n",
              "      <th>X4</th>\n",
              "      <td>10.836100</td>\n",
              "      <td>11.460400</td>\n",
              "      <td>10.170000</td>\n",
              "      <td>11.406800</td>\n",
              "      <td>10.747800</td>\n",
              "      <td>10.98780</td>\n",
              "      <td>11.146800</td>\n",
              "      <td>10.515000</td>\n",
              "      <td>11.613800</td>\n",
              "      <td>11.387000</td>\n",
              "      <td>9.860700</td>\n",
              "      <td>10.198900</td>\n",
              "      <td>11.296600</td>\n",
              "      <td>10.437400</td>\n",
              "      <td>10.437100</td>\n",
              "      <td>10.468100</td>\n",
              "      <td>12.011100</td>\n",
              "      <td>10.782800</td>\n",
              "      <td>10.44170</td>\n",
              "      <td>10.170500</td>\n",
              "      <td>11.459500</td>\n",
              "      <td>10.759000</td>\n",
              "      <td>10.912000</td>\n",
              "      <td>11.012700</td>\n",
              "      <td>10.949900</td>\n",
              "      <td>10.607400</td>\n",
              "      <td>10.30490</td>\n",
              "      <td>11.104300</td>\n",
              "    </tr>\n",
              "    <tr>\n",
              "      <th>X5</th>\n",
              "      <td>9.920100</td>\n",
              "      <td>8.994400</td>\n",
              "      <td>8.932100</td>\n",
              "      <td>10.132100</td>\n",
              "      <td>10.104800</td>\n",
              "      <td>9.81680</td>\n",
              "      <td>9.115000</td>\n",
              "      <td>9.415000</td>\n",
              "      <td>10.016300</td>\n",
              "      <td>10.174600</td>\n",
              "      <td>9.574100</td>\n",
              "      <td>10.750000</td>\n",
              "      <td>9.385000</td>\n",
              "      <td>9.579800</td>\n",
              "      <td>10.877900</td>\n",
              "      <td>9.954700</td>\n",
              "      <td>10.169400</td>\n",
              "      <td>10.105400</td>\n",
              "      <td>10.20530</td>\n",
              "      <td>9.785100</td>\n",
              "      <td>10.451500</td>\n",
              "      <td>10.944200</td>\n",
              "      <td>10.816400</td>\n",
              "      <td>9.265500</td>\n",
              "      <td>10.139400</td>\n",
              "      <td>9.718800</td>\n",
              "      <td>10.52770</td>\n",
              "      <td>10.047700</td>\n",
              "    </tr>\n",
              "    <tr>\n",
              "      <th>X6</th>\n",
              "      <td>9.627200</td>\n",
              "      <td>10.126400</td>\n",
              "      <td>9.674200</td>\n",
              "      <td>11.389700</td>\n",
              "      <td>11.148200</td>\n",
              "      <td>10.13170</td>\n",
              "      <td>10.776200</td>\n",
              "      <td>10.714800</td>\n",
              "      <td>10.046700</td>\n",
              "      <td>9.580800</td>\n",
              "      <td>10.286800</td>\n",
              "      <td>10.056400</td>\n",
              "      <td>11.544800</td>\n",
              "      <td>10.338200</td>\n",
              "      <td>10.897500</td>\n",
              "      <td>9.782400</td>\n",
              "      <td>10.877000</td>\n",
              "      <td>9.903200</td>\n",
              "      <td>10.07740</td>\n",
              "      <td>10.335300</td>\n",
              "      <td>10.326000</td>\n",
              "      <td>10.362300</td>\n",
              "      <td>9.822300</td>\n",
              "      <td>10.208200</td>\n",
              "      <td>9.737500</td>\n",
              "      <td>11.122900</td>\n",
              "      <td>11.07220</td>\n",
              "      <td>10.531000</td>\n",
              "    </tr>\n",
              "    <tr>\n",
              "      <th>X7</th>\n",
              "      <td>10.028400</td>\n",
              "      <td>10.355600</td>\n",
              "      <td>10.247100</td>\n",
              "      <td>9.996300</td>\n",
              "      <td>10.162400</td>\n",
              "      <td>10.06330</td>\n",
              "      <td>9.739400</td>\n",
              "      <td>9.543800</td>\n",
              "      <td>8.903500</td>\n",
              "      <td>9.663800</td>\n",
              "      <td>10.139000</td>\n",
              "      <td>10.978500</td>\n",
              "      <td>10.665900</td>\n",
              "      <td>9.908400</td>\n",
              "      <td>8.991300</td>\n",
              "      <td>9.772600</td>\n",
              "      <td>9.860200</td>\n",
              "      <td>10.232300</td>\n",
              "      <td>9.76820</td>\n",
              "      <td>10.233100</td>\n",
              "      <td>10.808100</td>\n",
              "      <td>9.783300</td>\n",
              "      <td>9.875800</td>\n",
              "      <td>9.823800</td>\n",
              "      <td>10.070400</td>\n",
              "      <td>9.687700</td>\n",
              "      <td>9.83990</td>\n",
              "      <td>11.068800</td>\n",
              "    </tr>\n",
              "    <tr>\n",
              "      <th>X8</th>\n",
              "      <td>9.666400</td>\n",
              "      <td>9.683500</td>\n",
              "      <td>9.777400</td>\n",
              "      <td>9.818400</td>\n",
              "      <td>9.911700</td>\n",
              "      <td>11.12880</td>\n",
              "      <td>10.053400</td>\n",
              "      <td>10.177700</td>\n",
              "      <td>10.910900</td>\n",
              "      <td>11.021600</td>\n",
              "      <td>10.018600</td>\n",
              "      <td>10.544600</td>\n",
              "      <td>9.919300</td>\n",
              "      <td>10.014700</td>\n",
              "      <td>10.188200</td>\n",
              "      <td>10.645300</td>\n",
              "      <td>9.767700</td>\n",
              "      <td>10.798300</td>\n",
              "      <td>9.78610</td>\n",
              "      <td>10.376800</td>\n",
              "      <td>9.848300</td>\n",
              "      <td>9.006000</td>\n",
              "      <td>9.125500</td>\n",
              "      <td>9.892500</td>\n",
              "      <td>9.991200</td>\n",
              "      <td>10.827500</td>\n",
              "      <td>9.67460</td>\n",
              "      <td>9.802000</td>\n",
              "    </tr>\n",
              "    <tr>\n",
              "      <th>X9</th>\n",
              "      <td>9.337300</td>\n",
              "      <td>9.931300</td>\n",
              "      <td>10.057500</td>\n",
              "      <td>10.461400</td>\n",
              "      <td>9.908100</td>\n",
              "      <td>11.29370</td>\n",
              "      <td>9.794100</td>\n",
              "      <td>9.104800</td>\n",
              "      <td>9.523000</td>\n",
              "      <td>9.858100</td>\n",
              "      <td>10.622300</td>\n",
              "      <td>9.162700</td>\n",
              "      <td>10.417000</td>\n",
              "      <td>9.758000</td>\n",
              "      <td>10.553800</td>\n",
              "      <td>9.842300</td>\n",
              "      <td>9.844300</td>\n",
              "      <td>9.660300</td>\n",
              "      <td>10.23860</td>\n",
              "      <td>10.827100</td>\n",
              "      <td>9.706600</td>\n",
              "      <td>11.192300</td>\n",
              "      <td>9.710700</td>\n",
              "      <td>10.307400</td>\n",
              "      <td>9.905400</td>\n",
              "      <td>8.976000</td>\n",
              "      <td>9.77080</td>\n",
              "      <td>10.262900</td>\n",
              "    </tr>\n",
              "    <tr>\n",
              "      <th>X10</th>\n",
              "      <td>10.936200</td>\n",
              "      <td>10.540400</td>\n",
              "      <td>10.581600</td>\n",
              "      <td>10.465100</td>\n",
              "      <td>10.644200</td>\n",
              "      <td>9.74510</td>\n",
              "      <td>11.661700</td>\n",
              "      <td>10.441200</td>\n",
              "      <td>11.113900</td>\n",
              "      <td>10.603700</td>\n",
              "      <td>11.638100</td>\n",
              "      <td>10.203700</td>\n",
              "      <td>10.944900</td>\n",
              "      <td>9.996700</td>\n",
              "      <td>10.339200</td>\n",
              "      <td>10.868000</td>\n",
              "      <td>11.121400</td>\n",
              "      <td>10.940600</td>\n",
              "      <td>10.30000</td>\n",
              "      <td>10.410100</td>\n",
              "      <td>9.790900</td>\n",
              "      <td>10.103700</td>\n",
              "      <td>9.878800</td>\n",
              "      <td>9.973500</td>\n",
              "      <td>10.942100</td>\n",
              "      <td>11.130600</td>\n",
              "      <td>10.10130</td>\n",
              "      <td>10.277600</td>\n",
              "    </tr>\n",
              "    <tr>\n",
              "      <th>Média</th>\n",
              "      <td>10.017530</td>\n",
              "      <td>10.135320</td>\n",
              "      <td>10.064190</td>\n",
              "      <td>10.517190</td>\n",
              "      <td>10.335070</td>\n",
              "      <td>10.36475</td>\n",
              "      <td>10.278950</td>\n",
              "      <td>10.182870</td>\n",
              "      <td>10.382220</td>\n",
              "      <td>10.409840</td>\n",
              "      <td>10.499310</td>\n",
              "      <td>10.317880</td>\n",
              "      <td>10.412380</td>\n",
              "      <td>9.986000</td>\n",
              "      <td>10.375160</td>\n",
              "      <td>10.269880</td>\n",
              "      <td>10.309720</td>\n",
              "      <td>10.234520</td>\n",
              "      <td>10.29435</td>\n",
              "      <td>10.267090</td>\n",
              "      <td>10.294700</td>\n",
              "      <td>10.223580</td>\n",
              "      <td>10.160230</td>\n",
              "      <td>10.182320</td>\n",
              "      <td>10.252640</td>\n",
              "      <td>10.263460</td>\n",
              "      <td>10.30866</td>\n",
              "      <td>10.512340</td>\n",
              "    </tr>\n",
              "    <tr>\n",
              "      <th>DP</th>\n",
              "      <td>0.553166</td>\n",
              "      <td>0.761932</td>\n",
              "      <td>0.616213</td>\n",
              "      <td>0.570729</td>\n",
              "      <td>0.563567</td>\n",
              "      <td>0.57731</td>\n",
              "      <td>0.820561</td>\n",
              "      <td>0.648993</td>\n",
              "      <td>0.800261</td>\n",
              "      <td>0.587221</td>\n",
              "      <td>0.643637</td>\n",
              "      <td>0.498468</td>\n",
              "      <td>0.798373</td>\n",
              "      <td>0.318529</td>\n",
              "      <td>0.557092</td>\n",
              "      <td>0.527034</td>\n",
              "      <td>0.800857</td>\n",
              "      <td>0.447069</td>\n",
              "      <td>0.38171</td>\n",
              "      <td>0.495623</td>\n",
              "      <td>0.529558</td>\n",
              "      <td>0.640656</td>\n",
              "      <td>0.587055</td>\n",
              "      <td>0.544646</td>\n",
              "      <td>0.811333</td>\n",
              "      <td>0.727579</td>\n",
              "      <td>0.60328</td>\n",
              "      <td>0.441427</td>\n",
              "    </tr>\n",
              "  </tbody>\n",
              "</table>\n",
              "</div>"
            ],
            "text/plain": [
              "              0          1          2   ...         25        26         27\n",
              "X1      9.832300   9.021900  10.743100  ...  10.255400   9.76300  10.939000\n",
              "X2     10.473500  10.621700  10.962100  ...   9.640500  11.45870  10.356200\n",
              "X3      9.517800  10.617600   9.496800  ...  10.667800  10.57350  10.733900\n",
              "X4     10.836100  11.460400  10.170000  ...  10.607400  10.30490  11.104300\n",
              "X5      9.920100   8.994400   8.932100  ...   9.718800  10.52770  10.047700\n",
              "X6      9.627200  10.126400   9.674200  ...  11.122900  11.07220  10.531000\n",
              "X7     10.028400  10.355600  10.247100  ...   9.687700   9.83990  11.068800\n",
              "X8      9.666400   9.683500   9.777400  ...  10.827500   9.67460   9.802000\n",
              "X9      9.337300   9.931300  10.057500  ...   8.976000   9.77080  10.262900\n",
              "X10    10.936200  10.540400  10.581600  ...  11.130600  10.10130  10.277600\n",
              "Média  10.017530  10.135320  10.064190  ...  10.263460  10.30866  10.512340\n",
              "DP      0.553166   0.761932   0.616213  ...   0.727579   0.60328   0.441427\n",
              "\n",
              "[12 rows x 28 columns]"
            ]
          },
          "metadata": {
            "tags": []
          },
          "execution_count": 4
        }
      ]
    },
    {
      "cell_type": "code",
      "metadata": {
        "id": "XChOQZYX8wOX",
        "colab_type": "code",
        "colab": {
          "base_uri": "https://localhost:8080/",
          "height": 34
        },
        "outputId": "3c415291-decf-4b36-ec0e-4062138e1169"
      },
      "source": [
        "# Conferindo os valores1 médios:\n",
        "tabela1.T[0].mean()"
      ],
      "execution_count": null,
      "outputs": [
        {
          "output_type": "execute_result",
          "data": {
            "text/plain": [
              "9.228833000583332"
            ]
          },
          "metadata": {
            "tags": []
          },
          "execution_count": 5
        }
      ]
    },
    {
      "cell_type": "code",
      "metadata": {
        "id": "tZWKZhYY9g-z",
        "colab_type": "code",
        "colab": {
          "base_uri": "https://localhost:8080/",
          "height": 34
        },
        "outputId": "3c348db8-b98a-48fd-a08e-5cd04e3833c5"
      },
      "source": [
        "# Conferindo os valores2 médios:\n",
        "media2=tabela1.T[0].sum()/ len(tabela1.T[0])\n",
        "print(media2)"
      ],
      "execution_count": null,
      "outputs": [
        {
          "output_type": "stream",
          "text": [
            "9.228833000583334\n"
          ],
          "name": "stdout"
        }
      ]
    },
    {
      "cell_type": "code",
      "metadata": {
        "id": "ISyV2V9F_ufz",
        "colab_type": "code",
        "colab": {
          "base_uri": "https://localhost:8080/",
          "height": 34
        },
        "outputId": "20eb4a8e-f9d3-4c2a-b768-499e571abde1"
      },
      "source": [
        "# Conferindo os valores3 médios:\n",
        "tabela1['X1'].mean()"
      ],
      "execution_count": null,
      "outputs": [
        {
          "output_type": "execute_result",
          "data": {
            "text/plain": [
              "10.112425"
            ]
          },
          "metadata": {
            "tags": []
          },
          "execution_count": 7
        }
      ]
    },
    {
      "cell_type": "code",
      "metadata": {
        "id": "7D0PW-CiCYdU",
        "colab_type": "code",
        "colab": {
          "base_uri": "https://localhost:8080/",
          "height": 34
        },
        "outputId": "8932223b-5fa2-46d5-c80f-b9af990aaaf8"
      },
      "source": [
        "# Conferindo os valores4 médios:\n",
        "media4=tabela1['X1'].sum()/ len(tabela1['X1'])\n",
        "print(media4)"
      ],
      "execution_count": null,
      "outputs": [
        {
          "output_type": "stream",
          "text": [
            "10.112425\n"
          ],
          "name": "stdout"
        }
      ]
    },
    {
      "cell_type": "code",
      "metadata": {
        "id": "A5GWKfESC5vh",
        "colab_type": "code",
        "colab": {
          "base_uri": "https://localhost:8080/",
          "height": 34
        },
        "outputId": "61e277ec-0a4b-4dcd-f0d6-aa6a1c497ff1"
      },
      "source": [
        "# Conferindo os valores5 médios:\n",
        "media5=287.8521/28\n",
        "print(media5)"
      ],
      "execution_count": null,
      "outputs": [
        {
          "output_type": "stream",
          "text": [
            "10.280432142857142\n"
          ],
          "name": "stdout"
        }
      ]
    },
    {
      "cell_type": "code",
      "metadata": {
        "id": "2j_rG9SQFrrv",
        "colab_type": "code",
        "colab": {
          "base_uri": "https://localhost:8080/",
          "height": 204
        },
        "outputId": "b3c33108-e8ff-4185-9f97-fe5ecce864e6"
      },
      "source": [
        "# Cuidado com as tabelas a serem trabalhadas\n",
        "serie0 = pd.Series ([9.8323, 10.4735, 9.5178, 10.8361, 9.9201, 9.6272, 10.0284, 9.6664, 9.3373, 10.9362])\n",
        "print(serie0) "
      ],
      "execution_count": null,
      "outputs": [
        {
          "output_type": "stream",
          "text": [
            "0     9.8323\n",
            "1    10.4735\n",
            "2     9.5178\n",
            "3    10.8361\n",
            "4     9.9201\n",
            "5     9.6272\n",
            "6    10.0284\n",
            "7     9.6664\n",
            "8     9.3373\n",
            "9    10.9362\n",
            "dtype: float64\n"
          ],
          "name": "stdout"
        }
      ]
    },
    {
      "cell_type": "code",
      "metadata": {
        "id": "Gm1i-O0gIBH9",
        "colab_type": "code",
        "colab": {
          "base_uri": "https://localhost:8080/",
          "height": 34
        },
        "outputId": "9c4b5fa3-59fe-4474-f42e-baa83f48e69f"
      },
      "source": [
        "# Cuidado com as tabelas a serem trabalhadas\n",
        "serie0.mean()"
      ],
      "execution_count": null,
      "outputs": [
        {
          "output_type": "execute_result",
          "data": {
            "text/plain": [
              "10.017529999999999"
            ]
          },
          "metadata": {
            "tags": []
          },
          "execution_count": 11
        }
      ]
    },
    {
      "cell_type": "code",
      "metadata": {
        "id": "TCPX6AGNJVhe",
        "colab_type": "code",
        "colab": {
          "base_uri": "https://localhost:8080/",
          "height": 238
        },
        "outputId": "95f97d01-9f02-4ae9-d805-2f7fc5fb9db1"
      },
      "source": [
        "# Cuidado com as tabelas a serem trabalhadas\n",
        "serie1 = pd.Series ([9.8323, 10.4735, 9.5178, 10.8361, 9.9201, 9.6272, 10.0284, 9.6664, 9.3373, 10.9362, 10.01753, 0.553166 ])\n",
        "print(serie1) "
      ],
      "execution_count": null,
      "outputs": [
        {
          "output_type": "stream",
          "text": [
            "0      9.832300\n",
            "1     10.473500\n",
            "2      9.517800\n",
            "3     10.836100\n",
            "4      9.920100\n",
            "5      9.627200\n",
            "6     10.028400\n",
            "7      9.666400\n",
            "8      9.337300\n",
            "9     10.936200\n",
            "10    10.017530\n",
            "11     0.553166\n",
            "dtype: float64\n"
          ],
          "name": "stdout"
        }
      ]
    },
    {
      "cell_type": "code",
      "metadata": {
        "id": "vgBCHN_3LQZs",
        "colab_type": "code",
        "colab": {
          "base_uri": "https://localhost:8080/",
          "height": 34
        },
        "outputId": "1cd7fb13-c1bf-4f05-88ca-e6fbfeeb74b3"
      },
      "source": [
        "# Cuidado com as tabelas a serem trabalhadas\n",
        "serie1.mean()"
      ],
      "execution_count": null,
      "outputs": [
        {
          "output_type": "execute_result",
          "data": {
            "text/plain": [
              "9.228833"
            ]
          },
          "metadata": {
            "tags": []
          },
          "execution_count": 13
        }
      ]
    },
    {
      "cell_type": "code",
      "metadata": {
        "id": "npNr2ATjLYoF",
        "colab_type": "code",
        "colab": {}
      },
      "source": [
        "# Abrindo e criando um novo dataframe para a criação de tabelas e pegando as \n",
        "# colunas média e DP desvio padrão da tabela1 :\n",
        "# A estimativa do Desvio Padrão é feito pelo cálculo: \n",
        "# Média das Amplitudes / cte tabelada conforme o tamanho da Amostra no caso conforme (n = tamanho de cada amostra)\n",
        "# Neste caso já temos as estimativas dos desvios padrão calculado, mas vamos conferir um valor...\n"
      ],
      "execution_count": null,
      "outputs": []
    },
    {
      "cell_type": "code",
      "metadata": {
        "id": "0vKFenT3gXRl",
        "colab_type": "code",
        "colab": {
          "base_uri": "https://localhost:8080/",
          "height": 88
        },
        "outputId": "646344f7-46a6-433a-ae9e-f3b9e0b8ae3d"
      },
      "source": [
        "# Cuidado com as tabelas a serem trabalhadas - Cálculo Amplitude e Desvio Padeão\n",
        "serie2 = pd.Series ([])\t\n",
        "print(serie2)"
      ],
      "execution_count": null,
      "outputs": [
        {
          "output_type": "stream",
          "text": [
            "Series([], dtype: float64)\n"
          ],
          "name": "stdout"
        },
        {
          "output_type": "stream",
          "text": [
            "/usr/local/lib/python3.6/dist-packages/ipykernel_launcher.py:2: DeprecationWarning: The default dtype for empty Series will be 'object' instead of 'float64' in a future version. Specify a dtype explicitly to silence this warning.\n",
            "  \n"
          ],
          "name": "stderr"
        }
      ]
    },
    {
      "cell_type": "code",
      "metadata": {
        "id": "05VviVvYoQvK",
        "colab_type": "code",
        "colab": {
          "base_uri": "https://localhost:8080/",
          "height": 34
        },
        "outputId": "3d5af4fc-56a9-4f63-ab29-38167da10f7e"
      },
      "source": [
        "serie2.mean()"
      ],
      "execution_count": null,
      "outputs": [
        {
          "output_type": "execute_result",
          "data": {
            "text/plain": [
              "nan"
            ]
          },
          "metadata": {
            "tags": []
          },
          "execution_count": 16
        }
      ]
    },
    {
      "cell_type": "code",
      "metadata": {
        "id": "k74z_3RKp4pP",
        "colab_type": "code",
        "colab": {
          "base_uri": "https://localhost:8080/",
          "height": 34
        },
        "outputId": "fa91b526-72cd-4343-8859-e0ce98827b63"
      },
      "source": [
        "LS= 10.017529999999999 * 1.716\n",
        "LS"
      ],
      "execution_count": null,
      "outputs": [
        {
          "output_type": "execute_result",
          "data": {
            "text/plain": [
              "17.190081479999996"
            ]
          },
          "metadata": {
            "tags": []
          },
          "execution_count": 17
        }
      ]
    },
    {
      "cell_type": "code",
      "metadata": {
        "id": "fgYJUroWXK1c",
        "colab_type": "code",
        "colab": {
          "base_uri": "https://localhost:8080/",
          "height": 34
        },
        "outputId": "6fe7d08b-d259-445b-b437-7c76870593e9"
      },
      "source": [
        "type(tabela1)"
      ],
      "execution_count": null,
      "outputs": [
        {
          "output_type": "execute_result",
          "data": {
            "text/plain": [
              "pandas.core.frame.DataFrame"
            ]
          },
          "metadata": {
            "tags": []
          },
          "execution_count": 18
        }
      ]
    },
    {
      "cell_type": "code",
      "metadata": {
        "id": "t0QiwaiIq57-",
        "colab_type": "code",
        "colab": {
          "base_uri": "https://localhost:8080/",
          "height": 510
        },
        "outputId": "9492bd10-bf6b-42d9-e147-e1bfd3f81311"
      },
      "source": [
        "tabela1['DP']"
      ],
      "execution_count": null,
      "outputs": [
        {
          "output_type": "execute_result",
          "data": {
            "text/plain": [
              "0     0.553166\n",
              "1     0.761932\n",
              "2     0.616213\n",
              "3     0.570729\n",
              "4     0.563567\n",
              "5     0.577310\n",
              "6     0.820561\n",
              "7     0.648993\n",
              "8     0.800261\n",
              "9     0.587221\n",
              "10    0.643637\n",
              "11    0.498468\n",
              "12    0.798373\n",
              "13    0.318529\n",
              "14    0.557092\n",
              "15    0.527034\n",
              "16    0.800857\n",
              "17    0.447069\n",
              "18    0.381710\n",
              "19    0.495623\n",
              "20    0.529558\n",
              "21    0.640656\n",
              "22    0.587055\n",
              "23    0.544646\n",
              "24    0.811333\n",
              "25    0.727579\n",
              "26    0.603280\n",
              "27    0.441427\n",
              "Name: DP, dtype: float64"
            ]
          },
          "metadata": {
            "tags": []
          },
          "execution_count": 19
        }
      ]
    },
    {
      "cell_type": "code",
      "metadata": {
        "id": "TmLoRnZTrw5G",
        "colab_type": "code",
        "colab": {
          "base_uri": "https://localhost:8080/",
          "height": 510
        },
        "outputId": "bce257b2-f195-4d58-9745-9cd1fbaeb058"
      },
      "source": [
        "tabela1['Média']"
      ],
      "execution_count": null,
      "outputs": [
        {
          "output_type": "execute_result",
          "data": {
            "text/plain": [
              "0     10.01753\n",
              "1     10.13532\n",
              "2     10.06419\n",
              "3     10.51719\n",
              "4     10.33507\n",
              "5     10.36475\n",
              "6     10.27895\n",
              "7     10.18287\n",
              "8     10.38222\n",
              "9     10.40984\n",
              "10    10.49931\n",
              "11    10.31788\n",
              "12    10.41238\n",
              "13     9.98600\n",
              "14    10.37516\n",
              "15    10.26988\n",
              "16    10.30972\n",
              "17    10.23452\n",
              "18    10.29435\n",
              "19    10.26709\n",
              "20    10.29470\n",
              "21    10.22358\n",
              "22    10.16023\n",
              "23    10.18232\n",
              "24    10.25264\n",
              "25    10.26346\n",
              "26    10.30866\n",
              "27    10.51234\n",
              "Name: Média, dtype: float64"
            ]
          },
          "metadata": {
            "tags": []
          },
          "execution_count": 20
        }
      ]
    },
    {
      "cell_type": "code",
      "metadata": {
        "id": "ylZm4rbkr-SM",
        "colab_type": "code",
        "colab": {
          "base_uri": "https://localhost:8080/",
          "height": 917
        },
        "outputId": "c908e143-09b0-4478-e948-2ab56105c9c5"
      },
      "source": [
        "tabela2=tabela1[['Média','DP']]\n",
        "tabela2"
      ],
      "execution_count": null,
      "outputs": [
        {
          "output_type": "execute_result",
          "data": {
            "text/html": [
              "<div>\n",
              "<style scoped>\n",
              "    .dataframe tbody tr th:only-of-type {\n",
              "        vertical-align: middle;\n",
              "    }\n",
              "\n",
              "    .dataframe tbody tr th {\n",
              "        vertical-align: top;\n",
              "    }\n",
              "\n",
              "    .dataframe thead th {\n",
              "        text-align: right;\n",
              "    }\n",
              "</style>\n",
              "<table border=\"1\" class=\"dataframe\">\n",
              "  <thead>\n",
              "    <tr style=\"text-align: right;\">\n",
              "      <th></th>\n",
              "      <th>Média</th>\n",
              "      <th>DP</th>\n",
              "    </tr>\n",
              "  </thead>\n",
              "  <tbody>\n",
              "    <tr>\n",
              "      <th>0</th>\n",
              "      <td>10.01753</td>\n",
              "      <td>0.553166</td>\n",
              "    </tr>\n",
              "    <tr>\n",
              "      <th>1</th>\n",
              "      <td>10.13532</td>\n",
              "      <td>0.761932</td>\n",
              "    </tr>\n",
              "    <tr>\n",
              "      <th>2</th>\n",
              "      <td>10.06419</td>\n",
              "      <td>0.616213</td>\n",
              "    </tr>\n",
              "    <tr>\n",
              "      <th>3</th>\n",
              "      <td>10.51719</td>\n",
              "      <td>0.570729</td>\n",
              "    </tr>\n",
              "    <tr>\n",
              "      <th>4</th>\n",
              "      <td>10.33507</td>\n",
              "      <td>0.563567</td>\n",
              "    </tr>\n",
              "    <tr>\n",
              "      <th>5</th>\n",
              "      <td>10.36475</td>\n",
              "      <td>0.577310</td>\n",
              "    </tr>\n",
              "    <tr>\n",
              "      <th>6</th>\n",
              "      <td>10.27895</td>\n",
              "      <td>0.820561</td>\n",
              "    </tr>\n",
              "    <tr>\n",
              "      <th>7</th>\n",
              "      <td>10.18287</td>\n",
              "      <td>0.648993</td>\n",
              "    </tr>\n",
              "    <tr>\n",
              "      <th>8</th>\n",
              "      <td>10.38222</td>\n",
              "      <td>0.800261</td>\n",
              "    </tr>\n",
              "    <tr>\n",
              "      <th>9</th>\n",
              "      <td>10.40984</td>\n",
              "      <td>0.587221</td>\n",
              "    </tr>\n",
              "    <tr>\n",
              "      <th>10</th>\n",
              "      <td>10.49931</td>\n",
              "      <td>0.643637</td>\n",
              "    </tr>\n",
              "    <tr>\n",
              "      <th>11</th>\n",
              "      <td>10.31788</td>\n",
              "      <td>0.498468</td>\n",
              "    </tr>\n",
              "    <tr>\n",
              "      <th>12</th>\n",
              "      <td>10.41238</td>\n",
              "      <td>0.798373</td>\n",
              "    </tr>\n",
              "    <tr>\n",
              "      <th>13</th>\n",
              "      <td>9.98600</td>\n",
              "      <td>0.318529</td>\n",
              "    </tr>\n",
              "    <tr>\n",
              "      <th>14</th>\n",
              "      <td>10.37516</td>\n",
              "      <td>0.557092</td>\n",
              "    </tr>\n",
              "    <tr>\n",
              "      <th>15</th>\n",
              "      <td>10.26988</td>\n",
              "      <td>0.527034</td>\n",
              "    </tr>\n",
              "    <tr>\n",
              "      <th>16</th>\n",
              "      <td>10.30972</td>\n",
              "      <td>0.800857</td>\n",
              "    </tr>\n",
              "    <tr>\n",
              "      <th>17</th>\n",
              "      <td>10.23452</td>\n",
              "      <td>0.447069</td>\n",
              "    </tr>\n",
              "    <tr>\n",
              "      <th>18</th>\n",
              "      <td>10.29435</td>\n",
              "      <td>0.381710</td>\n",
              "    </tr>\n",
              "    <tr>\n",
              "      <th>19</th>\n",
              "      <td>10.26709</td>\n",
              "      <td>0.495623</td>\n",
              "    </tr>\n",
              "    <tr>\n",
              "      <th>20</th>\n",
              "      <td>10.29470</td>\n",
              "      <td>0.529558</td>\n",
              "    </tr>\n",
              "    <tr>\n",
              "      <th>21</th>\n",
              "      <td>10.22358</td>\n",
              "      <td>0.640656</td>\n",
              "    </tr>\n",
              "    <tr>\n",
              "      <th>22</th>\n",
              "      <td>10.16023</td>\n",
              "      <td>0.587055</td>\n",
              "    </tr>\n",
              "    <tr>\n",
              "      <th>23</th>\n",
              "      <td>10.18232</td>\n",
              "      <td>0.544646</td>\n",
              "    </tr>\n",
              "    <tr>\n",
              "      <th>24</th>\n",
              "      <td>10.25264</td>\n",
              "      <td>0.811333</td>\n",
              "    </tr>\n",
              "    <tr>\n",
              "      <th>25</th>\n",
              "      <td>10.26346</td>\n",
              "      <td>0.727579</td>\n",
              "    </tr>\n",
              "    <tr>\n",
              "      <th>26</th>\n",
              "      <td>10.30866</td>\n",
              "      <td>0.603280</td>\n",
              "    </tr>\n",
              "    <tr>\n",
              "      <th>27</th>\n",
              "      <td>10.51234</td>\n",
              "      <td>0.441427</td>\n",
              "    </tr>\n",
              "  </tbody>\n",
              "</table>\n",
              "</div>"
            ],
            "text/plain": [
              "       Média        DP\n",
              "0   10.01753  0.553166\n",
              "1   10.13532  0.761932\n",
              "2   10.06419  0.616213\n",
              "3   10.51719  0.570729\n",
              "4   10.33507  0.563567\n",
              "5   10.36475  0.577310\n",
              "6   10.27895  0.820561\n",
              "7   10.18287  0.648993\n",
              "8   10.38222  0.800261\n",
              "9   10.40984  0.587221\n",
              "10  10.49931  0.643637\n",
              "11  10.31788  0.498468\n",
              "12  10.41238  0.798373\n",
              "13   9.98600  0.318529\n",
              "14  10.37516  0.557092\n",
              "15  10.26988  0.527034\n",
              "16  10.30972  0.800857\n",
              "17  10.23452  0.447069\n",
              "18  10.29435  0.381710\n",
              "19  10.26709  0.495623\n",
              "20  10.29470  0.529558\n",
              "21  10.22358  0.640656\n",
              "22  10.16023  0.587055\n",
              "23  10.18232  0.544646\n",
              "24  10.25264  0.811333\n",
              "25  10.26346  0.727579\n",
              "26  10.30866  0.603280\n",
              "27  10.51234  0.441427"
            ]
          },
          "metadata": {
            "tags": []
          },
          "execution_count": 21
        }
      ]
    },
    {
      "cell_type": "code",
      "metadata": {
        "id": "ZWE5WxELsIvz",
        "colab_type": "code",
        "colab": {
          "base_uri": "https://localhost:8080/",
          "height": 34
        },
        "outputId": "d02c3d81-9689-48df-e0ac-79862fa1ebc6"
      },
      "source": [
        "# Calculando a média das médias como o valor central da carta de controle (LC)\n",
        "# Média do processo\n",
        "LC = tabela2['Média'].mean()\n",
        "LC"
      ],
      "execution_count": null,
      "outputs": [
        {
          "output_type": "execute_result",
          "data": {
            "text/plain": [
              "10.280433928571428"
            ]
          },
          "metadata": {
            "tags": []
          },
          "execution_count": 22
        }
      ]
    },
    {
      "cell_type": "code",
      "metadata": {
        "id": "ojzMZ3T78n9O",
        "colab_type": "code",
        "colab": {
          "base_uri": "https://localhost:8080/",
          "height": 34
        },
        "outputId": "e15e57d0-c580-4cff-f535-049509a58a25"
      },
      "source": [
        "# Calculando a média dos Desvios Padrão \n",
        "DPm = tabela2['DP'].mean()\n",
        "DPm"
      ],
      "execution_count": null,
      "outputs": [
        {
          "output_type": "execute_result",
          "data": {
            "text/plain": [
              "0.6019242908214286"
            ]
          },
          "metadata": {
            "tags": []
          },
          "execution_count": 23
        }
      ]
    },
    {
      "cell_type": "code",
      "metadata": {
        "id": "p0XsldsuCMLl",
        "colab_type": "code",
        "colab": {
          "base_uri": "https://localhost:8080/",
          "height": 34
        },
        "outputId": "10ef810a-f490-4d1f-d3e0-24ded4e2b938"
      },
      "source": [
        "# Valores a serem calculados para os LSC (Limite Superior de Controle)\n",
        "LSC = LC + (0.957 * DPm )\n",
        "LSC"
      ],
      "execution_count": null,
      "outputs": [
        {
          "output_type": "execute_result",
          "data": {
            "text/plain": [
              "10.856475474887535"
            ]
          },
          "metadata": {
            "tags": []
          },
          "execution_count": 24
        }
      ]
    },
    {
      "cell_type": "code",
      "metadata": {
        "id": "w3aItl7cFxkt",
        "colab_type": "code",
        "colab": {
          "base_uri": "https://localhost:8080/",
          "height": 34
        },
        "outputId": "5c1f71b8-a57a-4711-9e02-0b0bf474e520"
      },
      "source": [
        "# Valores a serem calculados para os LIC (Limite Inferior de Controle)\n",
        "LIC = LC - (0.957 * DPm)\n",
        "LIC"
      ],
      "execution_count": null,
      "outputs": [
        {
          "output_type": "execute_result",
          "data": {
            "text/plain": [
              "9.704392382255321"
            ]
          },
          "metadata": {
            "tags": []
          },
          "execution_count": 25
        }
      ]
    },
    {
      "cell_type": "code",
      "metadata": {
        "id": "eGNNU9C-NZo5",
        "colab_type": "code",
        "colab": {
          "base_uri": "https://localhost:8080/",
          "height": 34
        },
        "outputId": "b9cf97f5-137d-4dcf-fa50-a4f87cb94d07"
      },
      "source": [
        "LSC1 = 10.856\n",
        "LSC1"
      ],
      "execution_count": null,
      "outputs": [
        {
          "output_type": "execute_result",
          "data": {
            "text/plain": [
              "10.856"
            ]
          },
          "metadata": {
            "tags": []
          },
          "execution_count": 26
        }
      ]
    },
    {
      "cell_type": "code",
      "metadata": {
        "id": "mMjVtyo-JmPx",
        "colab_type": "code",
        "colab": {
          "base_uri": "https://localhost:8080/",
          "height": 34
        },
        "outputId": "73789f4d-c364-4c94-a32d-4b0a099d3af6"
      },
      "source": [
        "LIC1 = 9.704\n",
        "LIC1"
      ],
      "execution_count": null,
      "outputs": [
        {
          "output_type": "execute_result",
          "data": {
            "text/plain": [
              "9.704"
            ]
          },
          "metadata": {
            "tags": []
          },
          "execution_count": 27
        }
      ]
    },
    {
      "cell_type": "code",
      "metadata": {
        "id": "N9iHXr3OJoHs",
        "colab_type": "code",
        "colab": {
          "base_uri": "https://localhost:8080/",
          "height": 34
        },
        "outputId": "71e8e5fb-2a03-4ae2-e7ee-b697b35122cb"
      },
      "source": [
        "LC1 = 10.280\n",
        "LC1"
      ],
      "execution_count": null,
      "outputs": [
        {
          "output_type": "execute_result",
          "data": {
            "text/plain": [
              "10.28"
            ]
          },
          "metadata": {
            "tags": []
          },
          "execution_count": 28
        }
      ]
    },
    {
      "cell_type": "code",
      "metadata": {
        "id": "W0oIa364NYEP",
        "colab_type": "code",
        "colab": {
          "base_uri": "https://localhost:8080/",
          "height": 625
        },
        "outputId": "0c52f1e8-8f64-4783-b4db-43c4cd78cfd1"
      },
      "source": [
        "# Plotando o gráfico de linhas ou Carta de Controle para Visualização de Processos (Média)\n",
        "fig1, f1_axes = plt.subplots(ncols=1, nrows=1, figsize=(15,10))\n",
        "plt.plot(tabela1['Média'], marker='o', label='Valores Médios', )\n",
        "plt.grid(axis='y', alpha=0.75)\n",
        "LSC = plt.axhline (LSC1, linestyle = '--', color = 'r', linewidth = 1)\n",
        "LC = plt.axhline (LC1, color = 'green', linewidth = 1)\n",
        "LIC = plt.axhline (LIC1, linestyle = '--', color = 'r', linewidth = 1)\n",
        "plt.title('Carta de Controle - CEP', fontsize=18, color='white')\n",
        "plt.xticks (color='white')\n",
        "plt.yticks (color='white')\n",
        "plt.xlabel('Unidades',color='white')\n",
        "plt.ylabel('Valores Médios',color='white')\n",
        "plt.legend() \n",
        "plt.show()\n"
      ],
      "execution_count": null,
      "outputs": [
        {
          "output_type": "display_data",
          "data": {
            "image/png": "[encoded data removed]",
            "text/plain": [
              "<Figure size 1080x720 with 1 Axes>"
            ]
          },
          "metadata": {
            "tags": [],
            "needs_background": "dark"
          }
        }
      ]
    },
    {
      "cell_type": "code",
      "metadata": {
        "id": "-jZ3ZC9NSK5a",
        "colab_type": "code",
        "colab": {
          "base_uri": "https://localhost:8080/",
          "height": 34
        },
        "outputId": "b1309c13-9355-46e3-ab42-9ac9923e7470"
      },
      "source": [
        "# Linha Central: A média dos Desvios Padrão = 0.6019 (DPm)\n",
        "DPm= 0.6019\n",
        "DPm"
      ],
      "execution_count": null,
      "outputs": [
        {
          "output_type": "execute_result",
          "data": {
            "text/plain": [
              "0.6019"
            ]
          },
          "metadata": {
            "tags": []
          },
          "execution_count": 30
        }
      ]
    },
    {
      "cell_type": "code",
      "metadata": {
        "id": "s6mDuxRrO0c6",
        "colab_type": "code",
        "colab": {
          "base_uri": "https://localhost:8080/",
          "height": 34
        },
        "outputId": "27d0d9e3-5eee-44f7-a6b1-8c314612acb6"
      },
      "source": [
        "#Limite superior de controle do Desvio Padrão: LSC = B4(Tabelado)* Desvio Padrão Médio (DPm)\n",
        "LSC_DPm = 1.716 * 0.6019\n",
        "LSC_DPm\n"
      ],
      "execution_count": null,
      "outputs": [
        {
          "output_type": "execute_result",
          "data": {
            "text/plain": [
              "1.0328604"
            ]
          },
          "metadata": {
            "tags": []
          },
          "execution_count": 31
        }
      ]
    },
    {
      "cell_type": "code",
      "metadata": {
        "colab_type": "code",
        "id": "8y26N2RKRsnL",
        "colab": {
          "base_uri": "https://localhost:8080/",
          "height": 34
        },
        "outputId": "2d186a8c-f6ca-4baf-ccad-c876a3ac55c9"
      },
      "source": [
        "#Limite Inferior de controle do Desvio Padrão: LSC = B3(Tabelado)* Desvio Padrão Médio (DPm)\n",
        "LIC_DPm = 0.284 * 0.6019\n",
        "LIC_DPm\n"
      ],
      "execution_count": null,
      "outputs": [
        {
          "output_type": "execute_result",
          "data": {
            "text/plain": [
              "0.17093959999999997"
            ]
          },
          "metadata": {
            "tags": []
          },
          "execution_count": 32
        }
      ]
    },
    {
      "cell_type": "code",
      "metadata": {
        "id": "_PlT0_9cRpJE",
        "colab_type": "code",
        "colab": {
          "base_uri": "https://localhost:8080/",
          "height": 34
        },
        "outputId": "b76854f2-2e49-45c9-c58f-34e2f9e9cab5"
      },
      "source": [
        "LSC_DPm1 = 1.0328604\n",
        "LSC_DPm1"
      ],
      "execution_count": null,
      "outputs": [
        {
          "output_type": "execute_result",
          "data": {
            "text/plain": [
              "1.0328604"
            ]
          },
          "metadata": {
            "tags": []
          },
          "execution_count": 33
        }
      ]
    },
    {
      "cell_type": "code",
      "metadata": {
        "id": "uJ5HufiLUObO",
        "colab_type": "code",
        "colab": {
          "base_uri": "https://localhost:8080/",
          "height": 34
        },
        "outputId": "b3cfa94e-40bf-49b0-e99e-9183468384f0"
      },
      "source": [
        "LIC_DPm1 = 0.17093959\n",
        "LIC_DPm1"
      ],
      "execution_count": null,
      "outputs": [
        {
          "output_type": "execute_result",
          "data": {
            "text/plain": [
              "0.17093959"
            ]
          },
          "metadata": {
            "tags": []
          },
          "execution_count": 34
        }
      ]
    },
    {
      "cell_type": "code",
      "metadata": {
        "id": "HBj5P0uYUOyf",
        "colab_type": "code",
        "colab": {
          "base_uri": "https://localhost:8080/",
          "height": 34
        },
        "outputId": "0770f8ce-c26b-40ce-a741-00dedcd66661"
      },
      "source": [
        "DPm1 = 0.6019\n",
        "DPm1"
      ],
      "execution_count": null,
      "outputs": [
        {
          "output_type": "execute_result",
          "data": {
            "text/plain": [
              "0.6019"
            ]
          },
          "metadata": {
            "tags": []
          },
          "execution_count": 35
        }
      ]
    },
    {
      "cell_type": "code",
      "metadata": {
        "id": "Iu7EI4M8Ropn",
        "colab_type": "code",
        "colab": {
          "base_uri": "https://localhost:8080/",
          "height": 625
        },
        "outputId": "0d9864b2-f974-477e-ba35-98c2d89ed845"
      },
      "source": [
        "# Plotando o gráfico de linhas ou Carta de Controle para Visualização de Processos (Estimativa do Desvio Padrão do Processo)\n",
        "fig2, f1_axes = plt.subplots(ncols=1, nrows=1, figsize=(15,10))\n",
        "plt.plot(tabela1['DP'], marker='x', label='Valores médios dos Desvios')\n",
        "plt.grid(axis='y', alpha=0.75)\n",
        "LSC_DPm = plt.axhline (LSC_DPm1, linestyle = '--', color = 'r', linewidth = 1)\n",
        "DPm = plt.axhline (DPm1, color = 'green', linewidth = 1)\n",
        "LIC_DPm = plt.axhline (LIC_DPm1, linestyle = '--', color = 'r', linewidth = 1)\n",
        "plt.title('Carta de Controle das Estimativas dos Desvios Padrão do Processo', fontsize=18, color='white')\n",
        "plt.xticks (color='white')\n",
        "plt.yticks (color='white')\n",
        "plt.xlabel('Unidades',color='white')\n",
        "plt.ylabel('Valores Médios',color='white')\n",
        "plt.legend() \n",
        "plt.show()"
      ],
      "execution_count": null,
      "outputs": [
        {
          "output_type": "display_data",
          "data": {
            "image/png": "[encoded data removed]",
            "text/plain": [
              "<Figure size 1080x720 with 1 Axes>"
            ]
          },
          "metadata": {
            "tags": [],
            "needs_background": "dark"
          }
        }
      ]
    },
    {
      "cell_type": "code",
      "metadata": {
        "id": "d2yJsIbnGNaf",
        "colab_type": "code",
        "colab": {}
      },
      "source": [
        ""
      ],
      "execution_count": null,
      "outputs": []
    }
  ]
}